{
 "cells": [
  {
   "cell_type": "code",
   "execution_count": null,
   "metadata": {},
   "outputs": [],
   "source": []
  },
  {
   "cell_type": "code",
   "execution_count": 1,
   "metadata": {},
   "outputs": [],
   "source": [
    "import pandas as pd\n",
    "import numpy as np\n",
    "import seaborn as sns\n",
    "import matplotlib.pyplot as plt\n",
    "import os\n",
    "import re"
   ]
  },
  {
   "cell_type": "markdown",
   "metadata": {},
   "source": [
    "## Data path"
   ]
  },
  {
   "cell_type": "code",
   "execution_count": 2,
   "metadata": {},
   "outputs": [],
   "source": [
    "# raw_data\n",
    "file = '03_data_merge.csv'\n",
    "data_directory = os.path.join( '..','data','raw_data/{}'.format(file))"
   ]
  },
  {
   "cell_type": "code",
   "execution_count": 3,
   "metadata": {},
   "outputs": [],
   "source": [
    "df = pd.read_csv(data_directory)"
   ]
  },
  {
   "cell_type": "code",
   "execution_count": 4,
   "metadata": {},
   "outputs": [
    {
     "name": "stdout",
     "output_type": "stream",
     "text": [
      "<class 'pandas.core.frame.DataFrame'>\n",
      "RangeIndex: 244 entries, 0 to 243\n",
      "Data columns (total 5 columns):\n",
      "name          244 non-null object\n",
      "raw_title     244 non-null object\n",
      "summary       244 non-null object\n",
      "transcript    244 non-null object\n",
      "link          244 non-null object\n",
      "dtypes: object(5)\n",
      "memory usage: 9.6+ KB\n"
     ]
    }
   ],
   "source": [
    "df.info()"
   ]
  },
  {
   "cell_type": "code",
   "execution_count": 5,
   "metadata": {},
   "outputs": [
    {
     "data": {
      "text/html": [
       "<div>\n",
       "<style scoped>\n",
       "    .dataframe tbody tr th:only-of-type {\n",
       "        vertical-align: middle;\n",
       "    }\n",
       "\n",
       "    .dataframe tbody tr th {\n",
       "        vertical-align: top;\n",
       "    }\n",
       "\n",
       "    .dataframe thead th {\n",
       "        text-align: right;\n",
       "    }\n",
       "</style>\n",
       "<table border=\"1\" class=\"dataframe\">\n",
       "  <thead>\n",
       "    <tr style=\"text-align: right;\">\n",
       "      <th></th>\n",
       "      <th>name</th>\n",
       "      <th>raw_title</th>\n",
       "      <th>summary</th>\n",
       "      <th>transcript</th>\n",
       "      <th>link</th>\n",
       "    </tr>\n",
       "  </thead>\n",
       "  <tbody>\n",
       "    <tr>\n",
       "      <th>0</th>\n",
       "      <td>Enissa Amani</td>\n",
       "      <td>Enissa Amani: Ehrenwort (2018) Full Transcript</td>\n",
       "      <td>Live from Hamburg, Iranian-German comedian Eni...</td>\n",
       "      <td>A NETFLIX ORIGINAL COMEDY SPECIAL\\nHey, what’s...</td>\n",
       "      <td>https://scrapsfromtheloft.com/2019/02/19/eniss...</td>\n",
       "    </tr>\n",
       "    <tr>\n",
       "      <th>1</th>\n",
       "      <td>George Carlin</td>\n",
       "      <td>Politically Correct Language – by George Carlin</td>\n",
       "      <td>George Carlin's critical thinking on pc langua...</td>\n",
       "      <td>I know I’m a little late with this, but I’d li...</td>\n",
       "      <td>https://scrapsfromtheloft.com/2019/02/18/polit...</td>\n",
       "    </tr>\n",
       "    <tr>\n",
       "      <th>2</th>\n",
       "      <td>Ken Jeong</td>\n",
       "      <td>Ken Jeong: You Complete Me, Ho (2019) – Full T...</td>\n",
       "      <td>Filmed at the Ice House Comedy Club in Pasaden...</td>\n",
       "      <td>The Hangover… Community… Dr. Ken… Crazy Rich A...</td>\n",
       "      <td>https://scrapsfromtheloft.com/2019/02/17/ken-j...</td>\n",
       "    </tr>\n",
       "    <tr>\n",
       "      <th>3</th>\n",
       "      <td>Ray Romano</td>\n",
       "      <td>Ray Romano: Right Here, Around the Corner (201...</td>\n",
       "      <td>Ray Romano cut his stand-up teeth at the Comed...</td>\n",
       "      <td>It’s been 23 years since I did a comedy specia...</td>\n",
       "      <td>https://scrapsfromtheloft.com/2019/02/12/ray-r...</td>\n",
       "    </tr>\n",
       "    <tr>\n",
       "      <th>4</th>\n",
       "      <td>Gabriel Iglesias</td>\n",
       "      <td>Gabriel “Fluffy” Iglesias: One Show Fits All (...</td>\n",
       "      <td>In a new special from Houston, Gabriel \"Fluffy...</td>\n",
       "      <td>[crowd chanting] Fluffy! Fluffy! [Fluffy shout...</td>\n",
       "      <td>https://scrapsfromtheloft.com/2019/01/30/gabri...</td>\n",
       "    </tr>\n",
       "  </tbody>\n",
       "</table>\n",
       "</div>"
      ],
      "text/plain": [
       "               name                                          raw_title  \\\n",
       "0      Enissa Amani     Enissa Amani: Ehrenwort (2018) Full Transcript   \n",
       "1     George Carlin    Politically Correct Language – by George Carlin   \n",
       "2         Ken Jeong  Ken Jeong: You Complete Me, Ho (2019) – Full T...   \n",
       "3        Ray Romano  Ray Romano: Right Here, Around the Corner (201...   \n",
       "4  Gabriel Iglesias  Gabriel “Fluffy” Iglesias: One Show Fits All (...   \n",
       "\n",
       "                                             summary  \\\n",
       "0  Live from Hamburg, Iranian-German comedian Eni...   \n",
       "1  George Carlin's critical thinking on pc langua...   \n",
       "2  Filmed at the Ice House Comedy Club in Pasaden...   \n",
       "3  Ray Romano cut his stand-up teeth at the Comed...   \n",
       "4  In a new special from Houston, Gabriel \"Fluffy...   \n",
       "\n",
       "                                          transcript  \\\n",
       "0  A NETFLIX ORIGINAL COMEDY SPECIAL\\nHey, what’s...   \n",
       "1  I know I’m a little late with this, but I’d li...   \n",
       "2  The Hangover… Community… Dr. Ken… Crazy Rich A...   \n",
       "3  It’s been 23 years since I did a comedy specia...   \n",
       "4  [crowd chanting] Fluffy! Fluffy! [Fluffy shout...   \n",
       "\n",
       "                                                link  \n",
       "0  https://scrapsfromtheloft.com/2019/02/19/eniss...  \n",
       "1  https://scrapsfromtheloft.com/2019/02/18/polit...  \n",
       "2  https://scrapsfromtheloft.com/2019/02/17/ken-j...  \n",
       "3  https://scrapsfromtheloft.com/2019/02/12/ray-r...  \n",
       "4  https://scrapsfromtheloft.com/2019/01/30/gabri...  "
      ]
     },
     "execution_count": 5,
     "metadata": {},
     "output_type": "execute_result"
    }
   ],
   "source": [
    "df.head()"
   ]
  },
  {
   "cell_type": "markdown",
   "metadata": {},
   "source": [
    "# Clean\n",
    "---\n",
    "\n",
    "## YEAR\n",
    "Extract year of the comedy special from `raw_title` column"
   ]
  },
  {
   "cell_type": "code",
   "execution_count": 6,
   "metadata": {},
   "outputs": [],
   "source": [
    "def get_year(data):\n",
    "    ''' return year'''\n",
    "    patt = r'(\\d{4})' # ####\n",
    "    text = data.raw_title \n",
    "    pattern = re.compile(patt) \n",
    "    matches = pattern.findall(text) \n",
    "    if len(matches) == 0: #matches = 0 \n",
    "        return 0 \n",
    "    else: \n",
    "        value = matches[0] \n",
    "        return value"
   ]
  },
  {
   "cell_type": "code",
   "execution_count": 7,
   "metadata": {},
   "outputs": [],
   "source": [
    "df['year'] = df.apply(get_year,axis=1)"
   ]
  },
  {
   "cell_type": "code",
   "execution_count": 8,
   "metadata": {},
   "outputs": [
    {
     "data": {
      "text/html": [
       "<div>\n",
       "<style scoped>\n",
       "    .dataframe tbody tr th:only-of-type {\n",
       "        vertical-align: middle;\n",
       "    }\n",
       "\n",
       "    .dataframe tbody tr th {\n",
       "        vertical-align: top;\n",
       "    }\n",
       "\n",
       "    .dataframe thead th {\n",
       "        text-align: right;\n",
       "    }\n",
       "</style>\n",
       "<table border=\"1\" class=\"dataframe\">\n",
       "  <thead>\n",
       "    <tr style=\"text-align: right;\">\n",
       "      <th></th>\n",
       "      <th>name</th>\n",
       "      <th>raw_title</th>\n",
       "      <th>summary</th>\n",
       "      <th>transcript</th>\n",
       "      <th>link</th>\n",
       "      <th>year</th>\n",
       "    </tr>\n",
       "  </thead>\n",
       "  <tbody>\n",
       "    <tr>\n",
       "      <th>0</th>\n",
       "      <td>Enissa Amani</td>\n",
       "      <td>Enissa Amani: Ehrenwort (2018) Full Transcript</td>\n",
       "      <td>Live from Hamburg, Iranian-German comedian Eni...</td>\n",
       "      <td>A NETFLIX ORIGINAL COMEDY SPECIAL\\nHey, what’s...</td>\n",
       "      <td>https://scrapsfromtheloft.com/2019/02/19/eniss...</td>\n",
       "      <td>2018</td>\n",
       "    </tr>\n",
       "    <tr>\n",
       "      <th>1</th>\n",
       "      <td>George Carlin</td>\n",
       "      <td>Politically Correct Language – by George Carlin</td>\n",
       "      <td>George Carlin's critical thinking on pc langua...</td>\n",
       "      <td>I know I’m a little late with this, but I’d li...</td>\n",
       "      <td>https://scrapsfromtheloft.com/2019/02/18/polit...</td>\n",
       "      <td>0</td>\n",
       "    </tr>\n",
       "    <tr>\n",
       "      <th>2</th>\n",
       "      <td>Ken Jeong</td>\n",
       "      <td>Ken Jeong: You Complete Me, Ho (2019) – Full T...</td>\n",
       "      <td>Filmed at the Ice House Comedy Club in Pasaden...</td>\n",
       "      <td>The Hangover… Community… Dr. Ken… Crazy Rich A...</td>\n",
       "      <td>https://scrapsfromtheloft.com/2019/02/17/ken-j...</td>\n",
       "      <td>2019</td>\n",
       "    </tr>\n",
       "    <tr>\n",
       "      <th>3</th>\n",
       "      <td>Ray Romano</td>\n",
       "      <td>Ray Romano: Right Here, Around the Corner (201...</td>\n",
       "      <td>Ray Romano cut his stand-up teeth at the Comed...</td>\n",
       "      <td>It’s been 23 years since I did a comedy specia...</td>\n",
       "      <td>https://scrapsfromtheloft.com/2019/02/12/ray-r...</td>\n",
       "      <td>2019</td>\n",
       "    </tr>\n",
       "    <tr>\n",
       "      <th>4</th>\n",
       "      <td>Gabriel Iglesias</td>\n",
       "      <td>Gabriel “Fluffy” Iglesias: One Show Fits All (...</td>\n",
       "      <td>In a new special from Houston, Gabriel \"Fluffy...</td>\n",
       "      <td>[crowd chanting] Fluffy! Fluffy! [Fluffy shout...</td>\n",
       "      <td>https://scrapsfromtheloft.com/2019/01/30/gabri...</td>\n",
       "      <td>2019</td>\n",
       "    </tr>\n",
       "  </tbody>\n",
       "</table>\n",
       "</div>"
      ],
      "text/plain": [
       "               name                                          raw_title  \\\n",
       "0      Enissa Amani     Enissa Amani: Ehrenwort (2018) Full Transcript   \n",
       "1     George Carlin    Politically Correct Language – by George Carlin   \n",
       "2         Ken Jeong  Ken Jeong: You Complete Me, Ho (2019) – Full T...   \n",
       "3        Ray Romano  Ray Romano: Right Here, Around the Corner (201...   \n",
       "4  Gabriel Iglesias  Gabriel “Fluffy” Iglesias: One Show Fits All (...   \n",
       "\n",
       "                                             summary  \\\n",
       "0  Live from Hamburg, Iranian-German comedian Eni...   \n",
       "1  George Carlin's critical thinking on pc langua...   \n",
       "2  Filmed at the Ice House Comedy Club in Pasaden...   \n",
       "3  Ray Romano cut his stand-up teeth at the Comed...   \n",
       "4  In a new special from Houston, Gabriel \"Fluffy...   \n",
       "\n",
       "                                          transcript  \\\n",
       "0  A NETFLIX ORIGINAL COMEDY SPECIAL\\nHey, what’s...   \n",
       "1  I know I’m a little late with this, but I’d li...   \n",
       "2  The Hangover… Community… Dr. Ken… Crazy Rich A...   \n",
       "3  It’s been 23 years since I did a comedy specia...   \n",
       "4  [crowd chanting] Fluffy! Fluffy! [Fluffy shout...   \n",
       "\n",
       "                                                link  year  \n",
       "0  https://scrapsfromtheloft.com/2019/02/19/eniss...  2018  \n",
       "1  https://scrapsfromtheloft.com/2019/02/18/polit...     0  \n",
       "2  https://scrapsfromtheloft.com/2019/02/17/ken-j...  2019  \n",
       "3  https://scrapsfromtheloft.com/2019/02/12/ray-r...  2019  \n",
       "4  https://scrapsfromtheloft.com/2019/01/30/gabri...  2019  "
      ]
     },
     "execution_count": 8,
     "metadata": {},
     "output_type": "execute_result"
    }
   ],
   "source": [
    "df.head()"
   ]
  },
  {
   "cell_type": "markdown",
   "metadata": {},
   "source": [
    "## Remove name from `raw_title`\n",
    "`raw_title` contains name of the comedian, since we have a column that already does that, lets remove the comedian name from column\n",
    "- crate a list of unique names from column `name\n",
    "- fix casing on `raw_title` to match our list of names\n",
    "- remove name from `raw_title` if its in our name list"
   ]
  },
  {
   "cell_type": "code",
   "execution_count": 9,
   "metadata": {},
   "outputs": [],
   "source": [
    "# create list of names\n",
    "names = list(df.name.unique())"
   ]
  },
  {
   "cell_type": "code",
   "execution_count": null,
   "metadata": {},
   "outputs": [],
   "source": []
  },
  {
   "cell_type": "code",
   "execution_count": 10,
   "metadata": {},
   "outputs": [],
   "source": [
    "# fix casing \n",
    "df.raw_title = df.raw_title.str.title()"
   ]
  },
  {
   "cell_type": "code",
   "execution_count": 11,
   "metadata": {},
   "outputs": [
    {
     "data": {
      "text/plain": [
       "115"
      ]
     },
     "execution_count": 11,
     "metadata": {},
     "output_type": "execute_result"
    }
   ],
   "source": [
    "len(names)"
   ]
  },
  {
   "cell_type": "code",
   "execution_count": 12,
   "metadata": {},
   "outputs": [
    {
     "data": {
      "text/plain": [
       "['Enissa Amani',\n",
       " 'George Carlin',\n",
       " 'Ken Jeong',\n",
       " 'Ray Romano',\n",
       " 'Gabriel Iglesias',\n",
       " 'Sebastian Maniscalco',\n",
       " 'John Leguizamo',\n",
       " 'Ellen Degeneres',\n",
       " 'Pete Holmes',\n",
       " 'Vir Das']"
      ]
     },
     "execution_count": 12,
     "metadata": {},
     "output_type": "execute_result"
    }
   ],
   "source": [
    "names[:10]"
   ]
  },
  {
   "cell_type": "code",
   "execution_count": 13,
   "metadata": {},
   "outputs": [
    {
     "data": {
      "text/plain": [
       "0       Enissa Amani: Ehrenwort (2018) Full Transcript\n",
       "1      Politically Correct Language – By George Carlin\n",
       "2    Ken Jeong: You Complete Me, Ho (2019) – Full T...\n",
       "3    Ray Romano: Right Here, Around The Corner (201...\n",
       "4    Gabriel “Fluffy” Iglesias: One Show Fits All (...\n",
       "5    Sebastian Maniscalco: Stay Hungry (2019) – Ful...\n",
       "6    Latin History For Morons: John Leguizamo’S Roa...\n",
       "7    Sebastian Maniscalco: Aren’T You Embarrassed? ...\n",
       "8    Sebastian Maniscalco: What’S Wrong With People...\n",
       "9    Ellen Degeneres: Relatable (2018) – Full Trans...\n",
       "Name: raw_title, dtype: object"
      ]
     },
     "execution_count": 13,
     "metadata": {},
     "output_type": "execute_result"
    }
   ],
   "source": [
    "df.raw_title[:10]"
   ]
  },
  {
   "cell_type": "code",
   "execution_count": 14,
   "metadata": {},
   "outputs": [],
   "source": [
    "df['title_clean'] = df['raw_title'].str.replace('|'.join(names), '',case=False)"
   ]
  },
  {
   "cell_type": "code",
   "execution_count": 15,
   "metadata": {},
   "outputs": [
    {
     "data": {
      "text/html": [
       "<div>\n",
       "<style scoped>\n",
       "    .dataframe tbody tr th:only-of-type {\n",
       "        vertical-align: middle;\n",
       "    }\n",
       "\n",
       "    .dataframe tbody tr th {\n",
       "        vertical-align: top;\n",
       "    }\n",
       "\n",
       "    .dataframe thead th {\n",
       "        text-align: right;\n",
       "    }\n",
       "</style>\n",
       "<table border=\"1\" class=\"dataframe\">\n",
       "  <thead>\n",
       "    <tr style=\"text-align: right;\">\n",
       "      <th></th>\n",
       "      <th>name</th>\n",
       "      <th>raw_title</th>\n",
       "      <th>summary</th>\n",
       "      <th>transcript</th>\n",
       "      <th>link</th>\n",
       "      <th>year</th>\n",
       "      <th>title_clean</th>\n",
       "    </tr>\n",
       "  </thead>\n",
       "  <tbody>\n",
       "    <tr>\n",
       "      <th>0</th>\n",
       "      <td>Enissa Amani</td>\n",
       "      <td>Enissa Amani: Ehrenwort (2018) Full Transcript</td>\n",
       "      <td>Live from Hamburg, Iranian-German comedian Eni...</td>\n",
       "      <td>A NETFLIX ORIGINAL COMEDY SPECIAL\\nHey, what’s...</td>\n",
       "      <td>https://scrapsfromtheloft.com/2019/02/19/eniss...</td>\n",
       "      <td>2018</td>\n",
       "      <td>: Ehrenwort (2018) Full Transcript</td>\n",
       "    </tr>\n",
       "    <tr>\n",
       "      <th>1</th>\n",
       "      <td>George Carlin</td>\n",
       "      <td>Politically Correct Language – By George Carlin</td>\n",
       "      <td>George Carlin's critical thinking on pc langua...</td>\n",
       "      <td>I know I’m a little late with this, but I’d li...</td>\n",
       "      <td>https://scrapsfromtheloft.com/2019/02/18/polit...</td>\n",
       "      <td>0</td>\n",
       "      <td>Politically Correct Language – By</td>\n",
       "    </tr>\n",
       "    <tr>\n",
       "      <th>2</th>\n",
       "      <td>Ken Jeong</td>\n",
       "      <td>Ken Jeong: You Complete Me, Ho (2019) – Full T...</td>\n",
       "      <td>Filmed at the Ice House Comedy Club in Pasaden...</td>\n",
       "      <td>The Hangover… Community… Dr. Ken… Crazy Rich A...</td>\n",
       "      <td>https://scrapsfromtheloft.com/2019/02/17/ken-j...</td>\n",
       "      <td>2019</td>\n",
       "      <td>: You Complete Me, Ho (2019) – Full Transcript</td>\n",
       "    </tr>\n",
       "    <tr>\n",
       "      <th>3</th>\n",
       "      <td>Ray Romano</td>\n",
       "      <td>Ray Romano: Right Here, Around The Corner (201...</td>\n",
       "      <td>Ray Romano cut his stand-up teeth at the Comed...</td>\n",
       "      <td>It’s been 23 years since I did a comedy specia...</td>\n",
       "      <td>https://scrapsfromtheloft.com/2019/02/12/ray-r...</td>\n",
       "      <td>2019</td>\n",
       "      <td>: Right Here, Around The Corner (2019) – Full ...</td>\n",
       "    </tr>\n",
       "    <tr>\n",
       "      <th>4</th>\n",
       "      <td>Gabriel Iglesias</td>\n",
       "      <td>Gabriel “Fluffy” Iglesias: One Show Fits All (...</td>\n",
       "      <td>In a new special from Houston, Gabriel \"Fluffy...</td>\n",
       "      <td>[crowd chanting] Fluffy! Fluffy! [Fluffy shout...</td>\n",
       "      <td>https://scrapsfromtheloft.com/2019/01/30/gabri...</td>\n",
       "      <td>2019</td>\n",
       "      <td>Gabriel “Fluffy” Iglesias: One Show Fits All (...</td>\n",
       "    </tr>\n",
       "  </tbody>\n",
       "</table>\n",
       "</div>"
      ],
      "text/plain": [
       "               name                                          raw_title  \\\n",
       "0      Enissa Amani     Enissa Amani: Ehrenwort (2018) Full Transcript   \n",
       "1     George Carlin    Politically Correct Language – By George Carlin   \n",
       "2         Ken Jeong  Ken Jeong: You Complete Me, Ho (2019) – Full T...   \n",
       "3        Ray Romano  Ray Romano: Right Here, Around The Corner (201...   \n",
       "4  Gabriel Iglesias  Gabriel “Fluffy” Iglesias: One Show Fits All (...   \n",
       "\n",
       "                                             summary  \\\n",
       "0  Live from Hamburg, Iranian-German comedian Eni...   \n",
       "1  George Carlin's critical thinking on pc langua...   \n",
       "2  Filmed at the Ice House Comedy Club in Pasaden...   \n",
       "3  Ray Romano cut his stand-up teeth at the Comed...   \n",
       "4  In a new special from Houston, Gabriel \"Fluffy...   \n",
       "\n",
       "                                          transcript  \\\n",
       "0  A NETFLIX ORIGINAL COMEDY SPECIAL\\nHey, what’s...   \n",
       "1  I know I’m a little late with this, but I’d li...   \n",
       "2  The Hangover… Community… Dr. Ken… Crazy Rich A...   \n",
       "3  It’s been 23 years since I did a comedy specia...   \n",
       "4  [crowd chanting] Fluffy! Fluffy! [Fluffy shout...   \n",
       "\n",
       "                                                link  year  \\\n",
       "0  https://scrapsfromtheloft.com/2019/02/19/eniss...  2018   \n",
       "1  https://scrapsfromtheloft.com/2019/02/18/polit...     0   \n",
       "2  https://scrapsfromtheloft.com/2019/02/17/ken-j...  2019   \n",
       "3  https://scrapsfromtheloft.com/2019/02/12/ray-r...  2019   \n",
       "4  https://scrapsfromtheloft.com/2019/01/30/gabri...  2019   \n",
       "\n",
       "                                         title_clean  \n",
       "0                 : Ehrenwort (2018) Full Transcript  \n",
       "1                 Politically Correct Language – By   \n",
       "2     : You Complete Me, Ho (2019) – Full Transcript  \n",
       "3  : Right Here, Around The Corner (2019) – Full ...  \n",
       "4  Gabriel “Fluffy” Iglesias: One Show Fits All (...  "
      ]
     },
     "execution_count": 15,
     "metadata": {},
     "output_type": "execute_result"
    }
   ],
   "source": [
    "df.head()"
   ]
  },
  {
   "cell_type": "markdown",
   "metadata": {},
   "source": [
    "## remove `full_transcript`\n",
    "- `title_clean` contains the  several versions of the string `full_transcipt`\n",
    "- remove it by replacing it with an empty string"
   ]
  },
  {
   "cell_type": "code",
   "execution_count": 16,
   "metadata": {},
   "outputs": [],
   "source": [
    "df['title_clean'] = df.title_clean.str.replace('– Full Transcript|Full Transcript|Transcript','',case=False)"
   ]
  },
  {
   "cell_type": "code",
   "execution_count": 17,
   "metadata": {},
   "outputs": [
    {
     "data": {
      "text/plain": [
       "0                                  : Ehrenwort (2018) \n",
       "1                   Politically Correct Language – By \n",
       "2                        : You Complete Me, Ho (2019) \n",
       "3              : Right Here, Around The Corner (2019) \n",
       "4    Gabriel “Fluffy” Iglesias: One Show Fits All (...\n",
       "Name: title_clean, dtype: object"
      ]
     },
     "execution_count": 17,
     "metadata": {},
     "output_type": "execute_result"
    }
   ],
   "source": [
    "df.title_clean.head()"
   ]
  },
  {
   "cell_type": "markdown",
   "metadata": {},
   "source": [
    "## Remove year\n",
    "- since we extracted the year already,we can remove it\n",
    "- regex extract 4 digits incase in parenthesis\n",
    "- `(####)`"
   ]
  },
  {
   "cell_type": "code",
   "execution_count": 18,
   "metadata": {},
   "outputs": [],
   "source": [
    "#yr_patt = r'\\((.*?)\\)'\n",
    "regex_pat = re.compile(r'\\((.*?)\\)', flags=re.IGNORECASE)\n",
    "\n",
    "df['title_clean'] = df.title_clean.str.replace(regex_pat, '')"
   ]
  },
  {
   "cell_type": "code",
   "execution_count": 19,
   "metadata": {},
   "outputs": [
    {
     "data": {
      "text/plain": [
       "0                                     : Ehrenwort  \n",
       "1                Politically Correct Language – By \n",
       "2                           : You Complete Me, Ho  \n",
       "3                 : Right Here, Around The Corner  \n",
       "4    Gabriel “Fluffy” Iglesias: One Show Fits All  \n",
       "Name: title_clean, dtype: object"
      ]
     },
     "execution_count": 19,
     "metadata": {},
     "output_type": "execute_result"
    }
   ],
   "source": [
    "df.title_clean.head()"
   ]
  },
  {
   "cell_type": "code",
   "execution_count": null,
   "metadata": {},
   "outputs": [],
   "source": [
    "#.title_03.str.title()\n",
    "#df.title_03.str.split(':',expand=True)"
   ]
  },
  {
   "cell_type": "markdown",
   "metadata": {},
   "source": [
    "# Remove random chars\n",
    "- `:`\n",
    "- `-`\n"
   ]
  },
  {
   "cell_type": "code",
   "execution_count": 20,
   "metadata": {},
   "outputs": [],
   "source": [
    "df['title_clean'] = df.title_clean.str.replace(':|–','')"
   ]
  },
  {
   "cell_type": "code",
   "execution_count": 21,
   "metadata": {},
   "outputs": [
    {
     "data": {
      "text/plain": [
       "0                                      Ehrenwort  \n",
       "1                Politically Correct Language  By \n",
       "2                            You Complete Me, Ho  \n",
       "3                  Right Here, Around The Corner  \n",
       "4    Gabriel “Fluffy” Iglesias One Show Fits All  \n",
       "Name: title_clean, dtype: object"
      ]
     },
     "execution_count": 21,
     "metadata": {},
     "output_type": "execute_result"
    }
   ],
   "source": [
    "df.title_clean.head()"
   ]
  },
  {
   "cell_type": "markdown",
   "metadata": {},
   "source": [
    "## REmove brackets\n",
    "- [###]"
   ]
  },
  {
   "cell_type": "code",
   "execution_count": 22,
   "metadata": {},
   "outputs": [],
   "source": [
    "#yr_patt = r'\\((.*?)\\)'\n",
    "regex_pat = re.compile(r'\\[(.*?)\\]', flags=re.IGNORECASE)\n",
    "\n",
    "df['title_clean'] = df.title_clean.str.replace(regex_pat, '')"
   ]
  },
  {
   "cell_type": "code",
   "execution_count": 23,
   "metadata": {},
   "outputs": [
    {
     "data": {
      "text/plain": [
       "0                                      Ehrenwort  \n",
       "1                Politically Correct Language  By \n",
       "2                            You Complete Me, Ho  \n",
       "3                  Right Here, Around The Corner  \n",
       "4    Gabriel “Fluffy” Iglesias One Show Fits All  \n",
       "Name: title_clean, dtype: object"
      ]
     },
     "execution_count": 23,
     "metadata": {},
     "output_type": "execute_result"
    }
   ],
   "source": [
    "df.title_clean.head()"
   ]
  },
  {
   "cell_type": "markdown",
   "metadata": {},
   "source": [
    "## Rename \n",
    "- rename `Saturday Night Live`  to `SNL`"
   ]
  },
  {
   "cell_type": "code",
   "execution_count": 24,
   "metadata": {},
   "outputs": [],
   "source": [
    "df['title_clean'] = df.title_clean.str.replace('Saturday Night Live|Snl','SNL',case=False)"
   ]
  },
  {
   "cell_type": "code",
   "execution_count": 25,
   "metadata": {},
   "outputs": [
    {
     "data": {
      "text/plain": [
       "0                                      Ehrenwort  \n",
       "1                Politically Correct Language  By \n",
       "2                            You Complete Me, Ho  \n",
       "3                  Right Here, Around The Corner  \n",
       "4    Gabriel “Fluffy” Iglesias One Show Fits All  \n",
       "Name: title_clean, dtype: object"
      ]
     },
     "execution_count": 25,
     "metadata": {},
     "output_type": "execute_result"
    }
   ],
   "source": [
    "df.title_clean.head()"
   ]
  },
  {
   "cell_type": "markdown",
   "metadata": {},
   "source": [
    "## REmove names\n",
    "- Some names could not be removed from the title column\n",
    "- have to do it \"manually\""
   ]
  },
  {
   "cell_type": "code",
   "execution_count": 26,
   "metadata": {},
   "outputs": [],
   "source": [
    "names_other = [\n",
    "    'Gabriel “Fluffy” Iglesias',\n",
    "    '& Larry The Cable Guy',\n",
    "    'David Chappelle',\n",
    "    'Patrice O’Neal',\n",
    "]\n",
    "df['title_clean'] = df['title_clean'].str.replace('|'.join(names_other), '',case=False)"
   ]
  },
  {
   "cell_type": "code",
   "execution_count": 27,
   "metadata": {},
   "outputs": [
    {
     "data": {
      "text/html": [
       "<div>\n",
       "<style scoped>\n",
       "    .dataframe tbody tr th:only-of-type {\n",
       "        vertical-align: middle;\n",
       "    }\n",
       "\n",
       "    .dataframe tbody tr th {\n",
       "        vertical-align: top;\n",
       "    }\n",
       "\n",
       "    .dataframe thead th {\n",
       "        text-align: right;\n",
       "    }\n",
       "</style>\n",
       "<table border=\"1\" class=\"dataframe\">\n",
       "  <thead>\n",
       "    <tr style=\"text-align: right;\">\n",
       "      <th></th>\n",
       "      <th>name</th>\n",
       "      <th>raw_title</th>\n",
       "      <th>summary</th>\n",
       "      <th>transcript</th>\n",
       "      <th>link</th>\n",
       "      <th>year</th>\n",
       "      <th>title_clean</th>\n",
       "    </tr>\n",
       "  </thead>\n",
       "  <tbody>\n",
       "    <tr>\n",
       "      <th>0</th>\n",
       "      <td>Enissa Amani</td>\n",
       "      <td>Enissa Amani: Ehrenwort (2018) Full Transcript</td>\n",
       "      <td>Live from Hamburg, Iranian-German comedian Eni...</td>\n",
       "      <td>A NETFLIX ORIGINAL COMEDY SPECIAL\\nHey, what’s...</td>\n",
       "      <td>https://scrapsfromtheloft.com/2019/02/19/eniss...</td>\n",
       "      <td>2018</td>\n",
       "      <td>Ehrenwort</td>\n",
       "    </tr>\n",
       "    <tr>\n",
       "      <th>1</th>\n",
       "      <td>George Carlin</td>\n",
       "      <td>Politically Correct Language – By George Carlin</td>\n",
       "      <td>George Carlin's critical thinking on pc langua...</td>\n",
       "      <td>I know I’m a little late with this, but I’d li...</td>\n",
       "      <td>https://scrapsfromtheloft.com/2019/02/18/polit...</td>\n",
       "      <td>0</td>\n",
       "      <td>Politically Correct Language  By</td>\n",
       "    </tr>\n",
       "    <tr>\n",
       "      <th>2</th>\n",
       "      <td>Ken Jeong</td>\n",
       "      <td>Ken Jeong: You Complete Me, Ho (2019) – Full T...</td>\n",
       "      <td>Filmed at the Ice House Comedy Club in Pasaden...</td>\n",
       "      <td>The Hangover… Community… Dr. Ken… Crazy Rich A...</td>\n",
       "      <td>https://scrapsfromtheloft.com/2019/02/17/ken-j...</td>\n",
       "      <td>2019</td>\n",
       "      <td>You Complete Me, Ho</td>\n",
       "    </tr>\n",
       "    <tr>\n",
       "      <th>3</th>\n",
       "      <td>Ray Romano</td>\n",
       "      <td>Ray Romano: Right Here, Around The Corner (201...</td>\n",
       "      <td>Ray Romano cut his stand-up teeth at the Comed...</td>\n",
       "      <td>It’s been 23 years since I did a comedy specia...</td>\n",
       "      <td>https://scrapsfromtheloft.com/2019/02/12/ray-r...</td>\n",
       "      <td>2019</td>\n",
       "      <td>Right Here, Around The Corner</td>\n",
       "    </tr>\n",
       "    <tr>\n",
       "      <th>4</th>\n",
       "      <td>Gabriel Iglesias</td>\n",
       "      <td>Gabriel “Fluffy” Iglesias: One Show Fits All (...</td>\n",
       "      <td>In a new special from Houston, Gabriel \"Fluffy...</td>\n",
       "      <td>[crowd chanting] Fluffy! Fluffy! [Fluffy shout...</td>\n",
       "      <td>https://scrapsfromtheloft.com/2019/01/30/gabri...</td>\n",
       "      <td>2019</td>\n",
       "      <td>One Show Fits All</td>\n",
       "    </tr>\n",
       "  </tbody>\n",
       "</table>\n",
       "</div>"
      ],
      "text/plain": [
       "               name                                          raw_title  \\\n",
       "0      Enissa Amani     Enissa Amani: Ehrenwort (2018) Full Transcript   \n",
       "1     George Carlin    Politically Correct Language – By George Carlin   \n",
       "2         Ken Jeong  Ken Jeong: You Complete Me, Ho (2019) – Full T...   \n",
       "3        Ray Romano  Ray Romano: Right Here, Around The Corner (201...   \n",
       "4  Gabriel Iglesias  Gabriel “Fluffy” Iglesias: One Show Fits All (...   \n",
       "\n",
       "                                             summary  \\\n",
       "0  Live from Hamburg, Iranian-German comedian Eni...   \n",
       "1  George Carlin's critical thinking on pc langua...   \n",
       "2  Filmed at the Ice House Comedy Club in Pasaden...   \n",
       "3  Ray Romano cut his stand-up teeth at the Comed...   \n",
       "4  In a new special from Houston, Gabriel \"Fluffy...   \n",
       "\n",
       "                                          transcript  \\\n",
       "0  A NETFLIX ORIGINAL COMEDY SPECIAL\\nHey, what’s...   \n",
       "1  I know I’m a little late with this, but I’d li...   \n",
       "2  The Hangover… Community… Dr. Ken… Crazy Rich A...   \n",
       "3  It’s been 23 years since I did a comedy specia...   \n",
       "4  [crowd chanting] Fluffy! Fluffy! [Fluffy shout...   \n",
       "\n",
       "                                                link  year  \\\n",
       "0  https://scrapsfromtheloft.com/2019/02/19/eniss...  2018   \n",
       "1  https://scrapsfromtheloft.com/2019/02/18/polit...     0   \n",
       "2  https://scrapsfromtheloft.com/2019/02/17/ken-j...  2019   \n",
       "3  https://scrapsfromtheloft.com/2019/02/12/ray-r...  2019   \n",
       "4  https://scrapsfromtheloft.com/2019/01/30/gabri...  2019   \n",
       "\n",
       "                         title_clean  \n",
       "0                        Ehrenwort    \n",
       "1  Politically Correct Language  By   \n",
       "2              You Complete Me, Ho    \n",
       "3    Right Here, Around The Corner    \n",
       "4                One Show Fits All    "
      ]
     },
     "execution_count": 27,
     "metadata": {},
     "output_type": "execute_result"
    }
   ],
   "source": [
    "df.head()"
   ]
  },
  {
   "cell_type": "code",
   "execution_count": 28,
   "metadata": {},
   "outputs": [
    {
     "data": {
      "text/plain": [
       "array([' Ehrenwort  ', 'Politically Correct Language  By ',\n",
       "       ' You Complete Me, Ho  ', ' Right Here, Around The Corner  ',\n",
       "       ' One Show Fits All  ', ' Stay Hungry  ',\n",
       "       'Latin History For Morons ’S Road To Broadway  ',\n",
       "       ' Aren’T You Embarrassed?  ', ' What’S Wrong With People?  ',\n",
       "       ' Relatable  ', ' Dirty Clean  ', ' Losing It  ', ' About Usa   ',\n",
       "       ' Son Of Patricia  ', '  We’Ve Been Thinking  ', ' 100% Fresh  ',\n",
       "       ' Totally Committed  ', ' If You Quit Listening, I’Ll Shut Up  ',\n",
       "       'Comedy Central Presents   ', ' The Vagabond  ',\n",
       "       '’S Award-Winning Comedy Special  ', ' Keep Talking, Pal  ',\n",
       "       ' SNL Monologue S01E01  ', ' Strange Times  ',\n",
       "       ' SNL Monologue S38E06  ', ' SNL Monologue S39E16  ',\n",
       "       ' SNL Monologue  Season 40 | Episode 2 | 10/04/2014  ',\n",
       "       ' SNL Monologue May 16, 2015 ', ' SNL Monologue  ',\n",
       "       ' Contrarian  ', ' Freezing Hot  ', ' War Paint  ',\n",
       "       ' Secret Time  ',\n",
       "       ' Speech At St. John’S Baptist Church, May 20, 1963',\n",
       "       ' The Overthinker  ', ' Live From Oklahoma  ', ' Live  ',\n",
       "       ' Confirmed Kills  ', ' Elder Millennial  ', ' Noble Ape  ',\n",
       "       ' Contextually Inadequate  ', ' Nanette  ', ' Daddy Issues  ',\n",
       "       ' How To Act Black  ', ' Live Iv  Science  ', ' This Is Me Now  ',\n",
       "       ' The Philadelphia Incident   ', ' Outsourced  ',\n",
       "       ' Almost Famous  ', ' A Little Unprofessional  ',\n",
       "       ' Hello Wembley!  ', ' Silent But Deadly  ',\n",
       "       ' Never Don’T Give Up  ',\n",
       "       ' Live At The O2 London   Prince Harry & Meghan Markle’S Royal Wedding',\n",
       "       ' I’M   ', ' Perfect  ', ' On Nationalism', ' Hard Knock Wife  ',\n",
       "       ' Everybody Calm Down!  ', ' Kid Gorgeous At Radio City  ',\n",
       "       ' Undeniable  ', ' You Magnificent Beast  ',\n",
       "       ' 2012 Golden Globes Opening Monologue', ' Woke-Ish  ',\n",
       "       ' Humanity  ', ' Live From Beirut  ', ' 90S Comedian  ',\n",
       "       ' My Girlfriend’S Boyfriend  ', ' Road Work  ', '  Glorious  ',\n",
       "       ' Bring The Pain  ', ' Double Negative  ', ' Tamborine  ',\n",
       "       ' Standup For Drummers  ', ' Straight White Male, 60  ',\n",
       "       ' Stripped  ', ' Act Happy  ', ' Standing Up  ',\n",
       "       ' Nunchucks And Flamethrowers  ', ' Great America  ',\n",
       "       ' Being Funny  ', ' Laughing And Joking  ', ' Unrepeatable  ',\n",
       "       ' Unapologetic  ', ' Gynecological Wonder  ', ' Never Scared  ',\n",
       "       ' Stand-Up Comedian  ', ' Funny Business  ', ' Dress To Kill  ',\n",
       "       ' What Now  ', ' Let Me Explain  ', ' Disgraceful  ',\n",
       "       ' Live At Laff Stop, Austin, Tx, And Cobbs, San Francisco, Ca  ',\n",
       "       ' Nice Lady  ', ' There’S No Business Like Show Business   ',\n",
       "       ' The Beginning  ', ' Immigrant  ', ' Spicy Honey  ',\n",
       "       ' I’M Telling You For The Last Time  ',\n",
       "       ' Does This Need To Be Said?  ', ' Tickle Fight  ',\n",
       "       ' Like, Totally…  ', ' Equanimity   Transcripción Completa',\n",
       "       ' The Bird Revelation   Transcripción Completa',\n",
       "       ' Hbo Half Hour   Traduzione Italiana', ' Live At The Apollo   ',\n",
       "       ' The Bird Revelation  ', ' Equanimity  ', ' I’M Here To Help  ',\n",
       "       ' Recalibrate  ', ' I Love You  ', ' I’M Your Girlfriend  ',\n",
       "       ' Chatterbox Live  ', ' Not Fancy  ', ' Live 2 Politics  ',\n",
       "       ' Live Dingledodies  ', ' Mother Inferior  ', ' At Large  ',\n",
       "       ' Lower Classy  ',\n",
       "       ' America Is The Greatest Country In The United States  ',\n",
       "       ' Live In Madison Square Garden  ', ' Buried Alive  ',\n",
       "       ' A Piece Of My Mind  Godbless America  ', ' Annihilation  ',\n",
       "       ' Kill The Messenger  London, New York, Johannesburg  ',\n",
       "       ' Live From D.C.  ', ' Jesus Is Magic  ', ' We Are Miracles  ',\n",
       "       ' Ouch! Live From San Jose  ', '… But I’M Not Wrong  ',\n",
       "       ' Messiah Complex  ', ' Bigger & Blacker  ', ' Hot And Fluffy  ',\n",
       "       ' I’M Not Fat … I’M Fluffy  ',\n",
       "       ' I’M Sorry For What I Said When I Was Hungry  ',\n",
       "       ' On Abortion And “Pro-Lifers”', '’S Monologue At The SNL ',\n",
       "       ' Homecoming King  ',\n",
       "       ' Live 2 If I Could Reach Out Through Your Tv And Strangle You I Would   ',\n",
       "       ' Hurt Like You’Ve Never Been Loved  ',\n",
       "       ' Live  The Last Days Of Sodom  ',\n",
       "       ' Tries Stand-Up For The First Time  ',\n",
       "       ' Back To The Drawing Board  ', ' The Ugly Truth  ',\n",
       "       ' At The SNL   ', ' Just Keep Livin’?  ', ' Religion Is Bullshit',\n",
       "       'Saturday Night News With   ',\n",
       "       ' E Il Controllo Delle Armi In America', ' Completely Serious  ',\n",
       "       ' Why Is The Rabbit Crying?  ', ' 3 Mics - ', ' One Night Stand  ',\n",
       "       ' New In Town  ', ' Weirdo  ', ' Baby Cobra  ',\n",
       "       ' Hitler’S Dog, Gossip & Trickery  ', ' People Pleaser  ',\n",
       "       ' More Later  ', ' Off The Hook  ', ' Live And Smokin’  ',\n",
       "       ' …Here And Now  ', ' Why Do I Do This   Testo Italiano Completo',\n",
       "       ' Mostly Sex Stuff  ', ' Alcoholocaust   ',\n",
       "       ' Live At The Apollo  ', ' Seriously Funny  ',\n",
       "       ' Comedy Camisado  ', ' Women And Black Dudes  ',\n",
       "       ' American Ham  ', ' Intimate Moments For A Sensual Evening  ',\n",
       "       ' Live At Webster Hall  ', ' The Berkeley Concert  ',\n",
       "       ' No Refunds   Trascrizione Italiana', ' At Usc  ',\n",
       "       ' Mouthful Of Shame  ', ' Matters  ', ' Triggered  ',\n",
       "       ' Lost In Translation  ', ' Old Baby  ', ' What  ',\n",
       "       ' Make Happy  ', ' Caligula  ', ' Thoughts And Prayers  ',\n",
       "       ' The Comeback Kid  ', ' Revelations  ', ' Black To The Future  ',\n",
       "       ' Before Turning The Gun On Himself   ', ' Deadbeat Hero   ',\n",
       "       ' Contraband  ', ' Thank God For Jokes  ', ' A Speck Of Dust  ',\n",
       "       ' Playing With Your Head  ', ' Again!*  ', ' Chewed Up  ',\n",
       "       ' Comedy Central Special  ', ' Completely Normal  ',\n",
       "       ' Carlin On Campus  ', ' Live At The Beacon Theatre  ',\n",
       "       ' Doin’ It Again   ', ' Out Of England 2  ',\n",
       "       ' The Leather Special  ', ' Cinco  ', ' I Swear To God  ',\n",
       "       ' Hilarious  ', ' Shameless  ', ' I’M Sorry You Feel That Way  ',\n",
       "       ' You People Are All The Same  ', ' For What It’S Worth  ',\n",
       "       ' Killin Them Softly  ', ' You Can Tell ‘Em I Said It!   ',\n",
       "       ' Walk Your Way Out  ', ' Oh My God  ',\n",
       "       ' Live At  The Comedy Store   ', ' Relentless   ',\n",
       "       ' Happy Thoughts   ', ' Elephant In The Room   ',\n",
       "       ' Live In Concert  ', ' Live On The Sunset Strip  ',\n",
       "       ' Afraid Of The Dark  ', ' Bare  ',\n",
       "       ' Deep In The Heart Of Texas  ', ' Mostly Stories  ',\n",
       "       ' Let It Go  ', ' Jamming In New York   Testo Italiano Completo',\n",
       "       ' You Are All Diseased   Testo Italiano Completo',\n",
       "       ' It’S Bad For Ya!   Testo Italiano Completo', ' Freedumb  ',\n",
       "       ' Delirious  ', ' The Age Of Spin  ', ' Back In Town  ', ' 2017 ',\n",
       "       ' Jamming In New York  ', ' You Are All Diseased  ',\n",
       "       ' On Gun Control ', ' Complaints And Grievances  ',\n",
       "       ' Life Is Worth Losing  ', ' It’S Bad For Ya  '], dtype=object)"
      ]
     },
     "execution_count": 28,
     "metadata": {},
     "output_type": "execute_result"
    }
   ],
   "source": [
    "df.title_clean.unique()"
   ]
  },
  {
   "cell_type": "code",
   "execution_count": 29,
   "metadata": {},
   "outputs": [],
   "source": [
    "# remove any whitespace from title\n",
    "df['title_clean'] = df['title_clean'].str.strip()"
   ]
  },
  {
   "cell_type": "code",
   "execution_count": 30,
   "metadata": {},
   "outputs": [
    {
     "data": {
      "text/plain": [
       "array(['Ehrenwort', 'Politically Correct Language  By',\n",
       "       'You Complete Me, Ho', 'Right Here, Around The Corner',\n",
       "       'One Show Fits All', 'Stay Hungry',\n",
       "       'Latin History For Morons ’S Road To Broadway',\n",
       "       'Aren’T You Embarrassed?', 'What’S Wrong With People?',\n",
       "       'Relatable', 'Dirty Clean', 'Losing It', 'About Usa',\n",
       "       'Son Of Patricia', 'We’Ve Been Thinking', '100% Fresh',\n",
       "       'Totally Committed', 'If You Quit Listening, I’Ll Shut Up',\n",
       "       'Comedy Central Presents', 'The Vagabond',\n",
       "       '’S Award-Winning Comedy Special', 'Keep Talking, Pal',\n",
       "       'SNL Monologue S01E01', 'Strange Times', 'SNL Monologue S38E06',\n",
       "       'SNL Monologue S39E16',\n",
       "       'SNL Monologue  Season 40 | Episode 2 | 10/04/2014',\n",
       "       'SNL Monologue May 16, 2015', 'SNL Monologue', 'Contrarian',\n",
       "       'Freezing Hot', 'War Paint', 'Secret Time',\n",
       "       'Speech At St. John’S Baptist Church, May 20, 1963',\n",
       "       'The Overthinker', 'Live From Oklahoma', 'Live', 'Confirmed Kills',\n",
       "       'Elder Millennial', 'Noble Ape', 'Contextually Inadequate',\n",
       "       'Nanette', 'Daddy Issues', 'How To Act Black', 'Live Iv  Science',\n",
       "       'This Is Me Now', 'The Philadelphia Incident', 'Outsourced',\n",
       "       'Almost Famous', 'A Little Unprofessional', 'Hello Wembley!',\n",
       "       'Silent But Deadly', 'Never Don’T Give Up',\n",
       "       'Live At The O2 London   Prince Harry & Meghan Markle’S Royal Wedding',\n",
       "       'I’M', 'Perfect', 'On Nationalism', 'Hard Knock Wife',\n",
       "       'Everybody Calm Down!', 'Kid Gorgeous At Radio City', 'Undeniable',\n",
       "       'You Magnificent Beast', '2012 Golden Globes Opening Monologue',\n",
       "       'Woke-Ish', 'Humanity', 'Live From Beirut', '90S Comedian',\n",
       "       'My Girlfriend’S Boyfriend', 'Road Work', 'Glorious',\n",
       "       'Bring The Pain', 'Double Negative', 'Tamborine',\n",
       "       'Standup For Drummers', 'Straight White Male, 60', 'Stripped',\n",
       "       'Act Happy', 'Standing Up', 'Nunchucks And Flamethrowers',\n",
       "       'Great America', 'Being Funny', 'Laughing And Joking',\n",
       "       'Unrepeatable', 'Unapologetic', 'Gynecological Wonder',\n",
       "       'Never Scared', 'Stand-Up Comedian', 'Funny Business',\n",
       "       'Dress To Kill', 'What Now', 'Let Me Explain', 'Disgraceful',\n",
       "       'Live At Laff Stop, Austin, Tx, And Cobbs, San Francisco, Ca',\n",
       "       'Nice Lady', 'There’S No Business Like Show Business',\n",
       "       'The Beginning', 'Immigrant', 'Spicy Honey',\n",
       "       'I’M Telling You For The Last Time', 'Does This Need To Be Said?',\n",
       "       'Tickle Fight', 'Like, Totally…',\n",
       "       'Equanimity   Transcripción Completa',\n",
       "       'The Bird Revelation   Transcripción Completa',\n",
       "       'Hbo Half Hour   Traduzione Italiana', 'Live At The Apollo',\n",
       "       'The Bird Revelation', 'Equanimity', 'I’M Here To Help',\n",
       "       'Recalibrate', 'I Love You', 'I’M Your Girlfriend',\n",
       "       'Chatterbox Live', 'Not Fancy', 'Live 2 Politics',\n",
       "       'Live Dingledodies', 'Mother Inferior', 'At Large', 'Lower Classy',\n",
       "       'America Is The Greatest Country In The United States',\n",
       "       'Live In Madison Square Garden', 'Buried Alive',\n",
       "       'A Piece Of My Mind  Godbless America', 'Annihilation',\n",
       "       'Kill The Messenger  London, New York, Johannesburg',\n",
       "       'Live From D.C.', 'Jesus Is Magic', 'We Are Miracles',\n",
       "       'Ouch! Live From San Jose', '… But I’M Not Wrong',\n",
       "       'Messiah Complex', 'Bigger & Blacker', 'Hot And Fluffy',\n",
       "       'I’M Not Fat … I’M Fluffy',\n",
       "       'I’M Sorry For What I Said When I Was Hungry',\n",
       "       'On Abortion And “Pro-Lifers”', '’S Monologue At The SNL',\n",
       "       'Homecoming King',\n",
       "       'Live 2 If I Could Reach Out Through Your Tv And Strangle You I Would',\n",
       "       'Hurt Like You’Ve Never Been Loved',\n",
       "       'Live  The Last Days Of Sodom',\n",
       "       'Tries Stand-Up For The First Time', 'Back To The Drawing Board',\n",
       "       'The Ugly Truth', 'At The SNL', 'Just Keep Livin’?',\n",
       "       'Religion Is Bullshit', 'Saturday Night News With',\n",
       "       'E Il Controllo Delle Armi In America', 'Completely Serious',\n",
       "       'Why Is The Rabbit Crying?', '3 Mics -', 'One Night Stand',\n",
       "       'New In Town', 'Weirdo', 'Baby Cobra',\n",
       "       'Hitler’S Dog, Gossip & Trickery', 'People Pleaser', 'More Later',\n",
       "       'Off The Hook', 'Live And Smokin’', '…Here And Now',\n",
       "       'Why Do I Do This   Testo Italiano Completo', 'Mostly Sex Stuff',\n",
       "       'Alcoholocaust', 'Seriously Funny', 'Comedy Camisado',\n",
       "       'Women And Black Dudes', 'American Ham',\n",
       "       'Intimate Moments For A Sensual Evening', 'Live At Webster Hall',\n",
       "       'The Berkeley Concert', 'No Refunds   Trascrizione Italiana',\n",
       "       'At Usc', 'Mouthful Of Shame', 'Matters', 'Triggered',\n",
       "       'Lost In Translation', 'Old Baby', 'What', 'Make Happy',\n",
       "       'Caligula', 'Thoughts And Prayers', 'The Comeback Kid',\n",
       "       'Revelations', 'Black To The Future',\n",
       "       'Before Turning The Gun On Himself', 'Deadbeat Hero', 'Contraband',\n",
       "       'Thank God For Jokes', 'A Speck Of Dust', 'Playing With Your Head',\n",
       "       'Again!*', 'Chewed Up', 'Comedy Central Special',\n",
       "       'Completely Normal', 'Carlin On Campus',\n",
       "       'Live At The Beacon Theatre', 'Doin’ It Again', 'Out Of England 2',\n",
       "       'The Leather Special', 'Cinco', 'I Swear To God', 'Hilarious',\n",
       "       'Shameless', 'I’M Sorry You Feel That Way',\n",
       "       'You People Are All The Same', 'For What It’S Worth',\n",
       "       'Killin Them Softly', 'You Can Tell ‘Em I Said It!',\n",
       "       'Walk Your Way Out', 'Oh My God', 'Live At  The Comedy Store',\n",
       "       'Relentless', 'Happy Thoughts', 'Elephant In The Room',\n",
       "       'Live In Concert', 'Live On The Sunset Strip',\n",
       "       'Afraid Of The Dark', 'Bare', 'Deep In The Heart Of Texas',\n",
       "       'Mostly Stories', 'Let It Go',\n",
       "       'Jamming In New York   Testo Italiano Completo',\n",
       "       'You Are All Diseased   Testo Italiano Completo',\n",
       "       'It’S Bad For Ya!   Testo Italiano Completo', 'Freedumb',\n",
       "       'Delirious', 'The Age Of Spin', 'Back In Town', '2017',\n",
       "       'Jamming In New York', 'You Are All Diseased', 'On Gun Control',\n",
       "       'Complaints And Grievances', 'Life Is Worth Losing',\n",
       "       'It’S Bad For Ya'], dtype=object)"
      ]
     },
     "execution_count": 30,
     "metadata": {},
     "output_type": "execute_result"
    }
   ],
   "source": [
    "df.title_clean.unique()"
   ]
  },
  {
   "cell_type": "markdown",
   "metadata": {},
   "source": [
    "## Drop unused columns\n",
    "- only select our final 6 columns"
   ]
  },
  {
   "cell_type": "code",
   "execution_count": 31,
   "metadata": {},
   "outputs": [],
   "source": [
    "## Select columns\n",
    "df = df[['name','title_clean','summary','year','transcript','link']]"
   ]
  },
  {
   "cell_type": "code",
   "execution_count": 32,
   "metadata": {},
   "outputs": [
    {
     "data": {
      "text/html": [
       "<div>\n",
       "<style scoped>\n",
       "    .dataframe tbody tr th:only-of-type {\n",
       "        vertical-align: middle;\n",
       "    }\n",
       "\n",
       "    .dataframe tbody tr th {\n",
       "        vertical-align: top;\n",
       "    }\n",
       "\n",
       "    .dataframe thead th {\n",
       "        text-align: right;\n",
       "    }\n",
       "</style>\n",
       "<table border=\"1\" class=\"dataframe\">\n",
       "  <thead>\n",
       "    <tr style=\"text-align: right;\">\n",
       "      <th></th>\n",
       "      <th>name</th>\n",
       "      <th>title_clean</th>\n",
       "      <th>summary</th>\n",
       "      <th>year</th>\n",
       "      <th>transcript</th>\n",
       "      <th>link</th>\n",
       "    </tr>\n",
       "  </thead>\n",
       "  <tbody>\n",
       "    <tr>\n",
       "      <th>0</th>\n",
       "      <td>Enissa Amani</td>\n",
       "      <td>Ehrenwort</td>\n",
       "      <td>Live from Hamburg, Iranian-German comedian Eni...</td>\n",
       "      <td>2018</td>\n",
       "      <td>A NETFLIX ORIGINAL COMEDY SPECIAL\\nHey, what’s...</td>\n",
       "      <td>https://scrapsfromtheloft.com/2019/02/19/eniss...</td>\n",
       "    </tr>\n",
       "    <tr>\n",
       "      <th>1</th>\n",
       "      <td>George Carlin</td>\n",
       "      <td>Politically Correct Language  By</td>\n",
       "      <td>George Carlin's critical thinking on pc langua...</td>\n",
       "      <td>0</td>\n",
       "      <td>I know I’m a little late with this, but I’d li...</td>\n",
       "      <td>https://scrapsfromtheloft.com/2019/02/18/polit...</td>\n",
       "    </tr>\n",
       "    <tr>\n",
       "      <th>2</th>\n",
       "      <td>Ken Jeong</td>\n",
       "      <td>You Complete Me, Ho</td>\n",
       "      <td>Filmed at the Ice House Comedy Club in Pasaden...</td>\n",
       "      <td>2019</td>\n",
       "      <td>The Hangover… Community… Dr. Ken… Crazy Rich A...</td>\n",
       "      <td>https://scrapsfromtheloft.com/2019/02/17/ken-j...</td>\n",
       "    </tr>\n",
       "    <tr>\n",
       "      <th>3</th>\n",
       "      <td>Ray Romano</td>\n",
       "      <td>Right Here, Around The Corner</td>\n",
       "      <td>Ray Romano cut his stand-up teeth at the Comed...</td>\n",
       "      <td>2019</td>\n",
       "      <td>It’s been 23 years since I did a comedy specia...</td>\n",
       "      <td>https://scrapsfromtheloft.com/2019/02/12/ray-r...</td>\n",
       "    </tr>\n",
       "    <tr>\n",
       "      <th>4</th>\n",
       "      <td>Gabriel Iglesias</td>\n",
       "      <td>One Show Fits All</td>\n",
       "      <td>In a new special from Houston, Gabriel \"Fluffy...</td>\n",
       "      <td>2019</td>\n",
       "      <td>[crowd chanting] Fluffy! Fluffy! [Fluffy shout...</td>\n",
       "      <td>https://scrapsfromtheloft.com/2019/01/30/gabri...</td>\n",
       "    </tr>\n",
       "  </tbody>\n",
       "</table>\n",
       "</div>"
      ],
      "text/plain": [
       "               name                       title_clean  \\\n",
       "0      Enissa Amani                         Ehrenwort   \n",
       "1     George Carlin  Politically Correct Language  By   \n",
       "2         Ken Jeong               You Complete Me, Ho   \n",
       "3        Ray Romano     Right Here, Around The Corner   \n",
       "4  Gabriel Iglesias                 One Show Fits All   \n",
       "\n",
       "                                             summary  year  \\\n",
       "0  Live from Hamburg, Iranian-German comedian Eni...  2018   \n",
       "1  George Carlin's critical thinking on pc langua...     0   \n",
       "2  Filmed at the Ice House Comedy Club in Pasaden...  2019   \n",
       "3  Ray Romano cut his stand-up teeth at the Comed...  2019   \n",
       "4  In a new special from Houston, Gabriel \"Fluffy...  2019   \n",
       "\n",
       "                                          transcript  \\\n",
       "0  A NETFLIX ORIGINAL COMEDY SPECIAL\\nHey, what’s...   \n",
       "1  I know I’m a little late with this, but I’d li...   \n",
       "2  The Hangover… Community… Dr. Ken… Crazy Rich A...   \n",
       "3  It’s been 23 years since I did a comedy specia...   \n",
       "4  [crowd chanting] Fluffy! Fluffy! [Fluffy shout...   \n",
       "\n",
       "                                                link  \n",
       "0  https://scrapsfromtheloft.com/2019/02/19/eniss...  \n",
       "1  https://scrapsfromtheloft.com/2019/02/18/polit...  \n",
       "2  https://scrapsfromtheloft.com/2019/02/17/ken-j...  \n",
       "3  https://scrapsfromtheloft.com/2019/02/12/ray-r...  \n",
       "4  https://scrapsfromtheloft.com/2019/01/30/gabri...  "
      ]
     },
     "execution_count": 32,
     "metadata": {},
     "output_type": "execute_result"
    }
   ],
   "source": [
    "df.head()"
   ]
  },
  {
   "cell_type": "code",
   "execution_count": 33,
   "metadata": {},
   "outputs": [],
   "source": [
    "# rename col\n",
    "df.rename(columns={\"title_clean\": \"title\"},inplace=True)"
   ]
  },
  {
   "cell_type": "code",
   "execution_count": 34,
   "metadata": {},
   "outputs": [
    {
     "data": {
      "text/html": [
       "<div>\n",
       "<style scoped>\n",
       "    .dataframe tbody tr th:only-of-type {\n",
       "        vertical-align: middle;\n",
       "    }\n",
       "\n",
       "    .dataframe tbody tr th {\n",
       "        vertical-align: top;\n",
       "    }\n",
       "\n",
       "    .dataframe thead th {\n",
       "        text-align: right;\n",
       "    }\n",
       "</style>\n",
       "<table border=\"1\" class=\"dataframe\">\n",
       "  <thead>\n",
       "    <tr style=\"text-align: right;\">\n",
       "      <th></th>\n",
       "      <th>name</th>\n",
       "      <th>title</th>\n",
       "      <th>summary</th>\n",
       "      <th>year</th>\n",
       "      <th>transcript</th>\n",
       "      <th>link</th>\n",
       "    </tr>\n",
       "  </thead>\n",
       "  <tbody>\n",
       "    <tr>\n",
       "      <th>0</th>\n",
       "      <td>Enissa Amani</td>\n",
       "      <td>Ehrenwort</td>\n",
       "      <td>Live from Hamburg, Iranian-German comedian Eni...</td>\n",
       "      <td>2018</td>\n",
       "      <td>A NETFLIX ORIGINAL COMEDY SPECIAL\\nHey, what’s...</td>\n",
       "      <td>https://scrapsfromtheloft.com/2019/02/19/eniss...</td>\n",
       "    </tr>\n",
       "    <tr>\n",
       "      <th>1</th>\n",
       "      <td>George Carlin</td>\n",
       "      <td>Politically Correct Language  By</td>\n",
       "      <td>George Carlin's critical thinking on pc langua...</td>\n",
       "      <td>0</td>\n",
       "      <td>I know I’m a little late with this, but I’d li...</td>\n",
       "      <td>https://scrapsfromtheloft.com/2019/02/18/polit...</td>\n",
       "    </tr>\n",
       "    <tr>\n",
       "      <th>2</th>\n",
       "      <td>Ken Jeong</td>\n",
       "      <td>You Complete Me, Ho</td>\n",
       "      <td>Filmed at the Ice House Comedy Club in Pasaden...</td>\n",
       "      <td>2019</td>\n",
       "      <td>The Hangover… Community… Dr. Ken… Crazy Rich A...</td>\n",
       "      <td>https://scrapsfromtheloft.com/2019/02/17/ken-j...</td>\n",
       "    </tr>\n",
       "    <tr>\n",
       "      <th>3</th>\n",
       "      <td>Ray Romano</td>\n",
       "      <td>Right Here, Around The Corner</td>\n",
       "      <td>Ray Romano cut his stand-up teeth at the Comed...</td>\n",
       "      <td>2019</td>\n",
       "      <td>It’s been 23 years since I did a comedy specia...</td>\n",
       "      <td>https://scrapsfromtheloft.com/2019/02/12/ray-r...</td>\n",
       "    </tr>\n",
       "    <tr>\n",
       "      <th>4</th>\n",
       "      <td>Gabriel Iglesias</td>\n",
       "      <td>One Show Fits All</td>\n",
       "      <td>In a new special from Houston, Gabriel \"Fluffy...</td>\n",
       "      <td>2019</td>\n",
       "      <td>[crowd chanting] Fluffy! Fluffy! [Fluffy shout...</td>\n",
       "      <td>https://scrapsfromtheloft.com/2019/01/30/gabri...</td>\n",
       "    </tr>\n",
       "  </tbody>\n",
       "</table>\n",
       "</div>"
      ],
      "text/plain": [
       "               name                             title  \\\n",
       "0      Enissa Amani                         Ehrenwort   \n",
       "1     George Carlin  Politically Correct Language  By   \n",
       "2         Ken Jeong               You Complete Me, Ho   \n",
       "3        Ray Romano     Right Here, Around The Corner   \n",
       "4  Gabriel Iglesias                 One Show Fits All   \n",
       "\n",
       "                                             summary  year  \\\n",
       "0  Live from Hamburg, Iranian-German comedian Eni...  2018   \n",
       "1  George Carlin's critical thinking on pc langua...     0   \n",
       "2  Filmed at the Ice House Comedy Club in Pasaden...  2019   \n",
       "3  Ray Romano cut his stand-up teeth at the Comed...  2019   \n",
       "4  In a new special from Houston, Gabriel \"Fluffy...  2019   \n",
       "\n",
       "                                          transcript  \\\n",
       "0  A NETFLIX ORIGINAL COMEDY SPECIAL\\nHey, what’s...   \n",
       "1  I know I’m a little late with this, but I’d li...   \n",
       "2  The Hangover… Community… Dr. Ken… Crazy Rich A...   \n",
       "3  It’s been 23 years since I did a comedy specia...   \n",
       "4  [crowd chanting] Fluffy! Fluffy! [Fluffy shout...   \n",
       "\n",
       "                                                link  \n",
       "0  https://scrapsfromtheloft.com/2019/02/19/eniss...  \n",
       "1  https://scrapsfromtheloft.com/2019/02/18/polit...  \n",
       "2  https://scrapsfromtheloft.com/2019/02/17/ken-j...  \n",
       "3  https://scrapsfromtheloft.com/2019/02/12/ray-r...  \n",
       "4  https://scrapsfromtheloft.com/2019/01/30/gabri...  "
      ]
     },
     "execution_count": 34,
     "metadata": {},
     "output_type": "execute_result"
    }
   ],
   "source": [
    "df.head()"
   ]
  },
  {
   "cell_type": "code",
   "execution_count": null,
   "metadata": {},
   "outputs": [],
   "source": []
  },
  {
   "cell_type": "markdown",
   "metadata": {},
   "source": [
    "# Save"
   ]
  },
  {
   "cell_type": "code",
   "execution_count": 37,
   "metadata": {},
   "outputs": [],
   "source": [
    "file = '04_clean_data.csv'\n",
    "data_directory = os.path.join( '..','data','raw_data/{}'.format(file))"
   ]
  },
  {
   "cell_type": "code",
   "execution_count": 38,
   "metadata": {},
   "outputs": [],
   "source": [
    "df.to_csv(data_directory,index=False)"
   ]
  },
  {
   "cell_type": "code",
   "execution_count": null,
   "metadata": {},
   "outputs": [],
   "source": []
  }
 ],
 "metadata": {
  "kernelspec": {
   "display_name": "Python 3",
   "language": "python",
   "name": "python3"
  },
  "language_info": {
   "codemirror_mode": {
    "name": "ipython",
    "version": 3
   },
   "file_extension": ".py",
   "mimetype": "text/x-python",
   "name": "python",
   "nbconvert_exporter": "python",
   "pygments_lexer": "ipython3",
   "version": "3.7.2"
  }
 },
 "nbformat": 4,
 "nbformat_minor": 2
}
