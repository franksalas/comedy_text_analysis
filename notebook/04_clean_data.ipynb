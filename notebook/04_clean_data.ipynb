{
 "cells": [
  {
   "cell_type": "code",
   "execution_count": null,
   "metadata": {},
   "outputs": [],
   "source": []
  },
  {
   "cell_type": "code",
   "execution_count": 1,
   "metadata": {},
   "outputs": [],
   "source": [
    "import pandas as pd\n",
    "import numpy as np\n",
    "import seaborn as sns\n",
    "import matplotlib.pyplot as plt\n",
    "import os\n",
    "import re"
   ]
  },
  {
   "cell_type": "markdown",
   "metadata": {},
   "source": [
    "## Data path"
   ]
  },
  {
   "cell_type": "code",
   "execution_count": 2,
   "metadata": {},
   "outputs": [],
   "source": [
    "# raw_data\n",
    "file = '03_data_merge_OCT_19.csv'\n",
    "data_directory = os.path.join( '..','data','raw_data/{}'.format(file))"
   ]
  },
  {
   "cell_type": "code",
   "execution_count": 3,
   "metadata": {},
   "outputs": [],
   "source": [
    "df = pd.read_csv(data_directory)"
   ]
  },
  {
   "cell_type": "code",
   "execution_count": 4,
   "metadata": {},
   "outputs": [
    {
     "name": "stdout",
     "output_type": "stream",
     "text": [
      "<class 'pandas.core.frame.DataFrame'>\n",
      "RangeIndex: 284 entries, 0 to 283\n",
      "Data columns (total 5 columns):\n",
      "name          284 non-null object\n",
      "raw_title     284 non-null object\n",
      "summary       284 non-null object\n",
      "transcript    284 non-null object\n",
      "link          284 non-null object\n",
      "dtypes: object(5)\n",
      "memory usage: 11.2+ KB\n"
     ]
    }
   ],
   "source": [
    "df.info()"
   ]
  },
  {
   "cell_type": "code",
   "execution_count": 5,
   "metadata": {},
   "outputs": [
    {
     "data": {
      "text/html": [
       "<div>\n",
       "<style scoped>\n",
       "    .dataframe tbody tr th:only-of-type {\n",
       "        vertical-align: middle;\n",
       "    }\n",
       "\n",
       "    .dataframe tbody tr th {\n",
       "        vertical-align: top;\n",
       "    }\n",
       "\n",
       "    .dataframe thead th {\n",
       "        text-align: right;\n",
       "    }\n",
       "</style>\n",
       "<table border=\"1\" class=\"dataframe\">\n",
       "  <thead>\n",
       "    <tr style=\"text-align: right;\">\n",
       "      <th></th>\n",
       "      <th>name</th>\n",
       "      <th>raw_title</th>\n",
       "      <th>summary</th>\n",
       "      <th>transcript</th>\n",
       "      <th>link</th>\n",
       "    </tr>\n",
       "  </thead>\n",
       "  <tbody>\n",
       "    <tr>\n",
       "      <th>0</th>\n",
       "      <td>Nikki Glaser</td>\n",
       "      <td>Nikki Glaser: Bangin’ (2019) – Full Transcript</td>\n",
       "      <td>A NETFLIX ORIGINAL COMEDY SPECIAL Thank you! T...</td>\n",
       "      <td>A NETFLIX ORIGINAL COMEDY SPECIAL\\nThank you! ...</td>\n",
       "      <td>https://scrapsfromtheloft.com/2019/10/04/nikki...</td>\n",
       "    </tr>\n",
       "    <tr>\n",
       "      <th>1</th>\n",
       "      <td>Ryan Hamilton</td>\n",
       "      <td>Ryan Hamilton Stand-Up – The Tonight Show Star...</td>\n",
       "      <td>Ryan Hamilton makes his Tonight Show debut wit...</td>\n",
       "      <td>Published on Sep 11, 2019\\nThe Tonight Show St...</td>\n",
       "      <td>https://scrapsfromtheloft.com/2019/09/25/ryan-...</td>\n",
       "    </tr>\n",
       "    <tr>\n",
       "      <th>2</th>\n",
       "      <td>Mark Normandthe Tonight Show Starring Jimmy Fa...</td>\n",
       "      <td>Mark Normand Stand-Up – The Tonight Show Starr...</td>\n",
       "      <td>Mark Normand is back on The Tonight Show with ...</td>\n",
       "      <td>Aired on September 19, 2019\\nHey, hey. All rig...</td>\n",
       "      <td>https://scrapsfromtheloft.com/2019/09/21/mark-...</td>\n",
       "    </tr>\n",
       "    <tr>\n",
       "      <th>3</th>\n",
       "      <td>George Carlin</td>\n",
       "      <td>George Carlin: Dumb Americans (2006) – Full Tr...</td>\n",
       "      <td>Full transcript of George Carlin's \"Dumb Ameri...</td>\n",
       "      <td>From Life Is Worth Losing\\nRecorded on Novembe...</td>\n",
       "      <td>https://scrapsfromtheloft.com/2019/09/12/georg...</td>\n",
       "    </tr>\n",
       "    <tr>\n",
       "      <th>4</th>\n",
       "      <td>Bill Burr</td>\n",
       "      <td>Bill Burr: Paper Tiger (2019) – Full Transcript</td>\n",
       "      <td>Only a few weeks after Dave Chappelle's \"Stick...</td>\n",
       "      <td>Recorded Live at the Royal Albert Hall, London...</td>\n",
       "      <td>https://scrapsfromtheloft.com/2019/09/10/bill-...</td>\n",
       "    </tr>\n",
       "  </tbody>\n",
       "</table>\n",
       "</div>"
      ],
      "text/plain": [
       "                                                name  \\\n",
       "0                                       Nikki Glaser   \n",
       "1                                      Ryan Hamilton   \n",
       "2  Mark Normandthe Tonight Show Starring Jimmy Fa...   \n",
       "3                                      George Carlin   \n",
       "4                                          Bill Burr   \n",
       "\n",
       "                                           raw_title  \\\n",
       "0     Nikki Glaser: Bangin’ (2019) – Full Transcript   \n",
       "1  Ryan Hamilton Stand-Up – The Tonight Show Star...   \n",
       "2  Mark Normand Stand-Up – The Tonight Show Starr...   \n",
       "3  George Carlin: Dumb Americans (2006) – Full Tr...   \n",
       "4    Bill Burr: Paper Tiger (2019) – Full Transcript   \n",
       "\n",
       "                                             summary  \\\n",
       "0  A NETFLIX ORIGINAL COMEDY SPECIAL Thank you! T...   \n",
       "1  Ryan Hamilton makes his Tonight Show debut wit...   \n",
       "2  Mark Normand is back on The Tonight Show with ...   \n",
       "3  Full transcript of George Carlin's \"Dumb Ameri...   \n",
       "4  Only a few weeks after Dave Chappelle's \"Stick...   \n",
       "\n",
       "                                          transcript  \\\n",
       "0  A NETFLIX ORIGINAL COMEDY SPECIAL\\nThank you! ...   \n",
       "1  Published on Sep 11, 2019\\nThe Tonight Show St...   \n",
       "2  Aired on September 19, 2019\\nHey, hey. All rig...   \n",
       "3  From Life Is Worth Losing\\nRecorded on Novembe...   \n",
       "4  Recorded Live at the Royal Albert Hall, London...   \n",
       "\n",
       "                                                link  \n",
       "0  https://scrapsfromtheloft.com/2019/10/04/nikki...  \n",
       "1  https://scrapsfromtheloft.com/2019/09/25/ryan-...  \n",
       "2  https://scrapsfromtheloft.com/2019/09/21/mark-...  \n",
       "3  https://scrapsfromtheloft.com/2019/09/12/georg...  \n",
       "4  https://scrapsfromtheloft.com/2019/09/10/bill-...  "
      ]
     },
     "execution_count": 5,
     "metadata": {},
     "output_type": "execute_result"
    }
   ],
   "source": [
    "df.head()"
   ]
  },
  {
   "cell_type": "markdown",
   "metadata": {},
   "source": [
    "# Clean\n",
    "---\n",
    "\n",
    "## YEAR\n",
    "Extract year of the comedy special from `raw_title` column"
   ]
  },
  {
   "cell_type": "code",
   "execution_count": 6,
   "metadata": {},
   "outputs": [],
   "source": [
    "def get_year(data):\n",
    "    ''' return year'''\n",
    "    patt = r'(\\d{4})' # ####\n",
    "    text = data.raw_title \n",
    "    pattern = re.compile(patt) \n",
    "    matches = pattern.findall(text) \n",
    "    if len(matches) == 0: #matches = 0 \n",
    "        return 0 \n",
    "    else: \n",
    "        value = matches[0] \n",
    "        return value"
   ]
  },
  {
   "cell_type": "code",
   "execution_count": 7,
   "metadata": {},
   "outputs": [],
   "source": [
    "df['year'] = df.apply(get_year,axis=1)"
   ]
  },
  {
   "cell_type": "code",
   "execution_count": 10,
   "metadata": {},
   "outputs": [
    {
     "data": {
      "text/plain": [
       "2018    39\n",
       "2017    38\n",
       "2016    24\n",
       "2019    22\n",
       "2015    19\n",
       "0       13\n",
       "2013    13\n",
       "2014    13\n",
       "2012     9\n",
       "2010     9\n",
       "Name: year, dtype: int64"
      ]
     },
     "execution_count": 10,
     "metadata": {},
     "output_type": "execute_result"
    }
   ],
   "source": [
    "df.year.value_counts()[:10]"
   ]
  },
  {
   "cell_type": "code",
   "execution_count": 8,
   "metadata": {},
   "outputs": [
    {
     "data": {
      "text/html": [
       "<div>\n",
       "<style scoped>\n",
       "    .dataframe tbody tr th:only-of-type {\n",
       "        vertical-align: middle;\n",
       "    }\n",
       "\n",
       "    .dataframe tbody tr th {\n",
       "        vertical-align: top;\n",
       "    }\n",
       "\n",
       "    .dataframe thead th {\n",
       "        text-align: right;\n",
       "    }\n",
       "</style>\n",
       "<table border=\"1\" class=\"dataframe\">\n",
       "  <thead>\n",
       "    <tr style=\"text-align: right;\">\n",
       "      <th></th>\n",
       "      <th>name</th>\n",
       "      <th>raw_title</th>\n",
       "      <th>summary</th>\n",
       "      <th>transcript</th>\n",
       "      <th>link</th>\n",
       "      <th>year</th>\n",
       "    </tr>\n",
       "  </thead>\n",
       "  <tbody>\n",
       "    <tr>\n",
       "      <th>0</th>\n",
       "      <td>Nikki Glaser</td>\n",
       "      <td>Nikki Glaser: Bangin’ (2019) – Full Transcript</td>\n",
       "      <td>A NETFLIX ORIGINAL COMEDY SPECIAL Thank you! T...</td>\n",
       "      <td>A NETFLIX ORIGINAL COMEDY SPECIAL\\nThank you! ...</td>\n",
       "      <td>https://scrapsfromtheloft.com/2019/10/04/nikki...</td>\n",
       "      <td>2019</td>\n",
       "    </tr>\n",
       "    <tr>\n",
       "      <th>1</th>\n",
       "      <td>Ryan Hamilton</td>\n",
       "      <td>Ryan Hamilton Stand-Up – The Tonight Show Star...</td>\n",
       "      <td>Ryan Hamilton makes his Tonight Show debut wit...</td>\n",
       "      <td>Published on Sep 11, 2019\\nThe Tonight Show St...</td>\n",
       "      <td>https://scrapsfromtheloft.com/2019/09/25/ryan-...</td>\n",
       "      <td>2019</td>\n",
       "    </tr>\n",
       "    <tr>\n",
       "      <th>2</th>\n",
       "      <td>Mark Normandthe Tonight Show Starring Jimmy Fa...</td>\n",
       "      <td>Mark Normand Stand-Up – The Tonight Show Starr...</td>\n",
       "      <td>Mark Normand is back on The Tonight Show with ...</td>\n",
       "      <td>Aired on September 19, 2019\\nHey, hey. All rig...</td>\n",
       "      <td>https://scrapsfromtheloft.com/2019/09/21/mark-...</td>\n",
       "      <td>2019</td>\n",
       "    </tr>\n",
       "    <tr>\n",
       "      <th>3</th>\n",
       "      <td>George Carlin</td>\n",
       "      <td>George Carlin: Dumb Americans (2006) – Full Tr...</td>\n",
       "      <td>Full transcript of George Carlin's \"Dumb Ameri...</td>\n",
       "      <td>From Life Is Worth Losing\\nRecorded on Novembe...</td>\n",
       "      <td>https://scrapsfromtheloft.com/2019/09/12/georg...</td>\n",
       "      <td>2006</td>\n",
       "    </tr>\n",
       "    <tr>\n",
       "      <th>4</th>\n",
       "      <td>Bill Burr</td>\n",
       "      <td>Bill Burr: Paper Tiger (2019) – Full Transcript</td>\n",
       "      <td>Only a few weeks after Dave Chappelle's \"Stick...</td>\n",
       "      <td>Recorded Live at the Royal Albert Hall, London...</td>\n",
       "      <td>https://scrapsfromtheloft.com/2019/09/10/bill-...</td>\n",
       "      <td>2019</td>\n",
       "    </tr>\n",
       "  </tbody>\n",
       "</table>\n",
       "</div>"
      ],
      "text/plain": [
       "                                                name  \\\n",
       "0                                       Nikki Glaser   \n",
       "1                                      Ryan Hamilton   \n",
       "2  Mark Normandthe Tonight Show Starring Jimmy Fa...   \n",
       "3                                      George Carlin   \n",
       "4                                          Bill Burr   \n",
       "\n",
       "                                           raw_title  \\\n",
       "0     Nikki Glaser: Bangin’ (2019) – Full Transcript   \n",
       "1  Ryan Hamilton Stand-Up – The Tonight Show Star...   \n",
       "2  Mark Normand Stand-Up – The Tonight Show Starr...   \n",
       "3  George Carlin: Dumb Americans (2006) – Full Tr...   \n",
       "4    Bill Burr: Paper Tiger (2019) – Full Transcript   \n",
       "\n",
       "                                             summary  \\\n",
       "0  A NETFLIX ORIGINAL COMEDY SPECIAL Thank you! T...   \n",
       "1  Ryan Hamilton makes his Tonight Show debut wit...   \n",
       "2  Mark Normand is back on The Tonight Show with ...   \n",
       "3  Full transcript of George Carlin's \"Dumb Ameri...   \n",
       "4  Only a few weeks after Dave Chappelle's \"Stick...   \n",
       "\n",
       "                                          transcript  \\\n",
       "0  A NETFLIX ORIGINAL COMEDY SPECIAL\\nThank you! ...   \n",
       "1  Published on Sep 11, 2019\\nThe Tonight Show St...   \n",
       "2  Aired on September 19, 2019\\nHey, hey. All rig...   \n",
       "3  From Life Is Worth Losing\\nRecorded on Novembe...   \n",
       "4  Recorded Live at the Royal Albert Hall, London...   \n",
       "\n",
       "                                                link  year  \n",
       "0  https://scrapsfromtheloft.com/2019/10/04/nikki...  2019  \n",
       "1  https://scrapsfromtheloft.com/2019/09/25/ryan-...  2019  \n",
       "2  https://scrapsfromtheloft.com/2019/09/21/mark-...  2019  \n",
       "3  https://scrapsfromtheloft.com/2019/09/12/georg...  2006  \n",
       "4  https://scrapsfromtheloft.com/2019/09/10/bill-...  2019  "
      ]
     },
     "execution_count": 8,
     "metadata": {},
     "output_type": "execute_result"
    }
   ],
   "source": [
    "df.head()"
   ]
  },
  {
   "cell_type": "markdown",
   "metadata": {},
   "source": [
    "## Remove name from `raw_title`\n",
    "`raw_title` contains name of the comedian, since we have a column that already does that, lets remove the comedian name from column\n",
    "- crate a list of unique names from column `name\n",
    "- fix casing on `raw_title` to match our list of names\n",
    "- remove name from `raw_title` if its in our name list"
   ]
  },
  {
   "cell_type": "code",
   "execution_count": 11,
   "metadata": {},
   "outputs": [],
   "source": [
    "# create list of names\n",
    "names = list(df.name.unique())"
   ]
  },
  {
   "cell_type": "code",
   "execution_count": null,
   "metadata": {},
   "outputs": [],
   "source": []
  },
  {
   "cell_type": "code",
   "execution_count": 12,
   "metadata": {},
   "outputs": [],
   "source": [
    "# fix casing \n",
    "df.raw_title = df.raw_title.str.title()"
   ]
  },
  {
   "cell_type": "code",
   "execution_count": 13,
   "metadata": {},
   "outputs": [
    {
     "data": {
      "text/plain": [
       "133"
      ]
     },
     "execution_count": 13,
     "metadata": {},
     "output_type": "execute_result"
    }
   ],
   "source": [
    "len(names)"
   ]
  },
  {
   "cell_type": "code",
   "execution_count": 14,
   "metadata": {},
   "outputs": [
    {
     "data": {
      "text/plain": [
       "['Nikki Glaser',\n",
       " 'Ryan Hamilton',\n",
       " 'Mark Normandthe Tonight Show Starring Jimmy Fallon',\n",
       " 'George Carlin',\n",
       " 'Bill Burr',\n",
       " 'Dave Chappelle',\n",
       " 'Amazon Rainforestclimate Changedeforestationhasan Minhajjair Bolsonaropatriot Act With Hasan Minhajsônia Guajajara',\n",
       " 'Emily Heller',\n",
       " 'David Cross',\n",
       " 'Kevin Hart']"
      ]
     },
     "execution_count": 14,
     "metadata": {},
     "output_type": "execute_result"
    }
   ],
   "source": [
    "names[:10]"
   ]
  },
  {
   "cell_type": "code",
   "execution_count": 15,
   "metadata": {},
   "outputs": [
    {
     "data": {
      "text/plain": [
       "0       Nikki Glaser: Bangin’ (2019) – Full Transcript\n",
       "1    Ryan Hamilton Stand-Up – The Tonight Show Star...\n",
       "2    Mark Normand Stand-Up – The Tonight Show Starr...\n",
       "3    George Carlin: Dumb Americans (2006) – Full Tr...\n",
       "4      Bill Burr: Paper Tiger (2019) – Full Transcript\n",
       "5    Dave Chappelle: Sticks And Stones | Epilogue: ...\n",
       "6    Brazil, Corruption And The Amazon Rainforest |...\n",
       "7    Dave Chappelle: Sticks & Stones (2019) – Full ...\n",
       "8    Emily Heller: Ice Thickeners (2019) – Full Tra...\n",
       "9     David Cross: Oh Come On (2019) – Full Transcript\n",
       "Name: raw_title, dtype: object"
      ]
     },
     "execution_count": 15,
     "metadata": {},
     "output_type": "execute_result"
    }
   ],
   "source": [
    "df.raw_title[:10]"
   ]
  },
  {
   "cell_type": "code",
   "execution_count": 16,
   "metadata": {},
   "outputs": [],
   "source": [
    "df['title_clean'] = df['raw_title'].str.replace('|'.join(names), '',case=False)"
   ]
  },
  {
   "cell_type": "code",
   "execution_count": 17,
   "metadata": {},
   "outputs": [
    {
     "data": {
      "text/html": [
       "<div>\n",
       "<style scoped>\n",
       "    .dataframe tbody tr th:only-of-type {\n",
       "        vertical-align: middle;\n",
       "    }\n",
       "\n",
       "    .dataframe tbody tr th {\n",
       "        vertical-align: top;\n",
       "    }\n",
       "\n",
       "    .dataframe thead th {\n",
       "        text-align: right;\n",
       "    }\n",
       "</style>\n",
       "<table border=\"1\" class=\"dataframe\">\n",
       "  <thead>\n",
       "    <tr style=\"text-align: right;\">\n",
       "      <th></th>\n",
       "      <th>name</th>\n",
       "      <th>raw_title</th>\n",
       "      <th>summary</th>\n",
       "      <th>transcript</th>\n",
       "      <th>link</th>\n",
       "      <th>year</th>\n",
       "      <th>title_clean</th>\n",
       "    </tr>\n",
       "  </thead>\n",
       "  <tbody>\n",
       "    <tr>\n",
       "      <th>0</th>\n",
       "      <td>Nikki Glaser</td>\n",
       "      <td>Nikki Glaser: Bangin’ (2019) – Full Transcript</td>\n",
       "      <td>A NETFLIX ORIGINAL COMEDY SPECIAL Thank you! T...</td>\n",
       "      <td>A NETFLIX ORIGINAL COMEDY SPECIAL\\nThank you! ...</td>\n",
       "      <td>https://scrapsfromtheloft.com/2019/10/04/nikki...</td>\n",
       "      <td>2019</td>\n",
       "      <td>: Bangin’ (2019) – Full Transcript</td>\n",
       "    </tr>\n",
       "    <tr>\n",
       "      <th>1</th>\n",
       "      <td>Ryan Hamilton</td>\n",
       "      <td>Ryan Hamilton Stand-Up – The Tonight Show Star...</td>\n",
       "      <td>Ryan Hamilton makes his Tonight Show debut wit...</td>\n",
       "      <td>Published on Sep 11, 2019\\nThe Tonight Show St...</td>\n",
       "      <td>https://scrapsfromtheloft.com/2019/09/25/ryan-...</td>\n",
       "      <td>2019</td>\n",
       "      <td>Stand-Up – The Tonight Show Starring Jimmy Fa...</td>\n",
       "    </tr>\n",
       "    <tr>\n",
       "      <th>2</th>\n",
       "      <td>Mark Normandthe Tonight Show Starring Jimmy Fa...</td>\n",
       "      <td>Mark Normand Stand-Up – The Tonight Show Starr...</td>\n",
       "      <td>Mark Normand is back on The Tonight Show with ...</td>\n",
       "      <td>Aired on September 19, 2019\\nHey, hey. All rig...</td>\n",
       "      <td>https://scrapsfromtheloft.com/2019/09/21/mark-...</td>\n",
       "      <td>2019</td>\n",
       "      <td>Mark Normand Stand-Up – The Tonight Show Starr...</td>\n",
       "    </tr>\n",
       "    <tr>\n",
       "      <th>3</th>\n",
       "      <td>George Carlin</td>\n",
       "      <td>George Carlin: Dumb Americans (2006) – Full Tr...</td>\n",
       "      <td>Full transcript of George Carlin's \"Dumb Ameri...</td>\n",
       "      <td>From Life Is Worth Losing\\nRecorded on Novembe...</td>\n",
       "      <td>https://scrapsfromtheloft.com/2019/09/12/georg...</td>\n",
       "      <td>2006</td>\n",
       "      <td>: Dumb Americans (2006) – Full Transcript</td>\n",
       "    </tr>\n",
       "    <tr>\n",
       "      <th>4</th>\n",
       "      <td>Bill Burr</td>\n",
       "      <td>Bill Burr: Paper Tiger (2019) – Full Transcript</td>\n",
       "      <td>Only a few weeks after Dave Chappelle's \"Stick...</td>\n",
       "      <td>Recorded Live at the Royal Albert Hall, London...</td>\n",
       "      <td>https://scrapsfromtheloft.com/2019/09/10/bill-...</td>\n",
       "      <td>2019</td>\n",
       "      <td>: Paper Tiger (2019) – Full Transcript</td>\n",
       "    </tr>\n",
       "  </tbody>\n",
       "</table>\n",
       "</div>"
      ],
      "text/plain": [
       "                                                name  \\\n",
       "0                                       Nikki Glaser   \n",
       "1                                      Ryan Hamilton   \n",
       "2  Mark Normandthe Tonight Show Starring Jimmy Fa...   \n",
       "3                                      George Carlin   \n",
       "4                                          Bill Burr   \n",
       "\n",
       "                                           raw_title  \\\n",
       "0     Nikki Glaser: Bangin’ (2019) – Full Transcript   \n",
       "1  Ryan Hamilton Stand-Up – The Tonight Show Star...   \n",
       "2  Mark Normand Stand-Up – The Tonight Show Starr...   \n",
       "3  George Carlin: Dumb Americans (2006) – Full Tr...   \n",
       "4    Bill Burr: Paper Tiger (2019) – Full Transcript   \n",
       "\n",
       "                                             summary  \\\n",
       "0  A NETFLIX ORIGINAL COMEDY SPECIAL Thank you! T...   \n",
       "1  Ryan Hamilton makes his Tonight Show debut wit...   \n",
       "2  Mark Normand is back on The Tonight Show with ...   \n",
       "3  Full transcript of George Carlin's \"Dumb Ameri...   \n",
       "4  Only a few weeks after Dave Chappelle's \"Stick...   \n",
       "\n",
       "                                          transcript  \\\n",
       "0  A NETFLIX ORIGINAL COMEDY SPECIAL\\nThank you! ...   \n",
       "1  Published on Sep 11, 2019\\nThe Tonight Show St...   \n",
       "2  Aired on September 19, 2019\\nHey, hey. All rig...   \n",
       "3  From Life Is Worth Losing\\nRecorded on Novembe...   \n",
       "4  Recorded Live at the Royal Albert Hall, London...   \n",
       "\n",
       "                                                link  year  \\\n",
       "0  https://scrapsfromtheloft.com/2019/10/04/nikki...  2019   \n",
       "1  https://scrapsfromtheloft.com/2019/09/25/ryan-...  2019   \n",
       "2  https://scrapsfromtheloft.com/2019/09/21/mark-...  2019   \n",
       "3  https://scrapsfromtheloft.com/2019/09/12/georg...  2006   \n",
       "4  https://scrapsfromtheloft.com/2019/09/10/bill-...  2019   \n",
       "\n",
       "                                         title_clean  \n",
       "0                 : Bangin’ (2019) – Full Transcript  \n",
       "1   Stand-Up – The Tonight Show Starring Jimmy Fa...  \n",
       "2  Mark Normand Stand-Up – The Tonight Show Starr...  \n",
       "3          : Dumb Americans (2006) – Full Transcript  \n",
       "4             : Paper Tiger (2019) – Full Transcript  "
      ]
     },
     "execution_count": 17,
     "metadata": {},
     "output_type": "execute_result"
    }
   ],
   "source": [
    "df.head()"
   ]
  },
  {
   "cell_type": "code",
   "execution_count": 19,
   "metadata": {},
   "outputs": [
    {
     "data": {
      "text/plain": [
       "George Carlin     22\n",
       "Dave Chappelle    12\n",
       "Louis C.K.        10\n",
       "Jim Jefferies      8\n",
       "Ricky Gervais      7\n",
       "Bill Burr          7\n",
       "Chris Rock         6\n",
       "Richard Pryor      5\n",
       "Kevin Hart         5\n",
       "Doug Stanhope      5\n",
       "Name: name, dtype: int64"
      ]
     },
     "execution_count": 19,
     "metadata": {},
     "output_type": "execute_result"
    }
   ],
   "source": [
    "df.name.value_counts()[:10]"
   ]
  },
  {
   "cell_type": "markdown",
   "metadata": {},
   "source": [
    "## remove `full_transcript`\n",
    "- `title_clean` contains the  several versions of the string `full_transcipt`\n",
    "- remove it by replacing it with an empty string"
   ]
  },
  {
   "cell_type": "code",
   "execution_count": 20,
   "metadata": {},
   "outputs": [],
   "source": [
    "df['title_clean'] = df.title_clean.str.replace('– Full Transcript|Full Transcript|Transcript','',case=False)"
   ]
  },
  {
   "cell_type": "code",
   "execution_count": 21,
   "metadata": {},
   "outputs": [
    {
     "data": {
      "text/plain": [
       "0                                    : Bangin’ (2019) \n",
       "1     Stand-Up – The Tonight Show Starring Jimmy Fa...\n",
       "2    Mark Normand Stand-Up – The Tonight Show Starr...\n",
       "3                             : Dumb Americans (2006) \n",
       "4                                : Paper Tiger (2019) \n",
       "Name: title_clean, dtype: object"
      ]
     },
     "execution_count": 21,
     "metadata": {},
     "output_type": "execute_result"
    }
   ],
   "source": [
    "df.title_clean.head()"
   ]
  },
  {
   "cell_type": "markdown",
   "metadata": {},
   "source": [
    "## Remove year\n",
    "- since we extracted the year already,we can remove it\n",
    "- regex extract 4 digits incase in parenthesis\n",
    "- `(####)`"
   ]
  },
  {
   "cell_type": "code",
   "execution_count": 22,
   "metadata": {},
   "outputs": [],
   "source": [
    "#yr_patt = r'\\((.*?)\\)'\n",
    "regex_pat = re.compile(r'\\((.*?)\\)', flags=re.IGNORECASE)\n",
    "\n",
    "df['title_clean'] = df.title_clean.str.replace(regex_pat, '')"
   ]
  },
  {
   "cell_type": "code",
   "execution_count": 23,
   "metadata": {},
   "outputs": [
    {
     "data": {
      "text/plain": [
       "0                                          : Bangin’  \n",
       "1     Stand-Up – The Tonight Show Starring Jimmy Fa...\n",
       "2    Mark Normand Stand-Up – The Tonight Show Starr...\n",
       "3                                   : Dumb Americans  \n",
       "4                                      : Paper Tiger  \n",
       "Name: title_clean, dtype: object"
      ]
     },
     "execution_count": 23,
     "metadata": {},
     "output_type": "execute_result"
    }
   ],
   "source": [
    "df.title_clean.head()"
   ]
  },
  {
   "cell_type": "code",
   "execution_count": null,
   "metadata": {},
   "outputs": [],
   "source": [
    "#.title_03.str.title()\n",
    "#df.title_03.str.split(':',expand=True)"
   ]
  },
  {
   "cell_type": "markdown",
   "metadata": {},
   "source": [
    "# Remove random chars\n",
    "- `:`\n",
    "- `-`\n"
   ]
  },
  {
   "cell_type": "code",
   "execution_count": 24,
   "metadata": {},
   "outputs": [],
   "source": [
    "df['title_clean'] = df.title_clean.str.replace(':|–','')"
   ]
  },
  {
   "cell_type": "code",
   "execution_count": 25,
   "metadata": {},
   "outputs": [
    {
     "data": {
      "text/plain": [
       "0                                            Bangin’  \n",
       "1     Stand-Up  The Tonight Show Starring Jimmy Fal...\n",
       "2    Mark Normand Stand-Up  The Tonight Show Starri...\n",
       "3                                     Dumb Americans  \n",
       "4                                        Paper Tiger  \n",
       "Name: title_clean, dtype: object"
      ]
     },
     "execution_count": 25,
     "metadata": {},
     "output_type": "execute_result"
    }
   ],
   "source": [
    "df.title_clean.head()"
   ]
  },
  {
   "cell_type": "markdown",
   "metadata": {},
   "source": [
    "## REmove brackets\n",
    "- [###]"
   ]
  },
  {
   "cell_type": "code",
   "execution_count": 26,
   "metadata": {},
   "outputs": [],
   "source": [
    "#yr_patt = r'\\((.*?)\\)'\n",
    "regex_pat = re.compile(r'\\[(.*?)\\]', flags=re.IGNORECASE)\n",
    "\n",
    "df['title_clean'] = df.title_clean.str.replace(regex_pat, '')"
   ]
  },
  {
   "cell_type": "code",
   "execution_count": 27,
   "metadata": {},
   "outputs": [
    {
     "data": {
      "text/plain": [
       "0                                            Bangin’  \n",
       "1     Stand-Up  The Tonight Show Starring Jimmy Fal...\n",
       "2    Mark Normand Stand-Up  The Tonight Show Starri...\n",
       "3                                     Dumb Americans  \n",
       "4                                        Paper Tiger  \n",
       "Name: title_clean, dtype: object"
      ]
     },
     "execution_count": 27,
     "metadata": {},
     "output_type": "execute_result"
    }
   ],
   "source": [
    "df.title_clean.head()"
   ]
  },
  {
   "cell_type": "markdown",
   "metadata": {},
   "source": [
    "## Rename \n",
    "- rename `Saturday Night Live`  to `SNL`"
   ]
  },
  {
   "cell_type": "code",
   "execution_count": 28,
   "metadata": {},
   "outputs": [],
   "source": [
    "df['title_clean'] = df.title_clean.str.replace('Saturday Night Live|Snl','SNL',case=False)"
   ]
  },
  {
   "cell_type": "code",
   "execution_count": 29,
   "metadata": {},
   "outputs": [
    {
     "data": {
      "text/plain": [
       "0                                            Bangin’  \n",
       "1     Stand-Up  The Tonight Show Starring Jimmy Fal...\n",
       "2    Mark Normand Stand-Up  The Tonight Show Starri...\n",
       "3                                     Dumb Americans  \n",
       "4                                        Paper Tiger  \n",
       "Name: title_clean, dtype: object"
      ]
     },
     "execution_count": 29,
     "metadata": {},
     "output_type": "execute_result"
    }
   ],
   "source": [
    "df.title_clean.head()"
   ]
  },
  {
   "cell_type": "markdown",
   "metadata": {},
   "source": [
    "## REmove names\n",
    "- Some names could not be removed from the title column\n",
    "- have to do it \"manually\""
   ]
  },
  {
   "cell_type": "code",
   "execution_count": 30,
   "metadata": {},
   "outputs": [],
   "source": [
    "names_other = [\n",
    "    'Gabriel “Fluffy” Iglesias',\n",
    "    '& Larry The Cable Guy',\n",
    "    'David Chappelle',\n",
    "    'Patrice O’Neal',\n",
    "]\n",
    "df['title_clean'] = df['title_clean'].str.replace('|'.join(names_other), '',case=False)"
   ]
  },
  {
   "cell_type": "code",
   "execution_count": 31,
   "metadata": {},
   "outputs": [
    {
     "data": {
      "text/html": [
       "<div>\n",
       "<style scoped>\n",
       "    .dataframe tbody tr th:only-of-type {\n",
       "        vertical-align: middle;\n",
       "    }\n",
       "\n",
       "    .dataframe tbody tr th {\n",
       "        vertical-align: top;\n",
       "    }\n",
       "\n",
       "    .dataframe thead th {\n",
       "        text-align: right;\n",
       "    }\n",
       "</style>\n",
       "<table border=\"1\" class=\"dataframe\">\n",
       "  <thead>\n",
       "    <tr style=\"text-align: right;\">\n",
       "      <th></th>\n",
       "      <th>name</th>\n",
       "      <th>raw_title</th>\n",
       "      <th>summary</th>\n",
       "      <th>transcript</th>\n",
       "      <th>link</th>\n",
       "      <th>year</th>\n",
       "      <th>title_clean</th>\n",
       "    </tr>\n",
       "  </thead>\n",
       "  <tbody>\n",
       "    <tr>\n",
       "      <th>0</th>\n",
       "      <td>Nikki Glaser</td>\n",
       "      <td>Nikki Glaser: Bangin’ (2019) – Full Transcript</td>\n",
       "      <td>A NETFLIX ORIGINAL COMEDY SPECIAL Thank you! T...</td>\n",
       "      <td>A NETFLIX ORIGINAL COMEDY SPECIAL\\nThank you! ...</td>\n",
       "      <td>https://scrapsfromtheloft.com/2019/10/04/nikki...</td>\n",
       "      <td>2019</td>\n",
       "      <td>Bangin’</td>\n",
       "    </tr>\n",
       "    <tr>\n",
       "      <th>1</th>\n",
       "      <td>Ryan Hamilton</td>\n",
       "      <td>Ryan Hamilton Stand-Up – The Tonight Show Star...</td>\n",
       "      <td>Ryan Hamilton makes his Tonight Show debut wit...</td>\n",
       "      <td>Published on Sep 11, 2019\\nThe Tonight Show St...</td>\n",
       "      <td>https://scrapsfromtheloft.com/2019/09/25/ryan-...</td>\n",
       "      <td>2019</td>\n",
       "      <td>Stand-Up  The Tonight Show Starring Jimmy Fal...</td>\n",
       "    </tr>\n",
       "    <tr>\n",
       "      <th>2</th>\n",
       "      <td>Mark Normandthe Tonight Show Starring Jimmy Fa...</td>\n",
       "      <td>Mark Normand Stand-Up – The Tonight Show Starr...</td>\n",
       "      <td>Mark Normand is back on The Tonight Show with ...</td>\n",
       "      <td>Aired on September 19, 2019\\nHey, hey. All rig...</td>\n",
       "      <td>https://scrapsfromtheloft.com/2019/09/21/mark-...</td>\n",
       "      <td>2019</td>\n",
       "      <td>Mark Normand Stand-Up  The Tonight Show Starri...</td>\n",
       "    </tr>\n",
       "    <tr>\n",
       "      <th>3</th>\n",
       "      <td>George Carlin</td>\n",
       "      <td>George Carlin: Dumb Americans (2006) – Full Tr...</td>\n",
       "      <td>Full transcript of George Carlin's \"Dumb Ameri...</td>\n",
       "      <td>From Life Is Worth Losing\\nRecorded on Novembe...</td>\n",
       "      <td>https://scrapsfromtheloft.com/2019/09/12/georg...</td>\n",
       "      <td>2006</td>\n",
       "      <td>Dumb Americans</td>\n",
       "    </tr>\n",
       "    <tr>\n",
       "      <th>4</th>\n",
       "      <td>Bill Burr</td>\n",
       "      <td>Bill Burr: Paper Tiger (2019) – Full Transcript</td>\n",
       "      <td>Only a few weeks after Dave Chappelle's \"Stick...</td>\n",
       "      <td>Recorded Live at the Royal Albert Hall, London...</td>\n",
       "      <td>https://scrapsfromtheloft.com/2019/09/10/bill-...</td>\n",
       "      <td>2019</td>\n",
       "      <td>Paper Tiger</td>\n",
       "    </tr>\n",
       "  </tbody>\n",
       "</table>\n",
       "</div>"
      ],
      "text/plain": [
       "                                                name  \\\n",
       "0                                       Nikki Glaser   \n",
       "1                                      Ryan Hamilton   \n",
       "2  Mark Normandthe Tonight Show Starring Jimmy Fa...   \n",
       "3                                      George Carlin   \n",
       "4                                          Bill Burr   \n",
       "\n",
       "                                           raw_title  \\\n",
       "0     Nikki Glaser: Bangin’ (2019) – Full Transcript   \n",
       "1  Ryan Hamilton Stand-Up – The Tonight Show Star...   \n",
       "2  Mark Normand Stand-Up – The Tonight Show Starr...   \n",
       "3  George Carlin: Dumb Americans (2006) – Full Tr...   \n",
       "4    Bill Burr: Paper Tiger (2019) – Full Transcript   \n",
       "\n",
       "                                             summary  \\\n",
       "0  A NETFLIX ORIGINAL COMEDY SPECIAL Thank you! T...   \n",
       "1  Ryan Hamilton makes his Tonight Show debut wit...   \n",
       "2  Mark Normand is back on The Tonight Show with ...   \n",
       "3  Full transcript of George Carlin's \"Dumb Ameri...   \n",
       "4  Only a few weeks after Dave Chappelle's \"Stick...   \n",
       "\n",
       "                                          transcript  \\\n",
       "0  A NETFLIX ORIGINAL COMEDY SPECIAL\\nThank you! ...   \n",
       "1  Published on Sep 11, 2019\\nThe Tonight Show St...   \n",
       "2  Aired on September 19, 2019\\nHey, hey. All rig...   \n",
       "3  From Life Is Worth Losing\\nRecorded on Novembe...   \n",
       "4  Recorded Live at the Royal Albert Hall, London...   \n",
       "\n",
       "                                                link  year  \\\n",
       "0  https://scrapsfromtheloft.com/2019/10/04/nikki...  2019   \n",
       "1  https://scrapsfromtheloft.com/2019/09/25/ryan-...  2019   \n",
       "2  https://scrapsfromtheloft.com/2019/09/21/mark-...  2019   \n",
       "3  https://scrapsfromtheloft.com/2019/09/12/georg...  2006   \n",
       "4  https://scrapsfromtheloft.com/2019/09/10/bill-...  2019   \n",
       "\n",
       "                                         title_clean  \n",
       "0                                          Bangin’    \n",
       "1   Stand-Up  The Tonight Show Starring Jimmy Fal...  \n",
       "2  Mark Normand Stand-Up  The Tonight Show Starri...  \n",
       "3                                   Dumb Americans    \n",
       "4                                      Paper Tiger    "
      ]
     },
     "execution_count": 31,
     "metadata": {},
     "output_type": "execute_result"
    }
   ],
   "source": [
    "df.head()"
   ]
  },
  {
   "cell_type": "code",
   "execution_count": 33,
   "metadata": {},
   "outputs": [
    {
     "data": {
      "text/plain": [
       "array([' Bangin’  ',\n",
       "       ' Stand-Up  The Tonight Show Starring Jimmy Fallon  ',\n",
       "       'Mark Normand Stand-Up  The Tonight Show Starring Jimmy Fallon  ',\n",
       "       ' Dumb Americans  ', ' Paper Tiger  ',\n",
       "       ' Sticks And Stones | Epilogue The Punchline ',\n",
       "       'Brazil, Corruption And The Amazon Rainforest | Patriot Act With  ',\n",
       "       ' Sticks & Stones  ', ' Ice Thickeners  ', ' Oh Come On  '],\n",
       "      dtype=object)"
      ]
     },
     "execution_count": 33,
     "metadata": {},
     "output_type": "execute_result"
    }
   ],
   "source": [
    "df.title_clean.unique()[:10]"
   ]
  },
  {
   "cell_type": "code",
   "execution_count": 34,
   "metadata": {},
   "outputs": [],
   "source": [
    "# remove any whitespace from title\n",
    "df['title_clean'] = df['title_clean'].str.strip()"
   ]
  },
  {
   "cell_type": "code",
   "execution_count": 36,
   "metadata": {},
   "outputs": [
    {
     "data": {
      "text/plain": [
       "array(['Bangin’', 'Stand-Up  The Tonight Show Starring Jimmy Fallon',\n",
       "       'Mark Normand Stand-Up  The Tonight Show Starring Jimmy Fallon',\n",
       "       'Dumb Americans', 'Paper Tiger',\n",
       "       'Sticks And Stones | Epilogue The Punchline',\n",
       "       'Brazil, Corruption And The Amazon Rainforest | Patriot Act With',\n",
       "       'Sticks & Stones', 'Ice Thickeners', 'Oh Come On'], dtype=object)"
      ]
     },
     "execution_count": 36,
     "metadata": {},
     "output_type": "execute_result"
    }
   ],
   "source": [
    "df.title_clean.unique()[:10]"
   ]
  },
  {
   "cell_type": "markdown",
   "metadata": {},
   "source": [
    "## Drop unused columns\n",
    "- only select our final 6 columns"
   ]
  },
  {
   "cell_type": "code",
   "execution_count": 37,
   "metadata": {},
   "outputs": [],
   "source": [
    "## Select columns\n",
    "df = df[['name','title_clean','summary','year','transcript','link']]"
   ]
  },
  {
   "cell_type": "code",
   "execution_count": 38,
   "metadata": {},
   "outputs": [
    {
     "data": {
      "text/html": [
       "<div>\n",
       "<style scoped>\n",
       "    .dataframe tbody tr th:only-of-type {\n",
       "        vertical-align: middle;\n",
       "    }\n",
       "\n",
       "    .dataframe tbody tr th {\n",
       "        vertical-align: top;\n",
       "    }\n",
       "\n",
       "    .dataframe thead th {\n",
       "        text-align: right;\n",
       "    }\n",
       "</style>\n",
       "<table border=\"1\" class=\"dataframe\">\n",
       "  <thead>\n",
       "    <tr style=\"text-align: right;\">\n",
       "      <th></th>\n",
       "      <th>name</th>\n",
       "      <th>title_clean</th>\n",
       "      <th>summary</th>\n",
       "      <th>year</th>\n",
       "      <th>transcript</th>\n",
       "      <th>link</th>\n",
       "    </tr>\n",
       "  </thead>\n",
       "  <tbody>\n",
       "    <tr>\n",
       "      <th>0</th>\n",
       "      <td>Nikki Glaser</td>\n",
       "      <td>Bangin’</td>\n",
       "      <td>A NETFLIX ORIGINAL COMEDY SPECIAL Thank you! T...</td>\n",
       "      <td>2019</td>\n",
       "      <td>A NETFLIX ORIGINAL COMEDY SPECIAL\\nThank you! ...</td>\n",
       "      <td>https://scrapsfromtheloft.com/2019/10/04/nikki...</td>\n",
       "    </tr>\n",
       "    <tr>\n",
       "      <th>1</th>\n",
       "      <td>Ryan Hamilton</td>\n",
       "      <td>Stand-Up  The Tonight Show Starring Jimmy Fallon</td>\n",
       "      <td>Ryan Hamilton makes his Tonight Show debut wit...</td>\n",
       "      <td>2019</td>\n",
       "      <td>Published on Sep 11, 2019\\nThe Tonight Show St...</td>\n",
       "      <td>https://scrapsfromtheloft.com/2019/09/25/ryan-...</td>\n",
       "    </tr>\n",
       "    <tr>\n",
       "      <th>2</th>\n",
       "      <td>Mark Normandthe Tonight Show Starring Jimmy Fa...</td>\n",
       "      <td>Mark Normand Stand-Up  The Tonight Show Starri...</td>\n",
       "      <td>Mark Normand is back on The Tonight Show with ...</td>\n",
       "      <td>2019</td>\n",
       "      <td>Aired on September 19, 2019\\nHey, hey. All rig...</td>\n",
       "      <td>https://scrapsfromtheloft.com/2019/09/21/mark-...</td>\n",
       "    </tr>\n",
       "    <tr>\n",
       "      <th>3</th>\n",
       "      <td>George Carlin</td>\n",
       "      <td>Dumb Americans</td>\n",
       "      <td>Full transcript of George Carlin's \"Dumb Ameri...</td>\n",
       "      <td>2006</td>\n",
       "      <td>From Life Is Worth Losing\\nRecorded on Novembe...</td>\n",
       "      <td>https://scrapsfromtheloft.com/2019/09/12/georg...</td>\n",
       "    </tr>\n",
       "    <tr>\n",
       "      <th>4</th>\n",
       "      <td>Bill Burr</td>\n",
       "      <td>Paper Tiger</td>\n",
       "      <td>Only a few weeks after Dave Chappelle's \"Stick...</td>\n",
       "      <td>2019</td>\n",
       "      <td>Recorded Live at the Royal Albert Hall, London...</td>\n",
       "      <td>https://scrapsfromtheloft.com/2019/09/10/bill-...</td>\n",
       "    </tr>\n",
       "  </tbody>\n",
       "</table>\n",
       "</div>"
      ],
      "text/plain": [
       "                                                name  \\\n",
       "0                                       Nikki Glaser   \n",
       "1                                      Ryan Hamilton   \n",
       "2  Mark Normandthe Tonight Show Starring Jimmy Fa...   \n",
       "3                                      George Carlin   \n",
       "4                                          Bill Burr   \n",
       "\n",
       "                                         title_clean  \\\n",
       "0                                            Bangin’   \n",
       "1   Stand-Up  The Tonight Show Starring Jimmy Fallon   \n",
       "2  Mark Normand Stand-Up  The Tonight Show Starri...   \n",
       "3                                     Dumb Americans   \n",
       "4                                        Paper Tiger   \n",
       "\n",
       "                                             summary  year  \\\n",
       "0  A NETFLIX ORIGINAL COMEDY SPECIAL Thank you! T...  2019   \n",
       "1  Ryan Hamilton makes his Tonight Show debut wit...  2019   \n",
       "2  Mark Normand is back on The Tonight Show with ...  2019   \n",
       "3  Full transcript of George Carlin's \"Dumb Ameri...  2006   \n",
       "4  Only a few weeks after Dave Chappelle's \"Stick...  2019   \n",
       "\n",
       "                                          transcript  \\\n",
       "0  A NETFLIX ORIGINAL COMEDY SPECIAL\\nThank you! ...   \n",
       "1  Published on Sep 11, 2019\\nThe Tonight Show St...   \n",
       "2  Aired on September 19, 2019\\nHey, hey. All rig...   \n",
       "3  From Life Is Worth Losing\\nRecorded on Novembe...   \n",
       "4  Recorded Live at the Royal Albert Hall, London...   \n",
       "\n",
       "                                                link  \n",
       "0  https://scrapsfromtheloft.com/2019/10/04/nikki...  \n",
       "1  https://scrapsfromtheloft.com/2019/09/25/ryan-...  \n",
       "2  https://scrapsfromtheloft.com/2019/09/21/mark-...  \n",
       "3  https://scrapsfromtheloft.com/2019/09/12/georg...  \n",
       "4  https://scrapsfromtheloft.com/2019/09/10/bill-...  "
      ]
     },
     "execution_count": 38,
     "metadata": {},
     "output_type": "execute_result"
    }
   ],
   "source": [
    "df.head()"
   ]
  },
  {
   "cell_type": "code",
   "execution_count": 39,
   "metadata": {},
   "outputs": [],
   "source": [
    "# rename col\n",
    "df.rename(columns={\"title_clean\": \"title\"},inplace=True)"
   ]
  },
  {
   "cell_type": "code",
   "execution_count": 40,
   "metadata": {},
   "outputs": [
    {
     "data": {
      "text/html": [
       "<div>\n",
       "<style scoped>\n",
       "    .dataframe tbody tr th:only-of-type {\n",
       "        vertical-align: middle;\n",
       "    }\n",
       "\n",
       "    .dataframe tbody tr th {\n",
       "        vertical-align: top;\n",
       "    }\n",
       "\n",
       "    .dataframe thead th {\n",
       "        text-align: right;\n",
       "    }\n",
       "</style>\n",
       "<table border=\"1\" class=\"dataframe\">\n",
       "  <thead>\n",
       "    <tr style=\"text-align: right;\">\n",
       "      <th></th>\n",
       "      <th>name</th>\n",
       "      <th>title</th>\n",
       "      <th>summary</th>\n",
       "      <th>year</th>\n",
       "      <th>transcript</th>\n",
       "      <th>link</th>\n",
       "    </tr>\n",
       "  </thead>\n",
       "  <tbody>\n",
       "    <tr>\n",
       "      <th>0</th>\n",
       "      <td>Nikki Glaser</td>\n",
       "      <td>Bangin’</td>\n",
       "      <td>A NETFLIX ORIGINAL COMEDY SPECIAL Thank you! T...</td>\n",
       "      <td>2019</td>\n",
       "      <td>A NETFLIX ORIGINAL COMEDY SPECIAL\\nThank you! ...</td>\n",
       "      <td>https://scrapsfromtheloft.com/2019/10/04/nikki...</td>\n",
       "    </tr>\n",
       "    <tr>\n",
       "      <th>1</th>\n",
       "      <td>Ryan Hamilton</td>\n",
       "      <td>Stand-Up  The Tonight Show Starring Jimmy Fallon</td>\n",
       "      <td>Ryan Hamilton makes his Tonight Show debut wit...</td>\n",
       "      <td>2019</td>\n",
       "      <td>Published on Sep 11, 2019\\nThe Tonight Show St...</td>\n",
       "      <td>https://scrapsfromtheloft.com/2019/09/25/ryan-...</td>\n",
       "    </tr>\n",
       "    <tr>\n",
       "      <th>2</th>\n",
       "      <td>Mark Normandthe Tonight Show Starring Jimmy Fa...</td>\n",
       "      <td>Mark Normand Stand-Up  The Tonight Show Starri...</td>\n",
       "      <td>Mark Normand is back on The Tonight Show with ...</td>\n",
       "      <td>2019</td>\n",
       "      <td>Aired on September 19, 2019\\nHey, hey. All rig...</td>\n",
       "      <td>https://scrapsfromtheloft.com/2019/09/21/mark-...</td>\n",
       "    </tr>\n",
       "    <tr>\n",
       "      <th>3</th>\n",
       "      <td>George Carlin</td>\n",
       "      <td>Dumb Americans</td>\n",
       "      <td>Full transcript of George Carlin's \"Dumb Ameri...</td>\n",
       "      <td>2006</td>\n",
       "      <td>From Life Is Worth Losing\\nRecorded on Novembe...</td>\n",
       "      <td>https://scrapsfromtheloft.com/2019/09/12/georg...</td>\n",
       "    </tr>\n",
       "    <tr>\n",
       "      <th>4</th>\n",
       "      <td>Bill Burr</td>\n",
       "      <td>Paper Tiger</td>\n",
       "      <td>Only a few weeks after Dave Chappelle's \"Stick...</td>\n",
       "      <td>2019</td>\n",
       "      <td>Recorded Live at the Royal Albert Hall, London...</td>\n",
       "      <td>https://scrapsfromtheloft.com/2019/09/10/bill-...</td>\n",
       "    </tr>\n",
       "  </tbody>\n",
       "</table>\n",
       "</div>"
      ],
      "text/plain": [
       "                                                name  \\\n",
       "0                                       Nikki Glaser   \n",
       "1                                      Ryan Hamilton   \n",
       "2  Mark Normandthe Tonight Show Starring Jimmy Fa...   \n",
       "3                                      George Carlin   \n",
       "4                                          Bill Burr   \n",
       "\n",
       "                                               title  \\\n",
       "0                                            Bangin’   \n",
       "1   Stand-Up  The Tonight Show Starring Jimmy Fallon   \n",
       "2  Mark Normand Stand-Up  The Tonight Show Starri...   \n",
       "3                                     Dumb Americans   \n",
       "4                                        Paper Tiger   \n",
       "\n",
       "                                             summary  year  \\\n",
       "0  A NETFLIX ORIGINAL COMEDY SPECIAL Thank you! T...  2019   \n",
       "1  Ryan Hamilton makes his Tonight Show debut wit...  2019   \n",
       "2  Mark Normand is back on The Tonight Show with ...  2019   \n",
       "3  Full transcript of George Carlin's \"Dumb Ameri...  2006   \n",
       "4  Only a few weeks after Dave Chappelle's \"Stick...  2019   \n",
       "\n",
       "                                          transcript  \\\n",
       "0  A NETFLIX ORIGINAL COMEDY SPECIAL\\nThank you! ...   \n",
       "1  Published on Sep 11, 2019\\nThe Tonight Show St...   \n",
       "2  Aired on September 19, 2019\\nHey, hey. All rig...   \n",
       "3  From Life Is Worth Losing\\nRecorded on Novembe...   \n",
       "4  Recorded Live at the Royal Albert Hall, London...   \n",
       "\n",
       "                                                link  \n",
       "0  https://scrapsfromtheloft.com/2019/10/04/nikki...  \n",
       "1  https://scrapsfromtheloft.com/2019/09/25/ryan-...  \n",
       "2  https://scrapsfromtheloft.com/2019/09/21/mark-...  \n",
       "3  https://scrapsfromtheloft.com/2019/09/12/georg...  \n",
       "4  https://scrapsfromtheloft.com/2019/09/10/bill-...  "
      ]
     },
     "execution_count": 40,
     "metadata": {},
     "output_type": "execute_result"
    }
   ],
   "source": [
    "df.head()"
   ]
  },
  {
   "cell_type": "code",
   "execution_count": null,
   "metadata": {},
   "outputs": [],
   "source": []
  },
  {
   "cell_type": "markdown",
   "metadata": {},
   "source": [
    "# Save"
   ]
  },
  {
   "cell_type": "code",
   "execution_count": 41,
   "metadata": {},
   "outputs": [],
   "source": [
    "file = '04_clean_data_OCT_19.csv'\n",
    "data_directory = os.path.join( '..','data','raw_data/{}'.format(file))"
   ]
  },
  {
   "cell_type": "code",
   "execution_count": 42,
   "metadata": {},
   "outputs": [],
   "source": [
    "df.to_csv(data_directory,index=False)"
   ]
  },
  {
   "cell_type": "code",
   "execution_count": null,
   "metadata": {},
   "outputs": [],
   "source": []
  }
 ],
 "metadata": {
  "kernelspec": {
   "display_name": "Python 3",
   "language": "python",
   "name": "python3"
  },
  "language_info": {
   "codemirror_mode": {
    "name": "ipython",
    "version": 3
   },
   "file_extension": ".py",
   "mimetype": "text/x-python",
   "name": "python",
   "nbconvert_exporter": "python",
   "pygments_lexer": "ipython3",
   "version": "3.7.4"
  }
 },
 "nbformat": 4,
 "nbformat_minor": 2
}
