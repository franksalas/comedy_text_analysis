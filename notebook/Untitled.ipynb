{
 "cells": [
  {
   "cell_type": "code",
   "execution_count": null,
   "metadata": {},
   "outputs": [],
   "source": []
  },
  {
   "cell_type": "code",
   "execution_count": 1,
   "metadata": {},
   "outputs": [],
   "source": [
    "import pandas as pd\n",
    "import numpy as np\n",
    "\n",
    "import matplotlib.pyplot as plt\n",
    "import os\n",
    "import re\n",
    "import string\n",
    "import seaborn as sns\n",
    "plt.style.use('ggplot')\n",
    "sns.set(rc={'figure.figsize':(10.7,4.27)})"
   ]
  },
  {
   "cell_type": "markdown",
   "metadata": {},
   "source": [
    "## Load Data"
   ]
  },
  {
   "cell_type": "code",
   "execution_count": 2,
   "metadata": {},
   "outputs": [],
   "source": [
    "# raw_data\n",
    "file = '05_clean_data.csv'\n",
    "data_directory = os.path.join( '..','data','raw_data/{}'.format(file))"
   ]
  },
  {
   "cell_type": "code",
   "execution_count": 3,
   "metadata": {},
   "outputs": [],
   "source": [
    "df = pd.read_csv(data_directory)"
   ]
  },
  {
   "cell_type": "code",
   "execution_count": 4,
   "metadata": {},
   "outputs": [
    {
     "data": {
      "text/html": [
       "<div>\n",
       "<style scoped>\n",
       "    .dataframe tbody tr th:only-of-type {\n",
       "        vertical-align: middle;\n",
       "    }\n",
       "\n",
       "    .dataframe tbody tr th {\n",
       "        vertical-align: top;\n",
       "    }\n",
       "\n",
       "    .dataframe thead th {\n",
       "        text-align: right;\n",
       "    }\n",
       "</style>\n",
       "<table border=\"1\" class=\"dataframe\">\n",
       "  <thead>\n",
       "    <tr style=\"text-align: right;\">\n",
       "      <th></th>\n",
       "      <th>name</th>\n",
       "      <th>title</th>\n",
       "      <th>summary</th>\n",
       "      <th>year</th>\n",
       "      <th>transcript</th>\n",
       "      <th>link</th>\n",
       "      <th>len_transcript</th>\n",
       "      <th>dob</th>\n",
       "      <th>sex</th>\n",
       "      <th>age_when_recorded</th>\n",
       "    </tr>\n",
       "  </thead>\n",
       "  <tbody>\n",
       "    <tr>\n",
       "      <th>0</th>\n",
       "      <td>Enissa Amani</td>\n",
       "      <td>Ehrenwort</td>\n",
       "      <td>Live from Hamburg, Iranian-German comedian Eni...</td>\n",
       "      <td>2018</td>\n",
       "      <td>A NETFLIX ORIGINAL COMEDY SPECIAL\\nHey, what’s...</td>\n",
       "      <td>https://scrapsfromtheloft.com/2019/02/19/eniss...</td>\n",
       "      <td>55660</td>\n",
       "      <td>1981-01-01</td>\n",
       "      <td>Male</td>\n",
       "      <td>37</td>\n",
       "    </tr>\n",
       "    <tr>\n",
       "      <th>1</th>\n",
       "      <td>Ken Jeong</td>\n",
       "      <td>You Complete Me, Ho</td>\n",
       "      <td>Filmed at the Ice House Comedy Club in Pasaden...</td>\n",
       "      <td>2019</td>\n",
       "      <td>The Hangover… Community… Dr. Ken… Crazy Rich A...</td>\n",
       "      <td>https://scrapsfromtheloft.com/2019/02/17/ken-j...</td>\n",
       "      <td>46046</td>\n",
       "      <td>1969-07-13</td>\n",
       "      <td>Male</td>\n",
       "      <td>50</td>\n",
       "    </tr>\n",
       "    <tr>\n",
       "      <th>2</th>\n",
       "      <td>Ray Romano</td>\n",
       "      <td>Right Here, Around The Corner</td>\n",
       "      <td>Ray Romano cut his stand-up teeth at the Comed...</td>\n",
       "      <td>2019</td>\n",
       "      <td>It’s been 23 years since I did a comedy specia...</td>\n",
       "      <td>https://scrapsfromtheloft.com/2019/02/12/ray-r...</td>\n",
       "      <td>41464</td>\n",
       "      <td>1957-12-21</td>\n",
       "      <td>Male</td>\n",
       "      <td>62</td>\n",
       "    </tr>\n",
       "    <tr>\n",
       "      <th>3</th>\n",
       "      <td>Gabriel Iglesias</td>\n",
       "      <td>One Show Fits All</td>\n",
       "      <td>In a new special from Houston, Gabriel \"Fluffy...</td>\n",
       "      <td>2019</td>\n",
       "      <td>[crowd chanting] Fluffy! Fluffy! [Fluffy shout...</td>\n",
       "      <td>https://scrapsfromtheloft.com/2019/01/30/gabri...</td>\n",
       "      <td>62291</td>\n",
       "      <td>1976-07-15</td>\n",
       "      <td>Male</td>\n",
       "      <td>43</td>\n",
       "    </tr>\n",
       "    <tr>\n",
       "      <th>4</th>\n",
       "      <td>Sebastian Maniscalco</td>\n",
       "      <td>Stay Hungry</td>\n",
       "      <td>Sebastian's captivating storytelling keeps the...</td>\n",
       "      <td>2019</td>\n",
       "      <td>[instrumental music plays] ♪ All right ♪ [scre...</td>\n",
       "      <td>https://scrapsfromtheloft.com/2019/01/29/sebas...</td>\n",
       "      <td>40766</td>\n",
       "      <td>1973-01-01</td>\n",
       "      <td>Male</td>\n",
       "      <td>46</td>\n",
       "    </tr>\n",
       "  </tbody>\n",
       "</table>\n",
       "</div>"
      ],
      "text/plain": [
       "                   name                          title  \\\n",
       "0          Enissa Amani                      Ehrenwort   \n",
       "1             Ken Jeong            You Complete Me, Ho   \n",
       "2            Ray Romano  Right Here, Around The Corner   \n",
       "3      Gabriel Iglesias              One Show Fits All   \n",
       "4  Sebastian Maniscalco                    Stay Hungry   \n",
       "\n",
       "                                             summary  year  \\\n",
       "0  Live from Hamburg, Iranian-German comedian Eni...  2018   \n",
       "1  Filmed at the Ice House Comedy Club in Pasaden...  2019   \n",
       "2  Ray Romano cut his stand-up teeth at the Comed...  2019   \n",
       "3  In a new special from Houston, Gabriel \"Fluffy...  2019   \n",
       "4  Sebastian's captivating storytelling keeps the...  2019   \n",
       "\n",
       "                                          transcript  \\\n",
       "0  A NETFLIX ORIGINAL COMEDY SPECIAL\\nHey, what’s...   \n",
       "1  The Hangover… Community… Dr. Ken… Crazy Rich A...   \n",
       "2  It’s been 23 years since I did a comedy specia...   \n",
       "3  [crowd chanting] Fluffy! Fluffy! [Fluffy shout...   \n",
       "4  [instrumental music plays] ♪ All right ♪ [scre...   \n",
       "\n",
       "                                                link  len_transcript  \\\n",
       "0  https://scrapsfromtheloft.com/2019/02/19/eniss...           55660   \n",
       "1  https://scrapsfromtheloft.com/2019/02/17/ken-j...           46046   \n",
       "2  https://scrapsfromtheloft.com/2019/02/12/ray-r...           41464   \n",
       "3  https://scrapsfromtheloft.com/2019/01/30/gabri...           62291   \n",
       "4  https://scrapsfromtheloft.com/2019/01/29/sebas...           40766   \n",
       "\n",
       "          dob   sex  age_when_recorded  \n",
       "0  1981-01-01  Male                 37  \n",
       "1  1969-07-13  Male                 50  \n",
       "2  1957-12-21  Male                 62  \n",
       "3  1976-07-15  Male                 43  \n",
       "4  1973-01-01  Male                 46  "
      ]
     },
     "execution_count": 4,
     "metadata": {},
     "output_type": "execute_result"
    }
   ],
   "source": [
    "df.head()"
   ]
  },
  {
   "cell_type": "markdown",
   "metadata": {},
   "source": [
    "## Select name title and transcript"
   ]
  },
  {
   "cell_type": "code",
   "execution_count": 5,
   "metadata": {},
   "outputs": [],
   "source": [
    "data = df[['name','title','transcript']]"
   ]
  },
  {
   "cell_type": "code",
   "execution_count": 6,
   "metadata": {},
   "outputs": [
    {
     "name": "stdout",
     "output_type": "stream",
     "text": [
      "<class 'pandas.core.frame.DataFrame'>\n",
      "RangeIndex: 217 entries, 0 to 216\n",
      "Data columns (total 3 columns):\n",
      "name          217 non-null object\n",
      "title         217 non-null object\n",
      "transcript    217 non-null object\n",
      "dtypes: object(3)\n",
      "memory usage: 5.2+ KB\n"
     ]
    }
   ],
   "source": [
    "data.info()"
   ]
  },
  {
   "cell_type": "code",
   "execution_count": 7,
   "metadata": {},
   "outputs": [
    {
     "data": {
      "text/html": [
       "<div>\n",
       "<style scoped>\n",
       "    .dataframe tbody tr th:only-of-type {\n",
       "        vertical-align: middle;\n",
       "    }\n",
       "\n",
       "    .dataframe tbody tr th {\n",
       "        vertical-align: top;\n",
       "    }\n",
       "\n",
       "    .dataframe thead th {\n",
       "        text-align: right;\n",
       "    }\n",
       "</style>\n",
       "<table border=\"1\" class=\"dataframe\">\n",
       "  <thead>\n",
       "    <tr style=\"text-align: right;\">\n",
       "      <th></th>\n",
       "      <th>name</th>\n",
       "      <th>title</th>\n",
       "      <th>transcript</th>\n",
       "    </tr>\n",
       "  </thead>\n",
       "  <tbody>\n",
       "    <tr>\n",
       "      <th>0</th>\n",
       "      <td>Enissa Amani</td>\n",
       "      <td>Ehrenwort</td>\n",
       "      <td>A NETFLIX ORIGINAL COMEDY SPECIAL\\nHey, what’s...</td>\n",
       "    </tr>\n",
       "    <tr>\n",
       "      <th>1</th>\n",
       "      <td>Ken Jeong</td>\n",
       "      <td>You Complete Me, Ho</td>\n",
       "      <td>The Hangover… Community… Dr. Ken… Crazy Rich A...</td>\n",
       "    </tr>\n",
       "    <tr>\n",
       "      <th>2</th>\n",
       "      <td>Ray Romano</td>\n",
       "      <td>Right Here, Around The Corner</td>\n",
       "      <td>It’s been 23 years since I did a comedy specia...</td>\n",
       "    </tr>\n",
       "    <tr>\n",
       "      <th>3</th>\n",
       "      <td>Gabriel Iglesias</td>\n",
       "      <td>One Show Fits All</td>\n",
       "      <td>[crowd chanting] Fluffy! Fluffy! [Fluffy shout...</td>\n",
       "    </tr>\n",
       "    <tr>\n",
       "      <th>4</th>\n",
       "      <td>Sebastian Maniscalco</td>\n",
       "      <td>Stay Hungry</td>\n",
       "      <td>[instrumental music plays] ♪ All right ♪ [scre...</td>\n",
       "    </tr>\n",
       "  </tbody>\n",
       "</table>\n",
       "</div>"
      ],
      "text/plain": [
       "                   name                          title  \\\n",
       "0          Enissa Amani                      Ehrenwort   \n",
       "1             Ken Jeong            You Complete Me, Ho   \n",
       "2            Ray Romano  Right Here, Around The Corner   \n",
       "3      Gabriel Iglesias              One Show Fits All   \n",
       "4  Sebastian Maniscalco                    Stay Hungry   \n",
       "\n",
       "                                          transcript  \n",
       "0  A NETFLIX ORIGINAL COMEDY SPECIAL\\nHey, what’s...  \n",
       "1  The Hangover… Community… Dr. Ken… Crazy Rich A...  \n",
       "2  It’s been 23 years since I did a comedy specia...  \n",
       "3  [crowd chanting] Fluffy! Fluffy! [Fluffy shout...  \n",
       "4  [instrumental music plays] ♪ All right ♪ [scre...  "
      ]
     },
     "execution_count": 7,
     "metadata": {},
     "output_type": "execute_result"
    }
   ],
   "source": [
    "data.head()"
   ]
  },
  {
   "cell_type": "code",
   "execution_count": null,
   "metadata": {},
   "outputs": [],
   "source": [
    "## "
   ]
  },
  {
   "cell_type": "code",
   "execution_count": null,
   "metadata": {},
   "outputs": [],
   "source": [
    "len(data.name.value_counts())"
   ]
  },
  {
   "cell_type": "code",
   "execution_count": null,
   "metadata": {},
   "outputs": [],
   "source": []
  },
  {
   "cell_type": "code",
   "execution_count": 8,
   "metadata": {},
   "outputs": [
    {
     "data": {
      "text/plain": [
       "<matplotlib.axes._subplots.AxesSubplot at 0x7f9ce3bf3780>"
      ]
     },
     "execution_count": 8,
     "metadata": {},
     "output_type": "execute_result"
    },
    {
     "data": {
      "image/png": "[encoded data removed]",
      "text/plain": [
       "<Figure size 720x360 with 1 Axes>"
      ]
     },
     "metadata": {
      "needs_background": "light"
     },
     "output_type": "display_data"
    }
   ],
   "source": [
    "data.name.value_counts()[:10].plot('barh',figsize=(10,5))"
   ]
  },
  {
   "cell_type": "markdown",
   "metadata": {},
   "source": [
    "## Clean transcripts"
   ]
  },
  {
   "cell_type": "code",
   "execution_count": 9,
   "metadata": {},
   "outputs": [
    {
     "data": {
      "text/html": [
       "<div>\n",
       "<style scoped>\n",
       "    .dataframe tbody tr th:only-of-type {\n",
       "        vertical-align: middle;\n",
       "    }\n",
       "\n",
       "    .dataframe tbody tr th {\n",
       "        vertical-align: top;\n",
       "    }\n",
       "\n",
       "    .dataframe thead th {\n",
       "        text-align: right;\n",
       "    }\n",
       "</style>\n",
       "<table border=\"1\" class=\"dataframe\">\n",
       "  <thead>\n",
       "    <tr style=\"text-align: right;\">\n",
       "      <th></th>\n",
       "      <th>name</th>\n",
       "      <th>title</th>\n",
       "      <th>transcript</th>\n",
       "    </tr>\n",
       "  </thead>\n",
       "  <tbody>\n",
       "    <tr>\n",
       "      <th>0</th>\n",
       "      <td>Enissa Amani</td>\n",
       "      <td>Ehrenwort</td>\n",
       "      <td>A NETFLIX ORIGINAL COMEDY SPECIAL\\nHey, what’s...</td>\n",
       "    </tr>\n",
       "    <tr>\n",
       "      <th>1</th>\n",
       "      <td>Ken Jeong</td>\n",
       "      <td>You Complete Me, Ho</td>\n",
       "      <td>The Hangover… Community… Dr. Ken… Crazy Rich A...</td>\n",
       "    </tr>\n",
       "    <tr>\n",
       "      <th>2</th>\n",
       "      <td>Ray Romano</td>\n",
       "      <td>Right Here, Around The Corner</td>\n",
       "      <td>It’s been 23 years since I did a comedy specia...</td>\n",
       "    </tr>\n",
       "    <tr>\n",
       "      <th>3</th>\n",
       "      <td>Gabriel Iglesias</td>\n",
       "      <td>One Show Fits All</td>\n",
       "      <td>[crowd chanting] Fluffy! Fluffy! [Fluffy shout...</td>\n",
       "    </tr>\n",
       "    <tr>\n",
       "      <th>4</th>\n",
       "      <td>Sebastian Maniscalco</td>\n",
       "      <td>Stay Hungry</td>\n",
       "      <td>[instrumental music plays] ♪ All right ♪ [scre...</td>\n",
       "    </tr>\n",
       "  </tbody>\n",
       "</table>\n",
       "</div>"
      ],
      "text/plain": [
       "                   name                          title  \\\n",
       "0          Enissa Amani                      Ehrenwort   \n",
       "1             Ken Jeong            You Complete Me, Ho   \n",
       "2            Ray Romano  Right Here, Around The Corner   \n",
       "3      Gabriel Iglesias              One Show Fits All   \n",
       "4  Sebastian Maniscalco                    Stay Hungry   \n",
       "\n",
       "                                          transcript  \n",
       "0  A NETFLIX ORIGINAL COMEDY SPECIAL\\nHey, what’s...  \n",
       "1  The Hangover… Community… Dr. Ken… Crazy Rich A...  \n",
       "2  It’s been 23 years since I did a comedy specia...  \n",
       "3  [crowd chanting] Fluffy! Fluffy! [Fluffy shout...  \n",
       "4  [instrumental music plays] ♪ All right ♪ [scre...  "
      ]
     },
     "execution_count": 9,
     "metadata": {},
     "output_type": "execute_result"
    }
   ],
   "source": [
    "data.head()"
   ]
  },
  {
   "cell_type": "code",
   "execution_count": null,
   "metadata": {},
   "outputs": [],
   "source": []
  },
  {
   "cell_type": "code",
   "execution_count": null,
   "metadata": {},
   "outputs": [],
   "source": []
  },
  {
   "cell_type": "code",
   "execution_count": null,
   "metadata": {},
   "outputs": [],
   "source": []
  },
  {
   "cell_type": "code",
   "execution_count": 10,
   "metadata": {},
   "outputs": [],
   "source": [
    "def clean_text(data):\n",
    "    #print(type(data))\n",
    "    text = data.lower()\n",
    "    text = re.sub('\\[.*?\\]', '', text)  # remove brackets & text inside\n",
    "    text = re.sub('[%s]' % re.escape(string.punctuation), '', text)  # remove punctuations\n",
    "    text = re.sub('\\w*\\d\\w*', '', text)  # remove digits surounded by words\n",
    "    text = re.sub('[‘’“”…]', '', text)  # remove quotes & elipses\n",
    "    text = re.sub('\\n', ' ', text)  # remove new line\n",
    "    text = re.sub('\\t', ' ', text)  # remove new line\n",
    "    #text = re.sub(string.whitespace, '', text)  # remove \\n\\t..\n",
    "    return text"
   ]
  },
  {
   "cell_type": "code",
   "execution_count": null,
   "metadata": {},
   "outputs": [],
   "source": [
    "test = data.copy()[:10]"
   ]
  },
  {
   "cell_type": "code",
   "execution_count": null,
   "metadata": {},
   "outputs": [],
   "source": [
    "test"
   ]
  },
  {
   "cell_type": "code",
   "execution_count": null,
   "metadata": {},
   "outputs": [],
   "source": [
    "test['ct'] = test.apply(clean_text_round1,axis=1)"
   ]
  },
  {
   "cell_type": "code",
   "execution_count": null,
   "metadata": {},
   "outputs": [],
   "source": [
    "test['tt'] = test.transcript.apply(test_data)"
   ]
  },
  {
   "cell_type": "code",
   "execution_count": null,
   "metadata": {},
   "outputs": [],
   "source": [
    "test"
   ]
  },
  {
   "cell_type": "code",
   "execution_count": null,
   "metadata": {},
   "outputs": [],
   "source": [
    "test.transcript[0][:1000]"
   ]
  },
  {
   "cell_type": "code",
   "execution_count": null,
   "metadata": {},
   "outputs": [],
   "source": [
    "test.tt[0][:1000]"
   ]
  },
  {
   "cell_type": "code",
   "execution_count": null,
   "metadata": {},
   "outputs": [],
   "source": []
  },
  {
   "cell_type": "code",
   "execution_count": null,
   "metadata": {},
   "outputs": [],
   "source": [
    "\n",
    "# Apply a second round of cleaning\n",
    "def clean_text_round2(data):\n",
    "    '''Get rid of some additional punctuation and non-sensical text that was missed the first time around.'''\n",
    "    text = data['ct']\n",
    "    text = re.sub('[‘’“”…]', '', text)\n",
    "    text = re.sub('\\n', '', text)\n",
    "    return text"
   ]
  },
  {
   "cell_type": "code",
   "execution_count": null,
   "metadata": {},
   "outputs": [],
   "source": [
    "test['ct2'] = test.apply(clean_text_round2,axis=1)"
   ]
  },
  {
   "cell_type": "code",
   "execution_count": null,
   "metadata": {},
   "outputs": [],
   "source": [
    "test"
   ]
  },
  {
   "cell_type": "code",
   "execution_count": null,
   "metadata": {},
   "outputs": [],
   "source": [
    "data.head()"
   ]
  },
  {
   "cell_type": "code",
   "execution_count": null,
   "metadata": {},
   "outputs": [],
   "source": [
    "data['clean_text'] = data.transcript.apply(clean_text)"
   ]
  },
  {
   "cell_type": "code",
   "execution_count": null,
   "metadata": {},
   "outputs": [],
   "source": [
    "data.head()"
   ]
  },
  {
   "cell_type": "code",
   "execution_count": null,
   "metadata": {},
   "outputs": [],
   "source": [
    "data.clean_text.head()"
   ]
  },
  {
   "cell_type": "code",
   "execution_count": null,
   "metadata": {},
   "outputs": [],
   "source": []
  },
  {
   "cell_type": "markdown",
   "metadata": {},
   "source": [
    "# DTM"
   ]
  },
  {
   "cell_type": "code",
   "execution_count": null,
   "metadata": {},
   "outputs": [],
   "source": [
    "# We are going to create a document-term matrix using CountVectorizer, and exclude common English stop words\n",
    "from sklearn.feature_extraction.text import CountVectorizer\n",
    "\n",
    "cv = CountVectorizer(stop_words='english')\n",
    "data_cv = cv.fit_transform(data.clean_text)\n",
    "data_dtm = pd.DataFrame(data_cv.toarray(), columns=cv.get_feature_names())\n",
    "data_dtm.index = data['name']\n",
    "data_dtm"
   ]
  },
  {
   "cell_type": "code",
   "execution_count": null,
   "metadata": {},
   "outputs": [],
   "source": [
    "# Find the top 30 words said by each comedian\n",
    "top_dict = {}\n",
    "for c in data.columns:\n",
    "    top = data[c].sort_values(ascending=False).head(30)\n",
    "    top_dict[c]= list(zip(top.index, top.values))\n",
    "\n",
    "top_dict"
   ]
  },
  {
   "cell_type": "code",
   "execution_count": null,
   "metadata": {},
   "outputs": [],
   "source": []
  }
 ],
 "metadata": {
  "kernelspec": {
   "display_name": "Python 3",
   "language": "python",
   "name": "python3"
  },
  "language_info": {
   "codemirror_mode": {
    "name": "ipython",
    "version": 3
   },
   "file_extension": ".py",
   "mimetype": "text/x-python",
   "name": "python",
   "nbconvert_exporter": "python",
   "pygments_lexer": "ipython3",
   "version": "3.7.2"
  }
 },
 "nbformat": 4,
 "nbformat_minor": 2
}
