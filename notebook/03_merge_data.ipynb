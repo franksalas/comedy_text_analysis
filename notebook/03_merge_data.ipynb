{
 "cells": [
  {
   "cell_type": "code",
   "execution_count": null,
   "metadata": {},
   "outputs": [],
   "source": []
  },
  {
   "cell_type": "code",
   "execution_count": 21,
   "metadata": {},
   "outputs": [],
   "source": [
    "import pandas as pd\n",
    "import numpy as np\n",
    "import seaborn as sns\n",
    "import matplotlib.pyplot as plt\n",
    "import os"
   ]
  },
  {
   "cell_type": "markdown",
   "metadata": {},
   "source": [
    "## Data directory"
   ]
  },
  {
   "cell_type": "code",
   "execution_count": 4,
   "metadata": {},
   "outputs": [],
   "source": [
    "# raw_data\n",
    "data_directory = os.path.join( '..','data','raw_data/')"
   ]
  },
  {
   "cell_type": "code",
   "execution_count": 5,
   "metadata": {},
   "outputs": [],
   "source": [
    "# comedy link list\n",
    "df_list = pd.read_csv(data_directory+'comedy_link_list.csv')"
   ]
  },
  {
   "cell_type": "code",
   "execution_count": 8,
   "metadata": {},
   "outputs": [
    {
     "data": {
      "text/html": [
       "<div>\n",
       "<style scoped>\n",
       "    .dataframe tbody tr th:only-of-type {\n",
       "        vertical-align: middle;\n",
       "    }\n",
       "\n",
       "    .dataframe tbody tr th {\n",
       "        vertical-align: top;\n",
       "    }\n",
       "\n",
       "    .dataframe thead th {\n",
       "        text-align: right;\n",
       "    }\n",
       "</style>\n",
       "<table border=\"1\" class=\"dataframe\">\n",
       "  <thead>\n",
       "    <tr style=\"text-align: right;\">\n",
       "      <th></th>\n",
       "      <th>name</th>\n",
       "      <th>raw_title</th>\n",
       "      <th>summary</th>\n",
       "      <th>link</th>\n",
       "    </tr>\n",
       "  </thead>\n",
       "  <tbody>\n",
       "    <tr>\n",
       "      <th>0</th>\n",
       "      <td>Enissa Amani</td>\n",
       "      <td>Enissa Amani: Ehrenwort (2018) Full Transcript</td>\n",
       "      <td>Live from Hamburg, Iranian-German comedian Eni...</td>\n",
       "      <td>https://scrapsfromtheloft.com/2019/02/19/eniss...</td>\n",
       "    </tr>\n",
       "    <tr>\n",
       "      <th>1</th>\n",
       "      <td>George Carlin</td>\n",
       "      <td>Politically Correct Language – by George Carlin</td>\n",
       "      <td>George Carlin's critical thinking on pc langua...</td>\n",
       "      <td>https://scrapsfromtheloft.com/2019/02/18/polit...</td>\n",
       "    </tr>\n",
       "    <tr>\n",
       "      <th>2</th>\n",
       "      <td>Ken Jeong</td>\n",
       "      <td>Ken Jeong: You Complete Me, Ho (2019) – Full T...</td>\n",
       "      <td>Filmed at the Ice House Comedy Club in Pasaden...</td>\n",
       "      <td>https://scrapsfromtheloft.com/2019/02/17/ken-j...</td>\n",
       "    </tr>\n",
       "    <tr>\n",
       "      <th>3</th>\n",
       "      <td>Ray Romano</td>\n",
       "      <td>Ray Romano: Right Here, Around the Corner (201...</td>\n",
       "      <td>Ray Romano cut his stand-up teeth at the Comed...</td>\n",
       "      <td>https://scrapsfromtheloft.com/2019/02/12/ray-r...</td>\n",
       "    </tr>\n",
       "    <tr>\n",
       "      <th>4</th>\n",
       "      <td>Gabriel Iglesias</td>\n",
       "      <td>Gabriel “Fluffy” Iglesias: One Show Fits All (...</td>\n",
       "      <td>In a new special from Houston, Gabriel \"Fluffy...</td>\n",
       "      <td>https://scrapsfromtheloft.com/2019/01/30/gabri...</td>\n",
       "    </tr>\n",
       "  </tbody>\n",
       "</table>\n",
       "</div>"
      ],
      "text/plain": [
       "               name                                          raw_title  \\\n",
       "0      Enissa Amani     Enissa Amani: Ehrenwort (2018) Full Transcript   \n",
       "1     George Carlin    Politically Correct Language – by George Carlin   \n",
       "2         Ken Jeong  Ken Jeong: You Complete Me, Ho (2019) – Full T...   \n",
       "3        Ray Romano  Ray Romano: Right Here, Around the Corner (201...   \n",
       "4  Gabriel Iglesias  Gabriel “Fluffy” Iglesias: One Show Fits All (...   \n",
       "\n",
       "                                             summary  \\\n",
       "0  Live from Hamburg, Iranian-German comedian Eni...   \n",
       "1  George Carlin's critical thinking on pc langua...   \n",
       "2  Filmed at the Ice House Comedy Club in Pasaden...   \n",
       "3  Ray Romano cut his stand-up teeth at the Comed...   \n",
       "4  In a new special from Houston, Gabriel \"Fluffy...   \n",
       "\n",
       "                                                link  \n",
       "0  https://scrapsfromtheloft.com/2019/02/19/eniss...  \n",
       "1  https://scrapsfromtheloft.com/2019/02/18/polit...  \n",
       "2  https://scrapsfromtheloft.com/2019/02/17/ken-j...  \n",
       "3  https://scrapsfromtheloft.com/2019/02/12/ray-r...  \n",
       "4  https://scrapsfromtheloft.com/2019/01/30/gabri...  "
      ]
     },
     "execution_count": 8,
     "metadata": {},
     "output_type": "execute_result"
    }
   ],
   "source": [
    "df_list.head()"
   ]
  },
  {
   "cell_type": "code",
   "execution_count": 11,
   "metadata": {},
   "outputs": [],
   "source": [
    "# data_transcrips\n",
    "df_transcripts = pd.read_csv(data_directory+'data_transcripts.csv')\n",
    "df_transcripts.drop(['Unnamed: 0'],axis=1,inplace=True)"
   ]
  },
  {
   "cell_type": "code",
   "execution_count": 13,
   "metadata": {},
   "outputs": [
    {
     "name": "stdout",
     "output_type": "stream",
     "text": [
      "<class 'pandas.core.frame.DataFrame'>\n",
      "RangeIndex: 244 entries, 0 to 243\n",
      "Data columns (total 2 columns):\n",
      "transcript    244 non-null object\n",
      "link          244 non-null object\n",
      "dtypes: object(2)\n",
      "memory usage: 3.9+ KB\n"
     ]
    }
   ],
   "source": [
    "df_transcripts.info()"
   ]
  },
  {
   "cell_type": "code",
   "execution_count": 14,
   "metadata": {},
   "outputs": [
    {
     "data": {
      "text/html": [
       "<div>\n",
       "<style scoped>\n",
       "    .dataframe tbody tr th:only-of-type {\n",
       "        vertical-align: middle;\n",
       "    }\n",
       "\n",
       "    .dataframe tbody tr th {\n",
       "        vertical-align: top;\n",
       "    }\n",
       "\n",
       "    .dataframe thead th {\n",
       "        text-align: right;\n",
       "    }\n",
       "</style>\n",
       "<table border=\"1\" class=\"dataframe\">\n",
       "  <thead>\n",
       "    <tr style=\"text-align: right;\">\n",
       "      <th></th>\n",
       "      <th>transcript</th>\n",
       "      <th>link</th>\n",
       "    </tr>\n",
       "  </thead>\n",
       "  <tbody>\n",
       "    <tr>\n",
       "      <th>0</th>\n",
       "      <td>A NETFLIX ORIGINAL COMEDY SPECIAL\\nHey, what’s...</td>\n",
       "      <td>https://scrapsfromtheloft.com/2019/02/19/eniss...</td>\n",
       "    </tr>\n",
       "    <tr>\n",
       "      <th>1</th>\n",
       "      <td>I know I’m a little late with this, but I’d li...</td>\n",
       "      <td>https://scrapsfromtheloft.com/2019/02/18/polit...</td>\n",
       "    </tr>\n",
       "    <tr>\n",
       "      <th>2</th>\n",
       "      <td>The Hangover… Community… Dr. Ken… Crazy Rich A...</td>\n",
       "      <td>https://scrapsfromtheloft.com/2019/02/17/ken-j...</td>\n",
       "    </tr>\n",
       "    <tr>\n",
       "      <th>3</th>\n",
       "      <td>It’s been 23 years since I did a comedy specia...</td>\n",
       "      <td>https://scrapsfromtheloft.com/2019/02/12/ray-r...</td>\n",
       "    </tr>\n",
       "    <tr>\n",
       "      <th>4</th>\n",
       "      <td>[crowd chanting] Fluffy! Fluffy! [Fluffy shout...</td>\n",
       "      <td>https://scrapsfromtheloft.com/2019/01/30/gabri...</td>\n",
       "    </tr>\n",
       "  </tbody>\n",
       "</table>\n",
       "</div>"
      ],
      "text/plain": [
       "                                          transcript  \\\n",
       "0  A NETFLIX ORIGINAL COMEDY SPECIAL\\nHey, what’s...   \n",
       "1  I know I’m a little late with this, but I’d li...   \n",
       "2  The Hangover… Community… Dr. Ken… Crazy Rich A...   \n",
       "3  It’s been 23 years since I did a comedy specia...   \n",
       "4  [crowd chanting] Fluffy! Fluffy! [Fluffy shout...   \n",
       "\n",
       "                                                link  \n",
       "0  https://scrapsfromtheloft.com/2019/02/19/eniss...  \n",
       "1  https://scrapsfromtheloft.com/2019/02/18/polit...  \n",
       "2  https://scrapsfromtheloft.com/2019/02/17/ken-j...  \n",
       "3  https://scrapsfromtheloft.com/2019/02/12/ray-r...  \n",
       "4  https://scrapsfromtheloft.com/2019/01/30/gabri...  "
      ]
     },
     "execution_count": 14,
     "metadata": {},
     "output_type": "execute_result"
    }
   ],
   "source": [
    "df_transcripts.head()"
   ]
  },
  {
   "cell_type": "markdown",
   "metadata": {},
   "source": [
    "## Merge datframes\n",
    "- on \"link\""
   ]
  },
  {
   "cell_type": "code",
   "execution_count": 19,
   "metadata": {},
   "outputs": [],
   "source": [
    "data = df_list.merge(df_transcripts,left_on='link',right_on='link')"
   ]
  },
  {
   "cell_type": "code",
   "execution_count": 20,
   "metadata": {},
   "outputs": [
    {
     "data": {
      "text/html": [
       "<div>\n",
       "<style scoped>\n",
       "    .dataframe tbody tr th:only-of-type {\n",
       "        vertical-align: middle;\n",
       "    }\n",
       "\n",
       "    .dataframe tbody tr th {\n",
       "        vertical-align: top;\n",
       "    }\n",
       "\n",
       "    .dataframe thead th {\n",
       "        text-align: right;\n",
       "    }\n",
       "</style>\n",
       "<table border=\"1\" class=\"dataframe\">\n",
       "  <thead>\n",
       "    <tr style=\"text-align: right;\">\n",
       "      <th></th>\n",
       "      <th>name</th>\n",
       "      <th>raw_title</th>\n",
       "      <th>summary</th>\n",
       "      <th>link</th>\n",
       "      <th>transcript</th>\n",
       "    </tr>\n",
       "  </thead>\n",
       "  <tbody>\n",
       "    <tr>\n",
       "      <th>0</th>\n",
       "      <td>Enissa Amani</td>\n",
       "      <td>Enissa Amani: Ehrenwort (2018) Full Transcript</td>\n",
       "      <td>Live from Hamburg, Iranian-German comedian Eni...</td>\n",
       "      <td>https://scrapsfromtheloft.com/2019/02/19/eniss...</td>\n",
       "      <td>A NETFLIX ORIGINAL COMEDY SPECIAL\\nHey, what’s...</td>\n",
       "    </tr>\n",
       "    <tr>\n",
       "      <th>1</th>\n",
       "      <td>George Carlin</td>\n",
       "      <td>Politically Correct Language – by George Carlin</td>\n",
       "      <td>George Carlin's critical thinking on pc langua...</td>\n",
       "      <td>https://scrapsfromtheloft.com/2019/02/18/polit...</td>\n",
       "      <td>I know I’m a little late with this, but I’d li...</td>\n",
       "    </tr>\n",
       "    <tr>\n",
       "      <th>2</th>\n",
       "      <td>Ken Jeong</td>\n",
       "      <td>Ken Jeong: You Complete Me, Ho (2019) – Full T...</td>\n",
       "      <td>Filmed at the Ice House Comedy Club in Pasaden...</td>\n",
       "      <td>https://scrapsfromtheloft.com/2019/02/17/ken-j...</td>\n",
       "      <td>The Hangover… Community… Dr. Ken… Crazy Rich A...</td>\n",
       "    </tr>\n",
       "    <tr>\n",
       "      <th>3</th>\n",
       "      <td>Ray Romano</td>\n",
       "      <td>Ray Romano: Right Here, Around the Corner (201...</td>\n",
       "      <td>Ray Romano cut his stand-up teeth at the Comed...</td>\n",
       "      <td>https://scrapsfromtheloft.com/2019/02/12/ray-r...</td>\n",
       "      <td>It’s been 23 years since I did a comedy specia...</td>\n",
       "    </tr>\n",
       "    <tr>\n",
       "      <th>4</th>\n",
       "      <td>Gabriel Iglesias</td>\n",
       "      <td>Gabriel “Fluffy” Iglesias: One Show Fits All (...</td>\n",
       "      <td>In a new special from Houston, Gabriel \"Fluffy...</td>\n",
       "      <td>https://scrapsfromtheloft.com/2019/01/30/gabri...</td>\n",
       "      <td>[crowd chanting] Fluffy! Fluffy! [Fluffy shout...</td>\n",
       "    </tr>\n",
       "  </tbody>\n",
       "</table>\n",
       "</div>"
      ],
      "text/plain": [
       "               name                                          raw_title  \\\n",
       "0      Enissa Amani     Enissa Amani: Ehrenwort (2018) Full Transcript   \n",
       "1     George Carlin    Politically Correct Language – by George Carlin   \n",
       "2         Ken Jeong  Ken Jeong: You Complete Me, Ho (2019) – Full T...   \n",
       "3        Ray Romano  Ray Romano: Right Here, Around the Corner (201...   \n",
       "4  Gabriel Iglesias  Gabriel “Fluffy” Iglesias: One Show Fits All (...   \n",
       "\n",
       "                                             summary  \\\n",
       "0  Live from Hamburg, Iranian-German comedian Eni...   \n",
       "1  George Carlin's critical thinking on pc langua...   \n",
       "2  Filmed at the Ice House Comedy Club in Pasaden...   \n",
       "3  Ray Romano cut his stand-up teeth at the Comed...   \n",
       "4  In a new special from Houston, Gabriel \"Fluffy...   \n",
       "\n",
       "                                                link  \\\n",
       "0  https://scrapsfromtheloft.com/2019/02/19/eniss...   \n",
       "1  https://scrapsfromtheloft.com/2019/02/18/polit...   \n",
       "2  https://scrapsfromtheloft.com/2019/02/17/ken-j...   \n",
       "3  https://scrapsfromtheloft.com/2019/02/12/ray-r...   \n",
       "4  https://scrapsfromtheloft.com/2019/01/30/gabri...   \n",
       "\n",
       "                                          transcript  \n",
       "0  A NETFLIX ORIGINAL COMEDY SPECIAL\\nHey, what’s...  \n",
       "1  I know I’m a little late with this, but I’d li...  \n",
       "2  The Hangover… Community… Dr. Ken… Crazy Rich A...  \n",
       "3  It’s been 23 years since I did a comedy specia...  \n",
       "4  [crowd chanting] Fluffy! Fluffy! [Fluffy shout...  "
      ]
     },
     "execution_count": 20,
     "metadata": {},
     "output_type": "execute_result"
    }
   ],
   "source": [
    "data.head()"
   ]
  },
  {
   "cell_type": "markdown",
   "metadata": {},
   "source": [
    "## Display null data"
   ]
  },
  {
   "cell_type": "code",
   "execution_count": 22,
   "metadata": {},
   "outputs": [
    {
     "data": {
      "image/png": "[encoded data removed]",
      "text/plain": [
       "<Figure size 432x288 with 1 Axes>"
      ]
     },
     "metadata": {
      "needs_background": "light"
     },
     "output_type": "display_data"
    }
   ],
   "source": [
    "sns.heatmap(data.isnull(),yticklabels=False,cbar=False,cmap='viridis')\n",
    "plt.title('Null dataset display')\n",
    "plt.show()"
   ]
  },
  {
   "cell_type": "code",
   "execution_count": 29,
   "metadata": {},
   "outputs": [],
   "source": [
    "# change col order\n",
    "data = data[['name','raw_title','summary','transcript','link']]"
   ]
  },
  {
   "cell_type": "code",
   "execution_count": null,
   "metadata": {},
   "outputs": [],
   "source": []
  },
  {
   "cell_type": "markdown",
   "metadata": {},
   "source": [
    "## Save"
   ]
  },
  {
   "cell_type": "code",
   "execution_count": 30,
   "metadata": {},
   "outputs": [],
   "source": [
    "data.to_csv(data_directory+'03_data_merge.csv',index=False)"
   ]
  },
  {
   "cell_type": "code",
   "execution_count": null,
   "metadata": {},
   "outputs": [],
   "source": []
  }
 ],
 "metadata": {
  "kernelspec": {
   "display_name": "Python 3",
   "language": "python",
   "name": "python3"
  },
  "language_info": {
   "codemirror_mode": {
    "name": "ipython",
    "version": 3
   },
   "file_extension": ".py",
   "mimetype": "text/x-python",
   "name": "python",
   "nbconvert_exporter": "python",
   "pygments_lexer": "ipython3",
   "version": "3.7.2"
  }
 },
 "nbformat": 4,
 "nbformat_minor": 2
}
