{
 "cells": [
  {
   "cell_type": "code",
   "execution_count": 1,
   "metadata": {},
   "outputs": [],
   "source": [
    "import pandas as pd\n",
    "import numpy as np\n",
    "import seaborn as sns\n",
    "import matplotlib.pyplot as plt\n",
    "import os"
   ]
  },
  {
   "cell_type": "markdown",
   "metadata": {},
   "source": [
    "## Load data"
   ]
  },
  {
   "cell_type": "code",
   "execution_count": 2,
   "metadata": {},
   "outputs": [
    {
     "data": {
      "text/html": [
       "<div>\n",
       "<style scoped>\n",
       "    .dataframe tbody tr th:only-of-type {\n",
       "        vertical-align: middle;\n",
       "    }\n",
       "\n",
       "    .dataframe tbody tr th {\n",
       "        vertical-align: top;\n",
       "    }\n",
       "\n",
       "    .dataframe thead th {\n",
       "        text-align: right;\n",
       "    }\n",
       "</style>\n",
       "<table border=\"1\" class=\"dataframe\">\n",
       "  <thead>\n",
       "    <tr style=\"text-align: right;\">\n",
       "      <th></th>\n",
       "      <th>name</th>\n",
       "      <th>raw_title</th>\n",
       "      <th>summary</th>\n",
       "      <th>link</th>\n",
       "    </tr>\n",
       "  </thead>\n",
       "  <tbody>\n",
       "    <tr>\n",
       "      <th>0</th>\n",
       "      <td>Louis C.K.</td>\n",
       "      <td>SINCERELY LOUIS CK (2020)</td>\n",
       "      <td>Great comedy is finally back. Louis C.K. is no...</td>\n",
       "      <td>https://scrapsfromtheloft.com/2020/05/02/since...</td>\n",
       "    </tr>\n",
       "    <tr>\n",
       "      <th>1</th>\n",
       "      <td>Jim Norton</td>\n",
       "      <td>JIM NORTON: AMERICAN DEGENERATE (2013) – FULL ...</td>\n",
       "      <td>For his second EPIX comedy special, Jim Norton...</td>\n",
       "      <td>https://scrapsfromtheloft.com/2020/05/02/jim-n...</td>\n",
       "    </tr>\n",
       "    <tr>\n",
       "      <th>2</th>\n",
       "      <td>Jim Norton</td>\n",
       "      <td>JIM NORTON: MONSTER RAIN (2007) – FULL TRANSCRIPT</td>\n",
       "      <td>His special \"Monster Rain,\" Jim Norton perform...</td>\n",
       "      <td>https://scrapsfromtheloft.com/2020/05/02/jim-n...</td>\n",
       "    </tr>\n",
       "    <tr>\n",
       "      <th>3</th>\n",
       "      <td>Daniel Sloss</td>\n",
       "      <td>DANIEL SLOSS: X (2019) – FULL TRANSCRIPT</td>\n",
       "      <td>Taking the stage before a sold-out audience at...</td>\n",
       "      <td>https://scrapsfromtheloft.com/2020/05/01/danie...</td>\n",
       "    </tr>\n",
       "    <tr>\n",
       "      <th>4</th>\n",
       "      <td>Maria Bamford</td>\n",
       "      <td>MARIA BAMFORD: WEAKNESS IS THE BRAND (2020) – ...</td>\n",
       "      <td>In this standup special \"Weakness Is the Brand...</td>\n",
       "      <td>https://scrapsfromtheloft.com/2020/05/01/maria...</td>\n",
       "    </tr>\n",
       "  </tbody>\n",
       "</table>\n",
       "</div>"
      ],
      "text/plain": [
       "            name                                          raw_title  \\\n",
       "0     Louis C.K.                          SINCERELY LOUIS CK (2020)   \n",
       "1     Jim Norton  JIM NORTON: AMERICAN DEGENERATE (2013) – FULL ...   \n",
       "2     Jim Norton  JIM NORTON: MONSTER RAIN (2007) – FULL TRANSCRIPT   \n",
       "3   Daniel Sloss           DANIEL SLOSS: X (2019) – FULL TRANSCRIPT   \n",
       "4  Maria Bamford  MARIA BAMFORD: WEAKNESS IS THE BRAND (2020) – ...   \n",
       "\n",
       "                                             summary  \\\n",
       "0  Great comedy is finally back. Louis C.K. is no...   \n",
       "1  For his second EPIX comedy special, Jim Norton...   \n",
       "2  His special \"Monster Rain,\" Jim Norton perform...   \n",
       "3  Taking the stage before a sold-out audience at...   \n",
       "4  In this standup special \"Weakness Is the Brand...   \n",
       "\n",
       "                                                link  \n",
       "0  https://scrapsfromtheloft.com/2020/05/02/since...  \n",
       "1  https://scrapsfromtheloft.com/2020/05/02/jim-n...  \n",
       "2  https://scrapsfromtheloft.com/2020/05/02/jim-n...  \n",
       "3  https://scrapsfromtheloft.com/2020/05/01/danie...  \n",
       "4  https://scrapsfromtheloft.com/2020/05/01/maria...  "
      ]
     },
     "execution_count": 2,
     "metadata": {},
     "output_type": "execute_result"
    }
   ],
   "source": [
    "# comedy link list\n",
    "file = 'raw_comedy_02.pkl'\n",
    "data_directory = os.path.join('..','data','raw_data/{}'.format(file))\n",
    "df_list = pd.read_pickle(data_directory)\n",
    "df_list.head()"
   ]
  },
  {
   "cell_type": "code",
   "execution_count": 3,
   "metadata": {},
   "outputs": [
    {
     "data": {
      "text/html": [
       "<div>\n",
       "<style scoped>\n",
       "    .dataframe tbody tr th:only-of-type {\n",
       "        vertical-align: middle;\n",
       "    }\n",
       "\n",
       "    .dataframe tbody tr th {\n",
       "        vertical-align: top;\n",
       "    }\n",
       "\n",
       "    .dataframe thead th {\n",
       "        text-align: right;\n",
       "    }\n",
       "</style>\n",
       "<table border=\"1\" class=\"dataframe\">\n",
       "  <thead>\n",
       "    <tr style=\"text-align: right;\">\n",
       "      <th></th>\n",
       "      <th>transcript</th>\n",
       "      <th>link</th>\n",
       "    </tr>\n",
       "  </thead>\n",
       "  <tbody>\n",
       "    <tr>\n",
       "      <th>0</th>\n",
       "      <td>Great comedy is finally back. Louis C.K. is no...</td>\n",
       "      <td>https://scrapsfromtheloft.com/2020/05/02/since...</td>\n",
       "    </tr>\n",
       "    <tr>\n",
       "      <th>1</th>\n",
       "      <td>This year I wanted the opening of my new speci...</td>\n",
       "      <td>https://scrapsfromtheloft.com/2020/05/02/jim-n...</td>\n",
       "    </tr>\n",
       "    <tr>\n",
       "      <th>2</th>\n",
       "      <td>Thank you! Aw, thank you very much. Thank you,...</td>\n",
       "      <td>https://scrapsfromtheloft.com/2020/05/02/jim-n...</td>\n",
       "    </tr>\n",
       "    <tr>\n",
       "      <th>3</th>\n",
       "      <td>A man offered us a billion dollars. – Bolt the...</td>\n",
       "      <td>https://scrapsfromtheloft.com/2020/05/01/danie...</td>\n",
       "    </tr>\n",
       "    <tr>\n",
       "      <th>4</th>\n",
       "      <td>[microphone droans]\\n[music playing]\\n[crowd c...</td>\n",
       "      <td>https://scrapsfromtheloft.com/2020/05/01/maria...</td>\n",
       "    </tr>\n",
       "  </tbody>\n",
       "</table>\n",
       "</div>"
      ],
      "text/plain": [
       "                                          transcript  \\\n",
       "0  Great comedy is finally back. Louis C.K. is no...   \n",
       "1  This year I wanted the opening of my new speci...   \n",
       "2  Thank you! Aw, thank you very much. Thank you,...   \n",
       "3  A man offered us a billion dollars. – Bolt the...   \n",
       "4  [microphone droans]\\n[music playing]\\n[crowd c...   \n",
       "\n",
       "                                                link  \n",
       "0  https://scrapsfromtheloft.com/2020/05/02/since...  \n",
       "1  https://scrapsfromtheloft.com/2020/05/02/jim-n...  \n",
       "2  https://scrapsfromtheloft.com/2020/05/02/jim-n...  \n",
       "3  https://scrapsfromtheloft.com/2020/05/01/danie...  \n",
       "4  https://scrapsfromtheloft.com/2020/05/01/maria...  "
      ]
     },
     "execution_count": 3,
     "metadata": {},
     "output_type": "execute_result"
    }
   ],
   "source": [
    "# transcript data\n",
    "file = 'raw_data_transcript_01.pkl'\n",
    "data_directory = os.path.join('..','data','raw_data/{}'.format(file))\n",
    "df_tran = pd.read_pickle(data_directory)\n",
    "df_tran.head()"
   ]
  },
  {
   "cell_type": "markdown",
   "metadata": {},
   "source": [
    "## Merge data on `link`"
   ]
  },
  {
   "cell_type": "code",
   "execution_count": 4,
   "metadata": {},
   "outputs": [
    {
     "data": {
      "text/html": [
       "<div>\n",
       "<style scoped>\n",
       "    .dataframe tbody tr th:only-of-type {\n",
       "        vertical-align: middle;\n",
       "    }\n",
       "\n",
       "    .dataframe tbody tr th {\n",
       "        vertical-align: top;\n",
       "    }\n",
       "\n",
       "    .dataframe thead th {\n",
       "        text-align: right;\n",
       "    }\n",
       "</style>\n",
       "<table border=\"1\" class=\"dataframe\">\n",
       "  <thead>\n",
       "    <tr style=\"text-align: right;\">\n",
       "      <th></th>\n",
       "      <th>name</th>\n",
       "      <th>raw_title</th>\n",
       "      <th>summary</th>\n",
       "      <th>link</th>\n",
       "      <th>transcript</th>\n",
       "    </tr>\n",
       "  </thead>\n",
       "  <tbody>\n",
       "    <tr>\n",
       "      <th>0</th>\n",
       "      <td>Louis C.K.</td>\n",
       "      <td>SINCERELY LOUIS CK (2020)</td>\n",
       "      <td>Great comedy is finally back. Louis C.K. is no...</td>\n",
       "      <td>https://scrapsfromtheloft.com/2020/05/02/since...</td>\n",
       "      <td>Great comedy is finally back. Louis C.K. is no...</td>\n",
       "    </tr>\n",
       "    <tr>\n",
       "      <th>1</th>\n",
       "      <td>Jim Norton</td>\n",
       "      <td>JIM NORTON: AMERICAN DEGENERATE (2013) – FULL ...</td>\n",
       "      <td>For his second EPIX comedy special, Jim Norton...</td>\n",
       "      <td>https://scrapsfromtheloft.com/2020/05/02/jim-n...</td>\n",
       "      <td>This year I wanted the opening of my new speci...</td>\n",
       "    </tr>\n",
       "    <tr>\n",
       "      <th>2</th>\n",
       "      <td>Jim Norton</td>\n",
       "      <td>JIM NORTON: MONSTER RAIN (2007) – FULL TRANSCRIPT</td>\n",
       "      <td>His special \"Monster Rain,\" Jim Norton perform...</td>\n",
       "      <td>https://scrapsfromtheloft.com/2020/05/02/jim-n...</td>\n",
       "      <td>Thank you! Aw, thank you very much. Thank you,...</td>\n",
       "    </tr>\n",
       "    <tr>\n",
       "      <th>3</th>\n",
       "      <td>Daniel Sloss</td>\n",
       "      <td>DANIEL SLOSS: X (2019) – FULL TRANSCRIPT</td>\n",
       "      <td>Taking the stage before a sold-out audience at...</td>\n",
       "      <td>https://scrapsfromtheloft.com/2020/05/01/danie...</td>\n",
       "      <td>A man offered us a billion dollars. – Bolt the...</td>\n",
       "    </tr>\n",
       "    <tr>\n",
       "      <th>4</th>\n",
       "      <td>Maria Bamford</td>\n",
       "      <td>MARIA BAMFORD: WEAKNESS IS THE BRAND (2020) – ...</td>\n",
       "      <td>In this standup special \"Weakness Is the Brand...</td>\n",
       "      <td>https://scrapsfromtheloft.com/2020/05/01/maria...</td>\n",
       "      <td>[microphone droans]\\n[music playing]\\n[crowd c...</td>\n",
       "    </tr>\n",
       "  </tbody>\n",
       "</table>\n",
       "</div>"
      ],
      "text/plain": [
       "            name                                          raw_title  \\\n",
       "0     Louis C.K.                          SINCERELY LOUIS CK (2020)   \n",
       "1     Jim Norton  JIM NORTON: AMERICAN DEGENERATE (2013) – FULL ...   \n",
       "2     Jim Norton  JIM NORTON: MONSTER RAIN (2007) – FULL TRANSCRIPT   \n",
       "3   Daniel Sloss           DANIEL SLOSS: X (2019) – FULL TRANSCRIPT   \n",
       "4  Maria Bamford  MARIA BAMFORD: WEAKNESS IS THE BRAND (2020) – ...   \n",
       "\n",
       "                                             summary  \\\n",
       "0  Great comedy is finally back. Louis C.K. is no...   \n",
       "1  For his second EPIX comedy special, Jim Norton...   \n",
       "2  His special \"Monster Rain,\" Jim Norton perform...   \n",
       "3  Taking the stage before a sold-out audience at...   \n",
       "4  In this standup special \"Weakness Is the Brand...   \n",
       "\n",
       "                                                link  \\\n",
       "0  https://scrapsfromtheloft.com/2020/05/02/since...   \n",
       "1  https://scrapsfromtheloft.com/2020/05/02/jim-n...   \n",
       "2  https://scrapsfromtheloft.com/2020/05/02/jim-n...   \n",
       "3  https://scrapsfromtheloft.com/2020/05/01/danie...   \n",
       "4  https://scrapsfromtheloft.com/2020/05/01/maria...   \n",
       "\n",
       "                                          transcript  \n",
       "0  Great comedy is finally back. Louis C.K. is no...  \n",
       "1  This year I wanted the opening of my new speci...  \n",
       "2  Thank you! Aw, thank you very much. Thank you,...  \n",
       "3  A man offered us a billion dollars. – Bolt the...  \n",
       "4  [microphone droans]\\n[music playing]\\n[crowd c...  "
      ]
     },
     "execution_count": 4,
     "metadata": {},
     "output_type": "execute_result"
    }
   ],
   "source": [
    "data = df_list.merge(df_tran,left_on='link',right_on='link')\n",
    "data.head()"
   ]
  },
  {
   "cell_type": "markdown",
   "metadata": {},
   "source": [
    "## Display Null Data"
   ]
  },
  {
   "cell_type": "code",
   "execution_count": 5,
   "metadata": {},
   "outputs": [
    {
     "data": {
      "image/png": "[encoded data removed]",
      "text/plain": [
       "<Figure size 432x288 with 1 Axes>"
      ]
     },
     "metadata": {
      "needs_background": "light"
     },
     "output_type": "display_data"
    }
   ],
   "source": [
    "sns.heatmap(data.isnull(),yticklabels=False,cbar=False,cmap='viridis')\n",
    "plt.title('Null dataset display')\n",
    "plt.show()"
   ]
  },
  {
   "cell_type": "markdown",
   "metadata": {},
   "source": [
    "## Check for errors"
   ]
  },
  {
   "cell_type": "code",
   "execution_count": 6,
   "metadata": {},
   "outputs": [
    {
     "data": {
      "text/html": [
       "<div>\n",
       "<style scoped>\n",
       "    .dataframe tbody tr th:only-of-type {\n",
       "        vertical-align: middle;\n",
       "    }\n",
       "\n",
       "    .dataframe tbody tr th {\n",
       "        vertical-align: top;\n",
       "    }\n",
       "\n",
       "    .dataframe thead th {\n",
       "        text-align: right;\n",
       "    }\n",
       "</style>\n",
       "<table border=\"1\" class=\"dataframe\">\n",
       "  <thead>\n",
       "    <tr style=\"text-align: right;\">\n",
       "      <th></th>\n",
       "      <th>name</th>\n",
       "      <th>raw_title</th>\n",
       "      <th>summary</th>\n",
       "      <th>link</th>\n",
       "      <th>transcript</th>\n",
       "    </tr>\n",
       "  </thead>\n",
       "  <tbody>\n",
       "    <tr>\n",
       "      <th>35</th>\n",
       "      <td>Mark Normandthe Tonight Show Starring Jimmy Fa...</td>\n",
       "      <td>Mark Normand Stand-Up – The Tonight Show Starr...</td>\n",
       "      <td>Mark Normand is back on The Tonight Show with ...</td>\n",
       "      <td>https://scrapsfromtheloft.com/2019/09/21/mark-...</td>\n",
       "      <td>error</td>\n",
       "    </tr>\n",
       "    <tr>\n",
       "      <th>165</th>\n",
       "      <td>Chris Tucker</td>\n",
       "      <td>CHRIS TUCKER: LIVE (2015) – Full Transcript</td>\n",
       "      <td>In this Netflix special, Chris Tucker returns ...</td>\n",
       "      <td>https://scrapsfromtheloft.com/2018/01/14/chris...</td>\n",
       "      <td>error</td>\n",
       "    </tr>\n",
       "    <tr>\n",
       "      <th>167</th>\n",
       "      <td>Kevin Hart</td>\n",
       "      <td>KEVIN HART: LET ME EXPLAIN (2013) – Full Trans...</td>\n",
       "      <td>Filmed at a sold-out performance at Madison Sq...</td>\n",
       "      <td>https://scrapsfromtheloft.com/2018/01/14/kevin...</td>\n",
       "      <td>error</td>\n",
       "    </tr>\n",
       "    <tr>\n",
       "      <th>198</th>\n",
       "      <td>Aziz Ansari</td>\n",
       "      <td>AZIZ ANSARI: BURIED ALIVE (2013) – Full Transc...</td>\n",
       "      <td>Aziz Ansari focuses his unique viewpoint on pe...</td>\n",
       "      <td>https://scrapsfromtheloft.com/2017/12/07/aziz-...</td>\n",
       "      <td>error</td>\n",
       "    </tr>\n",
       "    <tr>\n",
       "      <th>281</th>\n",
       "      <td>Jim Gaffigan</td>\n",
       "      <td>JIM GAFFIGAN: CINCO (2017) – Full Transcript</td>\n",
       "      <td>Full transcript of Jim Gaffigan's fifth Netfli...</td>\n",
       "      <td>https://scrapsfromtheloft.com/2017/06/12/jim-g...</td>\n",
       "      <td>error</td>\n",
       "    </tr>\n",
       "    <tr>\n",
       "      <th>283</th>\n",
       "      <td>Louis C.K.</td>\n",
       "      <td>LOUIS C.K.: HILARIOUS (2010) – Full Transcript</td>\n",
       "      <td>In this unique and dynamic live concert experi...</td>\n",
       "      <td>https://scrapsfromtheloft.com/2017/06/01/louis...</td>\n",
       "      <td>error</td>\n",
       "    </tr>\n",
       "  </tbody>\n",
       "</table>\n",
       "</div>"
      ],
      "text/plain": [
       "                                                  name  \\\n",
       "35   Mark Normandthe Tonight Show Starring Jimmy Fa...   \n",
       "165                                       Chris Tucker   \n",
       "167                                         Kevin Hart   \n",
       "198                                        Aziz Ansari   \n",
       "281                                       Jim Gaffigan   \n",
       "283                                         Louis C.K.   \n",
       "\n",
       "                                             raw_title  \\\n",
       "35   Mark Normand Stand-Up – The Tonight Show Starr...   \n",
       "165        CHRIS TUCKER: LIVE (2015) – Full Transcript   \n",
       "167  KEVIN HART: LET ME EXPLAIN (2013) – Full Trans...   \n",
       "198  AZIZ ANSARI: BURIED ALIVE (2013) – Full Transc...   \n",
       "281       JIM GAFFIGAN: CINCO (2017) – Full Transcript   \n",
       "283     LOUIS C.K.: HILARIOUS (2010) – Full Transcript   \n",
       "\n",
       "                                               summary  \\\n",
       "35   Mark Normand is back on The Tonight Show with ...   \n",
       "165  In this Netflix special, Chris Tucker returns ...   \n",
       "167  Filmed at a sold-out performance at Madison Sq...   \n",
       "198  Aziz Ansari focuses his unique viewpoint on pe...   \n",
       "281  Full transcript of Jim Gaffigan's fifth Netfli...   \n",
       "283  In this unique and dynamic live concert experi...   \n",
       "\n",
       "                                                  link transcript  \n",
       "35   https://scrapsfromtheloft.com/2019/09/21/mark-...      error  \n",
       "165  https://scrapsfromtheloft.com/2018/01/14/chris...      error  \n",
       "167  https://scrapsfromtheloft.com/2018/01/14/kevin...      error  \n",
       "198  https://scrapsfromtheloft.com/2017/12/07/aziz-...      error  \n",
       "281  https://scrapsfromtheloft.com/2017/06/12/jim-g...      error  \n",
       "283  https://scrapsfromtheloft.com/2017/06/01/louis...      error  "
      ]
     },
     "execution_count": 6,
     "metadata": {},
     "output_type": "execute_result"
    }
   ],
   "source": [
    "error_filter = data.transcript == 'error'\n",
    "data[error_filter]"
   ]
  },
  {
   "cell_type": "code",
   "execution_count": 7,
   "metadata": {},
   "outputs": [],
   "source": [
    "#remove error\n",
    "data = data[~error_filter]"
   ]
  },
  {
   "cell_type": "code",
   "execution_count": 8,
   "metadata": {},
   "outputs": [
    {
     "name": "stderr",
     "output_type": "stream",
     "text": [
      "/home/salas/miniconda3/envs/text_analysis/lib/python3.7/site-packages/ipykernel_launcher.py:1: UserWarning: Boolean Series key will be reindexed to match DataFrame index.\n",
      "  \"\"\"Entry point for launching an IPython kernel.\n"
     ]
    },
    {
     "data": {
      "text/html": [
       "<div>\n",
       "<style scoped>\n",
       "    .dataframe tbody tr th:only-of-type {\n",
       "        vertical-align: middle;\n",
       "    }\n",
       "\n",
       "    .dataframe tbody tr th {\n",
       "        vertical-align: top;\n",
       "    }\n",
       "\n",
       "    .dataframe thead th {\n",
       "        text-align: right;\n",
       "    }\n",
       "</style>\n",
       "<table border=\"1\" class=\"dataframe\">\n",
       "  <thead>\n",
       "    <tr style=\"text-align: right;\">\n",
       "      <th></th>\n",
       "      <th>name</th>\n",
       "      <th>raw_title</th>\n",
       "      <th>summary</th>\n",
       "      <th>link</th>\n",
       "      <th>transcript</th>\n",
       "    </tr>\n",
       "  </thead>\n",
       "  <tbody>\n",
       "  </tbody>\n",
       "</table>\n",
       "</div>"
      ],
      "text/plain": [
       "Empty DataFrame\n",
       "Columns: [name, raw_title, summary, link, transcript]\n",
       "Index: []"
      ]
     },
     "execution_count": 8,
     "metadata": {},
     "output_type": "execute_result"
    }
   ],
   "source": [
    "data[error_filter]"
   ]
  },
  {
   "cell_type": "markdown",
   "metadata": {},
   "source": [
    "## Change col order"
   ]
  },
  {
   "cell_type": "code",
   "execution_count": 9,
   "metadata": {},
   "outputs": [
    {
     "data": {
      "text/html": [
       "<div>\n",
       "<style scoped>\n",
       "    .dataframe tbody tr th:only-of-type {\n",
       "        vertical-align: middle;\n",
       "    }\n",
       "\n",
       "    .dataframe tbody tr th {\n",
       "        vertical-align: top;\n",
       "    }\n",
       "\n",
       "    .dataframe thead th {\n",
       "        text-align: right;\n",
       "    }\n",
       "</style>\n",
       "<table border=\"1\" class=\"dataframe\">\n",
       "  <thead>\n",
       "    <tr style=\"text-align: right;\">\n",
       "      <th></th>\n",
       "      <th>name</th>\n",
       "      <th>raw_title</th>\n",
       "      <th>summary</th>\n",
       "      <th>transcript</th>\n",
       "      <th>link</th>\n",
       "    </tr>\n",
       "  </thead>\n",
       "  <tbody>\n",
       "    <tr>\n",
       "      <th>0</th>\n",
       "      <td>Louis C.K.</td>\n",
       "      <td>SINCERELY LOUIS CK (2020)</td>\n",
       "      <td>Great comedy is finally back. Louis C.K. is no...</td>\n",
       "      <td>Great comedy is finally back. Louis C.K. is no...</td>\n",
       "      <td>https://scrapsfromtheloft.com/2020/05/02/since...</td>\n",
       "    </tr>\n",
       "    <tr>\n",
       "      <th>1</th>\n",
       "      <td>Jim Norton</td>\n",
       "      <td>JIM NORTON: AMERICAN DEGENERATE (2013) – FULL ...</td>\n",
       "      <td>For his second EPIX comedy special, Jim Norton...</td>\n",
       "      <td>This year I wanted the opening of my new speci...</td>\n",
       "      <td>https://scrapsfromtheloft.com/2020/05/02/jim-n...</td>\n",
       "    </tr>\n",
       "    <tr>\n",
       "      <th>2</th>\n",
       "      <td>Jim Norton</td>\n",
       "      <td>JIM NORTON: MONSTER RAIN (2007) – FULL TRANSCRIPT</td>\n",
       "      <td>His special \"Monster Rain,\" Jim Norton perform...</td>\n",
       "      <td>Thank you! Aw, thank you very much. Thank you,...</td>\n",
       "      <td>https://scrapsfromtheloft.com/2020/05/02/jim-n...</td>\n",
       "    </tr>\n",
       "    <tr>\n",
       "      <th>3</th>\n",
       "      <td>Daniel Sloss</td>\n",
       "      <td>DANIEL SLOSS: X (2019) – FULL TRANSCRIPT</td>\n",
       "      <td>Taking the stage before a sold-out audience at...</td>\n",
       "      <td>A man offered us a billion dollars. – Bolt the...</td>\n",
       "      <td>https://scrapsfromtheloft.com/2020/05/01/danie...</td>\n",
       "    </tr>\n",
       "    <tr>\n",
       "      <th>4</th>\n",
       "      <td>Maria Bamford</td>\n",
       "      <td>MARIA BAMFORD: WEAKNESS IS THE BRAND (2020) – ...</td>\n",
       "      <td>In this standup special \"Weakness Is the Brand...</td>\n",
       "      <td>[microphone droans]\\n[music playing]\\n[crowd c...</td>\n",
       "      <td>https://scrapsfromtheloft.com/2020/05/01/maria...</td>\n",
       "    </tr>\n",
       "  </tbody>\n",
       "</table>\n",
       "</div>"
      ],
      "text/plain": [
       "            name                                          raw_title  \\\n",
       "0     Louis C.K.                          SINCERELY LOUIS CK (2020)   \n",
       "1     Jim Norton  JIM NORTON: AMERICAN DEGENERATE (2013) – FULL ...   \n",
       "2     Jim Norton  JIM NORTON: MONSTER RAIN (2007) – FULL TRANSCRIPT   \n",
       "3   Daniel Sloss           DANIEL SLOSS: X (2019) – FULL TRANSCRIPT   \n",
       "4  Maria Bamford  MARIA BAMFORD: WEAKNESS IS THE BRAND (2020) – ...   \n",
       "\n",
       "                                             summary  \\\n",
       "0  Great comedy is finally back. Louis C.K. is no...   \n",
       "1  For his second EPIX comedy special, Jim Norton...   \n",
       "2  His special \"Monster Rain,\" Jim Norton perform...   \n",
       "3  Taking the stage before a sold-out audience at...   \n",
       "4  In this standup special \"Weakness Is the Brand...   \n",
       "\n",
       "                                          transcript  \\\n",
       "0  Great comedy is finally back. Louis C.K. is no...   \n",
       "1  This year I wanted the opening of my new speci...   \n",
       "2  Thank you! Aw, thank you very much. Thank you,...   \n",
       "3  A man offered us a billion dollars. – Bolt the...   \n",
       "4  [microphone droans]\\n[music playing]\\n[crowd c...   \n",
       "\n",
       "                                                link  \n",
       "0  https://scrapsfromtheloft.com/2020/05/02/since...  \n",
       "1  https://scrapsfromtheloft.com/2020/05/02/jim-n...  \n",
       "2  https://scrapsfromtheloft.com/2020/05/02/jim-n...  \n",
       "3  https://scrapsfromtheloft.com/2020/05/01/danie...  \n",
       "4  https://scrapsfromtheloft.com/2020/05/01/maria...  "
      ]
     },
     "execution_count": 9,
     "metadata": {},
     "output_type": "execute_result"
    }
   ],
   "source": [
    "# change col order\n",
    "data = data[['name','raw_title','summary','transcript','link']]\n",
    "data.head()"
   ]
  },
  {
   "cell_type": "markdown",
   "metadata": {},
   "source": [
    "## Save"
   ]
  },
  {
   "cell_type": "code",
   "execution_count": 10,
   "metadata": {},
   "outputs": [],
   "source": [
    "data_directory_saves = os.path.join( '..','data','raw_data/')\n",
    "data.to_pickle(data_directory_saves+ 'raw_comedy_03.pkl')"
   ]
  },
  {
   "cell_type": "code",
   "execution_count": null,
   "metadata": {},
   "outputs": [],
   "source": []
  }
 ],
 "metadata": {
  "kernelspec": {
   "display_name": "Python 3",
   "language": "python",
   "name": "python3"
  },
  "language_info": {
   "codemirror_mode": {
    "name": "ipython",
    "version": 3
   },
   "file_extension": ".py",
   "mimetype": "text/x-python",
   "name": "python",
   "nbconvert_exporter": "python",
   "pygments_lexer": "ipython3",
   "version": "3.7.7"
  }
 },
 "nbformat": 4,
 "nbformat_minor": 4
}
