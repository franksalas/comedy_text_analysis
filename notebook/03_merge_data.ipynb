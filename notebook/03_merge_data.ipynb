{
 "cells": [
  {
   "cell_type": "code",
   "execution_count": null,
   "metadata": {},
   "outputs": [],
   "source": []
  },
  {
   "cell_type": "code",
   "execution_count": 1,
   "metadata": {},
   "outputs": [],
   "source": [
    "import pandas as pd\n",
    "import numpy as np\n",
    "import seaborn as sns\n",
    "import matplotlib.pyplot as plt\n",
    "import os"
   ]
  },
  {
   "cell_type": "markdown",
   "metadata": {},
   "source": [
    "## Data directory"
   ]
  },
  {
   "cell_type": "code",
   "execution_count": 2,
   "metadata": {},
   "outputs": [],
   "source": [
    "# raw_data\n",
    "data_directory = os.path.join( '..','data','raw_data/')"
   ]
  },
  {
   "cell_type": "code",
   "execution_count": 3,
   "metadata": {},
   "outputs": [],
   "source": [
    "# comedy link list\n",
    "df_list = pd.read_csv(data_directory+'comedy_link_list_OCT_19.csv')"
   ]
  },
  {
   "cell_type": "code",
   "execution_count": 5,
   "metadata": {},
   "outputs": [
    {
     "data": {
      "text/html": [
       "<div>\n",
       "<style scoped>\n",
       "    .dataframe tbody tr th:only-of-type {\n",
       "        vertical-align: middle;\n",
       "    }\n",
       "\n",
       "    .dataframe tbody tr th {\n",
       "        vertical-align: top;\n",
       "    }\n",
       "\n",
       "    .dataframe thead th {\n",
       "        text-align: right;\n",
       "    }\n",
       "</style>\n",
       "<table border=\"1\" class=\"dataframe\">\n",
       "  <thead>\n",
       "    <tr style=\"text-align: right;\">\n",
       "      <th></th>\n",
       "      <th>name</th>\n",
       "      <th>raw_title</th>\n",
       "      <th>summary</th>\n",
       "      <th>link</th>\n",
       "    </tr>\n",
       "  </thead>\n",
       "  <tbody>\n",
       "    <tr>\n",
       "      <th>0</th>\n",
       "      <td>Nikki Glaser</td>\n",
       "      <td>Nikki Glaser: Bangin’ (2019) – Full Transcript</td>\n",
       "      <td>A NETFLIX ORIGINAL COMEDY SPECIAL Thank you! T...</td>\n",
       "      <td>https://scrapsfromtheloft.com/2019/10/04/nikki...</td>\n",
       "    </tr>\n",
       "    <tr>\n",
       "      <th>1</th>\n",
       "      <td>Ryan Hamilton</td>\n",
       "      <td>Ryan Hamilton Stand-Up – The Tonight Show Star...</td>\n",
       "      <td>Ryan Hamilton makes his Tonight Show debut wit...</td>\n",
       "      <td>https://scrapsfromtheloft.com/2019/09/25/ryan-...</td>\n",
       "    </tr>\n",
       "    <tr>\n",
       "      <th>2</th>\n",
       "      <td>Mark Normandthe Tonight Show Starring Jimmy Fa...</td>\n",
       "      <td>Mark Normand Stand-Up – The Tonight Show Starr...</td>\n",
       "      <td>Mark Normand is back on The Tonight Show with ...</td>\n",
       "      <td>https://scrapsfromtheloft.com/2019/09/21/mark-...</td>\n",
       "    </tr>\n",
       "    <tr>\n",
       "      <th>3</th>\n",
       "      <td>George Carlin</td>\n",
       "      <td>George Carlin: Dumb Americans (2006) – Full Tr...</td>\n",
       "      <td>Full transcript of George Carlin's \"Dumb Ameri...</td>\n",
       "      <td>https://scrapsfromtheloft.com/2019/09/12/georg...</td>\n",
       "    </tr>\n",
       "    <tr>\n",
       "      <th>4</th>\n",
       "      <td>Bill Burr</td>\n",
       "      <td>Bill Burr: Paper Tiger (2019) – Full Transcript</td>\n",
       "      <td>Only a few weeks after Dave Chappelle's \"Stick...</td>\n",
       "      <td>https://scrapsfromtheloft.com/2019/09/10/bill-...</td>\n",
       "    </tr>\n",
       "  </tbody>\n",
       "</table>\n",
       "</div>"
      ],
      "text/plain": [
       "                                                name  \\\n",
       "0                                       Nikki Glaser   \n",
       "1                                      Ryan Hamilton   \n",
       "2  Mark Normandthe Tonight Show Starring Jimmy Fa...   \n",
       "3                                      George Carlin   \n",
       "4                                          Bill Burr   \n",
       "\n",
       "                                           raw_title  \\\n",
       "0     Nikki Glaser: Bangin’ (2019) – Full Transcript   \n",
       "1  Ryan Hamilton Stand-Up – The Tonight Show Star...   \n",
       "2  Mark Normand Stand-Up – The Tonight Show Starr...   \n",
       "3  George Carlin: Dumb Americans (2006) – Full Tr...   \n",
       "4    Bill Burr: Paper Tiger (2019) – Full Transcript   \n",
       "\n",
       "                                             summary  \\\n",
       "0  A NETFLIX ORIGINAL COMEDY SPECIAL Thank you! T...   \n",
       "1  Ryan Hamilton makes his Tonight Show debut wit...   \n",
       "2  Mark Normand is back on The Tonight Show with ...   \n",
       "3  Full transcript of George Carlin's \"Dumb Ameri...   \n",
       "4  Only a few weeks after Dave Chappelle's \"Stick...   \n",
       "\n",
       "                                                link  \n",
       "0  https://scrapsfromtheloft.com/2019/10/04/nikki...  \n",
       "1  https://scrapsfromtheloft.com/2019/09/25/ryan-...  \n",
       "2  https://scrapsfromtheloft.com/2019/09/21/mark-...  \n",
       "3  https://scrapsfromtheloft.com/2019/09/12/georg...  \n",
       "4  https://scrapsfromtheloft.com/2019/09/10/bill-...  "
      ]
     },
     "execution_count": 5,
     "metadata": {},
     "output_type": "execute_result"
    }
   ],
   "source": [
    "df_list.head()"
   ]
  },
  {
   "cell_type": "code",
   "execution_count": 6,
   "metadata": {},
   "outputs": [],
   "source": [
    "# data_transcrips\n",
    "df_transcripts = pd.read_csv(data_directory+'data_transcripts_OCT_19.csv')\n",
    "df_transcripts.drop(['Unnamed: 0'],axis=1,inplace=True)"
   ]
  },
  {
   "cell_type": "code",
   "execution_count": 7,
   "metadata": {},
   "outputs": [
    {
     "name": "stdout",
     "output_type": "stream",
     "text": [
      "<class 'pandas.core.frame.DataFrame'>\n",
      "RangeIndex: 284 entries, 0 to 283\n",
      "Data columns (total 2 columns):\n",
      "transcript    284 non-null object\n",
      "link          284 non-null object\n",
      "dtypes: object(2)\n",
      "memory usage: 4.5+ KB\n"
     ]
    }
   ],
   "source": [
    "df_transcripts.info()"
   ]
  },
  {
   "cell_type": "code",
   "execution_count": 8,
   "metadata": {},
   "outputs": [
    {
     "data": {
      "text/html": [
       "<div>\n",
       "<style scoped>\n",
       "    .dataframe tbody tr th:only-of-type {\n",
       "        vertical-align: middle;\n",
       "    }\n",
       "\n",
       "    .dataframe tbody tr th {\n",
       "        vertical-align: top;\n",
       "    }\n",
       "\n",
       "    .dataframe thead th {\n",
       "        text-align: right;\n",
       "    }\n",
       "</style>\n",
       "<table border=\"1\" class=\"dataframe\">\n",
       "  <thead>\n",
       "    <tr style=\"text-align: right;\">\n",
       "      <th></th>\n",
       "      <th>transcript</th>\n",
       "      <th>link</th>\n",
       "    </tr>\n",
       "  </thead>\n",
       "  <tbody>\n",
       "    <tr>\n",
       "      <th>0</th>\n",
       "      <td>A NETFLIX ORIGINAL COMEDY SPECIAL\\nThank you! ...</td>\n",
       "      <td>https://scrapsfromtheloft.com/2019/10/04/nikki...</td>\n",
       "    </tr>\n",
       "    <tr>\n",
       "      <th>1</th>\n",
       "      <td>Published on Sep 11, 2019\\nThe Tonight Show St...</td>\n",
       "      <td>https://scrapsfromtheloft.com/2019/09/25/ryan-...</td>\n",
       "    </tr>\n",
       "    <tr>\n",
       "      <th>2</th>\n",
       "      <td>Aired on September 19, 2019\\nHey, hey. All rig...</td>\n",
       "      <td>https://scrapsfromtheloft.com/2019/09/21/mark-...</td>\n",
       "    </tr>\n",
       "    <tr>\n",
       "      <th>3</th>\n",
       "      <td>From Life Is Worth Losing\\nRecorded on Novembe...</td>\n",
       "      <td>https://scrapsfromtheloft.com/2019/09/12/georg...</td>\n",
       "    </tr>\n",
       "    <tr>\n",
       "      <th>4</th>\n",
       "      <td>Recorded Live at the Royal Albert Hall, London...</td>\n",
       "      <td>https://scrapsfromtheloft.com/2019/09/10/bill-...</td>\n",
       "    </tr>\n",
       "  </tbody>\n",
       "</table>\n",
       "</div>"
      ],
      "text/plain": [
       "                                          transcript  \\\n",
       "0  A NETFLIX ORIGINAL COMEDY SPECIAL\\nThank you! ...   \n",
       "1  Published on Sep 11, 2019\\nThe Tonight Show St...   \n",
       "2  Aired on September 19, 2019\\nHey, hey. All rig...   \n",
       "3  From Life Is Worth Losing\\nRecorded on Novembe...   \n",
       "4  Recorded Live at the Royal Albert Hall, London...   \n",
       "\n",
       "                                                link  \n",
       "0  https://scrapsfromtheloft.com/2019/10/04/nikki...  \n",
       "1  https://scrapsfromtheloft.com/2019/09/25/ryan-...  \n",
       "2  https://scrapsfromtheloft.com/2019/09/21/mark-...  \n",
       "3  https://scrapsfromtheloft.com/2019/09/12/georg...  \n",
       "4  https://scrapsfromtheloft.com/2019/09/10/bill-...  "
      ]
     },
     "execution_count": 8,
     "metadata": {},
     "output_type": "execute_result"
    }
   ],
   "source": [
    "df_transcripts.head()"
   ]
  },
  {
   "cell_type": "markdown",
   "metadata": {},
   "source": [
    "## Merge datframes\n",
    "- on \"link\""
   ]
  },
  {
   "cell_type": "code",
   "execution_count": 9,
   "metadata": {},
   "outputs": [],
   "source": [
    "data = df_list.merge(df_transcripts,left_on='link',right_on='link')"
   ]
  },
  {
   "cell_type": "code",
   "execution_count": 10,
   "metadata": {},
   "outputs": [
    {
     "data": {
      "text/html": [
       "<div>\n",
       "<style scoped>\n",
       "    .dataframe tbody tr th:only-of-type {\n",
       "        vertical-align: middle;\n",
       "    }\n",
       "\n",
       "    .dataframe tbody tr th {\n",
       "        vertical-align: top;\n",
       "    }\n",
       "\n",
       "    .dataframe thead th {\n",
       "        text-align: right;\n",
       "    }\n",
       "</style>\n",
       "<table border=\"1\" class=\"dataframe\">\n",
       "  <thead>\n",
       "    <tr style=\"text-align: right;\">\n",
       "      <th></th>\n",
       "      <th>name</th>\n",
       "      <th>raw_title</th>\n",
       "      <th>summary</th>\n",
       "      <th>link</th>\n",
       "      <th>transcript</th>\n",
       "    </tr>\n",
       "  </thead>\n",
       "  <tbody>\n",
       "    <tr>\n",
       "      <th>0</th>\n",
       "      <td>Nikki Glaser</td>\n",
       "      <td>Nikki Glaser: Bangin’ (2019) – Full Transcript</td>\n",
       "      <td>A NETFLIX ORIGINAL COMEDY SPECIAL Thank you! T...</td>\n",
       "      <td>https://scrapsfromtheloft.com/2019/10/04/nikki...</td>\n",
       "      <td>A NETFLIX ORIGINAL COMEDY SPECIAL\\nThank you! ...</td>\n",
       "    </tr>\n",
       "    <tr>\n",
       "      <th>1</th>\n",
       "      <td>Ryan Hamilton</td>\n",
       "      <td>Ryan Hamilton Stand-Up – The Tonight Show Star...</td>\n",
       "      <td>Ryan Hamilton makes his Tonight Show debut wit...</td>\n",
       "      <td>https://scrapsfromtheloft.com/2019/09/25/ryan-...</td>\n",
       "      <td>Published on Sep 11, 2019\\nThe Tonight Show St...</td>\n",
       "    </tr>\n",
       "    <tr>\n",
       "      <th>2</th>\n",
       "      <td>Mark Normandthe Tonight Show Starring Jimmy Fa...</td>\n",
       "      <td>Mark Normand Stand-Up – The Tonight Show Starr...</td>\n",
       "      <td>Mark Normand is back on The Tonight Show with ...</td>\n",
       "      <td>https://scrapsfromtheloft.com/2019/09/21/mark-...</td>\n",
       "      <td>Aired on September 19, 2019\\nHey, hey. All rig...</td>\n",
       "    </tr>\n",
       "    <tr>\n",
       "      <th>3</th>\n",
       "      <td>George Carlin</td>\n",
       "      <td>George Carlin: Dumb Americans (2006) – Full Tr...</td>\n",
       "      <td>Full transcript of George Carlin's \"Dumb Ameri...</td>\n",
       "      <td>https://scrapsfromtheloft.com/2019/09/12/georg...</td>\n",
       "      <td>From Life Is Worth Losing\\nRecorded on Novembe...</td>\n",
       "    </tr>\n",
       "    <tr>\n",
       "      <th>4</th>\n",
       "      <td>Bill Burr</td>\n",
       "      <td>Bill Burr: Paper Tiger (2019) – Full Transcript</td>\n",
       "      <td>Only a few weeks after Dave Chappelle's \"Stick...</td>\n",
       "      <td>https://scrapsfromtheloft.com/2019/09/10/bill-...</td>\n",
       "      <td>Recorded Live at the Royal Albert Hall, London...</td>\n",
       "    </tr>\n",
       "  </tbody>\n",
       "</table>\n",
       "</div>"
      ],
      "text/plain": [
       "                                                name  \\\n",
       "0                                       Nikki Glaser   \n",
       "1                                      Ryan Hamilton   \n",
       "2  Mark Normandthe Tonight Show Starring Jimmy Fa...   \n",
       "3                                      George Carlin   \n",
       "4                                          Bill Burr   \n",
       "\n",
       "                                           raw_title  \\\n",
       "0     Nikki Glaser: Bangin’ (2019) – Full Transcript   \n",
       "1  Ryan Hamilton Stand-Up – The Tonight Show Star...   \n",
       "2  Mark Normand Stand-Up – The Tonight Show Starr...   \n",
       "3  George Carlin: Dumb Americans (2006) – Full Tr...   \n",
       "4    Bill Burr: Paper Tiger (2019) – Full Transcript   \n",
       "\n",
       "                                             summary  \\\n",
       "0  A NETFLIX ORIGINAL COMEDY SPECIAL Thank you! T...   \n",
       "1  Ryan Hamilton makes his Tonight Show debut wit...   \n",
       "2  Mark Normand is back on The Tonight Show with ...   \n",
       "3  Full transcript of George Carlin's \"Dumb Ameri...   \n",
       "4  Only a few weeks after Dave Chappelle's \"Stick...   \n",
       "\n",
       "                                                link  \\\n",
       "0  https://scrapsfromtheloft.com/2019/10/04/nikki...   \n",
       "1  https://scrapsfromtheloft.com/2019/09/25/ryan-...   \n",
       "2  https://scrapsfromtheloft.com/2019/09/21/mark-...   \n",
       "3  https://scrapsfromtheloft.com/2019/09/12/georg...   \n",
       "4  https://scrapsfromtheloft.com/2019/09/10/bill-...   \n",
       "\n",
       "                                          transcript  \n",
       "0  A NETFLIX ORIGINAL COMEDY SPECIAL\\nThank you! ...  \n",
       "1  Published on Sep 11, 2019\\nThe Tonight Show St...  \n",
       "2  Aired on September 19, 2019\\nHey, hey. All rig...  \n",
       "3  From Life Is Worth Losing\\nRecorded on Novembe...  \n",
       "4  Recorded Live at the Royal Albert Hall, London...  "
      ]
     },
     "execution_count": 10,
     "metadata": {},
     "output_type": "execute_result"
    }
   ],
   "source": [
    "data.head()"
   ]
  },
  {
   "cell_type": "markdown",
   "metadata": {},
   "source": [
    "## Display null data"
   ]
  },
  {
   "cell_type": "code",
   "execution_count": 11,
   "metadata": {},
   "outputs": [
    {
     "data": {
      "image/png": "[encoded data removed]",
      "text/plain": [
       "<Figure size 432x288 with 1 Axes>"
      ]
     },
     "metadata": {
      "needs_background": "light"
     },
     "output_type": "display_data"
    }
   ],
   "source": [
    "sns.heatmap(data.isnull(),yticklabels=False,cbar=False,cmap='viridis')\n",
    "plt.title('Null dataset display')\n",
    "plt.show()"
   ]
  },
  {
   "cell_type": "code",
   "execution_count": 12,
   "metadata": {},
   "outputs": [],
   "source": [
    "# change col order\n",
    "data = data[['name','raw_title','summary','transcript','link']]"
   ]
  },
  {
   "cell_type": "code",
   "execution_count": null,
   "metadata": {},
   "outputs": [],
   "source": []
  },
  {
   "cell_type": "markdown",
   "metadata": {},
   "source": [
    "## Save"
   ]
  },
  {
   "cell_type": "code",
   "execution_count": 13,
   "metadata": {},
   "outputs": [],
   "source": [
    "data.to_csv(data_directory+'03_data_merge_OCT_19.csv',index=False)"
   ]
  },
  {
   "cell_type": "code",
   "execution_count": null,
   "metadata": {},
   "outputs": [],
   "source": []
  }
 ],
 "metadata": {
  "kernelspec": {
   "display_name": "Python 3",
   "language": "python",
   "name": "python3"
  },
  "language_info": {
   "codemirror_mode": {
    "name": "ipython",
    "version": 3
   },
   "file_extension": ".py",
   "mimetype": "text/x-python",
   "name": "python",
   "nbconvert_exporter": "python",
   "pygments_lexer": "ipython3",
   "version": "3.7.4"
  }
 },
 "nbformat": 4,
 "nbformat_minor": 2
}
