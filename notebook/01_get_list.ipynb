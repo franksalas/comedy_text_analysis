{
 "cells": [
  {
   "cell_type": "markdown",
   "metadata": {},
   "source": [
    "# Load libraries"
   ]
  },
  {
   "cell_type": "code",
   "execution_count": 1,
   "metadata": {},
   "outputs": [],
   "source": [
    "from bs4 import BeautifulSoup\n",
    "import pandas as pd\n",
    "import numpy as np\n",
    "from IPython.core.display import clear_output\n",
    "from warnings import warn\n",
    "import os"
   ]
  },
  {
   "cell_type": "code",
   "execution_count": 2,
   "metadata": {},
   "outputs": [],
   "source": [
    "import requests\n",
    "import time\n",
    "from requests.adapters import HTTPAdapter\n",
    "from requests.packages.urllib3.util.retry import Retry"
   ]
  },
  {
   "cell_type": "markdown",
   "metadata": {},
   "source": [
    "## Creat functions\n",
    "- source :https://www.peterbe.com/plog/best-practice-with-retries-with-requests\n"
   ]
  },
  {
   "cell_type": "code",
   "execution_count": 3,
   "metadata": {},
   "outputs": [],
   "source": [
    "def requests_retry_session(\n",
    "    retries=3,\n",
    "    backoff_factor=0.3,\n",
    "    status_forcelist=(500, 502, 504),\n",
    "    session=None,\n",
    "):\n",
    "    session = session or requests.Session()\n",
    "    retry = Retry(\n",
    "        total=retries,\n",
    "        read=retries,\n",
    "        connect=retries,\n",
    "        backoff_factor=backoff_factor,\n",
    "        status_forcelist=status_forcelist,\n",
    "    )\n",
    "    adapter = HTTPAdapter(max_retries=retry)\n",
    "    session.mount('http://', adapter)\n",
    "    session.mount('https://', adapter)\n",
    "    return session"
   ]
  },
  {
   "cell_type": "code",
   "execution_count": 4,
   "metadata": {},
   "outputs": [],
   "source": [
    "def get_response(url):\n",
    "    t0 = time.time()\n",
    "    try:\n",
    "        response = requests_retry_session().get(\n",
    "            url,\n",
    "            timeout=10\n",
    "        )\n",
    "        return response\n",
    "    except Exception as x:\n",
    "        print('It failed :(', x.__class__.__name__)\n",
    "    else:\n",
    "        print('It eventually worked', response.status_code)\n",
    "    finally:\n",
    "        t1 = time.time()\n",
    "        print('Took', t1 - t0, 'seconds')"
   ]
  },
  {
   "cell_type": "code",
   "execution_count": 5,
   "metadata": {},
   "outputs": [],
   "source": [
    "def bs_parser_post(response):\n",
    "    '''extract title, link, tags, & summary\n",
    "    from request data'''\n",
    "    titles = []\n",
    "    summaries = []\n",
    "    links = []\n",
    "    tags = []\n",
    "    page_html = BeautifulSoup(response.text, 'html.parser')\n",
    "    containers = page_html.find_all('div', class_ = 'fusion-post-content post-content')\n",
    "    for i in containers:\n",
    "        titles.append(i.h2.text)\n",
    "        links.append(i.a['href'])\n",
    "        tags.append(i.select('span')[6].get_text(strip=True)[5:])\n",
    "        summaries.append(i.find('div', class_ = 'fusion-post-content-container').p.text)\n",
    "    return titles,summaries,tags,links"
   ]
  },
  {
   "cell_type": "markdown",
   "metadata": {},
   "source": [
    "## Create dataframe from scrapped data"
   ]
  },
  {
   "cell_type": "code",
   "execution_count": 6,
   "metadata": {},
   "outputs": [],
   "source": [
    "url = 'https://scrapsfromtheloft.com/tag/stand-up-transcripts/'"
   ]
  },
  {
   "cell_type": "code",
   "execution_count": 7,
   "metadata": {},
   "outputs": [
    {
     "name": "stdout",
     "output_type": "stream",
     "text": [
      "Took 1.754042625427246 seconds\n",
      "CPU times: user 578 ms, sys: 46.9 ms, total: 625 ms\n",
      "Wall time: 2.31 s\n"
     ]
    }
   ],
   "source": [
    "%%time\n",
    "response = get_response(url)\n",
    "titles,summaries,tags,links = bs_parser_post(response)\n",
    "\n",
    "df = pd.DataFrame({\n",
    "                   'raw_title': titles,\n",
    "                   'summary': summaries,\n",
    "                   'tags':tags,\n",
    "                   'link': links})"
   ]
  },
  {
   "cell_type": "code",
   "execution_count": 8,
   "metadata": {},
   "outputs": [
    {
     "name": "stdout",
     "output_type": "stream",
     "text": [
      "<class 'pandas.core.frame.DataFrame'>\n",
      "RangeIndex: 284 entries, 0 to 283\n",
      "Data columns (total 4 columns):\n",
      "raw_title    284 non-null object\n",
      "summary      284 non-null object\n",
      "tags         284 non-null object\n",
      "link         284 non-null object\n",
      "dtypes: object(4)\n",
      "memory usage: 9.0+ KB\n"
     ]
    }
   ],
   "source": [
    "df.info()"
   ]
  },
  {
   "cell_type": "code",
   "execution_count": 9,
   "metadata": {},
   "outputs": [
    {
     "data": {
      "text/html": [
       "<div>\n",
       "<style scoped>\n",
       "    .dataframe tbody tr th:only-of-type {\n",
       "        vertical-align: middle;\n",
       "    }\n",
       "\n",
       "    .dataframe tbody tr th {\n",
       "        vertical-align: top;\n",
       "    }\n",
       "\n",
       "    .dataframe thead th {\n",
       "        text-align: right;\n",
       "    }\n",
       "</style>\n",
       "<table border=\"1\" class=\"dataframe\">\n",
       "  <thead>\n",
       "    <tr style=\"text-align: right;\">\n",
       "      <th></th>\n",
       "      <th>raw_title</th>\n",
       "      <th>summary</th>\n",
       "      <th>tags</th>\n",
       "      <th>link</th>\n",
       "    </tr>\n",
       "  </thead>\n",
       "  <tbody>\n",
       "    <tr>\n",
       "      <th>0</th>\n",
       "      <td>Nikki Glaser: Bangin’ (2019) – Full Transcript</td>\n",
       "      <td>A NETFLIX ORIGINAL COMEDY SPECIAL Thank you! T...</td>\n",
       "      <td>Nikki Glaser,Stand-up transcripts</td>\n",
       "      <td>https://scrapsfromtheloft.com/2019/10/04/nikki...</td>\n",
       "    </tr>\n",
       "    <tr>\n",
       "      <th>1</th>\n",
       "      <td>Ryan Hamilton Stand-Up – The Tonight Show Star...</td>\n",
       "      <td>Ryan Hamilton makes his Tonight Show debut wit...</td>\n",
       "      <td>Ryan Hamilton,Stand-up transcripts</td>\n",
       "      <td>https://scrapsfromtheloft.com/2019/09/25/ryan-...</td>\n",
       "    </tr>\n",
       "    <tr>\n",
       "      <th>2</th>\n",
       "      <td>Mark Normand Stand-Up – The Tonight Show Starr...</td>\n",
       "      <td>Mark Normand is back on The Tonight Show with ...</td>\n",
       "      <td>Mark Normand,Stand-up transcripts,The Tonight ...</td>\n",
       "      <td>https://scrapsfromtheloft.com/2019/09/21/mark-...</td>\n",
       "    </tr>\n",
       "    <tr>\n",
       "      <th>3</th>\n",
       "      <td>George Carlin: Dumb Americans (2006) – Full Tr...</td>\n",
       "      <td>Full transcript of George Carlin's \"Dumb Ameri...</td>\n",
       "      <td>George Carlin,Stand-up transcripts</td>\n",
       "      <td>https://scrapsfromtheloft.com/2019/09/12/georg...</td>\n",
       "    </tr>\n",
       "    <tr>\n",
       "      <th>4</th>\n",
       "      <td>Bill Burr: Paper Tiger (2019) – Full Transcript</td>\n",
       "      <td>Only a few weeks after Dave Chappelle's \"Stick...</td>\n",
       "      <td>Bill Burr,Stand-up transcripts</td>\n",
       "      <td>https://scrapsfromtheloft.com/2019/09/10/bill-...</td>\n",
       "    </tr>\n",
       "  </tbody>\n",
       "</table>\n",
       "</div>"
      ],
      "text/plain": [
       "                                           raw_title  \\\n",
       "0     Nikki Glaser: Bangin’ (2019) – Full Transcript   \n",
       "1  Ryan Hamilton Stand-Up – The Tonight Show Star...   \n",
       "2  Mark Normand Stand-Up – The Tonight Show Starr...   \n",
       "3  George Carlin: Dumb Americans (2006) – Full Tr...   \n",
       "4    Bill Burr: Paper Tiger (2019) – Full Transcript   \n",
       "\n",
       "                                             summary  \\\n",
       "0  A NETFLIX ORIGINAL COMEDY SPECIAL Thank you! T...   \n",
       "1  Ryan Hamilton makes his Tonight Show debut wit...   \n",
       "2  Mark Normand is back on The Tonight Show with ...   \n",
       "3  Full transcript of George Carlin's \"Dumb Ameri...   \n",
       "4  Only a few weeks after Dave Chappelle's \"Stick...   \n",
       "\n",
       "                                                tags  \\\n",
       "0                  Nikki Glaser,Stand-up transcripts   \n",
       "1                 Ryan Hamilton,Stand-up transcripts   \n",
       "2  Mark Normand,Stand-up transcripts,The Tonight ...   \n",
       "3                 George Carlin,Stand-up transcripts   \n",
       "4                     Bill Burr,Stand-up transcripts   \n",
       "\n",
       "                                                link  \n",
       "0  https://scrapsfromtheloft.com/2019/10/04/nikki...  \n",
       "1  https://scrapsfromtheloft.com/2019/09/25/ryan-...  \n",
       "2  https://scrapsfromtheloft.com/2019/09/21/mark-...  \n",
       "3  https://scrapsfromtheloft.com/2019/09/12/georg...  \n",
       "4  https://scrapsfromtheloft.com/2019/09/10/bill-...  "
      ]
     },
     "execution_count": 9,
     "metadata": {},
     "output_type": "execute_result"
    }
   ],
   "source": [
    "df.head()"
   ]
  },
  {
   "cell_type": "code",
   "execution_count": 11,
   "metadata": {},
   "outputs": [
    {
     "data": {
      "text/plain": [
       "George Carlin,Stand-up transcripts      20\n",
       "Dave Chappelle,Stand-up transcripts     11\n",
       "Louis C.K.,Stand-up transcripts         10\n",
       "Ricky Gervais,Stand-up transcripts       7\n",
       "Bill Burr,Stand-up transcripts           7\n",
       "Jim Jefferies,Stand-up transcripts       7\n",
       "Kevin Hart,Stand-up transcripts          5\n",
       "Stand-up transcripts,Trevor Noah         5\n",
       "Chris Rock,Stand-up transcripts          4\n",
       "SARAH SILVERMAN,Stand-up transcripts     4\n",
       "Name: tags, dtype: int64"
      ]
     },
     "execution_count": 11,
     "metadata": {},
     "output_type": "execute_result"
    }
   ],
   "source": [
    "df.tags.value_counts()[:10]"
   ]
  },
  {
   "cell_type": "markdown",
   "metadata": {},
   "source": [
    "## Minor cleanup\n",
    "## Clean tags column"
   ]
  },
  {
   "cell_type": "code",
   "execution_count": 12,
   "metadata": {},
   "outputs": [],
   "source": [
    "df.tags = df.tags.str.replace('Stand-up transcripts','')\n",
    "df.tags = df.tags.str.replace('Gun control','')\n",
    "df.tags = df.tags.str.replace('SATURDAY NIGHT LIVE','')\n",
    "df.tags = df.tags.str.replace('Abortion','')\n",
    "df.tags = df.tags.str.replace('Religion','')\n",
    "df.tags = df.tags.str.replace(',','')\n",
    "\n",
    "# Firstname Lastname\n",
    "df.tags = df.tags.str.title()"
   ]
  },
  {
   "cell_type": "code",
   "execution_count": 13,
   "metadata": {},
   "outputs": [],
   "source": [
    "# rename column\n",
    "df.rename(columns={\"tags\": \"name\"},inplace=True)"
   ]
  },
  {
   "cell_type": "code",
   "execution_count": 14,
   "metadata": {},
   "outputs": [],
   "source": [
    "# order columns\n",
    "df = df[['name','raw_title','summary','link']]"
   ]
  },
  {
   "cell_type": "code",
   "execution_count": 15,
   "metadata": {},
   "outputs": [
    {
     "data": {
      "text/html": [
       "<div>\n",
       "<style scoped>\n",
       "    .dataframe tbody tr th:only-of-type {\n",
       "        vertical-align: middle;\n",
       "    }\n",
       "\n",
       "    .dataframe tbody tr th {\n",
       "        vertical-align: top;\n",
       "    }\n",
       "\n",
       "    .dataframe thead th {\n",
       "        text-align: right;\n",
       "    }\n",
       "</style>\n",
       "<table border=\"1\" class=\"dataframe\">\n",
       "  <thead>\n",
       "    <tr style=\"text-align: right;\">\n",
       "      <th></th>\n",
       "      <th>name</th>\n",
       "      <th>raw_title</th>\n",
       "      <th>summary</th>\n",
       "      <th>link</th>\n",
       "    </tr>\n",
       "  </thead>\n",
       "  <tbody>\n",
       "    <tr>\n",
       "      <th>0</th>\n",
       "      <td>Nikki Glaser</td>\n",
       "      <td>Nikki Glaser: Bangin’ (2019) – Full Transcript</td>\n",
       "      <td>A NETFLIX ORIGINAL COMEDY SPECIAL Thank you! T...</td>\n",
       "      <td>https://scrapsfromtheloft.com/2019/10/04/nikki...</td>\n",
       "    </tr>\n",
       "    <tr>\n",
       "      <th>1</th>\n",
       "      <td>Ryan Hamilton</td>\n",
       "      <td>Ryan Hamilton Stand-Up – The Tonight Show Star...</td>\n",
       "      <td>Ryan Hamilton makes his Tonight Show debut wit...</td>\n",
       "      <td>https://scrapsfromtheloft.com/2019/09/25/ryan-...</td>\n",
       "    </tr>\n",
       "    <tr>\n",
       "      <th>2</th>\n",
       "      <td>Mark Normandthe Tonight Show Starring Jimmy Fa...</td>\n",
       "      <td>Mark Normand Stand-Up – The Tonight Show Starr...</td>\n",
       "      <td>Mark Normand is back on The Tonight Show with ...</td>\n",
       "      <td>https://scrapsfromtheloft.com/2019/09/21/mark-...</td>\n",
       "    </tr>\n",
       "    <tr>\n",
       "      <th>3</th>\n",
       "      <td>George Carlin</td>\n",
       "      <td>George Carlin: Dumb Americans (2006) – Full Tr...</td>\n",
       "      <td>Full transcript of George Carlin's \"Dumb Ameri...</td>\n",
       "      <td>https://scrapsfromtheloft.com/2019/09/12/georg...</td>\n",
       "    </tr>\n",
       "    <tr>\n",
       "      <th>4</th>\n",
       "      <td>Bill Burr</td>\n",
       "      <td>Bill Burr: Paper Tiger (2019) – Full Transcript</td>\n",
       "      <td>Only a few weeks after Dave Chappelle's \"Stick...</td>\n",
       "      <td>https://scrapsfromtheloft.com/2019/09/10/bill-...</td>\n",
       "    </tr>\n",
       "  </tbody>\n",
       "</table>\n",
       "</div>"
      ],
      "text/plain": [
       "                                                name  \\\n",
       "0                                       Nikki Glaser   \n",
       "1                                      Ryan Hamilton   \n",
       "2  Mark Normandthe Tonight Show Starring Jimmy Fa...   \n",
       "3                                      George Carlin   \n",
       "4                                          Bill Burr   \n",
       "\n",
       "                                           raw_title  \\\n",
       "0     Nikki Glaser: Bangin’ (2019) – Full Transcript   \n",
       "1  Ryan Hamilton Stand-Up – The Tonight Show Star...   \n",
       "2  Mark Normand Stand-Up – The Tonight Show Starr...   \n",
       "3  George Carlin: Dumb Americans (2006) – Full Tr...   \n",
       "4    Bill Burr: Paper Tiger (2019) – Full Transcript   \n",
       "\n",
       "                                             summary  \\\n",
       "0  A NETFLIX ORIGINAL COMEDY SPECIAL Thank you! T...   \n",
       "1  Ryan Hamilton makes his Tonight Show debut wit...   \n",
       "2  Mark Normand is back on The Tonight Show with ...   \n",
       "3  Full transcript of George Carlin's \"Dumb Ameri...   \n",
       "4  Only a few weeks after Dave Chappelle's \"Stick...   \n",
       "\n",
       "                                                link  \n",
       "0  https://scrapsfromtheloft.com/2019/10/04/nikki...  \n",
       "1  https://scrapsfromtheloft.com/2019/09/25/ryan-...  \n",
       "2  https://scrapsfromtheloft.com/2019/09/21/mark-...  \n",
       "3  https://scrapsfromtheloft.com/2019/09/12/georg...  \n",
       "4  https://scrapsfromtheloft.com/2019/09/10/bill-...  "
      ]
     },
     "execution_count": 15,
     "metadata": {},
     "output_type": "execute_result"
    }
   ],
   "source": [
    "df.head()"
   ]
  },
  {
   "cell_type": "markdown",
   "metadata": {},
   "source": [
    "## Save"
   ]
  },
  {
   "cell_type": "code",
   "execution_count": 16,
   "metadata": {},
   "outputs": [],
   "source": [
    "data_directory_saves = os.path.join( '..','data','raw_data/')"
   ]
  },
  {
   "cell_type": "code",
   "execution_count": 18,
   "metadata": {},
   "outputs": [],
   "source": [
    "df.to_csv(data_directory_saves+'comedy_link_list_OCT_19.csv',index=False)"
   ]
  },
  {
   "cell_type": "code",
   "execution_count": null,
   "metadata": {},
   "outputs": [],
   "source": []
  }
 ],
 "metadata": {
  "kernelspec": {
   "display_name": "Python 3",
   "language": "python",
   "name": "python3"
  },
  "language_info": {
   "codemirror_mode": {
    "name": "ipython",
    "version": 3
   },
   "file_extension": ".py",
   "mimetype": "text/x-python",
   "name": "python",
   "nbconvert_exporter": "python",
   "pygments_lexer": "ipython3",
   "version": "3.7.4"
  }
 },
 "nbformat": 4,
 "nbformat_minor": 2
}
