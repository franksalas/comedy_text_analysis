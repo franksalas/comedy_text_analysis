{
 "cells": [
  {
   "cell_type": "code",
   "execution_count": null,
   "metadata": {},
   "outputs": [],
   "source": []
  },
  {
   "cell_type": "code",
   "execution_count": 26,
   "metadata": {},
   "outputs": [],
   "source": [
    "from bs4 import BeautifulSoup\n",
    "import pandas as pd\n",
    "import numpy as np\n",
    "from IPython.core.display import clear_output\n",
    "from warnings import warn\n",
    "import os"
   ]
  },
  {
   "cell_type": "code",
   "execution_count": 3,
   "metadata": {},
   "outputs": [],
   "source": [
    "import requests\n",
    "import time\n",
    "from requests.adapters import HTTPAdapter\n",
    "from requests.packages.urllib3.util.retry import Retry"
   ]
  },
  {
   "cell_type": "markdown",
   "metadata": {},
   "source": [
    "## Creat functions"
   ]
  },
  {
   "cell_type": "code",
   "execution_count": 4,
   "metadata": {},
   "outputs": [],
   "source": [
    "def requests_retry_session(\n",
    "    retries=3,\n",
    "    backoff_factor=0.3,\n",
    "    status_forcelist=(500, 502, 504),\n",
    "    session=None,\n",
    "):\n",
    "    session = session or requests.Session()\n",
    "    retry = Retry(\n",
    "        total=retries,\n",
    "        read=retries,\n",
    "        connect=retries,\n",
    "        backoff_factor=backoff_factor,\n",
    "        status_forcelist=status_forcelist,\n",
    "    )\n",
    "    adapter = HTTPAdapter(max_retries=retry)\n",
    "    session.mount('http://', adapter)\n",
    "    session.mount('https://', adapter)\n",
    "    return session"
   ]
  },
  {
   "cell_type": "code",
   "execution_count": 5,
   "metadata": {},
   "outputs": [],
   "source": [
    "def get_response(url):\n",
    "    t0 = time.time()\n",
    "    try:\n",
    "        response = requests_retry_session().get(\n",
    "            url,\n",
    "            timeout=10\n",
    "        )\n",
    "        return response\n",
    "    except Exception as x:\n",
    "        print('It failed :(', x.__class__.__name__)\n",
    "    else:\n",
    "        print('It eventually worked', response.status_code)\n",
    "    finally:\n",
    "        t1 = time.time()\n",
    "        print('Took', t1 - t0, 'seconds')"
   ]
  },
  {
   "cell_type": "code",
   "execution_count": 11,
   "metadata": {},
   "outputs": [],
   "source": [
    "def bs_parser_post(response):\n",
    "    titles = []\n",
    "    summaries = []\n",
    "    links = []\n",
    "    tags = []\n",
    "    page_html = BeautifulSoup(response.text, 'html.parser')\n",
    "    containers = page_html.find_all('div', class_ = 'fusion-post-content post-content')\n",
    "    for i in containers:\n",
    "        titles.append(i.h2.text)\n",
    "        links.append(i.a['href'])\n",
    "        tags.append(i.select('span')[6].get_text(strip=True)[5:])\n",
    "        summaries.append(i.find('div', class_ = 'fusion-post-content-container').p.text)\n",
    "    return titles,summaries,tags,links"
   ]
  },
  {
   "cell_type": "code",
   "execution_count": 12,
   "metadata": {},
   "outputs": [],
   "source": [
    "def bs_parser(response):\n",
    "    text_str = ''\n",
    "    page_html = BeautifulSoup(response.text, 'html.parser')\n",
    "    #title = page_html.title.text\n",
    "    text_containers = page_html.find('div', class_ = 'post-content')\n",
    "    if text_containers:\n",
    "        for h in text_containers.find_all('p'):\n",
    "            text_str += '{}\\n'.format(h.text)\n",
    "    else:\n",
    "        return text_str\n",
    "    return text_str"
   ]
  },
  {
   "cell_type": "code",
   "execution_count": null,
   "metadata": {},
   "outputs": [],
   "source": []
  },
  {
   "cell_type": "code",
   "execution_count": 13,
   "metadata": {},
   "outputs": [],
   "source": [
    "url = 'https://scrapsfromtheloft.com/tag/stand-up-transcripts/'"
   ]
  },
  {
   "cell_type": "code",
   "execution_count": 14,
   "metadata": {},
   "outputs": [
    {
     "name": "stdout",
     "output_type": "stream",
     "text": [
      "Took 1.3802299499511719 seconds\n",
      "CPU times: user 375 ms, sys: 46.9 ms, total: 422 ms\n",
      "Wall time: 1.76 s\n"
     ]
    }
   ],
   "source": [
    "%%time\n",
    "response = get_response(url)\n",
    "titles,summaries,tags,links = bs_parser_post(response)\n",
    "\n",
    "df = pd.DataFrame({\n",
    "                   'raw_title': titles,\n",
    "                   'summary': summaries,\n",
    "                   'tags':tags,\n",
    "                   'link': links})"
   ]
  },
  {
   "cell_type": "code",
   "execution_count": 16,
   "metadata": {},
   "outputs": [
    {
     "name": "stdout",
     "output_type": "stream",
     "text": [
      "<class 'pandas.core.frame.DataFrame'>\n",
      "RangeIndex: 244 entries, 0 to 243\n",
      "Data columns (total 4 columns):\n",
      "raw_title    244 non-null object\n",
      "summary      244 non-null object\n",
      "tags         244 non-null object\n",
      "link         244 non-null object\n",
      "dtypes: object(4)\n",
      "memory usage: 7.7+ KB\n"
     ]
    }
   ],
   "source": [
    "df.info()"
   ]
  },
  {
   "cell_type": "code",
   "execution_count": 17,
   "metadata": {},
   "outputs": [
    {
     "data": {
      "text/html": [
       "<div>\n",
       "<style scoped>\n",
       "    .dataframe tbody tr th:only-of-type {\n",
       "        vertical-align: middle;\n",
       "    }\n",
       "\n",
       "    .dataframe tbody tr th {\n",
       "        vertical-align: top;\n",
       "    }\n",
       "\n",
       "    .dataframe thead th {\n",
       "        text-align: right;\n",
       "    }\n",
       "</style>\n",
       "<table border=\"1\" class=\"dataframe\">\n",
       "  <thead>\n",
       "    <tr style=\"text-align: right;\">\n",
       "      <th></th>\n",
       "      <th>raw_title</th>\n",
       "      <th>summary</th>\n",
       "      <th>tags</th>\n",
       "      <th>link</th>\n",
       "    </tr>\n",
       "  </thead>\n",
       "  <tbody>\n",
       "    <tr>\n",
       "      <th>0</th>\n",
       "      <td>Enissa Amani: Ehrenwort (2018) Full Transcript</td>\n",
       "      <td>Live from Hamburg, Iranian-German comedian Eni...</td>\n",
       "      <td>Enissa Amani,Stand-up transcripts</td>\n",
       "      <td>https://scrapsfromtheloft.com/2019/02/19/eniss...</td>\n",
       "    </tr>\n",
       "    <tr>\n",
       "      <th>1</th>\n",
       "      <td>Politically Correct Language – by George Carlin</td>\n",
       "      <td>George Carlin's critical thinking on pc langua...</td>\n",
       "      <td>George Carlin,Stand-up transcripts</td>\n",
       "      <td>https://scrapsfromtheloft.com/2019/02/18/polit...</td>\n",
       "    </tr>\n",
       "    <tr>\n",
       "      <th>2</th>\n",
       "      <td>Ken Jeong: You Complete Me, Ho (2019) – Full T...</td>\n",
       "      <td>Filmed at the Ice House Comedy Club in Pasaden...</td>\n",
       "      <td>Ken Jeong,Stand-up transcripts</td>\n",
       "      <td>https://scrapsfromtheloft.com/2019/02/17/ken-j...</td>\n",
       "    </tr>\n",
       "    <tr>\n",
       "      <th>3</th>\n",
       "      <td>Ray Romano: Right Here, Around the Corner (201...</td>\n",
       "      <td>Ray Romano cut his stand-up teeth at the Comed...</td>\n",
       "      <td>Ray Romano,Stand-up transcripts</td>\n",
       "      <td>https://scrapsfromtheloft.com/2019/02/12/ray-r...</td>\n",
       "    </tr>\n",
       "    <tr>\n",
       "      <th>4</th>\n",
       "      <td>Gabriel “Fluffy” Iglesias: One Show Fits All (...</td>\n",
       "      <td>In a new special from Houston, Gabriel \"Fluffy...</td>\n",
       "      <td>Gabriel Iglesias,Stand-up transcripts</td>\n",
       "      <td>https://scrapsfromtheloft.com/2019/01/30/gabri...</td>\n",
       "    </tr>\n",
       "  </tbody>\n",
       "</table>\n",
       "</div>"
      ],
      "text/plain": [
       "                                           raw_title  \\\n",
       "0     Enissa Amani: Ehrenwort (2018) Full Transcript   \n",
       "1    Politically Correct Language – by George Carlin   \n",
       "2  Ken Jeong: You Complete Me, Ho (2019) – Full T...   \n",
       "3  Ray Romano: Right Here, Around the Corner (201...   \n",
       "4  Gabriel “Fluffy” Iglesias: One Show Fits All (...   \n",
       "\n",
       "                                             summary  \\\n",
       "0  Live from Hamburg, Iranian-German comedian Eni...   \n",
       "1  George Carlin's critical thinking on pc langua...   \n",
       "2  Filmed at the Ice House Comedy Club in Pasaden...   \n",
       "3  Ray Romano cut his stand-up teeth at the Comed...   \n",
       "4  In a new special from Houston, Gabriel \"Fluffy...   \n",
       "\n",
       "                                    tags  \\\n",
       "0      Enissa Amani,Stand-up transcripts   \n",
       "1     George Carlin,Stand-up transcripts   \n",
       "2         Ken Jeong,Stand-up transcripts   \n",
       "3        Ray Romano,Stand-up transcripts   \n",
       "4  Gabriel Iglesias,Stand-up transcripts   \n",
       "\n",
       "                                                link  \n",
       "0  https://scrapsfromtheloft.com/2019/02/19/eniss...  \n",
       "1  https://scrapsfromtheloft.com/2019/02/18/polit...  \n",
       "2  https://scrapsfromtheloft.com/2019/02/17/ken-j...  \n",
       "3  https://scrapsfromtheloft.com/2019/02/12/ray-r...  \n",
       "4  https://scrapsfromtheloft.com/2019/01/30/gabri...  "
      ]
     },
     "execution_count": 17,
     "metadata": {},
     "output_type": "execute_result"
    }
   ],
   "source": [
    "df.head()"
   ]
  },
  {
   "cell_type": "markdown",
   "metadata": {},
   "source": [
    "## Cleanup tags"
   ]
  },
  {
   "cell_type": "code",
   "execution_count": 20,
   "metadata": {},
   "outputs": [],
   "source": [
    "df.tags = df.tags.str.replace('Stand-up transcripts','')\n",
    "df.tags = df.tags.str.replace('Gun control','')\n",
    "df.tags = df.tags.str.replace('SATURDAY NIGHT LIVE','')\n",
    "df.tags = df.tags.str.replace('Abortion','')\n",
    "df.tags = df.tags.str.replace('Religion','')\n",
    "df.tags = df.tags.str.replace(',','')\n",
    "\n",
    "# \n",
    "df.tags = df.tags.str.title()"
   ]
  },
  {
   "cell_type": "code",
   "execution_count": 22,
   "metadata": {},
   "outputs": [],
   "source": [
    "# rename column\n",
    "df.rename(columns={\"tags\": \"name\"},inplace=True)"
   ]
  },
  {
   "cell_type": "code",
   "execution_count": 24,
   "metadata": {},
   "outputs": [],
   "source": [
    "# order columns\n",
    "df = df[['name','raw_title','summary','link']]"
   ]
  },
  {
   "cell_type": "code",
   "execution_count": 28,
   "metadata": {},
   "outputs": [
    {
     "data": {
      "text/html": [
       "<div>\n",
       "<style scoped>\n",
       "    .dataframe tbody tr th:only-of-type {\n",
       "        vertical-align: middle;\n",
       "    }\n",
       "\n",
       "    .dataframe tbody tr th {\n",
       "        vertical-align: top;\n",
       "    }\n",
       "\n",
       "    .dataframe thead th {\n",
       "        text-align: right;\n",
       "    }\n",
       "</style>\n",
       "<table border=\"1\" class=\"dataframe\">\n",
       "  <thead>\n",
       "    <tr style=\"text-align: right;\">\n",
       "      <th></th>\n",
       "      <th>name</th>\n",
       "      <th>raw_title</th>\n",
       "      <th>summary</th>\n",
       "      <th>link</th>\n",
       "    </tr>\n",
       "  </thead>\n",
       "  <tbody>\n",
       "    <tr>\n",
       "      <th>0</th>\n",
       "      <td>Enissa Amani</td>\n",
       "      <td>Enissa Amani: Ehrenwort (2018) Full Transcript</td>\n",
       "      <td>Live from Hamburg, Iranian-German comedian Eni...</td>\n",
       "      <td>https://scrapsfromtheloft.com/2019/02/19/eniss...</td>\n",
       "    </tr>\n",
       "    <tr>\n",
       "      <th>1</th>\n",
       "      <td>George Carlin</td>\n",
       "      <td>Politically Correct Language – by George Carlin</td>\n",
       "      <td>George Carlin's critical thinking on pc langua...</td>\n",
       "      <td>https://scrapsfromtheloft.com/2019/02/18/polit...</td>\n",
       "    </tr>\n",
       "    <tr>\n",
       "      <th>2</th>\n",
       "      <td>Ken Jeong</td>\n",
       "      <td>Ken Jeong: You Complete Me, Ho (2019) – Full T...</td>\n",
       "      <td>Filmed at the Ice House Comedy Club in Pasaden...</td>\n",
       "      <td>https://scrapsfromtheloft.com/2019/02/17/ken-j...</td>\n",
       "    </tr>\n",
       "    <tr>\n",
       "      <th>3</th>\n",
       "      <td>Ray Romano</td>\n",
       "      <td>Ray Romano: Right Here, Around the Corner (201...</td>\n",
       "      <td>Ray Romano cut his stand-up teeth at the Comed...</td>\n",
       "      <td>https://scrapsfromtheloft.com/2019/02/12/ray-r...</td>\n",
       "    </tr>\n",
       "    <tr>\n",
       "      <th>4</th>\n",
       "      <td>Gabriel Iglesias</td>\n",
       "      <td>Gabriel “Fluffy” Iglesias: One Show Fits All (...</td>\n",
       "      <td>In a new special from Houston, Gabriel \"Fluffy...</td>\n",
       "      <td>https://scrapsfromtheloft.com/2019/01/30/gabri...</td>\n",
       "    </tr>\n",
       "  </tbody>\n",
       "</table>\n",
       "</div>"
      ],
      "text/plain": [
       "               name                                          raw_title  \\\n",
       "0      Enissa Amani     Enissa Amani: Ehrenwort (2018) Full Transcript   \n",
       "1     George Carlin    Politically Correct Language – by George Carlin   \n",
       "2         Ken Jeong  Ken Jeong: You Complete Me, Ho (2019) – Full T...   \n",
       "3        Ray Romano  Ray Romano: Right Here, Around the Corner (201...   \n",
       "4  Gabriel Iglesias  Gabriel “Fluffy” Iglesias: One Show Fits All (...   \n",
       "\n",
       "                                             summary  \\\n",
       "0  Live from Hamburg, Iranian-German comedian Eni...   \n",
       "1  George Carlin's critical thinking on pc langua...   \n",
       "2  Filmed at the Ice House Comedy Club in Pasaden...   \n",
       "3  Ray Romano cut his stand-up teeth at the Comed...   \n",
       "4  In a new special from Houston, Gabriel \"Fluffy...   \n",
       "\n",
       "                                                link  \n",
       "0  https://scrapsfromtheloft.com/2019/02/19/eniss...  \n",
       "1  https://scrapsfromtheloft.com/2019/02/18/polit...  \n",
       "2  https://scrapsfromtheloft.com/2019/02/17/ken-j...  \n",
       "3  https://scrapsfromtheloft.com/2019/02/12/ray-r...  \n",
       "4  https://scrapsfromtheloft.com/2019/01/30/gabri...  "
      ]
     },
     "execution_count": 28,
     "metadata": {},
     "output_type": "execute_result"
    }
   ],
   "source": [
    "df.head()"
   ]
  },
  {
   "cell_type": "markdown",
   "metadata": {},
   "source": [
    "## save directory"
   ]
  },
  {
   "cell_type": "code",
   "execution_count": 30,
   "metadata": {},
   "outputs": [],
   "source": [
    "data_directory_saves = os.path.join( '..','data','raw_data/')"
   ]
  },
  {
   "cell_type": "code",
   "execution_count": 32,
   "metadata": {},
   "outputs": [],
   "source": [
    "df.to_csv(data_directory_saves+'comedy_link_list.csv',index=False)"
   ]
  },
  {
   "cell_type": "code",
   "execution_count": null,
   "metadata": {},
   "outputs": [],
   "source": []
  }
 ],
 "metadata": {
  "kernelspec": {
   "display_name": "Python 3",
   "language": "python",
   "name": "python3"
  },
  "language_info": {
   "codemirror_mode": {
    "name": "ipython",
    "version": 3
   },
   "file_extension": ".py",
   "mimetype": "text/x-python",
   "name": "python",
   "nbconvert_exporter": "python",
   "pygments_lexer": "ipython3",
   "version": "3.7.2"
  }
 },
 "nbformat": 4,
 "nbformat_minor": 2
}
