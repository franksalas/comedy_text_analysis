{
 "cells": [
  {
   "cell_type": "code",
   "execution_count": 3,
   "metadata": {},
   "outputs": [],
   "source": [
    "from bs4 import BeautifulSoup\n",
    "import pandas as pd\n",
    "import numpy as np\n",
    "from IPython.core.display import clear_output\n",
    "from warnings import warn\n",
    "import os\n",
    "\n",
    "import requests\n",
    "import time\n",
    "from requests.adapters import HTTPAdapter\n",
    "from requests.packages.urllib3.util.retry import Retry"
   ]
  },
  {
   "cell_type": "markdown",
   "metadata": {},
   "source": [
    "## Request functions"
   ]
  },
  {
   "cell_type": "code",
   "execution_count": 4,
   "metadata": {},
   "outputs": [],
   "source": [
    "def requests_retry_session(\n",
    "    retries=3,\n",
    "    backoff_factor=0.3,\n",
    "    status_forcelist=(500, 502, 504),\n",
    "    session=None,\n",
    "):\n",
    "    session = session or requests.Session()\n",
    "    retry = Retry(\n",
    "        total=retries,\n",
    "        read=retries,\n",
    "        connect=retries,\n",
    "        backoff_factor=backoff_factor,\n",
    "        status_forcelist=status_forcelist,\n",
    "    )\n",
    "    adapter = HTTPAdapter(max_retries=retry)\n",
    "    session.mount('http://', adapter)\n",
    "    session.mount('https://', adapter)\n",
    "    return session\n",
    "\n",
    "def get_response(url):\n",
    "    t0 = time.time()\n",
    "    try:\n",
    "        response = requests_retry_session().get(\n",
    "            url,\n",
    "            timeout=10\n",
    "        )\n",
    "        return response\n",
    "    except Exception as x:\n",
    "        print('It failed :(', x.__class__.__name__)\n",
    "    else:\n",
    "        print('It eventually worked', response.status_code)\n",
    "    finally:\n",
    "        t1 = time.time()\n",
    "        print('Took', t1 - t0, 'seconds')\n",
    "        \n",
    "        \n",
    "def bs_parser(response):\n",
    "    text_str = ''\n",
    "    page_html = BeautifulSoup(response.text, 'html.parser')\n",
    "    #title = page_html.title.text\n",
    "    text_containers = page_html.find('div', class_ = 'post-content')\n",
    "    if text_containers:\n",
    "        for h in text_containers.find_all('p'):\n",
    "            text_str += '{}\\n'.format(h.text)\n",
    "    else:\n",
    "        return text_str\n",
    "    return text_str"
   ]
  },
  {
   "cell_type": "markdown",
   "metadata": {},
   "source": [
    "## load dataframe"
   ]
  },
  {
   "cell_type": "code",
   "execution_count": 5,
   "metadata": {},
   "outputs": [
    {
     "name": "stdout",
     "output_type": "stream",
     "text": [
      "<class 'pandas.core.frame.DataFrame'>\n",
      "RangeIndex: 320 entries, 0 to 319\n",
      "Data columns (total 4 columns):\n",
      " #   Column     Non-Null Count  Dtype \n",
      "---  ------     --------------  ----- \n",
      " 0   name       320 non-null    object\n",
      " 1   raw_title  320 non-null    object\n",
      " 2   summary    320 non-null    object\n",
      " 3   link       320 non-null    object\n",
      "dtypes: object(4)\n",
      "memory usage: 10.1+ KB\n"
     ]
    }
   ],
   "source": [
    "file = 'raw_comedy_02.pkl'\n",
    "data_directory = os.path.join('..','data','raw_data/{}'.format(file))\n",
    "data_directory_saves = os.path.join( '..','data','raw_data/')\n",
    "df = pd.read_pickle(data_directory)\n",
    "df.info()"
   ]
  },
  {
   "cell_type": "code",
   "execution_count": 6,
   "metadata": {},
   "outputs": [
    {
     "data": {
      "text/html": [
       "<div>\n",
       "<style scoped>\n",
       "    .dataframe tbody tr th:only-of-type {\n",
       "        vertical-align: middle;\n",
       "    }\n",
       "\n",
       "    .dataframe tbody tr th {\n",
       "        vertical-align: top;\n",
       "    }\n",
       "\n",
       "    .dataframe thead th {\n",
       "        text-align: right;\n",
       "    }\n",
       "</style>\n",
       "<table border=\"1\" class=\"dataframe\">\n",
       "  <thead>\n",
       "    <tr style=\"text-align: right;\">\n",
       "      <th></th>\n",
       "      <th>name</th>\n",
       "      <th>raw_title</th>\n",
       "      <th>summary</th>\n",
       "      <th>link</th>\n",
       "    </tr>\n",
       "  </thead>\n",
       "  <tbody>\n",
       "    <tr>\n",
       "      <th>0</th>\n",
       "      <td>Louis C.K.</td>\n",
       "      <td>SINCERELY LOUIS CK (2020)</td>\n",
       "      <td>Great comedy is finally back. Louis C.K. is no...</td>\n",
       "      <td>https://scrapsfromtheloft.com/2020/05/02/since...</td>\n",
       "    </tr>\n",
       "    <tr>\n",
       "      <th>1</th>\n",
       "      <td>Jim Norton</td>\n",
       "      <td>JIM NORTON: AMERICAN DEGENERATE (2013) – FULL ...</td>\n",
       "      <td>For his second EPIX comedy special, Jim Norton...</td>\n",
       "      <td>https://scrapsfromtheloft.com/2020/05/02/jim-n...</td>\n",
       "    </tr>\n",
       "    <tr>\n",
       "      <th>2</th>\n",
       "      <td>Jim Norton</td>\n",
       "      <td>JIM NORTON: MONSTER RAIN (2007) – FULL TRANSCRIPT</td>\n",
       "      <td>His special \"Monster Rain,\" Jim Norton perform...</td>\n",
       "      <td>https://scrapsfromtheloft.com/2020/05/02/jim-n...</td>\n",
       "    </tr>\n",
       "    <tr>\n",
       "      <th>3</th>\n",
       "      <td>Daniel Sloss</td>\n",
       "      <td>DANIEL SLOSS: X (2019) – FULL TRANSCRIPT</td>\n",
       "      <td>Taking the stage before a sold-out audience at...</td>\n",
       "      <td>https://scrapsfromtheloft.com/2020/05/01/danie...</td>\n",
       "    </tr>\n",
       "    <tr>\n",
       "      <th>4</th>\n",
       "      <td>Maria Bamford</td>\n",
       "      <td>MARIA BAMFORD: WEAKNESS IS THE BRAND (2020) – ...</td>\n",
       "      <td>In this standup special \"Weakness Is the Brand...</td>\n",
       "      <td>https://scrapsfromtheloft.com/2020/05/01/maria...</td>\n",
       "    </tr>\n",
       "  </tbody>\n",
       "</table>\n",
       "</div>"
      ],
      "text/plain": [
       "            name                                          raw_title  \\\n",
       "0     Louis C.K.                          SINCERELY LOUIS CK (2020)   \n",
       "1     Jim Norton  JIM NORTON: AMERICAN DEGENERATE (2013) – FULL ...   \n",
       "2     Jim Norton  JIM NORTON: MONSTER RAIN (2007) – FULL TRANSCRIPT   \n",
       "3   Daniel Sloss           DANIEL SLOSS: X (2019) – FULL TRANSCRIPT   \n",
       "4  Maria Bamford  MARIA BAMFORD: WEAKNESS IS THE BRAND (2020) – ...   \n",
       "\n",
       "                                             summary  \\\n",
       "0  Great comedy is finally back. Louis C.K. is no...   \n",
       "1  For his second EPIX comedy special, Jim Norton...   \n",
       "2  His special \"Monster Rain,\" Jim Norton perform...   \n",
       "3  Taking the stage before a sold-out audience at...   \n",
       "4  In this standup special \"Weakness Is the Brand...   \n",
       "\n",
       "                                                link  \n",
       "0  https://scrapsfromtheloft.com/2020/05/02/since...  \n",
       "1  https://scrapsfromtheloft.com/2020/05/02/jim-n...  \n",
       "2  https://scrapsfromtheloft.com/2020/05/02/jim-n...  \n",
       "3  https://scrapsfromtheloft.com/2020/05/01/danie...  \n",
       "4  https://scrapsfromtheloft.com/2020/05/01/maria...  "
      ]
     },
     "execution_count": 6,
     "metadata": {},
     "output_type": "execute_result"
    }
   ],
   "source": [
    "df.head()"
   ]
  },
  {
   "cell_type": "markdown",
   "metadata": {},
   "source": [
    "## Test"
   ]
  },
  {
   "cell_type": "code",
   "execution_count": 7,
   "metadata": {},
   "outputs": [
    {
     "data": {
      "text/plain": [
       "10    https://scrapsfromtheloft.com/2020/03/21/bert-...\n",
       "11    https://scrapsfromtheloft.com/2020/03/21/bert-...\n",
       "12    https://scrapsfromtheloft.com/2020/03/12/marc-...\n",
       "13    https://scrapsfromtheloft.com/2020/03/04/pete-...\n",
       "14    https://scrapsfromtheloft.com/2020/03/01/pete-...\n",
       "15    https://scrapsfromtheloft.com/2020/02/27/amand...\n",
       "16    https://scrapsfromtheloft.com/2020/02/12/stewa...\n",
       "17    https://scrapsfromtheloft.com/2020/02/10/stewa...\n",
       "18    https://scrapsfromtheloft.com/2020/02/02/sara-...\n",
       "19    https://scrapsfromtheloft.com/2020/01/23/dan-s...\n",
       "Name: link, dtype: object"
      ]
     },
     "execution_count": 7,
     "metadata": {},
     "output_type": "execute_result"
    }
   ],
   "source": [
    "test_list = df.link[10:20]\n",
    "test_list"
   ]
  },
  {
   "cell_type": "code",
   "execution_count": 8,
   "metadata": {},
   "outputs": [
    {
     "name": "stdout",
     "output_type": "stream",
     "text": [
      "CPU times: user 516 ms, sys: 93.8 ms, total: 609 ms\n",
      "Wall time: 1min 34s\n"
     ]
    }
   ],
   "source": [
    "%%time\n",
    "transcripts = []\n",
    "links = []\n",
    "\n",
    "rqst = 0\n",
    "for link_page in test_list:\n",
    "    links.append(link_page)\n",
    "    response = get_response(link_page)\n",
    "    rqst+=1\n",
    "    print('request:{}/{}'.format(rqst,len(test_list)))\n",
    "    clear_output(wait = True)\n",
    "    # Parse the content of the request with BeautifulSoup\n",
    "    if response:\n",
    "        transcript = bs_parser(response)\n",
    "        transcripts.append(transcript)\n",
    "    else:\n",
    "        transcripts.append('error')"
   ]
  },
  {
   "cell_type": "code",
   "execution_count": 9,
   "metadata": {},
   "outputs": [
    {
     "data": {
      "text/html": [
       "<div>\n",
       "<style scoped>\n",
       "    .dataframe tbody tr th:only-of-type {\n",
       "        vertical-align: middle;\n",
       "    }\n",
       "\n",
       "    .dataframe tbody tr th {\n",
       "        vertical-align: top;\n",
       "    }\n",
       "\n",
       "    .dataframe thead th {\n",
       "        text-align: right;\n",
       "    }\n",
       "</style>\n",
       "<table border=\"1\" class=\"dataframe\">\n",
       "  <thead>\n",
       "    <tr style=\"text-align: right;\">\n",
       "      <th></th>\n",
       "      <th>transcript</th>\n",
       "      <th>link</th>\n",
       "    </tr>\n",
       "  </thead>\n",
       "  <tbody>\n",
       "    <tr>\n",
       "      <th>0</th>\n",
       "      <td>[electronic music playing]\\n[male announcer] L...</td>\n",
       "      <td>https://scrapsfromtheloft.com/2020/03/21/bert-...</td>\n",
       "    </tr>\n",
       "    <tr>\n",
       "      <th>1</th>\n",
       "      <td>The machine, Mr. Bert Kreischer, everybody. Le...</td>\n",
       "      <td>https://scrapsfromtheloft.com/2020/03/21/bert-...</td>\n",
       "    </tr>\n",
       "    <tr>\n",
       "      <th>2</th>\n",
       "      <td>[audience chattering indistinctly]\\n[man] Ladi...</td>\n",
       "      <td>https://scrapsfromtheloft.com/2020/03/12/marc-...</td>\n",
       "    </tr>\n",
       "    <tr>\n",
       "      <th>3</th>\n",
       "      <td>[vocal music]\\n♪ Uh-uh, yeah ♪ Uh, uh-uh-uh, y...</td>\n",
       "      <td>https://scrapsfromtheloft.com/2020/03/04/pete-...</td>\n",
       "    </tr>\n",
       "    <tr>\n",
       "      <th>4</th>\n",
       "      <td>So, Louis C.K. tried to get me fired from SNL ...</td>\n",
       "      <td>https://scrapsfromtheloft.com/2020/03/01/pete-...</td>\n",
       "    </tr>\n",
       "    <tr>\n",
       "      <th>5</th>\n",
       "      <td>Now, y’all keep asking me, “Amanda, who is thi...</td>\n",
       "      <td>https://scrapsfromtheloft.com/2020/02/27/amand...</td>\n",
       "    </tr>\n",
       "    <tr>\n",
       "      <th>6</th>\n",
       "      <td>(’70s GERMAN ROCK MUSIC PLAYING)\\nANNOUNCER: L...</td>\n",
       "      <td>https://scrapsfromtheloft.com/2020/02/12/stewa...</td>\n",
       "    </tr>\n",
       "    <tr>\n",
       "      <th>7</th>\n",
       "      <td>This programme contains very strong language a...</td>\n",
       "      <td>https://scrapsfromtheloft.com/2020/02/10/stewa...</td>\n",
       "    </tr>\n",
       "    <tr>\n",
       "      <th>8</th>\n",
       "      <td>CHEERING AND APPLAUSE\\nThank you so much! Than...</td>\n",
       "      <td>https://scrapsfromtheloft.com/2020/02/02/sara-...</td>\n",
       "    </tr>\n",
       "    <tr>\n",
       "      <th>9</th>\n",
       "      <td>Announcer: Ladies and gentlemen, Dan Soder!\\n(...</td>\n",
       "      <td>https://scrapsfromtheloft.com/2020/01/23/dan-s...</td>\n",
       "    </tr>\n",
       "  </tbody>\n",
       "</table>\n",
       "</div>"
      ],
      "text/plain": [
       "                                          transcript  \\\n",
       "0  [electronic music playing]\\n[male announcer] L...   \n",
       "1  The machine, Mr. Bert Kreischer, everybody. Le...   \n",
       "2  [audience chattering indistinctly]\\n[man] Ladi...   \n",
       "3  [vocal music]\\n♪ Uh-uh, yeah ♪ Uh, uh-uh-uh, y...   \n",
       "4  So, Louis C.K. tried to get me fired from SNL ...   \n",
       "5  Now, y’all keep asking me, “Amanda, who is thi...   \n",
       "6  (’70s GERMAN ROCK MUSIC PLAYING)\\nANNOUNCER: L...   \n",
       "7  This programme contains very strong language a...   \n",
       "8  CHEERING AND APPLAUSE\\nThank you so much! Than...   \n",
       "9  Announcer: Ladies and gentlemen, Dan Soder!\\n(...   \n",
       "\n",
       "                                                link  \n",
       "0  https://scrapsfromtheloft.com/2020/03/21/bert-...  \n",
       "1  https://scrapsfromtheloft.com/2020/03/21/bert-...  \n",
       "2  https://scrapsfromtheloft.com/2020/03/12/marc-...  \n",
       "3  https://scrapsfromtheloft.com/2020/03/04/pete-...  \n",
       "4  https://scrapsfromtheloft.com/2020/03/01/pete-...  \n",
       "5  https://scrapsfromtheloft.com/2020/02/27/amand...  \n",
       "6  https://scrapsfromtheloft.com/2020/02/12/stewa...  \n",
       "7  https://scrapsfromtheloft.com/2020/02/10/stewa...  \n",
       "8  https://scrapsfromtheloft.com/2020/02/02/sara-...  \n",
       "9  https://scrapsfromtheloft.com/2020/01/23/dan-s...  "
      ]
     },
     "execution_count": 9,
     "metadata": {},
     "output_type": "execute_result"
    }
   ],
   "source": [
    "# create dataframe\n",
    "test_df = pd.DataFrame({'transcript': transcripts,'link': links})\n",
    "test_df"
   ]
  },
  {
   "cell_type": "markdown",
   "metadata": {},
   "source": [
    "## Create a list of links"
   ]
  },
  {
   "cell_type": "code",
   "execution_count": 10,
   "metadata": {},
   "outputs": [
    {
     "data": {
      "text/plain": [
       "320"
      ]
     },
     "execution_count": 10,
     "metadata": {},
     "output_type": "execute_result"
    }
   ],
   "source": [
    "link_list = df.link\n",
    "len(link_list)"
   ]
  },
  {
   "cell_type": "markdown",
   "metadata": {},
   "source": [
    "## Loop over the list to get transcript\n",
    "~1hr"
   ]
  },
  {
   "cell_type": "code",
   "execution_count": 11,
   "metadata": {},
   "outputs": [
    {
     "name": "stdout",
     "output_type": "stream",
     "text": [
      "CPU times: user 17.2 s, sys: 1.84 s, total: 19 s\n",
      "Wall time: 55min 24s\n"
     ]
    }
   ],
   "source": [
    "%%time\n",
    "transcripts = []\n",
    "links = []\n",
    "\n",
    "rqst = 0\n",
    "for link_page in link_list:\n",
    "    links.append(link_page)\n",
    "    response = get_response(link_page)\n",
    "    rqst+=1\n",
    "    print('request:{}/{}'.format(rqst,len(link_list)))\n",
    "    clear_output(wait = True)\n",
    "    # Parse the content of the request with BeautifulSoup\n",
    "    if response:\n",
    "        transcript = bs_parser(response)\n",
    "        transcripts.append(transcript)\n",
    "    else:\n",
    "        transcripts.append('error')"
   ]
  },
  {
   "cell_type": "markdown",
   "metadata": {},
   "source": [
    "## Create Dataframe"
   ]
  },
  {
   "cell_type": "code",
   "execution_count": 12,
   "metadata": {},
   "outputs": [
    {
     "name": "stdout",
     "output_type": "stream",
     "text": [
      "<class 'pandas.core.frame.DataFrame'>\n",
      "RangeIndex: 320 entries, 0 to 319\n",
      "Data columns (total 2 columns):\n",
      " #   Column      Non-Null Count  Dtype \n",
      "---  ------      --------------  ----- \n",
      " 0   transcript  320 non-null    object\n",
      " 1   link        320 non-null    object\n",
      "dtypes: object(2)\n",
      "memory usage: 5.1+ KB\n"
     ]
    }
   ],
   "source": [
    "# create dataframe\n",
    "\n",
    "data_df = pd.DataFrame({'transcript': transcripts,'link': links})\n",
    "data_df\n",
    "data_df.info()"
   ]
  },
  {
   "cell_type": "code",
   "execution_count": 13,
   "metadata": {},
   "outputs": [
    {
     "data": {
      "text/html": [
       "<div>\n",
       "<style scoped>\n",
       "    .dataframe tbody tr th:only-of-type {\n",
       "        vertical-align: middle;\n",
       "    }\n",
       "\n",
       "    .dataframe tbody tr th {\n",
       "        vertical-align: top;\n",
       "    }\n",
       "\n",
       "    .dataframe thead th {\n",
       "        text-align: right;\n",
       "    }\n",
       "</style>\n",
       "<table border=\"1\" class=\"dataframe\">\n",
       "  <thead>\n",
       "    <tr style=\"text-align: right;\">\n",
       "      <th></th>\n",
       "      <th>transcript</th>\n",
       "      <th>link</th>\n",
       "    </tr>\n",
       "  </thead>\n",
       "  <tbody>\n",
       "    <tr>\n",
       "      <th>0</th>\n",
       "      <td>Great comedy is finally back. Louis C.K. is no...</td>\n",
       "      <td>https://scrapsfromtheloft.com/2020/05/02/since...</td>\n",
       "    </tr>\n",
       "    <tr>\n",
       "      <th>1</th>\n",
       "      <td>This year I wanted the opening of my new speci...</td>\n",
       "      <td>https://scrapsfromtheloft.com/2020/05/02/jim-n...</td>\n",
       "    </tr>\n",
       "    <tr>\n",
       "      <th>2</th>\n",
       "      <td>Thank you! Aw, thank you very much. Thank you,...</td>\n",
       "      <td>https://scrapsfromtheloft.com/2020/05/02/jim-n...</td>\n",
       "    </tr>\n",
       "    <tr>\n",
       "      <th>3</th>\n",
       "      <td>A man offered us a billion dollars. – Bolt the...</td>\n",
       "      <td>https://scrapsfromtheloft.com/2020/05/01/danie...</td>\n",
       "    </tr>\n",
       "    <tr>\n",
       "      <th>4</th>\n",
       "      <td>[microphone droans]\\n[music playing]\\n[crowd c...</td>\n",
       "      <td>https://scrapsfromtheloft.com/2020/05/01/maria...</td>\n",
       "    </tr>\n",
       "  </tbody>\n",
       "</table>\n",
       "</div>"
      ],
      "text/plain": [
       "                                          transcript  \\\n",
       "0  Great comedy is finally back. Louis C.K. is no...   \n",
       "1  This year I wanted the opening of my new speci...   \n",
       "2  Thank you! Aw, thank you very much. Thank you,...   \n",
       "3  A man offered us a billion dollars. – Bolt the...   \n",
       "4  [microphone droans]\\n[music playing]\\n[crowd c...   \n",
       "\n",
       "                                                link  \n",
       "0  https://scrapsfromtheloft.com/2020/05/02/since...  \n",
       "1  https://scrapsfromtheloft.com/2020/05/02/jim-n...  \n",
       "2  https://scrapsfromtheloft.com/2020/05/02/jim-n...  \n",
       "3  https://scrapsfromtheloft.com/2020/05/01/danie...  \n",
       "4  https://scrapsfromtheloft.com/2020/05/01/maria...  "
      ]
     },
     "execution_count": 13,
     "metadata": {},
     "output_type": "execute_result"
    }
   ],
   "source": [
    "data_df.head()"
   ]
  },
  {
   "cell_type": "markdown",
   "metadata": {},
   "source": [
    "## Check for errors"
   ]
  },
  {
   "cell_type": "code",
   "execution_count": 14,
   "metadata": {},
   "outputs": [
    {
     "data": {
      "text/html": [
       "<div>\n",
       "<style scoped>\n",
       "    .dataframe tbody tr th:only-of-type {\n",
       "        vertical-align: middle;\n",
       "    }\n",
       "\n",
       "    .dataframe tbody tr th {\n",
       "        vertical-align: top;\n",
       "    }\n",
       "\n",
       "    .dataframe thead th {\n",
       "        text-align: right;\n",
       "    }\n",
       "</style>\n",
       "<table border=\"1\" class=\"dataframe\">\n",
       "  <thead>\n",
       "    <tr style=\"text-align: right;\">\n",
       "      <th></th>\n",
       "      <th>transcript</th>\n",
       "      <th>link</th>\n",
       "    </tr>\n",
       "  </thead>\n",
       "  <tbody>\n",
       "    <tr>\n",
       "      <th>35</th>\n",
       "      <td>error</td>\n",
       "      <td>https://scrapsfromtheloft.com/2019/09/21/mark-...</td>\n",
       "    </tr>\n",
       "    <tr>\n",
       "      <th>165</th>\n",
       "      <td>error</td>\n",
       "      <td>https://scrapsfromtheloft.com/2018/01/14/chris...</td>\n",
       "    </tr>\n",
       "    <tr>\n",
       "      <th>167</th>\n",
       "      <td>error</td>\n",
       "      <td>https://scrapsfromtheloft.com/2018/01/14/kevin...</td>\n",
       "    </tr>\n",
       "    <tr>\n",
       "      <th>198</th>\n",
       "      <td>error</td>\n",
       "      <td>https://scrapsfromtheloft.com/2017/12/07/aziz-...</td>\n",
       "    </tr>\n",
       "    <tr>\n",
       "      <th>281</th>\n",
       "      <td>error</td>\n",
       "      <td>https://scrapsfromtheloft.com/2017/06/12/jim-g...</td>\n",
       "    </tr>\n",
       "    <tr>\n",
       "      <th>283</th>\n",
       "      <td>error</td>\n",
       "      <td>https://scrapsfromtheloft.com/2017/06/01/louis...</td>\n",
       "    </tr>\n",
       "  </tbody>\n",
       "</table>\n",
       "</div>"
      ],
      "text/plain": [
       "    transcript                                               link\n",
       "35       error  https://scrapsfromtheloft.com/2019/09/21/mark-...\n",
       "165      error  https://scrapsfromtheloft.com/2018/01/14/chris...\n",
       "167      error  https://scrapsfromtheloft.com/2018/01/14/kevin...\n",
       "198      error  https://scrapsfromtheloft.com/2017/12/07/aziz-...\n",
       "281      error  https://scrapsfromtheloft.com/2017/06/12/jim-g...\n",
       "283      error  https://scrapsfromtheloft.com/2017/06/01/louis..."
      ]
     },
     "execution_count": 14,
     "metadata": {},
     "output_type": "execute_result"
    }
   ],
   "source": [
    "error_filter = data_df.transcript == 'error'\n",
    "data_df[error_filter]"
   ]
  },
  {
   "cell_type": "code",
   "execution_count": 16,
   "metadata": {},
   "outputs": [
    {
     "data": {
      "text/plain": [
       "'https://scrapsfromtheloft.com/2019/10/04/nikki-glaser-bangin-transcript/'"
      ]
     },
     "execution_count": 16,
     "metadata": {},
     "output_type": "execute_result"
    }
   ],
   "source": [
    "value = data_df.iloc[33].link\n",
    "value"
   ]
  },
  {
   "cell_type": "markdown",
   "metadata": {},
   "source": [
    "## Drop from df"
   ]
  },
  {
   "cell_type": "code",
   "execution_count": null,
   "metadata": {},
   "outputs": [],
   "source": [
    "#data_df = data_df[~error_filter]"
   ]
  },
  {
   "cell_type": "code",
   "execution_count": null,
   "metadata": {},
   "outputs": [],
   "source": [
    "#data_df[error_filter]"
   ]
  },
  {
   "cell_type": "markdown",
   "metadata": {},
   "source": [
    "## Save data"
   ]
  },
  {
   "cell_type": "code",
   "execution_count": 20,
   "metadata": {},
   "outputs": [],
   "source": [
    "#data_df.to_pickle('data/raw_data_transcript_01.pkl')\n",
    "data_df.to_pickle(data_directory_saves+'raw_data_transcript_01.pkl')"
   ]
  },
  {
   "cell_type": "code",
   "execution_count": 22,
   "metadata": {},
   "outputs": [
    {
     "data": {
      "text/html": [
       "<div>\n",
       "<style scoped>\n",
       "    .dataframe tbody tr th:only-of-type {\n",
       "        vertical-align: middle;\n",
       "    }\n",
       "\n",
       "    .dataframe tbody tr th {\n",
       "        vertical-align: top;\n",
       "    }\n",
       "\n",
       "    .dataframe thead th {\n",
       "        text-align: right;\n",
       "    }\n",
       "</style>\n",
       "<table border=\"1\" class=\"dataframe\">\n",
       "  <thead>\n",
       "    <tr style=\"text-align: right;\">\n",
       "      <th></th>\n",
       "      <th>transcript</th>\n",
       "      <th>link</th>\n",
       "    </tr>\n",
       "  </thead>\n",
       "  <tbody>\n",
       "    <tr>\n",
       "      <th>0</th>\n",
       "      <td>Great comedy is finally back. Louis C.K. is no...</td>\n",
       "      <td>https://scrapsfromtheloft.com/2020/05/02/since...</td>\n",
       "    </tr>\n",
       "    <tr>\n",
       "      <th>1</th>\n",
       "      <td>This year I wanted the opening of my new speci...</td>\n",
       "      <td>https://scrapsfromtheloft.com/2020/05/02/jim-n...</td>\n",
       "    </tr>\n",
       "    <tr>\n",
       "      <th>2</th>\n",
       "      <td>Thank you! Aw, thank you very much. Thank you,...</td>\n",
       "      <td>https://scrapsfromtheloft.com/2020/05/02/jim-n...</td>\n",
       "    </tr>\n",
       "    <tr>\n",
       "      <th>3</th>\n",
       "      <td>A man offered us a billion dollars. – Bolt the...</td>\n",
       "      <td>https://scrapsfromtheloft.com/2020/05/01/danie...</td>\n",
       "    </tr>\n",
       "    <tr>\n",
       "      <th>4</th>\n",
       "      <td>[microphone droans]\\n[music playing]\\n[crowd c...</td>\n",
       "      <td>https://scrapsfromtheloft.com/2020/05/01/maria...</td>\n",
       "    </tr>\n",
       "  </tbody>\n",
       "</table>\n",
       "</div>"
      ],
      "text/plain": [
       "                                          transcript  \\\n",
       "0  Great comedy is finally back. Louis C.K. is no...   \n",
       "1  This year I wanted the opening of my new speci...   \n",
       "2  Thank you! Aw, thank you very much. Thank you,...   \n",
       "3  A man offered us a billion dollars. – Bolt the...   \n",
       "4  [microphone droans]\\n[music playing]\\n[crowd c...   \n",
       "\n",
       "                                                link  \n",
       "0  https://scrapsfromtheloft.com/2020/05/02/since...  \n",
       "1  https://scrapsfromtheloft.com/2020/05/02/jim-n...  \n",
       "2  https://scrapsfromtheloft.com/2020/05/02/jim-n...  \n",
       "3  https://scrapsfromtheloft.com/2020/05/01/danie...  \n",
       "4  https://scrapsfromtheloft.com/2020/05/01/maria...  "
      ]
     },
     "execution_count": 22,
     "metadata": {},
     "output_type": "execute_result"
    }
   ],
   "source": [
    "data_df.head()"
   ]
  },
  {
   "cell_type": "code",
   "execution_count": null,
   "metadata": {},
   "outputs": [],
   "source": []
  }
 ],
 "metadata": {
  "kernelspec": {
   "display_name": "Python 3",
   "language": "python",
   "name": "python3"
  },
  "language_info": {
   "codemirror_mode": {
    "name": "ipython",
    "version": 3
   },
   "file_extension": ".py",
   "mimetype": "text/x-python",
   "name": "python",
   "nbconvert_exporter": "python",
   "pygments_lexer": "ipython3",
   "version": "3.7.7"
  }
 },
 "nbformat": 4,
 "nbformat_minor": 4
}
