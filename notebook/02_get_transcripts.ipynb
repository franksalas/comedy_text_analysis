{
 "cells": [
  {
   "cell_type": "markdown",
   "metadata": {},
   "source": [
    "# Load libraries"
   ]
  },
  {
   "cell_type": "code",
   "execution_count": 1,
   "metadata": {},
   "outputs": [],
   "source": [
    "from bs4 import BeautifulSoup\n",
    "import pandas as pd\n",
    "import numpy as np\n",
    "from IPython.core.display import clear_output\n",
    "from warnings import warn\n",
    "import os"
   ]
  },
  {
   "cell_type": "code",
   "execution_count": 2,
   "metadata": {},
   "outputs": [],
   "source": [
    "import requests\n",
    "import time\n",
    "from requests.adapters import HTTPAdapter\n",
    "from requests.packages.urllib3.util.retry import Retry"
   ]
  },
  {
   "cell_type": "markdown",
   "metadata": {},
   "source": [
    "# Data Directory"
   ]
  },
  {
   "cell_type": "code",
   "execution_count": 3,
   "metadata": {},
   "outputs": [],
   "source": [
    "file = 'comedy_link_list.csv'"
   ]
  },
  {
   "cell_type": "code",
   "execution_count": 4,
   "metadata": {},
   "outputs": [],
   "source": [
    "data_directory = os.path.join('..','data','raw_data/{}'.format(file))\n",
    "data_directory_saves = os.path.join( '..','data','raw_data/')"
   ]
  },
  {
   "cell_type": "markdown",
   "metadata": {},
   "source": [
    "### Use same functions"
   ]
  },
  {
   "cell_type": "code",
   "execution_count": 5,
   "metadata": {},
   "outputs": [],
   "source": [
    "def requests_retry_session(\n",
    "    retries=3,\n",
    "    backoff_factor=0.3,\n",
    "    status_forcelist=(500, 502, 504),\n",
    "    session=None,\n",
    "):\n",
    "    session = session or requests.Session()\n",
    "    retry = Retry(\n",
    "        total=retries,\n",
    "        read=retries,\n",
    "        connect=retries,\n",
    "        backoff_factor=backoff_factor,\n",
    "        status_forcelist=status_forcelist,\n",
    "    )\n",
    "    adapter = HTTPAdapter(max_retries=retry)\n",
    "    session.mount('http://', adapter)\n",
    "    session.mount('https://', adapter)\n",
    "    return session"
   ]
  },
  {
   "cell_type": "code",
   "execution_count": 6,
   "metadata": {},
   "outputs": [],
   "source": [
    "def get_response(url):\n",
    "    t0 = time.time()\n",
    "    try:\n",
    "        response = requests_retry_session().get(\n",
    "            url,\n",
    "            timeout=10\n",
    "        )\n",
    "        return response\n",
    "    except Exception as x:\n",
    "        print('It failed :(', x.__class__.__name__)\n",
    "    else:\n",
    "        print('It eventually worked', response.status_code)\n",
    "    finally:\n",
    "        t1 = time.time()\n",
    "        print('Took', t1 - t0, 'seconds')"
   ]
  },
  {
   "cell_type": "markdown",
   "metadata": {},
   "source": [
    "## extract transcript data "
   ]
  },
  {
   "cell_type": "code",
   "execution_count": 7,
   "metadata": {},
   "outputs": [],
   "source": [
    "def bs_parser(response):\n",
    "    text_str = ''\n",
    "    page_html = BeautifulSoup(response.text, 'html.parser')\n",
    "    #title = page_html.title.text\n",
    "    text_containers = page_html.find('div', class_ = 'post-content')\n",
    "    if text_containers:\n",
    "        for h in text_containers.find_all('p'):\n",
    "            text_str += '{}\\n'.format(h.text)\n",
    "    else:\n",
    "        return text_str\n",
    "    return text_str"
   ]
  },
  {
   "cell_type": "markdown",
   "metadata": {},
   "source": [
    "## load dataframe"
   ]
  },
  {
   "cell_type": "code",
   "execution_count": 8,
   "metadata": {},
   "outputs": [],
   "source": [
    "df = pd.read_csv(data_directory)"
   ]
  },
  {
   "cell_type": "code",
   "execution_count": 9,
   "metadata": {},
   "outputs": [
    {
     "data": {
      "text/html": [
       "<div>\n",
       "<style scoped>\n",
       "    .dataframe tbody tr th:only-of-type {\n",
       "        vertical-align: middle;\n",
       "    }\n",
       "\n",
       "    .dataframe tbody tr th {\n",
       "        vertical-align: top;\n",
       "    }\n",
       "\n",
       "    .dataframe thead th {\n",
       "        text-align: right;\n",
       "    }\n",
       "</style>\n",
       "<table border=\"1\" class=\"dataframe\">\n",
       "  <thead>\n",
       "    <tr style=\"text-align: right;\">\n",
       "      <th></th>\n",
       "      <th>name</th>\n",
       "      <th>raw_title</th>\n",
       "      <th>summary</th>\n",
       "      <th>link</th>\n",
       "    </tr>\n",
       "  </thead>\n",
       "  <tbody>\n",
       "    <tr>\n",
       "      <th>0</th>\n",
       "      <td>Enissa Amani</td>\n",
       "      <td>Enissa Amani: Ehrenwort (2018) Full Transcript</td>\n",
       "      <td>Live from Hamburg, Iranian-German comedian Eni...</td>\n",
       "      <td>https://scrapsfromtheloft.com/2019/02/19/eniss...</td>\n",
       "    </tr>\n",
       "    <tr>\n",
       "      <th>1</th>\n",
       "      <td>George Carlin</td>\n",
       "      <td>Politically Correct Language – by George Carlin</td>\n",
       "      <td>George Carlin's critical thinking on pc langua...</td>\n",
       "      <td>https://scrapsfromtheloft.com/2019/02/18/polit...</td>\n",
       "    </tr>\n",
       "    <tr>\n",
       "      <th>2</th>\n",
       "      <td>Ken Jeong</td>\n",
       "      <td>Ken Jeong: You Complete Me, Ho (2019) – Full T...</td>\n",
       "      <td>Filmed at the Ice House Comedy Club in Pasaden...</td>\n",
       "      <td>https://scrapsfromtheloft.com/2019/02/17/ken-j...</td>\n",
       "    </tr>\n",
       "    <tr>\n",
       "      <th>3</th>\n",
       "      <td>Ray Romano</td>\n",
       "      <td>Ray Romano: Right Here, Around the Corner (201...</td>\n",
       "      <td>Ray Romano cut his stand-up teeth at the Comed...</td>\n",
       "      <td>https://scrapsfromtheloft.com/2019/02/12/ray-r...</td>\n",
       "    </tr>\n",
       "    <tr>\n",
       "      <th>4</th>\n",
       "      <td>Gabriel Iglesias</td>\n",
       "      <td>Gabriel “Fluffy” Iglesias: One Show Fits All (...</td>\n",
       "      <td>In a new special from Houston, Gabriel \"Fluffy...</td>\n",
       "      <td>https://scrapsfromtheloft.com/2019/01/30/gabri...</td>\n",
       "    </tr>\n",
       "  </tbody>\n",
       "</table>\n",
       "</div>"
      ],
      "text/plain": [
       "               name                                          raw_title  \\\n",
       "0      Enissa Amani     Enissa Amani: Ehrenwort (2018) Full Transcript   \n",
       "1     George Carlin    Politically Correct Language – by George Carlin   \n",
       "2         Ken Jeong  Ken Jeong: You Complete Me, Ho (2019) – Full T...   \n",
       "3        Ray Romano  Ray Romano: Right Here, Around the Corner (201...   \n",
       "4  Gabriel Iglesias  Gabriel “Fluffy” Iglesias: One Show Fits All (...   \n",
       "\n",
       "                                             summary  \\\n",
       "0  Live from Hamburg, Iranian-German comedian Eni...   \n",
       "1  George Carlin's critical thinking on pc langua...   \n",
       "2  Filmed at the Ice House Comedy Club in Pasaden...   \n",
       "3  Ray Romano cut his stand-up teeth at the Comed...   \n",
       "4  In a new special from Houston, Gabriel \"Fluffy...   \n",
       "\n",
       "                                                link  \n",
       "0  https://scrapsfromtheloft.com/2019/02/19/eniss...  \n",
       "1  https://scrapsfromtheloft.com/2019/02/18/polit...  \n",
       "2  https://scrapsfromtheloft.com/2019/02/17/ken-j...  \n",
       "3  https://scrapsfromtheloft.com/2019/02/12/ray-r...  \n",
       "4  https://scrapsfromtheloft.com/2019/01/30/gabri...  "
      ]
     },
     "execution_count": 9,
     "metadata": {},
     "output_type": "execute_result"
    }
   ],
   "source": [
    "df.head()"
   ]
  },
  {
   "cell_type": "markdown",
   "metadata": {},
   "source": [
    "# test"
   ]
  },
  {
   "cell_type": "code",
   "execution_count": null,
   "metadata": {},
   "outputs": [],
   "source": [
    "test_list = df.link[10:20]\n",
    "test_list"
   ]
  },
  {
   "cell_type": "code",
   "execution_count": null,
   "metadata": {},
   "outputs": [],
   "source": [
    "%%time\n",
    "transcripts = []\n",
    "links = []\n",
    "\n",
    "rqst = 0\n",
    "for link_page in test_list:\n",
    "    links.append(link_page)\n",
    "    response = get_response(link_page)\n",
    "    rqst+=1\n",
    "    print('request:{}/{}'.format(rqst,len(test_list)))\n",
    "    clear_output(wait = True)\n",
    "    # Parse the content of the request with BeautifulSoup\n",
    "    if response:\n",
    "        transcript = bs_parser(response)\n",
    "        transcripts.append(transcript)\n",
    "    else:\n",
    "        transcripts.append('error')"
   ]
  },
  {
   "cell_type": "code",
   "execution_count": null,
   "metadata": {},
   "outputs": [],
   "source": [
    "# create dataframe\n",
    "\n",
    "test_df = pd.DataFrame({'transcript': transcripts,'link': links})\n",
    "test_df"
   ]
  },
  {
   "cell_type": "markdown",
   "metadata": {},
   "source": [
    "## Create a list of links"
   ]
  },
  {
   "cell_type": "code",
   "execution_count": 10,
   "metadata": {},
   "outputs": [],
   "source": [
    "link_list = df.link"
   ]
  },
  {
   "cell_type": "markdown",
   "metadata": {},
   "source": [
    "> **future note**\n",
    "> change list `transcripts` & `links`to a dictionary"
   ]
  },
  {
   "cell_type": "code",
   "execution_count": 11,
   "metadata": {},
   "outputs": [
    {
     "name": "stdout",
     "output_type": "stream",
     "text": [
      "CPU times: user 13.3 s, sys: 1.91 s, total: 15.2 s\n",
      "Wall time: 47min 24s\n"
     ]
    }
   ],
   "source": [
    "%%time\n",
    "transcripts = []\n",
    "links = []\n",
    "\n",
    "rqst = 0\n",
    "for link_page in link_list:\n",
    "    links.append(link_page)\n",
    "    response = get_response(link_page)\n",
    "    rqst+=1\n",
    "    print('request:{}/{}'.format(rqst,len(link_list)))\n",
    "    clear_output(wait = True)\n",
    "    # Parse the content of the request with BeautifulSoup\n",
    "    if response:\n",
    "        transcript = bs_parser(response)\n",
    "        transcripts.append(transcript)\n",
    "    else:\n",
    "        transcripts.append('error')"
   ]
  },
  {
   "cell_type": "code",
   "execution_count": null,
   "metadata": {},
   "outputs": [],
   "source": [
    "# create dataframe\n",
    "\n",
    "data_df = pd.DataFrame({'transcript': transcripts,'link': links})\n",
    "data_df"
   ]
  },
  {
   "cell_type": "markdown",
   "metadata": {},
   "source": [
    "# check for errors"
   ]
  },
  {
   "cell_type": "code",
   "execution_count": null,
   "metadata": {},
   "outputs": [],
   "source": [
    "error_filter = data_df.transcript == 'error'"
   ]
  },
  {
   "cell_type": "code",
   "execution_count": null,
   "metadata": {},
   "outputs": [],
   "source": [
    "data_df[error_filter]"
   ]
  },
  {
   "cell_type": "markdown",
   "metadata": {},
   "source": [
    "# save"
   ]
  },
  {
   "cell_type": "code",
   "execution_count": null,
   "metadata": {},
   "outputs": [],
   "source": [
    "data_df.to_csv(data_directory_saves+'data_transcripts.csv')"
   ]
  },
  {
   "cell_type": "code",
   "execution_count": null,
   "metadata": {},
   "outputs": [],
   "source": []
  },
  {
   "cell_type": "code",
   "execution_count": null,
   "metadata": {},
   "outputs": [],
   "source": []
  }
 ],
 "metadata": {
  "kernelspec": {
   "display_name": "Python 3",
   "language": "python",
   "name": "python3"
  },
  "language_info": {
   "codemirror_mode": {
    "name": "ipython",
    "version": 3
   },
   "file_extension": ".py",
   "mimetype": "text/x-python",
   "name": "python",
   "nbconvert_exporter": "python",
   "pygments_lexer": "ipython3",
   "version": "3.7.2"
  }
 },
 "nbformat": 4,
 "nbformat_minor": 2
}
