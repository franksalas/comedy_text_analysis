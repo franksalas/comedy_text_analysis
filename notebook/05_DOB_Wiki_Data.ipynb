{
 "cells": [
  {
   "cell_type": "code",
   "execution_count": null,
   "metadata": {},
   "outputs": [],
   "source": []
  },
  {
   "cell_type": "code",
   "execution_count": 1,
   "metadata": {},
   "outputs": [],
   "source": [
    "import wikipedia as wk\n",
    "import re\n",
    "from IPython.core.display import clear_output"
   ]
  },
  {
   "cell_type": "code",
   "execution_count": 2,
   "metadata": {},
   "outputs": [],
   "source": [
    "import pandas as pd\n",
    "import numpy as np\n",
    "import seaborn as sns\n",
    "import matplotlib.pyplot as plt\n",
    "import os\n",
    "import re\n",
    "plt.style.use('ggplot')"
   ]
  },
  {
   "cell_type": "code",
   "execution_count": 3,
   "metadata": {},
   "outputs": [],
   "source": [
    "sns.set(rc={'figure.figsize':(10.7,4.27)})"
   ]
  },
  {
   "cell_type": "markdown",
   "metadata": {},
   "source": [
    "## Load dataframe"
   ]
  },
  {
   "cell_type": "code",
   "execution_count": 4,
   "metadata": {},
   "outputs": [],
   "source": [
    "# raw_data\n",
    "file = '04_clean_data_OCT_19.csv'\n",
    "data_directory = os.path.join( '..','data','raw_data/{}'.format(file))"
   ]
  },
  {
   "cell_type": "code",
   "execution_count": 5,
   "metadata": {},
   "outputs": [],
   "source": [
    "df= pd.read_csv(data_directory)"
   ]
  },
  {
   "cell_type": "code",
   "execution_count": 6,
   "metadata": {},
   "outputs": [
    {
     "name": "stdout",
     "output_type": "stream",
     "text": [
      "<class 'pandas.core.frame.DataFrame'>\n",
      "RangeIndex: 284 entries, 0 to 283\n",
      "Data columns (total 6 columns):\n",
      "name          284 non-null object\n",
      "title         284 non-null object\n",
      "summary       284 non-null object\n",
      "year          284 non-null int64\n",
      "transcript    284 non-null object\n",
      "link          284 non-null object\n",
      "dtypes: int64(1), object(5)\n",
      "memory usage: 13.4+ KB\n"
     ]
    }
   ],
   "source": [
    "df.info()"
   ]
  },
  {
   "cell_type": "code",
   "execution_count": 7,
   "metadata": {},
   "outputs": [
    {
     "data": {
      "text/html": [
       "<div>\n",
       "<style scoped>\n",
       "    .dataframe tbody tr th:only-of-type {\n",
       "        vertical-align: middle;\n",
       "    }\n",
       "\n",
       "    .dataframe tbody tr th {\n",
       "        vertical-align: top;\n",
       "    }\n",
       "\n",
       "    .dataframe thead th {\n",
       "        text-align: right;\n",
       "    }\n",
       "</style>\n",
       "<table border=\"1\" class=\"dataframe\">\n",
       "  <thead>\n",
       "    <tr style=\"text-align: right;\">\n",
       "      <th></th>\n",
       "      <th>name</th>\n",
       "      <th>title</th>\n",
       "      <th>summary</th>\n",
       "      <th>year</th>\n",
       "      <th>transcript</th>\n",
       "      <th>link</th>\n",
       "    </tr>\n",
       "  </thead>\n",
       "  <tbody>\n",
       "    <tr>\n",
       "      <th>0</th>\n",
       "      <td>Nikki Glaser</td>\n",
       "      <td>Bangin’</td>\n",
       "      <td>A NETFLIX ORIGINAL COMEDY SPECIAL Thank you! T...</td>\n",
       "      <td>2019</td>\n",
       "      <td>A NETFLIX ORIGINAL COMEDY SPECIAL\\nThank you! ...</td>\n",
       "      <td>https://scrapsfromtheloft.com/2019/10/04/nikki...</td>\n",
       "    </tr>\n",
       "    <tr>\n",
       "      <th>1</th>\n",
       "      <td>Ryan Hamilton</td>\n",
       "      <td>Stand-Up  The Tonight Show Starring Jimmy Fallon</td>\n",
       "      <td>Ryan Hamilton makes his Tonight Show debut wit...</td>\n",
       "      <td>2019</td>\n",
       "      <td>Published on Sep 11, 2019\\nThe Tonight Show St...</td>\n",
       "      <td>https://scrapsfromtheloft.com/2019/09/25/ryan-...</td>\n",
       "    </tr>\n",
       "    <tr>\n",
       "      <th>2</th>\n",
       "      <td>Mark Normandthe Tonight Show Starring Jimmy Fa...</td>\n",
       "      <td>Mark Normand Stand-Up  The Tonight Show Starri...</td>\n",
       "      <td>Mark Normand is back on The Tonight Show with ...</td>\n",
       "      <td>2019</td>\n",
       "      <td>Aired on September 19, 2019\\nHey, hey. All rig...</td>\n",
       "      <td>https://scrapsfromtheloft.com/2019/09/21/mark-...</td>\n",
       "    </tr>\n",
       "    <tr>\n",
       "      <th>3</th>\n",
       "      <td>George Carlin</td>\n",
       "      <td>Dumb Americans</td>\n",
       "      <td>Full transcript of George Carlin's \"Dumb Ameri...</td>\n",
       "      <td>2006</td>\n",
       "      <td>From Life Is Worth Losing\\nRecorded on Novembe...</td>\n",
       "      <td>https://scrapsfromtheloft.com/2019/09/12/georg...</td>\n",
       "    </tr>\n",
       "    <tr>\n",
       "      <th>4</th>\n",
       "      <td>Bill Burr</td>\n",
       "      <td>Paper Tiger</td>\n",
       "      <td>Only a few weeks after Dave Chappelle's \"Stick...</td>\n",
       "      <td>2019</td>\n",
       "      <td>Recorded Live at the Royal Albert Hall, London...</td>\n",
       "      <td>https://scrapsfromtheloft.com/2019/09/10/bill-...</td>\n",
       "    </tr>\n",
       "  </tbody>\n",
       "</table>\n",
       "</div>"
      ],
      "text/plain": [
       "                                                name  \\\n",
       "0                                       Nikki Glaser   \n",
       "1                                      Ryan Hamilton   \n",
       "2  Mark Normandthe Tonight Show Starring Jimmy Fa...   \n",
       "3                                      George Carlin   \n",
       "4                                          Bill Burr   \n",
       "\n",
       "                                               title  \\\n",
       "0                                            Bangin’   \n",
       "1   Stand-Up  The Tonight Show Starring Jimmy Fallon   \n",
       "2  Mark Normand Stand-Up  The Tonight Show Starri...   \n",
       "3                                     Dumb Americans   \n",
       "4                                        Paper Tiger   \n",
       "\n",
       "                                             summary  year  \\\n",
       "0  A NETFLIX ORIGINAL COMEDY SPECIAL Thank you! T...  2019   \n",
       "1  Ryan Hamilton makes his Tonight Show debut wit...  2019   \n",
       "2  Mark Normand is back on The Tonight Show with ...  2019   \n",
       "3  Full transcript of George Carlin's \"Dumb Ameri...  2006   \n",
       "4  Only a few weeks after Dave Chappelle's \"Stick...  2019   \n",
       "\n",
       "                                          transcript  \\\n",
       "0  A NETFLIX ORIGINAL COMEDY SPECIAL\\nThank you! ...   \n",
       "1  Published on Sep 11, 2019\\nThe Tonight Show St...   \n",
       "2  Aired on September 19, 2019\\nHey, hey. All rig...   \n",
       "3  From Life Is Worth Losing\\nRecorded on Novembe...   \n",
       "4  Recorded Live at the Royal Albert Hall, London...   \n",
       "\n",
       "                                                link  \n",
       "0  https://scrapsfromtheloft.com/2019/10/04/nikki...  \n",
       "1  https://scrapsfromtheloft.com/2019/09/25/ryan-...  \n",
       "2  https://scrapsfromtheloft.com/2019/09/21/mark-...  \n",
       "3  https://scrapsfromtheloft.com/2019/09/12/georg...  \n",
       "4  https://scrapsfromtheloft.com/2019/09/10/bill-...  "
      ]
     },
     "execution_count": 7,
     "metadata": {},
     "output_type": "execute_result"
    }
   ],
   "source": [
    "df.head()"
   ]
  },
  {
   "cell_type": "markdown",
   "metadata": {},
   "source": [
    "## Inspect Names"
   ]
  },
  {
   "cell_type": "code",
   "execution_count": 8,
   "metadata": {},
   "outputs": [
    {
     "data": {
      "text/html": [
       "<div>\n",
       "<style scoped>\n",
       "    .dataframe tbody tr th:only-of-type {\n",
       "        vertical-align: middle;\n",
       "    }\n",
       "\n",
       "    .dataframe tbody tr th {\n",
       "        vertical-align: top;\n",
       "    }\n",
       "\n",
       "    .dataframe thead th {\n",
       "        text-align: right;\n",
       "    }\n",
       "</style>\n",
       "<table border=\"1\" class=\"dataframe\">\n",
       "  <thead>\n",
       "    <tr style=\"text-align: right;\">\n",
       "      <th></th>\n",
       "      <th>name</th>\n",
       "      <th>title</th>\n",
       "      <th>summary</th>\n",
       "      <th>year</th>\n",
       "      <th>transcript</th>\n",
       "      <th>link</th>\n",
       "    </tr>\n",
       "  </thead>\n",
       "  <tbody>\n",
       "    <tr>\n",
       "      <th>40</th>\n",
       "      <td>Gabriel Iglesias</td>\n",
       "      <td>One Show Fits All</td>\n",
       "      <td>In a new special from Houston, Gabriel \"Fluffy...</td>\n",
       "      <td>2019</td>\n",
       "      <td>[crowd chanting] Fluffy! Fluffy! [Fluffy shout...</td>\n",
       "      <td>https://scrapsfromtheloft.com/2019/01/30/gabri...</td>\n",
       "    </tr>\n",
       "    <tr>\n",
       "      <th>41</th>\n",
       "      <td>Sebastian Maniscalco</td>\n",
       "      <td>Stay Hungry</td>\n",
       "      <td>Sebastian's captivating storytelling keeps the...</td>\n",
       "      <td>2019</td>\n",
       "      <td>[instrumental music plays] ♪ All right ♪ [scre...</td>\n",
       "      <td>https://scrapsfromtheloft.com/2019/01/29/sebas...</td>\n",
       "    </tr>\n",
       "    <tr>\n",
       "      <th>42</th>\n",
       "      <td>John Leguizamo</td>\n",
       "      <td>Latin History For Morons ’S Road To Broadway</td>\n",
       "      <td>Latin History for Morons: John Leguizamo's Roa...</td>\n",
       "      <td>2018</td>\n",
       "      <td>There are people out there trying to rewrite o...</td>\n",
       "      <td>https://scrapsfromtheloft.com/2019/01/27/latin...</td>\n",
       "    </tr>\n",
       "    <tr>\n",
       "      <th>43</th>\n",
       "      <td>Sebastian Maniscalco</td>\n",
       "      <td>Aren’T You Embarrassed?</td>\n",
       "      <td>Sebastian Maniscalco returns home to Chicago t...</td>\n",
       "      <td>2014</td>\n",
       "      <td>Good, good. It feels good to be home in Chicag...</td>\n",
       "      <td>https://scrapsfromtheloft.com/2019/01/24/sebas...</td>\n",
       "    </tr>\n",
       "    <tr>\n",
       "      <th>44</th>\n",
       "      <td>Sebastian Maniscalco</td>\n",
       "      <td>What’S Wrong With People?</td>\n",
       "      <td>\"What's Wrong with People?\" asks Sebastian Man...</td>\n",
       "      <td>2012</td>\n",
       "      <td>Please welcome Sebastian Maniscalco.\\nSo good,...</td>\n",
       "      <td>https://scrapsfromtheloft.com/2019/01/24/sebas...</td>\n",
       "    </tr>\n",
       "    <tr>\n",
       "      <th>45</th>\n",
       "      <td>Ellen Degeneres</td>\n",
       "      <td>Relatable</td>\n",
       "      <td>In her first special since 2003, Ellen revisit...</td>\n",
       "      <td>2018</td>\n",
       "      <td>A NETFLIX ORIGINAL COMEDY SPECIAL\\n[crowd chee...</td>\n",
       "      <td>https://scrapsfromtheloft.com/2018/12/22/ellen...</td>\n",
       "    </tr>\n",
       "    <tr>\n",
       "      <th>46</th>\n",
       "      <td>Pete Holmes</td>\n",
       "      <td>Dirty Clean</td>\n",
       "      <td>The stand-up special Pete Holmes: Dirty Clean ...</td>\n",
       "      <td>2018</td>\n",
       "      <td>(crowd murmurs) Announcer: Ladies and gentleme...</td>\n",
       "      <td>https://scrapsfromtheloft.com/2018/12/19/pete-...</td>\n",
       "    </tr>\n",
       "    <tr>\n",
       "      <th>47</th>\n",
       "      <td>Vir Das</td>\n",
       "      <td>Losing It</td>\n",
       "      <td>The world's got a lot of problems, but Vir Das...</td>\n",
       "      <td>2018</td>\n",
       "      <td>I lost 80% of my mind. It’s very freeing. You ...</td>\n",
       "      <td>https://scrapsfromtheloft.com/2018/12/15/vir-d...</td>\n",
       "    </tr>\n",
       "    <tr>\n",
       "      <th>48</th>\n",
       "      <td>Volker Pispers</td>\n",
       "      <td>About Usa</td>\n",
       "      <td>Last part of Volker Pispers' program \"Bis neul...</td>\n",
       "      <td>2004</td>\n",
       "      <td>Last part of Volker Pispers’ program “Bis neul...</td>\n",
       "      <td>https://scrapsfromtheloft.com/2018/11/27/volke...</td>\n",
       "    </tr>\n",
       "    <tr>\n",
       "      <th>49</th>\n",
       "      <td>Trevor Noah</td>\n",
       "      <td>Son Of Patricia</td>\n",
       "      <td>Trevor Noah gets out from behind the \"Daily Sh...</td>\n",
       "      <td>2018</td>\n",
       "      <td>A NETFLIX ORIGINAL COMEDY SPECIAL [distant tra...</td>\n",
       "      <td>https://scrapsfromtheloft.com/2018/11/21/trevo...</td>\n",
       "    </tr>\n",
       "    <tr>\n",
       "      <th>50</th>\n",
       "      <td>Jeff Foxworthylarry The Cable Guy</td>\n",
       "      <td>We’Ve Been Thinking</td>\n",
       "      <td>Comedians Jeff Foxworthy and Larry the Cable G...</td>\n",
       "      <td>2016</td>\n",
       "      <td>When you start doing what Jeff and I do this i...</td>\n",
       "      <td>https://scrapsfromtheloft.com/2018/10/28/jeff-...</td>\n",
       "    </tr>\n",
       "    <tr>\n",
       "      <th>51</th>\n",
       "      <td>Adam Sandler</td>\n",
       "      <td>100% Fresh</td>\n",
       "      <td>Adam Sandler takes his comical musical musings...</td>\n",
       "      <td>2018</td>\n",
       "      <td>[man] Okay, ready, and… Take your own cue, Ada...</td>\n",
       "      <td>https://scrapsfromtheloft.com/2018/10/26/adam-...</td>\n",
       "    </tr>\n",
       "    <tr>\n",
       "      <th>52</th>\n",
       "      <td>Jeff Foxworthy</td>\n",
       "      <td>Totally Committed</td>\n",
       "      <td>Jeff Foxworthy talks about how people act, mar...</td>\n",
       "      <td>1998</td>\n",
       "      <td>Ladies and gentlemen, please welcome Jeff Foxw...</td>\n",
       "      <td>https://scrapsfromtheloft.com/2018/10/23/jeff-...</td>\n",
       "    </tr>\n",
       "    <tr>\n",
       "      <th>53</th>\n",
       "      <td>Ron White</td>\n",
       "      <td>If You Quit Listening, I’Ll Shut Up</td>\n",
       "      <td>Ron “Tater Salad” White dishes out his signatu...</td>\n",
       "      <td>2018</td>\n",
       "      <td>[Ron White] You ever take a crap so big your p...</td>\n",
       "      <td>https://scrapsfromtheloft.com/2018/10/19/ron-w...</td>\n",
       "    </tr>\n",
       "    <tr>\n",
       "      <th>54</th>\n",
       "      <td>George Carlin</td>\n",
       "      <td>Carlin At Carnegie</td>\n",
       "      <td>In this live performance at Carnegie Hall Carl...</td>\n",
       "      <td>1983</td>\n",
       "      <td>Recorded at Carnegie Hall, New York City in 19...</td>\n",
       "      <td>https://scrapsfromtheloft.com/2018/10/15/carli...</td>\n",
       "    </tr>\n",
       "    <tr>\n",
       "      <th>55</th>\n",
       "      <td>Tom Segura</td>\n",
       "      <td>Comedy Central Presents</td>\n",
       "      <td>Tom Segura describes the worst thing about vis...</td>\n",
       "      <td>0</td>\n",
       "      <td>Yes. I agree. I totally agree. Totally. It’s g...</td>\n",
       "      <td>https://scrapsfromtheloft.com/2018/10/13/comed...</td>\n",
       "    </tr>\n",
       "    <tr>\n",
       "      <th>56</th>\n",
       "      <td>Mo Amer</td>\n",
       "      <td>The Vagabond</td>\n",
       "      <td>Arab-American comedian Mo Amer recounts his li...</td>\n",
       "      <td>2018</td>\n",
       "      <td>A NETFLIX ORIGINAL COMEDY SPECIAL\\n[audience c...</td>\n",
       "      <td>https://scrapsfromtheloft.com/2018/10/11/mo-am...</td>\n",
       "    </tr>\n",
       "    <tr>\n",
       "      <th>57</th>\n",
       "      <td>Joe Mande</td>\n",
       "      <td>’S Award-Winning Comedy Special</td>\n",
       "      <td>Comedian Joe Mande performs an hour of stand u...</td>\n",
       "      <td>2017</td>\n",
       "      <td>Awesome. How’s everyone doing? My name is Joe ...</td>\n",
       "      <td>https://scrapsfromtheloft.com/2018/10/04/joe-m...</td>\n",
       "    </tr>\n",
       "    <tr>\n",
       "      <th>58</th>\n",
       "      <td>Henry Rollins</td>\n",
       "      <td>Keep Talking, Pal</td>\n",
       "      <td>Henry Rollins waxes at a high rate of speed ab...</td>\n",
       "      <td>2018</td>\n",
       "      <td>[laughter] [indistinct chatter] [man] Ladies a...</td>\n",
       "      <td>https://scrapsfromtheloft.com/2018/10/04/henry...</td>\n",
       "    </tr>\n",
       "    <tr>\n",
       "      <th>59</th>\n",
       "      <td>George Carlin</td>\n",
       "      <td>SNL Monologue S01E01</td>\n",
       "      <td>After entering the stage through the audience,...</td>\n",
       "      <td>1975</td>\n",
       "      <td>After entering the stage through the audience,...</td>\n",
       "      <td>https://scrapsfromtheloft.com/2018/10/04/georg...</td>\n",
       "    </tr>\n",
       "  </tbody>\n",
       "</table>\n",
       "</div>"
      ],
      "text/plain": [
       "                                 name  \\\n",
       "40                   Gabriel Iglesias   \n",
       "41               Sebastian Maniscalco   \n",
       "42                     John Leguizamo   \n",
       "43               Sebastian Maniscalco   \n",
       "44               Sebastian Maniscalco   \n",
       "45                    Ellen Degeneres   \n",
       "46                        Pete Holmes   \n",
       "47                            Vir Das   \n",
       "48                     Volker Pispers   \n",
       "49                        Trevor Noah   \n",
       "50  Jeff Foxworthylarry The Cable Guy   \n",
       "51                       Adam Sandler   \n",
       "52                     Jeff Foxworthy   \n",
       "53                          Ron White   \n",
       "54                      George Carlin   \n",
       "55                         Tom Segura   \n",
       "56                            Mo Amer   \n",
       "57                          Joe Mande   \n",
       "58                      Henry Rollins   \n",
       "59                      George Carlin   \n",
       "\n",
       "                                           title  \\\n",
       "40                             One Show Fits All   \n",
       "41                                   Stay Hungry   \n",
       "42  Latin History For Morons ’S Road To Broadway   \n",
       "43                       Aren’T You Embarrassed?   \n",
       "44                     What’S Wrong With People?   \n",
       "45                                     Relatable   \n",
       "46                                   Dirty Clean   \n",
       "47                                     Losing It   \n",
       "48                                     About Usa   \n",
       "49                               Son Of Patricia   \n",
       "50                           We’Ve Been Thinking   \n",
       "51                                    100% Fresh   \n",
       "52                             Totally Committed   \n",
       "53           If You Quit Listening, I’Ll Shut Up   \n",
       "54                            Carlin At Carnegie   \n",
       "55                       Comedy Central Presents   \n",
       "56                                  The Vagabond   \n",
       "57               ’S Award-Winning Comedy Special   \n",
       "58                             Keep Talking, Pal   \n",
       "59                          SNL Monologue S01E01   \n",
       "\n",
       "                                              summary  year  \\\n",
       "40  In a new special from Houston, Gabriel \"Fluffy...  2019   \n",
       "41  Sebastian's captivating storytelling keeps the...  2019   \n",
       "42  Latin History for Morons: John Leguizamo's Roa...  2018   \n",
       "43  Sebastian Maniscalco returns home to Chicago t...  2014   \n",
       "44  \"What's Wrong with People?\" asks Sebastian Man...  2012   \n",
       "45  In her first special since 2003, Ellen revisit...  2018   \n",
       "46  The stand-up special Pete Holmes: Dirty Clean ...  2018   \n",
       "47  The world's got a lot of problems, but Vir Das...  2018   \n",
       "48  Last part of Volker Pispers' program \"Bis neul...  2004   \n",
       "49  Trevor Noah gets out from behind the \"Daily Sh...  2018   \n",
       "50  Comedians Jeff Foxworthy and Larry the Cable G...  2016   \n",
       "51  Adam Sandler takes his comical musical musings...  2018   \n",
       "52  Jeff Foxworthy talks about how people act, mar...  1998   \n",
       "53  Ron “Tater Salad” White dishes out his signatu...  2018   \n",
       "54  In this live performance at Carnegie Hall Carl...  1983   \n",
       "55  Tom Segura describes the worst thing about vis...     0   \n",
       "56  Arab-American comedian Mo Amer recounts his li...  2018   \n",
       "57  Comedian Joe Mande performs an hour of stand u...  2017   \n",
       "58  Henry Rollins waxes at a high rate of speed ab...  2018   \n",
       "59  After entering the stage through the audience,...  1975   \n",
       "\n",
       "                                           transcript  \\\n",
       "40  [crowd chanting] Fluffy! Fluffy! [Fluffy shout...   \n",
       "41  [instrumental music plays] ♪ All right ♪ [scre...   \n",
       "42  There are people out there trying to rewrite o...   \n",
       "43  Good, good. It feels good to be home in Chicag...   \n",
       "44  Please welcome Sebastian Maniscalco.\\nSo good,...   \n",
       "45  A NETFLIX ORIGINAL COMEDY SPECIAL\\n[crowd chee...   \n",
       "46  (crowd murmurs) Announcer: Ladies and gentleme...   \n",
       "47  I lost 80% of my mind. It’s very freeing. You ...   \n",
       "48  Last part of Volker Pispers’ program “Bis neul...   \n",
       "49  A NETFLIX ORIGINAL COMEDY SPECIAL [distant tra...   \n",
       "50  When you start doing what Jeff and I do this i...   \n",
       "51  [man] Okay, ready, and… Take your own cue, Ada...   \n",
       "52  Ladies and gentlemen, please welcome Jeff Foxw...   \n",
       "53  [Ron White] You ever take a crap so big your p...   \n",
       "54  Recorded at Carnegie Hall, New York City in 19...   \n",
       "55  Yes. I agree. I totally agree. Totally. It’s g...   \n",
       "56  A NETFLIX ORIGINAL COMEDY SPECIAL\\n[audience c...   \n",
       "57  Awesome. How’s everyone doing? My name is Joe ...   \n",
       "58  [laughter] [indistinct chatter] [man] Ladies a...   \n",
       "59  After entering the stage through the audience,...   \n",
       "\n",
       "                                                 link  \n",
       "40  https://scrapsfromtheloft.com/2019/01/30/gabri...  \n",
       "41  https://scrapsfromtheloft.com/2019/01/29/sebas...  \n",
       "42  https://scrapsfromtheloft.com/2019/01/27/latin...  \n",
       "43  https://scrapsfromtheloft.com/2019/01/24/sebas...  \n",
       "44  https://scrapsfromtheloft.com/2019/01/24/sebas...  \n",
       "45  https://scrapsfromtheloft.com/2018/12/22/ellen...  \n",
       "46  https://scrapsfromtheloft.com/2018/12/19/pete-...  \n",
       "47  https://scrapsfromtheloft.com/2018/12/15/vir-d...  \n",
       "48  https://scrapsfromtheloft.com/2018/11/27/volke...  \n",
       "49  https://scrapsfromtheloft.com/2018/11/21/trevo...  \n",
       "50  https://scrapsfromtheloft.com/2018/10/28/jeff-...  \n",
       "51  https://scrapsfromtheloft.com/2018/10/26/adam-...  \n",
       "52  https://scrapsfromtheloft.com/2018/10/23/jeff-...  \n",
       "53  https://scrapsfromtheloft.com/2018/10/19/ron-w...  \n",
       "54  https://scrapsfromtheloft.com/2018/10/15/carli...  \n",
       "55  https://scrapsfromtheloft.com/2018/10/13/comed...  \n",
       "56  https://scrapsfromtheloft.com/2018/10/11/mo-am...  \n",
       "57  https://scrapsfromtheloft.com/2018/10/04/joe-m...  \n",
       "58  https://scrapsfromtheloft.com/2018/10/04/henry...  \n",
       "59  https://scrapsfromtheloft.com/2018/10/04/georg...  "
      ]
     },
     "execution_count": 8,
     "metadata": {},
     "output_type": "execute_result"
    }
   ],
   "source": [
    "df[40:60]"
   ]
  },
  {
   "cell_type": "code",
   "execution_count": 9,
   "metadata": {},
   "outputs": [],
   "source": [
    "# fix Jeff Foxworthylarry The Cable Guy\t to just Jeff Foxworthy\n",
    "# fix name\n",
    "df.loc[50, 'name'] = 'Jeff Foxworthy'"
   ]
  },
  {
   "cell_type": "code",
   "execution_count": 10,
   "metadata": {},
   "outputs": [
    {
     "data": {
      "text/html": [
       "<div>\n",
       "<style scoped>\n",
       "    .dataframe tbody tr th:only-of-type {\n",
       "        vertical-align: middle;\n",
       "    }\n",
       "\n",
       "    .dataframe tbody tr th {\n",
       "        vertical-align: top;\n",
       "    }\n",
       "\n",
       "    .dataframe thead th {\n",
       "        text-align: right;\n",
       "    }\n",
       "</style>\n",
       "<table border=\"1\" class=\"dataframe\">\n",
       "  <thead>\n",
       "    <tr style=\"text-align: right;\">\n",
       "      <th></th>\n",
       "      <th>name</th>\n",
       "      <th>title</th>\n",
       "      <th>summary</th>\n",
       "      <th>year</th>\n",
       "      <th>transcript</th>\n",
       "      <th>link</th>\n",
       "    </tr>\n",
       "  </thead>\n",
       "  <tbody>\n",
       "    <tr>\n",
       "      <th>40</th>\n",
       "      <td>Gabriel Iglesias</td>\n",
       "      <td>One Show Fits All</td>\n",
       "      <td>In a new special from Houston, Gabriel \"Fluffy...</td>\n",
       "      <td>2019</td>\n",
       "      <td>[crowd chanting] Fluffy! Fluffy! [Fluffy shout...</td>\n",
       "      <td>https://scrapsfromtheloft.com/2019/01/30/gabri...</td>\n",
       "    </tr>\n",
       "    <tr>\n",
       "      <th>41</th>\n",
       "      <td>Sebastian Maniscalco</td>\n",
       "      <td>Stay Hungry</td>\n",
       "      <td>Sebastian's captivating storytelling keeps the...</td>\n",
       "      <td>2019</td>\n",
       "      <td>[instrumental music plays] ♪ All right ♪ [scre...</td>\n",
       "      <td>https://scrapsfromtheloft.com/2019/01/29/sebas...</td>\n",
       "    </tr>\n",
       "    <tr>\n",
       "      <th>42</th>\n",
       "      <td>John Leguizamo</td>\n",
       "      <td>Latin History For Morons ’S Road To Broadway</td>\n",
       "      <td>Latin History for Morons: John Leguizamo's Roa...</td>\n",
       "      <td>2018</td>\n",
       "      <td>There are people out there trying to rewrite o...</td>\n",
       "      <td>https://scrapsfromtheloft.com/2019/01/27/latin...</td>\n",
       "    </tr>\n",
       "    <tr>\n",
       "      <th>43</th>\n",
       "      <td>Sebastian Maniscalco</td>\n",
       "      <td>Aren’T You Embarrassed?</td>\n",
       "      <td>Sebastian Maniscalco returns home to Chicago t...</td>\n",
       "      <td>2014</td>\n",
       "      <td>Good, good. It feels good to be home in Chicag...</td>\n",
       "      <td>https://scrapsfromtheloft.com/2019/01/24/sebas...</td>\n",
       "    </tr>\n",
       "    <tr>\n",
       "      <th>44</th>\n",
       "      <td>Sebastian Maniscalco</td>\n",
       "      <td>What’S Wrong With People?</td>\n",
       "      <td>\"What's Wrong with People?\" asks Sebastian Man...</td>\n",
       "      <td>2012</td>\n",
       "      <td>Please welcome Sebastian Maniscalco.\\nSo good,...</td>\n",
       "      <td>https://scrapsfromtheloft.com/2019/01/24/sebas...</td>\n",
       "    </tr>\n",
       "    <tr>\n",
       "      <th>45</th>\n",
       "      <td>Ellen Degeneres</td>\n",
       "      <td>Relatable</td>\n",
       "      <td>In her first special since 2003, Ellen revisit...</td>\n",
       "      <td>2018</td>\n",
       "      <td>A NETFLIX ORIGINAL COMEDY SPECIAL\\n[crowd chee...</td>\n",
       "      <td>https://scrapsfromtheloft.com/2018/12/22/ellen...</td>\n",
       "    </tr>\n",
       "    <tr>\n",
       "      <th>46</th>\n",
       "      <td>Pete Holmes</td>\n",
       "      <td>Dirty Clean</td>\n",
       "      <td>The stand-up special Pete Holmes: Dirty Clean ...</td>\n",
       "      <td>2018</td>\n",
       "      <td>(crowd murmurs) Announcer: Ladies and gentleme...</td>\n",
       "      <td>https://scrapsfromtheloft.com/2018/12/19/pete-...</td>\n",
       "    </tr>\n",
       "    <tr>\n",
       "      <th>47</th>\n",
       "      <td>Vir Das</td>\n",
       "      <td>Losing It</td>\n",
       "      <td>The world's got a lot of problems, but Vir Das...</td>\n",
       "      <td>2018</td>\n",
       "      <td>I lost 80% of my mind. It’s very freeing. You ...</td>\n",
       "      <td>https://scrapsfromtheloft.com/2018/12/15/vir-d...</td>\n",
       "    </tr>\n",
       "    <tr>\n",
       "      <th>48</th>\n",
       "      <td>Volker Pispers</td>\n",
       "      <td>About Usa</td>\n",
       "      <td>Last part of Volker Pispers' program \"Bis neul...</td>\n",
       "      <td>2004</td>\n",
       "      <td>Last part of Volker Pispers’ program “Bis neul...</td>\n",
       "      <td>https://scrapsfromtheloft.com/2018/11/27/volke...</td>\n",
       "    </tr>\n",
       "    <tr>\n",
       "      <th>49</th>\n",
       "      <td>Trevor Noah</td>\n",
       "      <td>Son Of Patricia</td>\n",
       "      <td>Trevor Noah gets out from behind the \"Daily Sh...</td>\n",
       "      <td>2018</td>\n",
       "      <td>A NETFLIX ORIGINAL COMEDY SPECIAL [distant tra...</td>\n",
       "      <td>https://scrapsfromtheloft.com/2018/11/21/trevo...</td>\n",
       "    </tr>\n",
       "    <tr>\n",
       "      <th>50</th>\n",
       "      <td>Jeff Foxworthy</td>\n",
       "      <td>We’Ve Been Thinking</td>\n",
       "      <td>Comedians Jeff Foxworthy and Larry the Cable G...</td>\n",
       "      <td>2016</td>\n",
       "      <td>When you start doing what Jeff and I do this i...</td>\n",
       "      <td>https://scrapsfromtheloft.com/2018/10/28/jeff-...</td>\n",
       "    </tr>\n",
       "    <tr>\n",
       "      <th>51</th>\n",
       "      <td>Adam Sandler</td>\n",
       "      <td>100% Fresh</td>\n",
       "      <td>Adam Sandler takes his comical musical musings...</td>\n",
       "      <td>2018</td>\n",
       "      <td>[man] Okay, ready, and… Take your own cue, Ada...</td>\n",
       "      <td>https://scrapsfromtheloft.com/2018/10/26/adam-...</td>\n",
       "    </tr>\n",
       "    <tr>\n",
       "      <th>52</th>\n",
       "      <td>Jeff Foxworthy</td>\n",
       "      <td>Totally Committed</td>\n",
       "      <td>Jeff Foxworthy talks about how people act, mar...</td>\n",
       "      <td>1998</td>\n",
       "      <td>Ladies and gentlemen, please welcome Jeff Foxw...</td>\n",
       "      <td>https://scrapsfromtheloft.com/2018/10/23/jeff-...</td>\n",
       "    </tr>\n",
       "    <tr>\n",
       "      <th>53</th>\n",
       "      <td>Ron White</td>\n",
       "      <td>If You Quit Listening, I’Ll Shut Up</td>\n",
       "      <td>Ron “Tater Salad” White dishes out his signatu...</td>\n",
       "      <td>2018</td>\n",
       "      <td>[Ron White] You ever take a crap so big your p...</td>\n",
       "      <td>https://scrapsfromtheloft.com/2018/10/19/ron-w...</td>\n",
       "    </tr>\n",
       "    <tr>\n",
       "      <th>54</th>\n",
       "      <td>George Carlin</td>\n",
       "      <td>Carlin At Carnegie</td>\n",
       "      <td>In this live performance at Carnegie Hall Carl...</td>\n",
       "      <td>1983</td>\n",
       "      <td>Recorded at Carnegie Hall, New York City in 19...</td>\n",
       "      <td>https://scrapsfromtheloft.com/2018/10/15/carli...</td>\n",
       "    </tr>\n",
       "    <tr>\n",
       "      <th>55</th>\n",
       "      <td>Tom Segura</td>\n",
       "      <td>Comedy Central Presents</td>\n",
       "      <td>Tom Segura describes the worst thing about vis...</td>\n",
       "      <td>0</td>\n",
       "      <td>Yes. I agree. I totally agree. Totally. It’s g...</td>\n",
       "      <td>https://scrapsfromtheloft.com/2018/10/13/comed...</td>\n",
       "    </tr>\n",
       "    <tr>\n",
       "      <th>56</th>\n",
       "      <td>Mo Amer</td>\n",
       "      <td>The Vagabond</td>\n",
       "      <td>Arab-American comedian Mo Amer recounts his li...</td>\n",
       "      <td>2018</td>\n",
       "      <td>A NETFLIX ORIGINAL COMEDY SPECIAL\\n[audience c...</td>\n",
       "      <td>https://scrapsfromtheloft.com/2018/10/11/mo-am...</td>\n",
       "    </tr>\n",
       "    <tr>\n",
       "      <th>57</th>\n",
       "      <td>Joe Mande</td>\n",
       "      <td>’S Award-Winning Comedy Special</td>\n",
       "      <td>Comedian Joe Mande performs an hour of stand u...</td>\n",
       "      <td>2017</td>\n",
       "      <td>Awesome. How’s everyone doing? My name is Joe ...</td>\n",
       "      <td>https://scrapsfromtheloft.com/2018/10/04/joe-m...</td>\n",
       "    </tr>\n",
       "    <tr>\n",
       "      <th>58</th>\n",
       "      <td>Henry Rollins</td>\n",
       "      <td>Keep Talking, Pal</td>\n",
       "      <td>Henry Rollins waxes at a high rate of speed ab...</td>\n",
       "      <td>2018</td>\n",
       "      <td>[laughter] [indistinct chatter] [man] Ladies a...</td>\n",
       "      <td>https://scrapsfromtheloft.com/2018/10/04/henry...</td>\n",
       "    </tr>\n",
       "    <tr>\n",
       "      <th>59</th>\n",
       "      <td>George Carlin</td>\n",
       "      <td>SNL Monologue S01E01</td>\n",
       "      <td>After entering the stage through the audience,...</td>\n",
       "      <td>1975</td>\n",
       "      <td>After entering the stage through the audience,...</td>\n",
       "      <td>https://scrapsfromtheloft.com/2018/10/04/georg...</td>\n",
       "    </tr>\n",
       "  </tbody>\n",
       "</table>\n",
       "</div>"
      ],
      "text/plain": [
       "                    name                                         title  \\\n",
       "40      Gabriel Iglesias                             One Show Fits All   \n",
       "41  Sebastian Maniscalco                                   Stay Hungry   \n",
       "42        John Leguizamo  Latin History For Morons ’S Road To Broadway   \n",
       "43  Sebastian Maniscalco                       Aren’T You Embarrassed?   \n",
       "44  Sebastian Maniscalco                     What’S Wrong With People?   \n",
       "45       Ellen Degeneres                                     Relatable   \n",
       "46           Pete Holmes                                   Dirty Clean   \n",
       "47               Vir Das                                     Losing It   \n",
       "48        Volker Pispers                                     About Usa   \n",
       "49           Trevor Noah                               Son Of Patricia   \n",
       "50        Jeff Foxworthy                           We’Ve Been Thinking   \n",
       "51          Adam Sandler                                    100% Fresh   \n",
       "52        Jeff Foxworthy                             Totally Committed   \n",
       "53             Ron White           If You Quit Listening, I’Ll Shut Up   \n",
       "54         George Carlin                            Carlin At Carnegie   \n",
       "55            Tom Segura                       Comedy Central Presents   \n",
       "56               Mo Amer                                  The Vagabond   \n",
       "57             Joe Mande               ’S Award-Winning Comedy Special   \n",
       "58         Henry Rollins                             Keep Talking, Pal   \n",
       "59         George Carlin                          SNL Monologue S01E01   \n",
       "\n",
       "                                              summary  year  \\\n",
       "40  In a new special from Houston, Gabriel \"Fluffy...  2019   \n",
       "41  Sebastian's captivating storytelling keeps the...  2019   \n",
       "42  Latin History for Morons: John Leguizamo's Roa...  2018   \n",
       "43  Sebastian Maniscalco returns home to Chicago t...  2014   \n",
       "44  \"What's Wrong with People?\" asks Sebastian Man...  2012   \n",
       "45  In her first special since 2003, Ellen revisit...  2018   \n",
       "46  The stand-up special Pete Holmes: Dirty Clean ...  2018   \n",
       "47  The world's got a lot of problems, but Vir Das...  2018   \n",
       "48  Last part of Volker Pispers' program \"Bis neul...  2004   \n",
       "49  Trevor Noah gets out from behind the \"Daily Sh...  2018   \n",
       "50  Comedians Jeff Foxworthy and Larry the Cable G...  2016   \n",
       "51  Adam Sandler takes his comical musical musings...  2018   \n",
       "52  Jeff Foxworthy talks about how people act, mar...  1998   \n",
       "53  Ron “Tater Salad” White dishes out his signatu...  2018   \n",
       "54  In this live performance at Carnegie Hall Carl...  1983   \n",
       "55  Tom Segura describes the worst thing about vis...     0   \n",
       "56  Arab-American comedian Mo Amer recounts his li...  2018   \n",
       "57  Comedian Joe Mande performs an hour of stand u...  2017   \n",
       "58  Henry Rollins waxes at a high rate of speed ab...  2018   \n",
       "59  After entering the stage through the audience,...  1975   \n",
       "\n",
       "                                           transcript  \\\n",
       "40  [crowd chanting] Fluffy! Fluffy! [Fluffy shout...   \n",
       "41  [instrumental music plays] ♪ All right ♪ [scre...   \n",
       "42  There are people out there trying to rewrite o...   \n",
       "43  Good, good. It feels good to be home in Chicag...   \n",
       "44  Please welcome Sebastian Maniscalco.\\nSo good,...   \n",
       "45  A NETFLIX ORIGINAL COMEDY SPECIAL\\n[crowd chee...   \n",
       "46  (crowd murmurs) Announcer: Ladies and gentleme...   \n",
       "47  I lost 80% of my mind. It’s very freeing. You ...   \n",
       "48  Last part of Volker Pispers’ program “Bis neul...   \n",
       "49  A NETFLIX ORIGINAL COMEDY SPECIAL [distant tra...   \n",
       "50  When you start doing what Jeff and I do this i...   \n",
       "51  [man] Okay, ready, and… Take your own cue, Ada...   \n",
       "52  Ladies and gentlemen, please welcome Jeff Foxw...   \n",
       "53  [Ron White] You ever take a crap so big your p...   \n",
       "54  Recorded at Carnegie Hall, New York City in 19...   \n",
       "55  Yes. I agree. I totally agree. Totally. It’s g...   \n",
       "56  A NETFLIX ORIGINAL COMEDY SPECIAL\\n[audience c...   \n",
       "57  Awesome. How’s everyone doing? My name is Joe ...   \n",
       "58  [laughter] [indistinct chatter] [man] Ladies a...   \n",
       "59  After entering the stage through the audience,...   \n",
       "\n",
       "                                                 link  \n",
       "40  https://scrapsfromtheloft.com/2019/01/30/gabri...  \n",
       "41  https://scrapsfromtheloft.com/2019/01/29/sebas...  \n",
       "42  https://scrapsfromtheloft.com/2019/01/27/latin...  \n",
       "43  https://scrapsfromtheloft.com/2019/01/24/sebas...  \n",
       "44  https://scrapsfromtheloft.com/2019/01/24/sebas...  \n",
       "45  https://scrapsfromtheloft.com/2018/12/22/ellen...  \n",
       "46  https://scrapsfromtheloft.com/2018/12/19/pete-...  \n",
       "47  https://scrapsfromtheloft.com/2018/12/15/vir-d...  \n",
       "48  https://scrapsfromtheloft.com/2018/11/27/volke...  \n",
       "49  https://scrapsfromtheloft.com/2018/11/21/trevo...  \n",
       "50  https://scrapsfromtheloft.com/2018/10/28/jeff-...  \n",
       "51  https://scrapsfromtheloft.com/2018/10/26/adam-...  \n",
       "52  https://scrapsfromtheloft.com/2018/10/23/jeff-...  \n",
       "53  https://scrapsfromtheloft.com/2018/10/19/ron-w...  \n",
       "54  https://scrapsfromtheloft.com/2018/10/15/carli...  \n",
       "55  https://scrapsfromtheloft.com/2018/10/13/comed...  \n",
       "56  https://scrapsfromtheloft.com/2018/10/11/mo-am...  \n",
       "57  https://scrapsfromtheloft.com/2018/10/04/joe-m...  \n",
       "58  https://scrapsfromtheloft.com/2018/10/04/henry...  \n",
       "59  https://scrapsfromtheloft.com/2018/10/04/georg...  "
      ]
     },
     "execution_count": 10,
     "metadata": {},
     "output_type": "execute_result"
    }
   ],
   "source": [
    "df[40:60]"
   ]
  },
  {
   "cell_type": "markdown",
   "metadata": {},
   "source": [
    "## Get len of transcript"
   ]
  },
  {
   "cell_type": "code",
   "execution_count": 11,
   "metadata": {},
   "outputs": [],
   "source": [
    "df['len_transcript'] = df.transcript.str.len()"
   ]
  },
  {
   "cell_type": "code",
   "execution_count": 12,
   "metadata": {},
   "outputs": [
    {
     "data": {
      "text/plain": [
       "count      284.000000\n",
       "mean     44476.133803\n",
       "std      17255.660658\n",
       "min       2491.000000\n",
       "25%      38265.000000\n",
       "50%      46805.000000\n",
       "75%      55752.750000\n",
       "max      86391.000000\n",
       "Name: len_transcript, dtype: float64"
      ]
     },
     "execution_count": 12,
     "metadata": {},
     "output_type": "execute_result"
    }
   ],
   "source": [
    "df.len_transcript.describe()"
   ]
  },
  {
   "cell_type": "code",
   "execution_count": 13,
   "metadata": {},
   "outputs": [
    {
     "data": {
      "text/plain": [
       "Text(0.5, 1.0, 'Length of Transcript by Word Count')"
      ]
     },
     "execution_count": 13,
     "metadata": {},
     "output_type": "execute_result"
    },
    {
     "data": {
      "image/png": "[encoded data removed]",
      "text/plain": [
       "<Figure size 770.4x307.44 with 1 Axes>"
      ]
     },
     "metadata": {},
     "output_type": "display_data"
    }
   ],
   "source": [
    "df.len_transcript.plot()\n",
    "plt.title('Length of Transcript by Word Count')"
   ]
  },
  {
   "cell_type": "code",
   "execution_count": 14,
   "metadata": {},
   "outputs": [
    {
     "data": {
      "text/plain": [
       "Text(0.5, 1.0, 'length of Transcript Distribution')"
      ]
     },
     "execution_count": 14,
     "metadata": {},
     "output_type": "execute_result"
    },
    {
     "data": {
      "image/png": "[encoded data removed]",
      "text/plain": [
       "<Figure size 770.4x307.44 with 1 Axes>"
      ]
     },
     "metadata": {},
     "output_type": "display_data"
    }
   ],
   "source": [
    "sns.distplot(df.len_transcript)\n",
    "plt.title('length of Transcript Distribution')"
   ]
  },
  {
   "cell_type": "markdown",
   "metadata": {},
   "source": [
    "## drop any transcripts < 20000\n",
    "Lets only select transcripts that are 20K words or longer"
   ]
  },
  {
   "cell_type": "code",
   "execution_count": 15,
   "metadata": {},
   "outputs": [],
   "source": [
    "large_transcripts = df.len_transcript> 20000"
   ]
  },
  {
   "cell_type": "code",
   "execution_count": 16,
   "metadata": {},
   "outputs": [],
   "source": [
    "df = df[large_transcripts]"
   ]
  },
  {
   "cell_type": "code",
   "execution_count": 17,
   "metadata": {},
   "outputs": [
    {
     "data": {
      "text/plain": [
       "<matplotlib.axes._subplots.AxesSubplot at 0x7fc5d16e07d0>"
      ]
     },
     "execution_count": 17,
     "metadata": {},
     "output_type": "execute_result"
    },
    {
     "data": {
      "image/png": "[encoded data removed]",
      "text/plain": [
       "<Figure size 770.4x307.44 with 1 Axes>"
      ]
     },
     "metadata": {},
     "output_type": "display_data"
    }
   ],
   "source": [
    "df.len_transcript.plot()"
   ]
  },
  {
   "cell_type": "code",
   "execution_count": 18,
   "metadata": {},
   "outputs": [
    {
     "data": {
      "text/plain": [
       "count      248.000000\n",
       "mean     49547.592742\n",
       "std      11544.399145\n",
       "min      20019.000000\n",
       "25%      41997.000000\n",
       "50%      48588.000000\n",
       "75%      57220.250000\n",
       "max      86391.000000\n",
       "Name: len_transcript, dtype: float64"
      ]
     },
     "execution_count": 18,
     "metadata": {},
     "output_type": "execute_result"
    }
   ],
   "source": [
    "df.len_transcript.describe()"
   ]
  },
  {
   "cell_type": "code",
   "execution_count": 19,
   "metadata": {},
   "outputs": [
    {
     "data": {
      "text/plain": [
       "Text(0.5, 1.0, 'length of Transcript Distribution')"
      ]
     },
     "execution_count": 19,
     "metadata": {},
     "output_type": "execute_result"
    },
    {
     "data": {
      "image/png": "[encoded data removed]",
      "text/plain": [
       "<Figure size 770.4x307.44 with 1 Axes>"
      ]
     },
     "metadata": {},
     "output_type": "display_data"
    }
   ],
   "source": [
    "sns.distplot(df.len_transcript)\n",
    "plt.title('length of Transcript Distribution')"
   ]
  },
  {
   "cell_type": "code",
   "execution_count": 20,
   "metadata": {},
   "outputs": [
    {
     "data": {
      "text/html": [
       "<div>\n",
       "<style scoped>\n",
       "    .dataframe tbody tr th:only-of-type {\n",
       "        vertical-align: middle;\n",
       "    }\n",
       "\n",
       "    .dataframe tbody tr th {\n",
       "        vertical-align: top;\n",
       "    }\n",
       "\n",
       "    .dataframe thead th {\n",
       "        text-align: right;\n",
       "    }\n",
       "</style>\n",
       "<table border=\"1\" class=\"dataframe\">\n",
       "  <thead>\n",
       "    <tr style=\"text-align: right;\">\n",
       "      <th></th>\n",
       "      <th>name</th>\n",
       "      <th>title</th>\n",
       "      <th>summary</th>\n",
       "      <th>year</th>\n",
       "      <th>transcript</th>\n",
       "      <th>link</th>\n",
       "      <th>len_transcript</th>\n",
       "    </tr>\n",
       "  </thead>\n",
       "  <tbody>\n",
       "    <tr>\n",
       "      <th>0</th>\n",
       "      <td>Nikki Glaser</td>\n",
       "      <td>Bangin’</td>\n",
       "      <td>A NETFLIX ORIGINAL COMEDY SPECIAL Thank you! T...</td>\n",
       "      <td>2019</td>\n",
       "      <td>A NETFLIX ORIGINAL COMEDY SPECIAL\\nThank you! ...</td>\n",
       "      <td>https://scrapsfromtheloft.com/2019/10/04/nikki...</td>\n",
       "      <td>53937</td>\n",
       "    </tr>\n",
       "    <tr>\n",
       "      <th>4</th>\n",
       "      <td>Bill Burr</td>\n",
       "      <td>Paper Tiger</td>\n",
       "      <td>Only a few weeks after Dave Chappelle's \"Stick...</td>\n",
       "      <td>2019</td>\n",
       "      <td>Recorded Live at the Royal Albert Hall, London...</td>\n",
       "      <td>https://scrapsfromtheloft.com/2019/09/10/bill-...</td>\n",
       "      <td>60486</td>\n",
       "    </tr>\n",
       "    <tr>\n",
       "      <th>6</th>\n",
       "      <td>Amazon Rainforestclimate Changedeforestationha...</td>\n",
       "      <td>Brazil, Corruption And The Amazon Rainforest |...</td>\n",
       "      <td>Hasan explains why Brazil's Trump-like preside...</td>\n",
       "      <td>0</td>\n",
       "      <td>On this episode of Patriot Act, Hasan breaks d...</td>\n",
       "      <td>https://scrapsfromtheloft.com/2019/08/26/brazi...</td>\n",
       "      <td>20019</td>\n",
       "    </tr>\n",
       "    <tr>\n",
       "      <th>7</th>\n",
       "      <td>Dave Chappelle</td>\n",
       "      <td>Sticks &amp; Stones</td>\n",
       "      <td>Legendary comedian Dave Chappelle is back with...</td>\n",
       "      <td>2019</td>\n",
       "      <td>Sticks &amp; Stones is Dave Chappelle’s fifth Netf...</td>\n",
       "      <td>https://scrapsfromtheloft.com/2019/08/26/dave-...</td>\n",
       "      <td>42293</td>\n",
       "    </tr>\n",
       "    <tr>\n",
       "      <th>8</th>\n",
       "      <td>Emily Heller</td>\n",
       "      <td>Ice Thickeners</td>\n",
       "      <td>Emily Heller compares Donald Trump to Air Bud,...</td>\n",
       "      <td>2019</td>\n",
       "      <td>Emily Heller compares Donald Trump to Air Bud,...</td>\n",
       "      <td>https://scrapsfromtheloft.com/2019/08/25/emily...</td>\n",
       "      <td>44383</td>\n",
       "    </tr>\n",
       "  </tbody>\n",
       "</table>\n",
       "</div>"
      ],
      "text/plain": [
       "                                                name  \\\n",
       "0                                       Nikki Glaser   \n",
       "4                                          Bill Burr   \n",
       "6  Amazon Rainforestclimate Changedeforestationha...   \n",
       "7                                     Dave Chappelle   \n",
       "8                                       Emily Heller   \n",
       "\n",
       "                                               title  \\\n",
       "0                                            Bangin’   \n",
       "4                                        Paper Tiger   \n",
       "6  Brazil, Corruption And The Amazon Rainforest |...   \n",
       "7                                    Sticks & Stones   \n",
       "8                                     Ice Thickeners   \n",
       "\n",
       "                                             summary  year  \\\n",
       "0  A NETFLIX ORIGINAL COMEDY SPECIAL Thank you! T...  2019   \n",
       "4  Only a few weeks after Dave Chappelle's \"Stick...  2019   \n",
       "6  Hasan explains why Brazil's Trump-like preside...     0   \n",
       "7  Legendary comedian Dave Chappelle is back with...  2019   \n",
       "8  Emily Heller compares Donald Trump to Air Bud,...  2019   \n",
       "\n",
       "                                          transcript  \\\n",
       "0  A NETFLIX ORIGINAL COMEDY SPECIAL\\nThank you! ...   \n",
       "4  Recorded Live at the Royal Albert Hall, London...   \n",
       "6  On this episode of Patriot Act, Hasan breaks d...   \n",
       "7  Sticks & Stones is Dave Chappelle’s fifth Netf...   \n",
       "8  Emily Heller compares Donald Trump to Air Bud,...   \n",
       "\n",
       "                                                link  len_transcript  \n",
       "0  https://scrapsfromtheloft.com/2019/10/04/nikki...           53937  \n",
       "4  https://scrapsfromtheloft.com/2019/09/10/bill-...           60486  \n",
       "6  https://scrapsfromtheloft.com/2019/08/26/brazi...           20019  \n",
       "7  https://scrapsfromtheloft.com/2019/08/26/dave-...           42293  \n",
       "8  https://scrapsfromtheloft.com/2019/08/25/emily...           44383  "
      ]
     },
     "execution_count": 20,
     "metadata": {},
     "output_type": "execute_result"
    }
   ],
   "source": [
    "df.head()"
   ]
  },
  {
   "cell_type": "markdown",
   "metadata": {},
   "source": [
    "## Extract DOB from wikipedia"
   ]
  },
  {
   "cell_type": "code",
   "execution_count": 21,
   "metadata": {},
   "outputs": [],
   "source": [
    "def get_bday_wiki_rx(data):\n",
    "    '''call wikipedia API to extract DOB from summary'''\n",
    "    pat = r'(\\d{2}\\s[A-z]+\\s|[A-z]+\\s\\d{2},?\\s)?\\d{4}'\n",
    "    pattern = re.compile(pat,re.IGNORECASE|re.VERBOSE)\n",
    "    name = data['name']\n",
    "    print('bday extraction: {}'.format(name))\n",
    "    clear_output(wait = True)\n",
    "    try:\n",
    "        page = wk.page(name)\n",
    "        result = pattern.search(page.content).group()\n",
    "        return result\n",
    "    except:\n",
    "        print('Some error.')"
   ]
  },
  {
   "cell_type": "markdown",
   "metadata": {},
   "source": [
    "## Extract Sex from wikipedia"
   ]
  },
  {
   "cell_type": "code",
   "execution_count": 22,
   "metadata": {},
   "outputs": [],
   "source": [
    "def get_sex_wiki_rx(data):\n",
    "    '''call wikipedia API to extact sex of person\n",
    "    by searching how they are described'''\n",
    "    pat = r'(He|She)'\n",
    "    pattern = re.compile(pat,re.IGNORECASE|re.VERBOSE)\n",
    "    name= data['name']\n",
    "    print('sex extraction: {}'.format(name))\n",
    "    clear_output(wait = True)\n",
    "    try:\n",
    "        page = wk.page(name)\n",
    "        result = pattern.search(page.content).group()\n",
    "        result = result.title()\n",
    "        if result == 'She':\n",
    "            return 'Female'\n",
    "        elif result == 'He':\n",
    "            return 'Male'\n",
    "        else:\n",
    "            return 'Unk'\n",
    "    except:\n",
    "        print('Some error')"
   ]
  },
  {
   "cell_type": "markdown",
   "metadata": {},
   "source": [
    "## Apply functions"
   ]
  },
  {
   "cell_type": "code",
   "execution_count": 23,
   "metadata": {},
   "outputs": [
    {
     "name": "stdout",
     "output_type": "stream",
     "text": [
      "CPU times: user 12.2 s, sys: 3.19 s, total: 15.4 s\n",
      "Wall time: 4min 28s\n"
     ]
    }
   ],
   "source": [
    "%%time\n",
    "df['dob'] = df.apply(get_bday_wiki_rx,axis=1)"
   ]
  },
  {
   "cell_type": "code",
   "execution_count": 24,
   "metadata": {},
   "outputs": [
    {
     "name": "stdout",
     "output_type": "stream",
     "text": [
      "<class 'pandas.core.frame.DataFrame'>\n",
      "Int64Index: 248 entries, 0 to 283\n",
      "Data columns (total 8 columns):\n",
      "name              248 non-null object\n",
      "title             248 non-null object\n",
      "summary           248 non-null object\n",
      "year              248 non-null int64\n",
      "transcript        248 non-null object\n",
      "link              248 non-null object\n",
      "len_transcript    248 non-null int64\n",
      "dob               245 non-null object\n",
      "dtypes: int64(2), object(6)\n",
      "memory usage: 17.4+ KB\n"
     ]
    }
   ],
   "source": [
    "df.info()"
   ]
  },
  {
   "cell_type": "code",
   "execution_count": 25,
   "metadata": {},
   "outputs": [
    {
     "data": {
      "text/plain": [
       "May 12, 1937          16\n",
       "August 24, 1973        9\n",
       "September 12, 1967     7\n",
       "1971                   7\n",
       "14 February 1977       6\n",
       "June 10, 1968          6\n",
       "1970                   5\n",
       "1965                   5\n",
       "1979                   5\n",
       "1981                   5\n",
       "Name: dob, dtype: int64"
      ]
     },
     "execution_count": 25,
     "metadata": {},
     "output_type": "execute_result"
    }
   ],
   "source": [
    "df.dob.value_counts(dropna=False)[:10]"
   ]
  },
  {
   "cell_type": "code",
   "execution_count": 26,
   "metadata": {},
   "outputs": [
    {
     "data": {
      "text/html": [
       "<div>\n",
       "<style scoped>\n",
       "    .dataframe tbody tr th:only-of-type {\n",
       "        vertical-align: middle;\n",
       "    }\n",
       "\n",
       "    .dataframe tbody tr th {\n",
       "        vertical-align: top;\n",
       "    }\n",
       "\n",
       "    .dataframe thead th {\n",
       "        text-align: right;\n",
       "    }\n",
       "</style>\n",
       "<table border=\"1\" class=\"dataframe\">\n",
       "  <thead>\n",
       "    <tr style=\"text-align: right;\">\n",
       "      <th></th>\n",
       "      <th>name</th>\n",
       "      <th>title</th>\n",
       "      <th>summary</th>\n",
       "      <th>year</th>\n",
       "      <th>transcript</th>\n",
       "      <th>link</th>\n",
       "      <th>len_transcript</th>\n",
       "      <th>dob</th>\n",
       "    </tr>\n",
       "  </thead>\n",
       "  <tbody>\n",
       "    <tr>\n",
       "      <th>0</th>\n",
       "      <td>Nikki Glaser</td>\n",
       "      <td>Bangin’</td>\n",
       "      <td>A NETFLIX ORIGINAL COMEDY SPECIAL Thank you! T...</td>\n",
       "      <td>2019</td>\n",
       "      <td>A NETFLIX ORIGINAL COMEDY SPECIAL\\nThank you! ...</td>\n",
       "      <td>https://scrapsfromtheloft.com/2019/10/04/nikki...</td>\n",
       "      <td>53937</td>\n",
       "      <td>1984</td>\n",
       "    </tr>\n",
       "    <tr>\n",
       "      <th>4</th>\n",
       "      <td>Bill Burr</td>\n",
       "      <td>Paper Tiger</td>\n",
       "      <td>Only a few weeks after Dave Chappelle's \"Stick...</td>\n",
       "      <td>2019</td>\n",
       "      <td>Recorded Live at the Royal Albert Hall, London...</td>\n",
       "      <td>https://scrapsfromtheloft.com/2019/09/10/bill-...</td>\n",
       "      <td>60486</td>\n",
       "      <td>June 10, 1968</td>\n",
       "    </tr>\n",
       "    <tr>\n",
       "      <th>6</th>\n",
       "      <td>Amazon Rainforestclimate Changedeforestationha...</td>\n",
       "      <td>Brazil, Corruption And The Amazon Rainforest |...</td>\n",
       "      <td>Hasan explains why Brazil's Trump-like preside...</td>\n",
       "      <td>0</td>\n",
       "      <td>On this episode of Patriot Act, Hasan breaks d...</td>\n",
       "      <td>https://scrapsfromtheloft.com/2019/08/26/brazi...</td>\n",
       "      <td>20019</td>\n",
       "      <td>None</td>\n",
       "    </tr>\n",
       "    <tr>\n",
       "      <th>7</th>\n",
       "      <td>Dave Chappelle</td>\n",
       "      <td>Sticks &amp; Stones</td>\n",
       "      <td>Legendary comedian Dave Chappelle is back with...</td>\n",
       "      <td>2019</td>\n",
       "      <td>Sticks &amp; Stones is Dave Chappelle’s fifth Netf...</td>\n",
       "      <td>https://scrapsfromtheloft.com/2019/08/26/dave-...</td>\n",
       "      <td>42293</td>\n",
       "      <td>August 24, 1973</td>\n",
       "    </tr>\n",
       "    <tr>\n",
       "      <th>8</th>\n",
       "      <td>Emily Heller</td>\n",
       "      <td>Ice Thickeners</td>\n",
       "      <td>Emily Heller compares Donald Trump to Air Bud,...</td>\n",
       "      <td>2019</td>\n",
       "      <td>Emily Heller compares Donald Trump to Air Bud,...</td>\n",
       "      <td>https://scrapsfromtheloft.com/2019/08/25/emily...</td>\n",
       "      <td>44383</td>\n",
       "      <td>1985</td>\n",
       "    </tr>\n",
       "  </tbody>\n",
       "</table>\n",
       "</div>"
      ],
      "text/plain": [
       "                                                name  \\\n",
       "0                                       Nikki Glaser   \n",
       "4                                          Bill Burr   \n",
       "6  Amazon Rainforestclimate Changedeforestationha...   \n",
       "7                                     Dave Chappelle   \n",
       "8                                       Emily Heller   \n",
       "\n",
       "                                               title  \\\n",
       "0                                            Bangin’   \n",
       "4                                        Paper Tiger   \n",
       "6  Brazil, Corruption And The Amazon Rainforest |...   \n",
       "7                                    Sticks & Stones   \n",
       "8                                     Ice Thickeners   \n",
       "\n",
       "                                             summary  year  \\\n",
       "0  A NETFLIX ORIGINAL COMEDY SPECIAL Thank you! T...  2019   \n",
       "4  Only a few weeks after Dave Chappelle's \"Stick...  2019   \n",
       "6  Hasan explains why Brazil's Trump-like preside...     0   \n",
       "7  Legendary comedian Dave Chappelle is back with...  2019   \n",
       "8  Emily Heller compares Donald Trump to Air Bud,...  2019   \n",
       "\n",
       "                                          transcript  \\\n",
       "0  A NETFLIX ORIGINAL COMEDY SPECIAL\\nThank you! ...   \n",
       "4  Recorded Live at the Royal Albert Hall, London...   \n",
       "6  On this episode of Patriot Act, Hasan breaks d...   \n",
       "7  Sticks & Stones is Dave Chappelle’s fifth Netf...   \n",
       "8  Emily Heller compares Donald Trump to Air Bud,...   \n",
       "\n",
       "                                                link  len_transcript  \\\n",
       "0  https://scrapsfromtheloft.com/2019/10/04/nikki...           53937   \n",
       "4  https://scrapsfromtheloft.com/2019/09/10/bill-...           60486   \n",
       "6  https://scrapsfromtheloft.com/2019/08/26/brazi...           20019   \n",
       "7  https://scrapsfromtheloft.com/2019/08/26/dave-...           42293   \n",
       "8  https://scrapsfromtheloft.com/2019/08/25/emily...           44383   \n",
       "\n",
       "               dob  \n",
       "0             1984  \n",
       "4    June 10, 1968  \n",
       "6             None  \n",
       "7  August 24, 1973  \n",
       "8             1985  "
      ]
     },
     "execution_count": 26,
     "metadata": {},
     "output_type": "execute_result"
    }
   ],
   "source": [
    "df.head()"
   ]
  },
  {
   "cell_type": "markdown",
   "metadata": {},
   "source": [
    "## Check null values"
   ]
  },
  {
   "cell_type": "code",
   "execution_count": 27,
   "metadata": {},
   "outputs": [
    {
     "data": {
      "text/plain": [
       "name              0\n",
       "title             0\n",
       "summary           0\n",
       "year              0\n",
       "transcript        0\n",
       "link              0\n",
       "len_transcript    0\n",
       "dob               3\n",
       "dtype: int64"
      ]
     },
     "execution_count": 27,
     "metadata": {},
     "output_type": "execute_result"
    }
   ],
   "source": [
    "df.apply(lambda x: sum(x.isnull()))"
   ]
  },
  {
   "cell_type": "code",
   "execution_count": 28,
   "metadata": {},
   "outputs": [
    {
     "data": {
      "text/html": [
       "<div>\n",
       "<style scoped>\n",
       "    .dataframe tbody tr th:only-of-type {\n",
       "        vertical-align: middle;\n",
       "    }\n",
       "\n",
       "    .dataframe tbody tr th {\n",
       "        vertical-align: top;\n",
       "    }\n",
       "\n",
       "    .dataframe thead th {\n",
       "        text-align: right;\n",
       "    }\n",
       "</style>\n",
       "<table border=\"1\" class=\"dataframe\">\n",
       "  <thead>\n",
       "    <tr style=\"text-align: right;\">\n",
       "      <th></th>\n",
       "      <th>name</th>\n",
       "      <th>title</th>\n",
       "      <th>summary</th>\n",
       "      <th>year</th>\n",
       "      <th>transcript</th>\n",
       "      <th>link</th>\n",
       "      <th>len_transcript</th>\n",
       "      <th>dob</th>\n",
       "    </tr>\n",
       "  </thead>\n",
       "  <tbody>\n",
       "    <tr>\n",
       "      <th>6</th>\n",
       "      <td>Amazon Rainforestclimate Changedeforestationha...</td>\n",
       "      <td>Brazil, Corruption And The Amazon Rainforest |...</td>\n",
       "      <td>Hasan explains why Brazil's Trump-like preside...</td>\n",
       "      <td>0</td>\n",
       "      <td>On this episode of Patriot Act, Hasan breaks d...</td>\n",
       "      <td>https://scrapsfromtheloft.com/2019/08/26/brazi...</td>\n",
       "      <td>20019</td>\n",
       "      <td>None</td>\n",
       "    </tr>\n",
       "    <tr>\n",
       "      <th>83</th>\n",
       "      <td>Deray Davis</td>\n",
       "      <td>How To Act Black</td>\n",
       "      <td>Dynamic comic DeRay Davis hits the stage like ...</td>\n",
       "      <td>2017</td>\n",
       "      <td>[male announcer] ATL, get ready for the man of...</td>\n",
       "      <td>https://scrapsfromtheloft.com/2018/07/18/deray...</td>\n",
       "      <td>52546</td>\n",
       "      <td>None</td>\n",
       "    </tr>\n",
       "    <tr>\n",
       "      <th>186</th>\n",
       "      <td>Erik Griffin</td>\n",
       "      <td>The Ugly Truth</td>\n",
       "      <td>Erik Griffin’s performance at The Laugh Factor...</td>\n",
       "      <td>2017</td>\n",
       "      <td>Ladies and gentlemen, live from Laugh Factory ...</td>\n",
       "      <td>https://scrapsfromtheloft.com/2017/10/08/erik-...</td>\n",
       "      <td>37321</td>\n",
       "      <td>None</td>\n",
       "    </tr>\n",
       "  </tbody>\n",
       "</table>\n",
       "</div>"
      ],
      "text/plain": [
       "                                                  name  \\\n",
       "6    Amazon Rainforestclimate Changedeforestationha...   \n",
       "83                                         Deray Davis   \n",
       "186                                       Erik Griffin   \n",
       "\n",
       "                                                 title  \\\n",
       "6    Brazil, Corruption And The Amazon Rainforest |...   \n",
       "83                                    How To Act Black   \n",
       "186                                     The Ugly Truth   \n",
       "\n",
       "                                               summary  year  \\\n",
       "6    Hasan explains why Brazil's Trump-like preside...     0   \n",
       "83   Dynamic comic DeRay Davis hits the stage like ...  2017   \n",
       "186  Erik Griffin’s performance at The Laugh Factor...  2017   \n",
       "\n",
       "                                            transcript  \\\n",
       "6    On this episode of Patriot Act, Hasan breaks d...   \n",
       "83   [male announcer] ATL, get ready for the man of...   \n",
       "186  Ladies and gentlemen, live from Laugh Factory ...   \n",
       "\n",
       "                                                  link  len_transcript   dob  \n",
       "6    https://scrapsfromtheloft.com/2019/08/26/brazi...           20019  None  \n",
       "83   https://scrapsfromtheloft.com/2018/07/18/deray...           52546  None  \n",
       "186  https://scrapsfromtheloft.com/2017/10/08/erik-...           37321  None  "
      ]
     },
     "execution_count": 28,
     "metadata": {},
     "output_type": "execute_result"
    }
   ],
   "source": [
    "df[df.isnull().any(axis=1)]"
   ]
  },
  {
   "cell_type": "code",
   "execution_count": 49,
   "metadata": {},
   "outputs": [],
   "source": [
    "# Deray Davis\n",
    "df.loc[83, 'dob'] = 'February 26, 1968'\n",
    "# Erik Griffin\n",
    "df.loc[186, 'dob'] = 'March 26, 1976'\n"
   ]
  },
  {
   "cell_type": "code",
   "execution_count": 52,
   "metadata": {},
   "outputs": [
    {
     "data": {
      "text/plain": [
       "name              0\n",
       "title             0\n",
       "summary           0\n",
       "year              0\n",
       "transcript        0\n",
       "link              0\n",
       "len_transcript    0\n",
       "dob               0\n",
       "sex               0\n",
       "dtype: int64"
      ]
     },
     "execution_count": 52,
     "metadata": {},
     "output_type": "execute_result"
    }
   ],
   "source": [
    "df.apply(lambda x: sum(x.isnull()))"
   ]
  },
  {
   "cell_type": "markdown",
   "metadata": {},
   "source": [
    "## Get sex value"
   ]
  },
  {
   "cell_type": "code",
   "execution_count": 31,
   "metadata": {},
   "outputs": [
    {
     "name": "stdout",
     "output_type": "stream",
     "text": [
      "CPU times: user 11.2 s, sys: 2.66 s, total: 13.9 s\n",
      "Wall time: 3min 24s\n"
     ]
    }
   ],
   "source": [
    "%%time\n",
    "df['sex'] = df.apply(get_sex_wiki_rx,axis=1)"
   ]
  },
  {
   "cell_type": "code",
   "execution_count": 32,
   "metadata": {},
   "outputs": [
    {
     "name": "stdout",
     "output_type": "stream",
     "text": [
      "<class 'pandas.core.frame.DataFrame'>\n",
      "Int64Index: 248 entries, 0 to 283\n",
      "Data columns (total 9 columns):\n",
      "name              248 non-null object\n",
      "title             248 non-null object\n",
      "summary           248 non-null object\n",
      "year              248 non-null int64\n",
      "transcript        248 non-null object\n",
      "link              248 non-null object\n",
      "len_transcript    248 non-null int64\n",
      "dob               246 non-null object\n",
      "sex               247 non-null object\n",
      "dtypes: int64(2), object(7)\n",
      "memory usage: 29.4+ KB\n"
     ]
    }
   ],
   "source": [
    "df.info()"
   ]
  },
  {
   "cell_type": "code",
   "execution_count": 53,
   "metadata": {},
   "outputs": [
    {
     "data": {
      "text/plain": [
       "Male      225\n",
       "Female     22\n",
       "Name: sex, dtype: int64"
      ]
     },
     "execution_count": 53,
     "metadata": {},
     "output_type": "execute_result"
    }
   ],
   "source": [
    "df.sex.value_counts(dropna=False)"
   ]
  },
  {
   "cell_type": "code",
   "execution_count": 42,
   "metadata": {},
   "outputs": [],
   "source": [
    "df.drop([6],inplace=True)"
   ]
  },
  {
   "cell_type": "markdown",
   "metadata": {},
   "source": [
    "## Check null values"
   ]
  },
  {
   "cell_type": "code",
   "execution_count": 54,
   "metadata": {},
   "outputs": [
    {
     "data": {
      "text/plain": [
       "name              0\n",
       "title             0\n",
       "summary           0\n",
       "year              0\n",
       "transcript        0\n",
       "link              0\n",
       "len_transcript    0\n",
       "dob               0\n",
       "sex               0\n",
       "dtype: int64"
      ]
     },
     "execution_count": 54,
     "metadata": {},
     "output_type": "execute_result"
    }
   ],
   "source": [
    "df.apply(lambda x: sum(x.isnull()))"
   ]
  },
  {
   "cell_type": "code",
   "execution_count": 55,
   "metadata": {},
   "outputs": [
    {
     "data": {
      "text/html": [
       "<div>\n",
       "<style scoped>\n",
       "    .dataframe tbody tr th:only-of-type {\n",
       "        vertical-align: middle;\n",
       "    }\n",
       "\n",
       "    .dataframe tbody tr th {\n",
       "        vertical-align: top;\n",
       "    }\n",
       "\n",
       "    .dataframe thead th {\n",
       "        text-align: right;\n",
       "    }\n",
       "</style>\n",
       "<table border=\"1\" class=\"dataframe\">\n",
       "  <thead>\n",
       "    <tr style=\"text-align: right;\">\n",
       "      <th></th>\n",
       "      <th>name</th>\n",
       "      <th>title</th>\n",
       "      <th>summary</th>\n",
       "      <th>year</th>\n",
       "      <th>transcript</th>\n",
       "      <th>link</th>\n",
       "      <th>len_transcript</th>\n",
       "      <th>dob</th>\n",
       "      <th>sex</th>\n",
       "    </tr>\n",
       "  </thead>\n",
       "  <tbody>\n",
       "  </tbody>\n",
       "</table>\n",
       "</div>"
      ],
      "text/plain": [
       "Empty DataFrame\n",
       "Columns: [name, title, summary, year, transcript, link, len_transcript, dob, sex]\n",
       "Index: []"
      ]
     },
     "execution_count": 55,
     "metadata": {},
     "output_type": "execute_result"
    }
   ],
   "source": [
    "df[df.isnull().any(axis=1)]"
   ]
  },
  {
   "cell_type": "markdown",
   "metadata": {},
   "source": [
    "### Fix dob\n"
   ]
  },
  {
   "cell_type": "code",
   "execution_count": 56,
   "metadata": {},
   "outputs": [
    {
     "data": {
      "text/html": [
       "<div>\n",
       "<style scoped>\n",
       "    .dataframe tbody tr th:only-of-type {\n",
       "        vertical-align: middle;\n",
       "    }\n",
       "\n",
       "    .dataframe tbody tr th {\n",
       "        vertical-align: top;\n",
       "    }\n",
       "\n",
       "    .dataframe thead th {\n",
       "        text-align: right;\n",
       "    }\n",
       "</style>\n",
       "<table border=\"1\" class=\"dataframe\">\n",
       "  <thead>\n",
       "    <tr style=\"text-align: right;\">\n",
       "      <th></th>\n",
       "      <th>name</th>\n",
       "      <th>title</th>\n",
       "      <th>summary</th>\n",
       "      <th>year</th>\n",
       "      <th>transcript</th>\n",
       "      <th>link</th>\n",
       "      <th>len_transcript</th>\n",
       "      <th>dob</th>\n",
       "      <th>sex</th>\n",
       "    </tr>\n",
       "  </thead>\n",
       "  <tbody>\n",
       "  </tbody>\n",
       "</table>\n",
       "</div>"
      ],
      "text/plain": [
       "Empty DataFrame\n",
       "Columns: [name, title, summary, year, transcript, link, len_transcript, dob, sex]\n",
       "Index: []"
      ]
     },
     "execution_count": 56,
     "metadata": {},
     "output_type": "execute_result"
    }
   ],
   "source": [
    "df[df.isnull().any(axis=1)]"
   ]
  },
  {
   "cell_type": "code",
   "execution_count": 57,
   "metadata": {},
   "outputs": [
    {
     "data": {
      "text/html": [
       "<div>\n",
       "<style scoped>\n",
       "    .dataframe tbody tr th:only-of-type {\n",
       "        vertical-align: middle;\n",
       "    }\n",
       "\n",
       "    .dataframe tbody tr th {\n",
       "        vertical-align: top;\n",
       "    }\n",
       "\n",
       "    .dataframe thead th {\n",
       "        text-align: right;\n",
       "    }\n",
       "</style>\n",
       "<table border=\"1\" class=\"dataframe\">\n",
       "  <thead>\n",
       "    <tr style=\"text-align: right;\">\n",
       "      <th></th>\n",
       "      <th>name</th>\n",
       "      <th>title</th>\n",
       "      <th>summary</th>\n",
       "      <th>year</th>\n",
       "      <th>transcript</th>\n",
       "      <th>link</th>\n",
       "      <th>len_transcript</th>\n",
       "      <th>dob</th>\n",
       "      <th>sex</th>\n",
       "    </tr>\n",
       "  </thead>\n",
       "  <tbody>\n",
       "    <tr>\n",
       "      <th>0</th>\n",
       "      <td>Nikki Glaser</td>\n",
       "      <td>Bangin’</td>\n",
       "      <td>A NETFLIX ORIGINAL COMEDY SPECIAL Thank you! T...</td>\n",
       "      <td>2019</td>\n",
       "      <td>A NETFLIX ORIGINAL COMEDY SPECIAL\\nThank you! ...</td>\n",
       "      <td>https://scrapsfromtheloft.com/2019/10/04/nikki...</td>\n",
       "      <td>53937</td>\n",
       "      <td>1984-01-01 00:00:00</td>\n",
       "      <td>Female</td>\n",
       "    </tr>\n",
       "    <tr>\n",
       "      <th>4</th>\n",
       "      <td>Bill Burr</td>\n",
       "      <td>Paper Tiger</td>\n",
       "      <td>Only a few weeks after Dave Chappelle's \"Stick...</td>\n",
       "      <td>2019</td>\n",
       "      <td>Recorded Live at the Royal Albert Hall, London...</td>\n",
       "      <td>https://scrapsfromtheloft.com/2019/09/10/bill-...</td>\n",
       "      <td>60486</td>\n",
       "      <td>1968-06-10 00:00:00</td>\n",
       "      <td>Male</td>\n",
       "    </tr>\n",
       "    <tr>\n",
       "      <th>7</th>\n",
       "      <td>Dave Chappelle</td>\n",
       "      <td>Sticks &amp; Stones</td>\n",
       "      <td>Legendary comedian Dave Chappelle is back with...</td>\n",
       "      <td>2019</td>\n",
       "      <td>Sticks &amp; Stones is Dave Chappelle’s fifth Netf...</td>\n",
       "      <td>https://scrapsfromtheloft.com/2019/08/26/dave-...</td>\n",
       "      <td>42293</td>\n",
       "      <td>1973-08-24 00:00:00</td>\n",
       "      <td>Male</td>\n",
       "    </tr>\n",
       "    <tr>\n",
       "      <th>8</th>\n",
       "      <td>Emily Heller</td>\n",
       "      <td>Ice Thickeners</td>\n",
       "      <td>Emily Heller compares Donald Trump to Air Bud,...</td>\n",
       "      <td>2019</td>\n",
       "      <td>Emily Heller compares Donald Trump to Air Bud,...</td>\n",
       "      <td>https://scrapsfromtheloft.com/2019/08/25/emily...</td>\n",
       "      <td>44383</td>\n",
       "      <td>1985-01-01 00:00:00</td>\n",
       "      <td>Male</td>\n",
       "    </tr>\n",
       "    <tr>\n",
       "      <th>9</th>\n",
       "      <td>David Cross</td>\n",
       "      <td>Oh Come On</td>\n",
       "      <td>Transcript of David Cross' latest stand-up sho...</td>\n",
       "      <td>2019</td>\n",
       "      <td>This is the full transcript of David Cross’ la...</td>\n",
       "      <td>https://scrapsfromtheloft.com/2019/08/13/david...</td>\n",
       "      <td>55980</td>\n",
       "      <td>1964-01-01 00:00:00</td>\n",
       "      <td>Male</td>\n",
       "    </tr>\n",
       "  </tbody>\n",
       "</table>\n",
       "</div>"
      ],
      "text/plain": [
       "             name            title  \\\n",
       "0    Nikki Glaser          Bangin’   \n",
       "4       Bill Burr      Paper Tiger   \n",
       "7  Dave Chappelle  Sticks & Stones   \n",
       "8    Emily Heller   Ice Thickeners   \n",
       "9     David Cross       Oh Come On   \n",
       "\n",
       "                                             summary  year  \\\n",
       "0  A NETFLIX ORIGINAL COMEDY SPECIAL Thank you! T...  2019   \n",
       "4  Only a few weeks after Dave Chappelle's \"Stick...  2019   \n",
       "7  Legendary comedian Dave Chappelle is back with...  2019   \n",
       "8  Emily Heller compares Donald Trump to Air Bud,...  2019   \n",
       "9  Transcript of David Cross' latest stand-up sho...  2019   \n",
       "\n",
       "                                          transcript  \\\n",
       "0  A NETFLIX ORIGINAL COMEDY SPECIAL\\nThank you! ...   \n",
       "4  Recorded Live at the Royal Albert Hall, London...   \n",
       "7  Sticks & Stones is Dave Chappelle’s fifth Netf...   \n",
       "8  Emily Heller compares Donald Trump to Air Bud,...   \n",
       "9  This is the full transcript of David Cross’ la...   \n",
       "\n",
       "                                                link  len_transcript  \\\n",
       "0  https://scrapsfromtheloft.com/2019/10/04/nikki...           53937   \n",
       "4  https://scrapsfromtheloft.com/2019/09/10/bill-...           60486   \n",
       "7  https://scrapsfromtheloft.com/2019/08/26/dave-...           42293   \n",
       "8  https://scrapsfromtheloft.com/2019/08/25/emily...           44383   \n",
       "9  https://scrapsfromtheloft.com/2019/08/13/david...           55980   \n",
       "\n",
       "                   dob     sex  \n",
       "0  1984-01-01 00:00:00  Female  \n",
       "4  1968-06-10 00:00:00    Male  \n",
       "7  1973-08-24 00:00:00    Male  \n",
       "8  1985-01-01 00:00:00    Male  \n",
       "9  1964-01-01 00:00:00    Male  "
      ]
     },
     "execution_count": 57,
     "metadata": {},
     "output_type": "execute_result"
    }
   ],
   "source": [
    "df.head()"
   ]
  },
  {
   "cell_type": "code",
   "execution_count": 58,
   "metadata": {},
   "outputs": [],
   "source": [
    "# change to datetime\n",
    "df.dob = pd.to_datetime(df.dob)"
   ]
  },
  {
   "cell_type": "code",
   "execution_count": 59,
   "metadata": {},
   "outputs": [
    {
     "data": {
      "text/plain": [
       "<matplotlib.axes._subplots.AxesSubplot at 0x7fc5d13d8b10>"
      ]
     },
     "execution_count": 59,
     "metadata": {},
     "output_type": "execute_result"
    },
    {
     "data": {
      "image/png": "[encoded data removed]",
      "text/plain": [
       "<Figure size 770.4x307.44 with 1 Axes>"
      ]
     },
     "metadata": {},
     "output_type": "display_data"
    }
   ],
   "source": [
    "sns.distplot(df.dob.dt.year)"
   ]
  },
  {
   "cell_type": "markdown",
   "metadata": {},
   "source": [
    "## Check who was born after 1990's"
   ]
  },
  {
   "cell_type": "code",
   "execution_count": 60,
   "metadata": {},
   "outputs": [],
   "source": [
    "yr_filter = df.dob.dt.year> 1990"
   ]
  },
  {
   "cell_type": "code",
   "execution_count": 61,
   "metadata": {},
   "outputs": [
    {
     "data": {
      "text/html": [
       "<div>\n",
       "<style scoped>\n",
       "    .dataframe tbody tr th:only-of-type {\n",
       "        vertical-align: middle;\n",
       "    }\n",
       "\n",
       "    .dataframe tbody tr th {\n",
       "        vertical-align: top;\n",
       "    }\n",
       "\n",
       "    .dataframe thead th {\n",
       "        text-align: right;\n",
       "    }\n",
       "</style>\n",
       "<table border=\"1\" class=\"dataframe\">\n",
       "  <thead>\n",
       "    <tr style=\"text-align: right;\">\n",
       "      <th></th>\n",
       "      <th>name</th>\n",
       "      <th>title</th>\n",
       "      <th>summary</th>\n",
       "      <th>year</th>\n",
       "      <th>transcript</th>\n",
       "      <th>link</th>\n",
       "      <th>len_transcript</th>\n",
       "      <th>dob</th>\n",
       "      <th>sex</th>\n",
       "    </tr>\n",
       "  </thead>\n",
       "  <tbody>\n",
       "    <tr>\n",
       "      <th>47</th>\n",
       "      <td>Vir Das</td>\n",
       "      <td>Losing It</td>\n",
       "      <td>The world's got a lot of problems, but Vir Das...</td>\n",
       "      <td>2018</td>\n",
       "      <td>I lost 80% of my mind. It’s very freeing. You ...</td>\n",
       "      <td>https://scrapsfromtheloft.com/2018/12/15/vir-d...</td>\n",
       "      <td>42632</td>\n",
       "      <td>2017-01-01</td>\n",
       "      <td>Male</td>\n",
       "    </tr>\n",
       "    <tr>\n",
       "      <th>106</th>\n",
       "      <td>Adel Karam</td>\n",
       "      <td>Live From Beirut</td>\n",
       "      <td>Adel Karam goes back to his hometown to appear...</td>\n",
       "      <td>2018</td>\n",
       "      <td>A NETFLIX COMEDY SPECIAL\\nRecorded at the Casi...</td>\n",
       "      <td>https://scrapsfromtheloft.com/2018/03/12/adel-...</td>\n",
       "      <td>35384</td>\n",
       "      <td>2017-01-01</td>\n",
       "      <td>Male</td>\n",
       "    </tr>\n",
       "  </tbody>\n",
       "</table>\n",
       "</div>"
      ],
      "text/plain": [
       "           name             title  \\\n",
       "47      Vir Das         Losing It   \n",
       "106  Adel Karam  Live From Beirut   \n",
       "\n",
       "                                               summary  year  \\\n",
       "47   The world's got a lot of problems, but Vir Das...  2018   \n",
       "106  Adel Karam goes back to his hometown to appear...  2018   \n",
       "\n",
       "                                            transcript  \\\n",
       "47   I lost 80% of my mind. It’s very freeing. You ...   \n",
       "106  A NETFLIX COMEDY SPECIAL\\nRecorded at the Casi...   \n",
       "\n",
       "                                                  link  len_transcript  \\\n",
       "47   https://scrapsfromtheloft.com/2018/12/15/vir-d...           42632   \n",
       "106  https://scrapsfromtheloft.com/2018/03/12/adel-...           35384   \n",
       "\n",
       "           dob   sex  \n",
       "47  2017-01-01  Male  \n",
       "106 2017-01-01  Male  "
      ]
     },
     "execution_count": 61,
     "metadata": {},
     "output_type": "execute_result"
    }
   ],
   "source": [
    "df[yr_filter]"
   ]
  },
  {
   "cell_type": "markdown",
   "metadata": {},
   "source": [
    "## Fix it"
   ]
  },
  {
   "cell_type": "code",
   "execution_count": 62,
   "metadata": {},
   "outputs": [],
   "source": [
    "# Vir Das\t\n",
    "# May 31, 1979\n",
    "df.loc[47, 'dob'] = 'May 31, 1979'\n",
    "\n",
    "# Adel Karam\n",
    "# August 20, 1972\n",
    "df.loc[106, 'dob'] = 'August 20, 1972'"
   ]
  },
  {
   "cell_type": "code",
   "execution_count": 63,
   "metadata": {},
   "outputs": [
    {
     "data": {
      "text/html": [
       "<div>\n",
       "<style scoped>\n",
       "    .dataframe tbody tr th:only-of-type {\n",
       "        vertical-align: middle;\n",
       "    }\n",
       "\n",
       "    .dataframe tbody tr th {\n",
       "        vertical-align: top;\n",
       "    }\n",
       "\n",
       "    .dataframe thead th {\n",
       "        text-align: right;\n",
       "    }\n",
       "</style>\n",
       "<table border=\"1\" class=\"dataframe\">\n",
       "  <thead>\n",
       "    <tr style=\"text-align: right;\">\n",
       "      <th></th>\n",
       "      <th>name</th>\n",
       "      <th>title</th>\n",
       "      <th>summary</th>\n",
       "      <th>year</th>\n",
       "      <th>transcript</th>\n",
       "      <th>link</th>\n",
       "      <th>len_transcript</th>\n",
       "      <th>dob</th>\n",
       "      <th>sex</th>\n",
       "    </tr>\n",
       "  </thead>\n",
       "  <tbody>\n",
       "    <tr>\n",
       "      <th>47</th>\n",
       "      <td>Vir Das</td>\n",
       "      <td>Losing It</td>\n",
       "      <td>The world's got a lot of problems, but Vir Das...</td>\n",
       "      <td>2018</td>\n",
       "      <td>I lost 80% of my mind. It’s very freeing. You ...</td>\n",
       "      <td>https://scrapsfromtheloft.com/2018/12/15/vir-d...</td>\n",
       "      <td>42632</td>\n",
       "      <td>May 31, 1979</td>\n",
       "      <td>Male</td>\n",
       "    </tr>\n",
       "    <tr>\n",
       "      <th>106</th>\n",
       "      <td>Adel Karam</td>\n",
       "      <td>Live From Beirut</td>\n",
       "      <td>Adel Karam goes back to his hometown to appear...</td>\n",
       "      <td>2018</td>\n",
       "      <td>A NETFLIX COMEDY SPECIAL\\nRecorded at the Casi...</td>\n",
       "      <td>https://scrapsfromtheloft.com/2018/03/12/adel-...</td>\n",
       "      <td>35384</td>\n",
       "      <td>August 20, 1972</td>\n",
       "      <td>Male</td>\n",
       "    </tr>\n",
       "  </tbody>\n",
       "</table>\n",
       "</div>"
      ],
      "text/plain": [
       "           name             title  \\\n",
       "47      Vir Das         Losing It   \n",
       "106  Adel Karam  Live From Beirut   \n",
       "\n",
       "                                               summary  year  \\\n",
       "47   The world's got a lot of problems, but Vir Das...  2018   \n",
       "106  Adel Karam goes back to his hometown to appear...  2018   \n",
       "\n",
       "                                            transcript  \\\n",
       "47   I lost 80% of my mind. It’s very freeing. You ...   \n",
       "106  A NETFLIX COMEDY SPECIAL\\nRecorded at the Casi...   \n",
       "\n",
       "                                                  link  len_transcript  \\\n",
       "47   https://scrapsfromtheloft.com/2018/12/15/vir-d...           42632   \n",
       "106  https://scrapsfromtheloft.com/2018/03/12/adel-...           35384   \n",
       "\n",
       "                 dob   sex  \n",
       "47      May 31, 1979  Male  \n",
       "106  August 20, 1972  Male  "
      ]
     },
     "execution_count": 63,
     "metadata": {},
     "output_type": "execute_result"
    }
   ],
   "source": [
    "df[yr_filter]"
   ]
  },
  {
   "cell_type": "code",
   "execution_count": 64,
   "metadata": {},
   "outputs": [],
   "source": [
    "# change dob againt to datetime\n",
    "df.dob = pd.to_datetime(df.dob)"
   ]
  },
  {
   "cell_type": "code",
   "execution_count": 65,
   "metadata": {},
   "outputs": [
    {
     "data": {
      "text/plain": [
       "<matplotlib.axes._subplots.AxesSubplot at 0x7fc5d122c7d0>"
      ]
     },
     "execution_count": 65,
     "metadata": {},
     "output_type": "execute_result"
    },
    {
     "data": {
      "image/png": "[encoded data removed]",
      "text/plain": [
       "<Figure size 770.4x307.44 with 1 Axes>"
      ]
     },
     "metadata": {},
     "output_type": "display_data"
    }
   ],
   "source": [
    "sns.distplot(df.dob.dt.year)"
   ]
  },
  {
   "cell_type": "markdown",
   "metadata": {},
   "source": [
    "## Find age when special was recorded"
   ]
  },
  {
   "cell_type": "code",
   "execution_count": 66,
   "metadata": {},
   "outputs": [
    {
     "name": "stdout",
     "output_type": "stream",
     "text": [
      "<class 'pandas.core.frame.DataFrame'>\n",
      "Int64Index: 247 entries, 0 to 283\n",
      "Data columns (total 9 columns):\n",
      "name              247 non-null object\n",
      "title             247 non-null object\n",
      "summary           247 non-null object\n",
      "year              247 non-null int64\n",
      "transcript        247 non-null object\n",
      "link              247 non-null object\n",
      "len_transcript    247 non-null int64\n",
      "dob               247 non-null datetime64[ns]\n",
      "sex               247 non-null object\n",
      "dtypes: datetime64[ns](1), int64(2), object(6)\n",
      "memory usage: 29.3+ KB\n"
     ]
    }
   ],
   "source": [
    "df.info()"
   ]
  },
  {
   "cell_type": "code",
   "execution_count": 67,
   "metadata": {},
   "outputs": [
    {
     "data": {
      "text/plain": [
       "<matplotlib.axes._subplots.AxesSubplot at 0x7fc5d1198f90>"
      ]
     },
     "execution_count": 67,
     "metadata": {},
     "output_type": "execute_result"
    },
    {
     "data": {
      "image/png": "[encoded data removed]",
      "text/plain": [
       "<Figure size 770.4x307.44 with 1 Axes>"
      ]
     },
     "metadata": {},
     "output_type": "display_data"
    }
   ],
   "source": [
    "sns.distplot(df.dob.dt.year)"
   ]
  },
  {
   "cell_type": "code",
   "execution_count": 68,
   "metadata": {},
   "outputs": [],
   "source": [
    "df['age_when_recorded'] = df.year - df.dob.dt.year"
   ]
  },
  {
   "cell_type": "code",
   "execution_count": 69,
   "metadata": {},
   "outputs": [
    {
     "data": {
      "text/html": [
       "<div>\n",
       "<style scoped>\n",
       "    .dataframe tbody tr th:only-of-type {\n",
       "        vertical-align: middle;\n",
       "    }\n",
       "\n",
       "    .dataframe tbody tr th {\n",
       "        vertical-align: top;\n",
       "    }\n",
       "\n",
       "    .dataframe thead th {\n",
       "        text-align: right;\n",
       "    }\n",
       "</style>\n",
       "<table border=\"1\" class=\"dataframe\">\n",
       "  <thead>\n",
       "    <tr style=\"text-align: right;\">\n",
       "      <th></th>\n",
       "      <th>name</th>\n",
       "      <th>title</th>\n",
       "      <th>summary</th>\n",
       "      <th>year</th>\n",
       "      <th>transcript</th>\n",
       "      <th>link</th>\n",
       "      <th>len_transcript</th>\n",
       "      <th>dob</th>\n",
       "      <th>sex</th>\n",
       "      <th>age_when_recorded</th>\n",
       "    </tr>\n",
       "  </thead>\n",
       "  <tbody>\n",
       "    <tr>\n",
       "      <th>0</th>\n",
       "      <td>Nikki Glaser</td>\n",
       "      <td>Bangin’</td>\n",
       "      <td>A NETFLIX ORIGINAL COMEDY SPECIAL Thank you! T...</td>\n",
       "      <td>2019</td>\n",
       "      <td>A NETFLIX ORIGINAL COMEDY SPECIAL\\nThank you! ...</td>\n",
       "      <td>https://scrapsfromtheloft.com/2019/10/04/nikki...</td>\n",
       "      <td>53937</td>\n",
       "      <td>1984-01-01</td>\n",
       "      <td>Female</td>\n",
       "      <td>35</td>\n",
       "    </tr>\n",
       "    <tr>\n",
       "      <th>4</th>\n",
       "      <td>Bill Burr</td>\n",
       "      <td>Paper Tiger</td>\n",
       "      <td>Only a few weeks after Dave Chappelle's \"Stick...</td>\n",
       "      <td>2019</td>\n",
       "      <td>Recorded Live at the Royal Albert Hall, London...</td>\n",
       "      <td>https://scrapsfromtheloft.com/2019/09/10/bill-...</td>\n",
       "      <td>60486</td>\n",
       "      <td>1968-06-10</td>\n",
       "      <td>Male</td>\n",
       "      <td>51</td>\n",
       "    </tr>\n",
       "    <tr>\n",
       "      <th>7</th>\n",
       "      <td>Dave Chappelle</td>\n",
       "      <td>Sticks &amp; Stones</td>\n",
       "      <td>Legendary comedian Dave Chappelle is back with...</td>\n",
       "      <td>2019</td>\n",
       "      <td>Sticks &amp; Stones is Dave Chappelle’s fifth Netf...</td>\n",
       "      <td>https://scrapsfromtheloft.com/2019/08/26/dave-...</td>\n",
       "      <td>42293</td>\n",
       "      <td>1973-08-24</td>\n",
       "      <td>Male</td>\n",
       "      <td>46</td>\n",
       "    </tr>\n",
       "    <tr>\n",
       "      <th>8</th>\n",
       "      <td>Emily Heller</td>\n",
       "      <td>Ice Thickeners</td>\n",
       "      <td>Emily Heller compares Donald Trump to Air Bud,...</td>\n",
       "      <td>2019</td>\n",
       "      <td>Emily Heller compares Donald Trump to Air Bud,...</td>\n",
       "      <td>https://scrapsfromtheloft.com/2019/08/25/emily...</td>\n",
       "      <td>44383</td>\n",
       "      <td>1985-01-01</td>\n",
       "      <td>Male</td>\n",
       "      <td>34</td>\n",
       "    </tr>\n",
       "    <tr>\n",
       "      <th>9</th>\n",
       "      <td>David Cross</td>\n",
       "      <td>Oh Come On</td>\n",
       "      <td>Transcript of David Cross' latest stand-up sho...</td>\n",
       "      <td>2019</td>\n",
       "      <td>This is the full transcript of David Cross’ la...</td>\n",
       "      <td>https://scrapsfromtheloft.com/2019/08/13/david...</td>\n",
       "      <td>55980</td>\n",
       "      <td>1964-01-01</td>\n",
       "      <td>Male</td>\n",
       "      <td>55</td>\n",
       "    </tr>\n",
       "  </tbody>\n",
       "</table>\n",
       "</div>"
      ],
      "text/plain": [
       "             name            title  \\\n",
       "0    Nikki Glaser          Bangin’   \n",
       "4       Bill Burr      Paper Tiger   \n",
       "7  Dave Chappelle  Sticks & Stones   \n",
       "8    Emily Heller   Ice Thickeners   \n",
       "9     David Cross       Oh Come On   \n",
       "\n",
       "                                             summary  year  \\\n",
       "0  A NETFLIX ORIGINAL COMEDY SPECIAL Thank you! T...  2019   \n",
       "4  Only a few weeks after Dave Chappelle's \"Stick...  2019   \n",
       "7  Legendary comedian Dave Chappelle is back with...  2019   \n",
       "8  Emily Heller compares Donald Trump to Air Bud,...  2019   \n",
       "9  Transcript of David Cross' latest stand-up sho...  2019   \n",
       "\n",
       "                                          transcript  \\\n",
       "0  A NETFLIX ORIGINAL COMEDY SPECIAL\\nThank you! ...   \n",
       "4  Recorded Live at the Royal Albert Hall, London...   \n",
       "7  Sticks & Stones is Dave Chappelle’s fifth Netf...   \n",
       "8  Emily Heller compares Donald Trump to Air Bud,...   \n",
       "9  This is the full transcript of David Cross’ la...   \n",
       "\n",
       "                                                link  len_transcript  \\\n",
       "0  https://scrapsfromtheloft.com/2019/10/04/nikki...           53937   \n",
       "4  https://scrapsfromtheloft.com/2019/09/10/bill-...           60486   \n",
       "7  https://scrapsfromtheloft.com/2019/08/26/dave-...           42293   \n",
       "8  https://scrapsfromtheloft.com/2019/08/25/emily...           44383   \n",
       "9  https://scrapsfromtheloft.com/2019/08/13/david...           55980   \n",
       "\n",
       "         dob     sex  age_when_recorded  \n",
       "0 1984-01-01  Female                 35  \n",
       "4 1968-06-10    Male                 51  \n",
       "7 1973-08-24    Male                 46  \n",
       "8 1985-01-01    Male                 34  \n",
       "9 1964-01-01    Male                 55  "
      ]
     },
     "execution_count": 69,
     "metadata": {},
     "output_type": "execute_result"
    }
   ],
   "source": [
    "df.head()"
   ]
  },
  {
   "cell_type": "code",
   "execution_count": 70,
   "metadata": {},
   "outputs": [
    {
     "data": {
      "text/plain": [
       "<matplotlib.axes._subplots.AxesSubplot at 0x7fc5d111ac50>"
      ]
     },
     "execution_count": 70,
     "metadata": {},
     "output_type": "execute_result"
    },
    {
     "data": {
      "image/png": "[encoded data removed]",
      "text/plain": [
       "<Figure size 770.4x307.44 with 1 Axes>"
      ]
     },
     "metadata": {},
     "output_type": "display_data"
    }
   ],
   "source": [
    "sns.distplot(df.age_when_recorded)"
   ]
  },
  {
   "cell_type": "code",
   "execution_count": 71,
   "metadata": {},
   "outputs": [
    {
     "data": {
      "text/html": [
       "<div>\n",
       "<style scoped>\n",
       "    .dataframe tbody tr th:only-of-type {\n",
       "        vertical-align: middle;\n",
       "    }\n",
       "\n",
       "    .dataframe tbody tr th {\n",
       "        vertical-align: top;\n",
       "    }\n",
       "\n",
       "    .dataframe thead th {\n",
       "        text-align: right;\n",
       "    }\n",
       "</style>\n",
       "<table border=\"1\" class=\"dataframe\">\n",
       "  <thead>\n",
       "    <tr style=\"text-align: right;\">\n",
       "      <th></th>\n",
       "      <th>name</th>\n",
       "      <th>title</th>\n",
       "      <th>summary</th>\n",
       "      <th>year</th>\n",
       "      <th>transcript</th>\n",
       "      <th>link</th>\n",
       "      <th>len_transcript</th>\n",
       "      <th>dob</th>\n",
       "      <th>sex</th>\n",
       "      <th>age_when_recorded</th>\n",
       "    </tr>\n",
       "  </thead>\n",
       "  <tbody>\n",
       "    <tr>\n",
       "      <th>0</th>\n",
       "      <td>Nikki Glaser</td>\n",
       "      <td>Bangin’</td>\n",
       "      <td>A NETFLIX ORIGINAL COMEDY SPECIAL Thank you! T...</td>\n",
       "      <td>2019</td>\n",
       "      <td>A NETFLIX ORIGINAL COMEDY SPECIAL\\nThank you! ...</td>\n",
       "      <td>https://scrapsfromtheloft.com/2019/10/04/nikki...</td>\n",
       "      <td>53937</td>\n",
       "      <td>1984-01-01</td>\n",
       "      <td>Female</td>\n",
       "      <td>35</td>\n",
       "    </tr>\n",
       "    <tr>\n",
       "      <th>4</th>\n",
       "      <td>Bill Burr</td>\n",
       "      <td>Paper Tiger</td>\n",
       "      <td>Only a few weeks after Dave Chappelle's \"Stick...</td>\n",
       "      <td>2019</td>\n",
       "      <td>Recorded Live at the Royal Albert Hall, London...</td>\n",
       "      <td>https://scrapsfromtheloft.com/2019/09/10/bill-...</td>\n",
       "      <td>60486</td>\n",
       "      <td>1968-06-10</td>\n",
       "      <td>Male</td>\n",
       "      <td>51</td>\n",
       "    </tr>\n",
       "    <tr>\n",
       "      <th>7</th>\n",
       "      <td>Dave Chappelle</td>\n",
       "      <td>Sticks &amp; Stones</td>\n",
       "      <td>Legendary comedian Dave Chappelle is back with...</td>\n",
       "      <td>2019</td>\n",
       "      <td>Sticks &amp; Stones is Dave Chappelle’s fifth Netf...</td>\n",
       "      <td>https://scrapsfromtheloft.com/2019/08/26/dave-...</td>\n",
       "      <td>42293</td>\n",
       "      <td>1973-08-24</td>\n",
       "      <td>Male</td>\n",
       "      <td>46</td>\n",
       "    </tr>\n",
       "    <tr>\n",
       "      <th>8</th>\n",
       "      <td>Emily Heller</td>\n",
       "      <td>Ice Thickeners</td>\n",
       "      <td>Emily Heller compares Donald Trump to Air Bud,...</td>\n",
       "      <td>2019</td>\n",
       "      <td>Emily Heller compares Donald Trump to Air Bud,...</td>\n",
       "      <td>https://scrapsfromtheloft.com/2019/08/25/emily...</td>\n",
       "      <td>44383</td>\n",
       "      <td>1985-01-01</td>\n",
       "      <td>Male</td>\n",
       "      <td>34</td>\n",
       "    </tr>\n",
       "    <tr>\n",
       "      <th>9</th>\n",
       "      <td>David Cross</td>\n",
       "      <td>Oh Come On</td>\n",
       "      <td>Transcript of David Cross' latest stand-up sho...</td>\n",
       "      <td>2019</td>\n",
       "      <td>This is the full transcript of David Cross’ la...</td>\n",
       "      <td>https://scrapsfromtheloft.com/2019/08/13/david...</td>\n",
       "      <td>55980</td>\n",
       "      <td>1964-01-01</td>\n",
       "      <td>Male</td>\n",
       "      <td>55</td>\n",
       "    </tr>\n",
       "  </tbody>\n",
       "</table>\n",
       "</div>"
      ],
      "text/plain": [
       "             name            title  \\\n",
       "0    Nikki Glaser          Bangin’   \n",
       "4       Bill Burr      Paper Tiger   \n",
       "7  Dave Chappelle  Sticks & Stones   \n",
       "8    Emily Heller   Ice Thickeners   \n",
       "9     David Cross       Oh Come On   \n",
       "\n",
       "                                             summary  year  \\\n",
       "0  A NETFLIX ORIGINAL COMEDY SPECIAL Thank you! T...  2019   \n",
       "4  Only a few weeks after Dave Chappelle's \"Stick...  2019   \n",
       "7  Legendary comedian Dave Chappelle is back with...  2019   \n",
       "8  Emily Heller compares Donald Trump to Air Bud,...  2019   \n",
       "9  Transcript of David Cross' latest stand-up sho...  2019   \n",
       "\n",
       "                                          transcript  \\\n",
       "0  A NETFLIX ORIGINAL COMEDY SPECIAL\\nThank you! ...   \n",
       "4  Recorded Live at the Royal Albert Hall, London...   \n",
       "7  Sticks & Stones is Dave Chappelle’s fifth Netf...   \n",
       "8  Emily Heller compares Donald Trump to Air Bud,...   \n",
       "9  This is the full transcript of David Cross’ la...   \n",
       "\n",
       "                                                link  len_transcript  \\\n",
       "0  https://scrapsfromtheloft.com/2019/10/04/nikki...           53937   \n",
       "4  https://scrapsfromtheloft.com/2019/09/10/bill-...           60486   \n",
       "7  https://scrapsfromtheloft.com/2019/08/26/dave-...           42293   \n",
       "8  https://scrapsfromtheloft.com/2019/08/25/emily...           44383   \n",
       "9  https://scrapsfromtheloft.com/2019/08/13/david...           55980   \n",
       "\n",
       "         dob     sex  age_when_recorded  \n",
       "0 1984-01-01  Female                 35  \n",
       "4 1968-06-10    Male                 51  \n",
       "7 1973-08-24    Male                 46  \n",
       "8 1985-01-01    Male                 34  \n",
       "9 1964-01-01    Male                 55  "
      ]
     },
     "execution_count": 71,
     "metadata": {},
     "output_type": "execute_result"
    }
   ],
   "source": [
    "df.head()"
   ]
  },
  {
   "cell_type": "code",
   "execution_count": null,
   "metadata": {},
   "outputs": [],
   "source": []
  },
  {
   "cell_type": "markdown",
   "metadata": {},
   "source": [
    "## Save"
   ]
  },
  {
   "cell_type": "code",
   "execution_count": 72,
   "metadata": {},
   "outputs": [],
   "source": [
    "# raw_data\n",
    "file = '05_clean_data_OCT_19.csv'\n",
    "data_directory = os.path.join( '..','data','raw_data/{}'.format(file))"
   ]
  },
  {
   "cell_type": "code",
   "execution_count": 73,
   "metadata": {},
   "outputs": [],
   "source": [
    "df.to_csv(data_directory,index=False)"
   ]
  },
  {
   "cell_type": "code",
   "execution_count": null,
   "metadata": {},
   "outputs": [],
   "source": []
  }
 ],
 "metadata": {
  "kernelspec": {
   "display_name": "Python 3",
   "language": "python",
   "name": "python3"
  },
  "language_info": {
   "codemirror_mode": {
    "name": "ipython",
    "version": 3
   },
   "file_extension": ".py",
   "mimetype": "text/x-python",
   "name": "python",
   "nbconvert_exporter": "python",
   "pygments_lexer": "ipython3",
   "version": "3.7.4"
  }
 },
 "nbformat": 4,
 "nbformat_minor": 2
}
