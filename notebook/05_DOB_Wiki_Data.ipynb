{
 "cells": [
  {
   "cell_type": "code",
   "execution_count": null,
   "metadata": {},
   "outputs": [],
   "source": []
  },
  {
   "cell_type": "code",
   "execution_count": 1,
   "metadata": {},
   "outputs": [],
   "source": [
    "import wikipedia as wk\n",
    "import re\n",
    "from IPython.core.display import clear_output"
   ]
  },
  {
   "cell_type": "code",
   "execution_count": 15,
   "metadata": {},
   "outputs": [],
   "source": [
    "import pandas as pd\n",
    "import numpy as np\n",
    "import seaborn as sns\n",
    "import matplotlib.pyplot as plt\n",
    "import os\n",
    "import re\n",
    "plt.style.use('ggplot')"
   ]
  },
  {
   "cell_type": "code",
   "execution_count": 16,
   "metadata": {},
   "outputs": [],
   "source": [
    "sns.set(rc={'figure.figsize':(10.7,4.27)})"
   ]
  },
  {
   "cell_type": "markdown",
   "metadata": {},
   "source": [
    "## Load dataframe"
   ]
  },
  {
   "cell_type": "code",
   "execution_count": 3,
   "metadata": {},
   "outputs": [],
   "source": [
    "# raw_data\n",
    "file = '04_clean_data.csv'\n",
    "data_directory = os.path.join( '..','data','raw_data/{}'.format(file))"
   ]
  },
  {
   "cell_type": "code",
   "execution_count": 4,
   "metadata": {},
   "outputs": [],
   "source": [
    "df= pd.read_csv(data_directory)"
   ]
  },
  {
   "cell_type": "code",
   "execution_count": 5,
   "metadata": {},
   "outputs": [
    {
     "name": "stdout",
     "output_type": "stream",
     "text": [
      "<class 'pandas.core.frame.DataFrame'>\n",
      "RangeIndex: 244 entries, 0 to 243\n",
      "Data columns (total 6 columns):\n",
      "name          244 non-null object\n",
      "title         244 non-null object\n",
      "summary       244 non-null object\n",
      "year          244 non-null int64\n",
      "transcript    244 non-null object\n",
      "link          244 non-null object\n",
      "dtypes: int64(1), object(5)\n",
      "memory usage: 11.5+ KB\n"
     ]
    }
   ],
   "source": [
    "df.info()"
   ]
  },
  {
   "cell_type": "code",
   "execution_count": 6,
   "metadata": {},
   "outputs": [
    {
     "data": {
      "text/html": [
       "<div>\n",
       "<style scoped>\n",
       "    .dataframe tbody tr th:only-of-type {\n",
       "        vertical-align: middle;\n",
       "    }\n",
       "\n",
       "    .dataframe tbody tr th {\n",
       "        vertical-align: top;\n",
       "    }\n",
       "\n",
       "    .dataframe thead th {\n",
       "        text-align: right;\n",
       "    }\n",
       "</style>\n",
       "<table border=\"1\" class=\"dataframe\">\n",
       "  <thead>\n",
       "    <tr style=\"text-align: right;\">\n",
       "      <th></th>\n",
       "      <th>name</th>\n",
       "      <th>title</th>\n",
       "      <th>summary</th>\n",
       "      <th>year</th>\n",
       "      <th>transcript</th>\n",
       "      <th>link</th>\n",
       "    </tr>\n",
       "  </thead>\n",
       "  <tbody>\n",
       "    <tr>\n",
       "      <th>0</th>\n",
       "      <td>Enissa Amani</td>\n",
       "      <td>Ehrenwort</td>\n",
       "      <td>Live from Hamburg, Iranian-German comedian Eni...</td>\n",
       "      <td>2018</td>\n",
       "      <td>A NETFLIX ORIGINAL COMEDY SPECIAL\\nHey, what’s...</td>\n",
       "      <td>https://scrapsfromtheloft.com/2019/02/19/eniss...</td>\n",
       "    </tr>\n",
       "    <tr>\n",
       "      <th>1</th>\n",
       "      <td>George Carlin</td>\n",
       "      <td>Politically Correct Language  By</td>\n",
       "      <td>George Carlin's critical thinking on pc langua...</td>\n",
       "      <td>0</td>\n",
       "      <td>I know I’m a little late with this, but I’d li...</td>\n",
       "      <td>https://scrapsfromtheloft.com/2019/02/18/polit...</td>\n",
       "    </tr>\n",
       "    <tr>\n",
       "      <th>2</th>\n",
       "      <td>Ken Jeong</td>\n",
       "      <td>You Complete Me, Ho</td>\n",
       "      <td>Filmed at the Ice House Comedy Club in Pasaden...</td>\n",
       "      <td>2019</td>\n",
       "      <td>The Hangover… Community… Dr. Ken… Crazy Rich A...</td>\n",
       "      <td>https://scrapsfromtheloft.com/2019/02/17/ken-j...</td>\n",
       "    </tr>\n",
       "    <tr>\n",
       "      <th>3</th>\n",
       "      <td>Ray Romano</td>\n",
       "      <td>Right Here, Around The Corner</td>\n",
       "      <td>Ray Romano cut his stand-up teeth at the Comed...</td>\n",
       "      <td>2019</td>\n",
       "      <td>It’s been 23 years since I did a comedy specia...</td>\n",
       "      <td>https://scrapsfromtheloft.com/2019/02/12/ray-r...</td>\n",
       "    </tr>\n",
       "    <tr>\n",
       "      <th>4</th>\n",
       "      <td>Gabriel Iglesias</td>\n",
       "      <td>One Show Fits All</td>\n",
       "      <td>In a new special from Houston, Gabriel \"Fluffy...</td>\n",
       "      <td>2019</td>\n",
       "      <td>[crowd chanting] Fluffy! Fluffy! [Fluffy shout...</td>\n",
       "      <td>https://scrapsfromtheloft.com/2019/01/30/gabri...</td>\n",
       "    </tr>\n",
       "  </tbody>\n",
       "</table>\n",
       "</div>"
      ],
      "text/plain": [
       "               name                             title  \\\n",
       "0      Enissa Amani                         Ehrenwort   \n",
       "1     George Carlin  Politically Correct Language  By   \n",
       "2         Ken Jeong               You Complete Me, Ho   \n",
       "3        Ray Romano     Right Here, Around The Corner   \n",
       "4  Gabriel Iglesias                 One Show Fits All   \n",
       "\n",
       "                                             summary  year  \\\n",
       "0  Live from Hamburg, Iranian-German comedian Eni...  2018   \n",
       "1  George Carlin's critical thinking on pc langua...     0   \n",
       "2  Filmed at the Ice House Comedy Club in Pasaden...  2019   \n",
       "3  Ray Romano cut his stand-up teeth at the Comed...  2019   \n",
       "4  In a new special from Houston, Gabriel \"Fluffy...  2019   \n",
       "\n",
       "                                          transcript  \\\n",
       "0  A NETFLIX ORIGINAL COMEDY SPECIAL\\nHey, what’s...   \n",
       "1  I know I’m a little late with this, but I’d li...   \n",
       "2  The Hangover… Community… Dr. Ken… Crazy Rich A...   \n",
       "3  It’s been 23 years since I did a comedy specia...   \n",
       "4  [crowd chanting] Fluffy! Fluffy! [Fluffy shout...   \n",
       "\n",
       "                                                link  \n",
       "0  https://scrapsfromtheloft.com/2019/02/19/eniss...  \n",
       "1  https://scrapsfromtheloft.com/2019/02/18/polit...  \n",
       "2  https://scrapsfromtheloft.com/2019/02/17/ken-j...  \n",
       "3  https://scrapsfromtheloft.com/2019/02/12/ray-r...  \n",
       "4  https://scrapsfromtheloft.com/2019/01/30/gabri...  "
      ]
     },
     "execution_count": 6,
     "metadata": {},
     "output_type": "execute_result"
    }
   ],
   "source": [
    "df.head()"
   ]
  },
  {
   "cell_type": "markdown",
   "metadata": {},
   "source": [
    "## Inspect Names"
   ]
  },
  {
   "cell_type": "code",
   "execution_count": 9,
   "metadata": {},
   "outputs": [
    {
     "data": {
      "text/html": [
       "<div>\n",
       "<style scoped>\n",
       "    .dataframe tbody tr th:only-of-type {\n",
       "        vertical-align: middle;\n",
       "    }\n",
       "\n",
       "    .dataframe tbody tr th {\n",
       "        vertical-align: top;\n",
       "    }\n",
       "\n",
       "    .dataframe thead th {\n",
       "        text-align: right;\n",
       "    }\n",
       "</style>\n",
       "<table border=\"1\" class=\"dataframe\">\n",
       "  <thead>\n",
       "    <tr style=\"text-align: right;\">\n",
       "      <th></th>\n",
       "      <th>name</th>\n",
       "      <th>title</th>\n",
       "      <th>summary</th>\n",
       "      <th>year</th>\n",
       "      <th>transcript</th>\n",
       "      <th>link</th>\n",
       "    </tr>\n",
       "  </thead>\n",
       "  <tbody>\n",
       "    <tr>\n",
       "      <th>10</th>\n",
       "      <td>Pete Holmes</td>\n",
       "      <td>Dirty Clean</td>\n",
       "      <td>The stand-up special Pete Holmes: Dirty Clean ...</td>\n",
       "      <td>2018</td>\n",
       "      <td>(crowd murmurs) Announcer: Ladies and gentleme...</td>\n",
       "      <td>https://scrapsfromtheloft.com/2018/12/19/pete-...</td>\n",
       "    </tr>\n",
       "    <tr>\n",
       "      <th>11</th>\n",
       "      <td>Vir Das</td>\n",
       "      <td>Losing It</td>\n",
       "      <td>The world's got a lot of problems, but Vir Das...</td>\n",
       "      <td>2018</td>\n",
       "      <td>I lost 80% of my mind. It’s very freeing. You ...</td>\n",
       "      <td>https://scrapsfromtheloft.com/2018/12/15/vir-d...</td>\n",
       "    </tr>\n",
       "    <tr>\n",
       "      <th>12</th>\n",
       "      <td>Volker Pispers</td>\n",
       "      <td>About Usa</td>\n",
       "      <td>Last part of Volker Pispers' program \"Bis neul...</td>\n",
       "      <td>2004</td>\n",
       "      <td>Last part of Volker Pispers’ program “Bis neul...</td>\n",
       "      <td>https://scrapsfromtheloft.com/2018/11/27/volke...</td>\n",
       "    </tr>\n",
       "    <tr>\n",
       "      <th>13</th>\n",
       "      <td>Trevor Noah</td>\n",
       "      <td>Son Of Patricia</td>\n",
       "      <td>Trevor Noah gets out from behind the \"Daily Sh...</td>\n",
       "      <td>2018</td>\n",
       "      <td>A NETFLIX ORIGINAL COMEDY SPECIAL [distant tra...</td>\n",
       "      <td>https://scrapsfromtheloft.com/2018/11/21/trevo...</td>\n",
       "    </tr>\n",
       "    <tr>\n",
       "      <th>14</th>\n",
       "      <td>Jeff Foxworthylarry The Cable Guy</td>\n",
       "      <td>We’Ve Been Thinking</td>\n",
       "      <td>Comedians Jeff Foxworthy and Larry the Cable G...</td>\n",
       "      <td>2016</td>\n",
       "      <td>When you start doing what Jeff and I do this i...</td>\n",
       "      <td>https://scrapsfromtheloft.com/2018/10/28/jeff-...</td>\n",
       "    </tr>\n",
       "    <tr>\n",
       "      <th>15</th>\n",
       "      <td>Adam Sandler</td>\n",
       "      <td>100% Fresh</td>\n",
       "      <td>Adam Sandler takes his comical musical musings...</td>\n",
       "      <td>2018</td>\n",
       "      <td>[man] Okay, ready, and… Take your own cue, Ada...</td>\n",
       "      <td>https://scrapsfromtheloft.com/2018/10/26/adam-...</td>\n",
       "    </tr>\n",
       "    <tr>\n",
       "      <th>16</th>\n",
       "      <td>Jeff Foxworthy</td>\n",
       "      <td>Totally Committed</td>\n",
       "      <td>Jeff Foxworthy talks about how people act, mar...</td>\n",
       "      <td>1998</td>\n",
       "      <td>Ladies and gentlemen, please welcome Jeff Foxw...</td>\n",
       "      <td>https://scrapsfromtheloft.com/2018/10/23/jeff-...</td>\n",
       "    </tr>\n",
       "    <tr>\n",
       "      <th>17</th>\n",
       "      <td>Ron White</td>\n",
       "      <td>If You Quit Listening, I’Ll Shut Up</td>\n",
       "      <td>Ron “Tater Salad” White dishes out his signatu...</td>\n",
       "      <td>2018</td>\n",
       "      <td>[Ron White] You ever take a crap so big your p...</td>\n",
       "      <td>https://scrapsfromtheloft.com/2018/10/19/ron-w...</td>\n",
       "    </tr>\n",
       "    <tr>\n",
       "      <th>18</th>\n",
       "      <td>Tom Segura</td>\n",
       "      <td>Comedy Central Presents</td>\n",
       "      <td>Tom Segura describes the worst thing about vis...</td>\n",
       "      <td>0</td>\n",
       "      <td>Yes. I agree. I totally agree. Totally. It’s g...</td>\n",
       "      <td>https://scrapsfromtheloft.com/2018/10/13/comed...</td>\n",
       "    </tr>\n",
       "    <tr>\n",
       "      <th>19</th>\n",
       "      <td>Mo Amer</td>\n",
       "      <td>The Vagabond</td>\n",
       "      <td>Arab-American comedian Mo Amer recounts his li...</td>\n",
       "      <td>2018</td>\n",
       "      <td>A NETFLIX ORIGINAL COMEDY SPECIAL\\n[audience c...</td>\n",
       "      <td>https://scrapsfromtheloft.com/2018/10/11/mo-am...</td>\n",
       "    </tr>\n",
       "  </tbody>\n",
       "</table>\n",
       "</div>"
      ],
      "text/plain": [
       "                                 name                                title  \\\n",
       "10                        Pete Holmes                          Dirty Clean   \n",
       "11                            Vir Das                            Losing It   \n",
       "12                     Volker Pispers                            About Usa   \n",
       "13                        Trevor Noah                      Son Of Patricia   \n",
       "14  Jeff Foxworthylarry The Cable Guy                  We’Ve Been Thinking   \n",
       "15                       Adam Sandler                           100% Fresh   \n",
       "16                     Jeff Foxworthy                    Totally Committed   \n",
       "17                          Ron White  If You Quit Listening, I’Ll Shut Up   \n",
       "18                         Tom Segura              Comedy Central Presents   \n",
       "19                            Mo Amer                         The Vagabond   \n",
       "\n",
       "                                              summary  year  \\\n",
       "10  The stand-up special Pete Holmes: Dirty Clean ...  2018   \n",
       "11  The world's got a lot of problems, but Vir Das...  2018   \n",
       "12  Last part of Volker Pispers' program \"Bis neul...  2004   \n",
       "13  Trevor Noah gets out from behind the \"Daily Sh...  2018   \n",
       "14  Comedians Jeff Foxworthy and Larry the Cable G...  2016   \n",
       "15  Adam Sandler takes his comical musical musings...  2018   \n",
       "16  Jeff Foxworthy talks about how people act, mar...  1998   \n",
       "17  Ron “Tater Salad” White dishes out his signatu...  2018   \n",
       "18  Tom Segura describes the worst thing about vis...     0   \n",
       "19  Arab-American comedian Mo Amer recounts his li...  2018   \n",
       "\n",
       "                                           transcript  \\\n",
       "10  (crowd murmurs) Announcer: Ladies and gentleme...   \n",
       "11  I lost 80% of my mind. It’s very freeing. You ...   \n",
       "12  Last part of Volker Pispers’ program “Bis neul...   \n",
       "13  A NETFLIX ORIGINAL COMEDY SPECIAL [distant tra...   \n",
       "14  When you start doing what Jeff and I do this i...   \n",
       "15  [man] Okay, ready, and… Take your own cue, Ada...   \n",
       "16  Ladies and gentlemen, please welcome Jeff Foxw...   \n",
       "17  [Ron White] You ever take a crap so big your p...   \n",
       "18  Yes. I agree. I totally agree. Totally. It’s g...   \n",
       "19  A NETFLIX ORIGINAL COMEDY SPECIAL\\n[audience c...   \n",
       "\n",
       "                                                 link  \n",
       "10  https://scrapsfromtheloft.com/2018/12/19/pete-...  \n",
       "11  https://scrapsfromtheloft.com/2018/12/15/vir-d...  \n",
       "12  https://scrapsfromtheloft.com/2018/11/27/volke...  \n",
       "13  https://scrapsfromtheloft.com/2018/11/21/trevo...  \n",
       "14  https://scrapsfromtheloft.com/2018/10/28/jeff-...  \n",
       "15  https://scrapsfromtheloft.com/2018/10/26/adam-...  \n",
       "16  https://scrapsfromtheloft.com/2018/10/23/jeff-...  \n",
       "17  https://scrapsfromtheloft.com/2018/10/19/ron-w...  \n",
       "18  https://scrapsfromtheloft.com/2018/10/13/comed...  \n",
       "19  https://scrapsfromtheloft.com/2018/10/11/mo-am...  "
      ]
     },
     "execution_count": 9,
     "metadata": {},
     "output_type": "execute_result"
    }
   ],
   "source": [
    "df[10:20]"
   ]
  },
  {
   "cell_type": "code",
   "execution_count": 10,
   "metadata": {},
   "outputs": [],
   "source": [
    "# fix Jeff Foxworthylarry The Cable Guy\t to just Jeff Foxworthy\n",
    "# fix name\n",
    "df.loc[14, 'name'] = 'Jeff Foxworthy'"
   ]
  },
  {
   "cell_type": "code",
   "execution_count": 11,
   "metadata": {},
   "outputs": [
    {
     "data": {
      "text/html": [
       "<div>\n",
       "<style scoped>\n",
       "    .dataframe tbody tr th:only-of-type {\n",
       "        vertical-align: middle;\n",
       "    }\n",
       "\n",
       "    .dataframe tbody tr th {\n",
       "        vertical-align: top;\n",
       "    }\n",
       "\n",
       "    .dataframe thead th {\n",
       "        text-align: right;\n",
       "    }\n",
       "</style>\n",
       "<table border=\"1\" class=\"dataframe\">\n",
       "  <thead>\n",
       "    <tr style=\"text-align: right;\">\n",
       "      <th></th>\n",
       "      <th>name</th>\n",
       "      <th>title</th>\n",
       "      <th>summary</th>\n",
       "      <th>year</th>\n",
       "      <th>transcript</th>\n",
       "      <th>link</th>\n",
       "    </tr>\n",
       "  </thead>\n",
       "  <tbody>\n",
       "    <tr>\n",
       "      <th>10</th>\n",
       "      <td>Pete Holmes</td>\n",
       "      <td>Dirty Clean</td>\n",
       "      <td>The stand-up special Pete Holmes: Dirty Clean ...</td>\n",
       "      <td>2018</td>\n",
       "      <td>(crowd murmurs) Announcer: Ladies and gentleme...</td>\n",
       "      <td>https://scrapsfromtheloft.com/2018/12/19/pete-...</td>\n",
       "    </tr>\n",
       "    <tr>\n",
       "      <th>11</th>\n",
       "      <td>Vir Das</td>\n",
       "      <td>Losing It</td>\n",
       "      <td>The world's got a lot of problems, but Vir Das...</td>\n",
       "      <td>2018</td>\n",
       "      <td>I lost 80% of my mind. It’s very freeing. You ...</td>\n",
       "      <td>https://scrapsfromtheloft.com/2018/12/15/vir-d...</td>\n",
       "    </tr>\n",
       "    <tr>\n",
       "      <th>12</th>\n",
       "      <td>Volker Pispers</td>\n",
       "      <td>About Usa</td>\n",
       "      <td>Last part of Volker Pispers' program \"Bis neul...</td>\n",
       "      <td>2004</td>\n",
       "      <td>Last part of Volker Pispers’ program “Bis neul...</td>\n",
       "      <td>https://scrapsfromtheloft.com/2018/11/27/volke...</td>\n",
       "    </tr>\n",
       "    <tr>\n",
       "      <th>13</th>\n",
       "      <td>Trevor Noah</td>\n",
       "      <td>Son Of Patricia</td>\n",
       "      <td>Trevor Noah gets out from behind the \"Daily Sh...</td>\n",
       "      <td>2018</td>\n",
       "      <td>A NETFLIX ORIGINAL COMEDY SPECIAL [distant tra...</td>\n",
       "      <td>https://scrapsfromtheloft.com/2018/11/21/trevo...</td>\n",
       "    </tr>\n",
       "    <tr>\n",
       "      <th>14</th>\n",
       "      <td>Jeff Foxworthy</td>\n",
       "      <td>We’Ve Been Thinking</td>\n",
       "      <td>Comedians Jeff Foxworthy and Larry the Cable G...</td>\n",
       "      <td>2016</td>\n",
       "      <td>When you start doing what Jeff and I do this i...</td>\n",
       "      <td>https://scrapsfromtheloft.com/2018/10/28/jeff-...</td>\n",
       "    </tr>\n",
       "    <tr>\n",
       "      <th>15</th>\n",
       "      <td>Adam Sandler</td>\n",
       "      <td>100% Fresh</td>\n",
       "      <td>Adam Sandler takes his comical musical musings...</td>\n",
       "      <td>2018</td>\n",
       "      <td>[man] Okay, ready, and… Take your own cue, Ada...</td>\n",
       "      <td>https://scrapsfromtheloft.com/2018/10/26/adam-...</td>\n",
       "    </tr>\n",
       "    <tr>\n",
       "      <th>16</th>\n",
       "      <td>Jeff Foxworthy</td>\n",
       "      <td>Totally Committed</td>\n",
       "      <td>Jeff Foxworthy talks about how people act, mar...</td>\n",
       "      <td>1998</td>\n",
       "      <td>Ladies and gentlemen, please welcome Jeff Foxw...</td>\n",
       "      <td>https://scrapsfromtheloft.com/2018/10/23/jeff-...</td>\n",
       "    </tr>\n",
       "    <tr>\n",
       "      <th>17</th>\n",
       "      <td>Ron White</td>\n",
       "      <td>If You Quit Listening, I’Ll Shut Up</td>\n",
       "      <td>Ron “Tater Salad” White dishes out his signatu...</td>\n",
       "      <td>2018</td>\n",
       "      <td>[Ron White] You ever take a crap so big your p...</td>\n",
       "      <td>https://scrapsfromtheloft.com/2018/10/19/ron-w...</td>\n",
       "    </tr>\n",
       "    <tr>\n",
       "      <th>18</th>\n",
       "      <td>Tom Segura</td>\n",
       "      <td>Comedy Central Presents</td>\n",
       "      <td>Tom Segura describes the worst thing about vis...</td>\n",
       "      <td>0</td>\n",
       "      <td>Yes. I agree. I totally agree. Totally. It’s g...</td>\n",
       "      <td>https://scrapsfromtheloft.com/2018/10/13/comed...</td>\n",
       "    </tr>\n",
       "    <tr>\n",
       "      <th>19</th>\n",
       "      <td>Mo Amer</td>\n",
       "      <td>The Vagabond</td>\n",
       "      <td>Arab-American comedian Mo Amer recounts his li...</td>\n",
       "      <td>2018</td>\n",
       "      <td>A NETFLIX ORIGINAL COMEDY SPECIAL\\n[audience c...</td>\n",
       "      <td>https://scrapsfromtheloft.com/2018/10/11/mo-am...</td>\n",
       "    </tr>\n",
       "  </tbody>\n",
       "</table>\n",
       "</div>"
      ],
      "text/plain": [
       "              name                                title  \\\n",
       "10     Pete Holmes                          Dirty Clean   \n",
       "11         Vir Das                            Losing It   \n",
       "12  Volker Pispers                            About Usa   \n",
       "13     Trevor Noah                      Son Of Patricia   \n",
       "14  Jeff Foxworthy                  We’Ve Been Thinking   \n",
       "15    Adam Sandler                           100% Fresh   \n",
       "16  Jeff Foxworthy                    Totally Committed   \n",
       "17       Ron White  If You Quit Listening, I’Ll Shut Up   \n",
       "18      Tom Segura              Comedy Central Presents   \n",
       "19         Mo Amer                         The Vagabond   \n",
       "\n",
       "                                              summary  year  \\\n",
       "10  The stand-up special Pete Holmes: Dirty Clean ...  2018   \n",
       "11  The world's got a lot of problems, but Vir Das...  2018   \n",
       "12  Last part of Volker Pispers' program \"Bis neul...  2004   \n",
       "13  Trevor Noah gets out from behind the \"Daily Sh...  2018   \n",
       "14  Comedians Jeff Foxworthy and Larry the Cable G...  2016   \n",
       "15  Adam Sandler takes his comical musical musings...  2018   \n",
       "16  Jeff Foxworthy talks about how people act, mar...  1998   \n",
       "17  Ron “Tater Salad” White dishes out his signatu...  2018   \n",
       "18  Tom Segura describes the worst thing about vis...     0   \n",
       "19  Arab-American comedian Mo Amer recounts his li...  2018   \n",
       "\n",
       "                                           transcript  \\\n",
       "10  (crowd murmurs) Announcer: Ladies and gentleme...   \n",
       "11  I lost 80% of my mind. It’s very freeing. You ...   \n",
       "12  Last part of Volker Pispers’ program “Bis neul...   \n",
       "13  A NETFLIX ORIGINAL COMEDY SPECIAL [distant tra...   \n",
       "14  When you start doing what Jeff and I do this i...   \n",
       "15  [man] Okay, ready, and… Take your own cue, Ada...   \n",
       "16  Ladies and gentlemen, please welcome Jeff Foxw...   \n",
       "17  [Ron White] You ever take a crap so big your p...   \n",
       "18  Yes. I agree. I totally agree. Totally. It’s g...   \n",
       "19  A NETFLIX ORIGINAL COMEDY SPECIAL\\n[audience c...   \n",
       "\n",
       "                                                 link  \n",
       "10  https://scrapsfromtheloft.com/2018/12/19/pete-...  \n",
       "11  https://scrapsfromtheloft.com/2018/12/15/vir-d...  \n",
       "12  https://scrapsfromtheloft.com/2018/11/27/volke...  \n",
       "13  https://scrapsfromtheloft.com/2018/11/21/trevo...  \n",
       "14  https://scrapsfromtheloft.com/2018/10/28/jeff-...  \n",
       "15  https://scrapsfromtheloft.com/2018/10/26/adam-...  \n",
       "16  https://scrapsfromtheloft.com/2018/10/23/jeff-...  \n",
       "17  https://scrapsfromtheloft.com/2018/10/19/ron-w...  \n",
       "18  https://scrapsfromtheloft.com/2018/10/13/comed...  \n",
       "19  https://scrapsfromtheloft.com/2018/10/11/mo-am...  "
      ]
     },
     "execution_count": 11,
     "metadata": {},
     "output_type": "execute_result"
    }
   ],
   "source": [
    "df[10:20]"
   ]
  },
  {
   "cell_type": "markdown",
   "metadata": {},
   "source": [
    "## Get len of transcript"
   ]
  },
  {
   "cell_type": "code",
   "execution_count": 12,
   "metadata": {},
   "outputs": [],
   "source": [
    "df['len_transcript'] = df.transcript.str.len()"
   ]
  },
  {
   "cell_type": "code",
   "execution_count": 13,
   "metadata": {},
   "outputs": [
    {
     "data": {
      "text/plain": [
       "count      244.000000\n",
       "mean     45534.975410\n",
       "std      16696.294783\n",
       "min       2491.000000\n",
       "25%      39536.750000\n",
       "50%      47981.500000\n",
       "75%      56218.500000\n",
       "max      86391.000000\n",
       "Name: len_transcript, dtype: float64"
      ]
     },
     "execution_count": 13,
     "metadata": {},
     "output_type": "execute_result"
    }
   ],
   "source": [
    "df.len_transcript.describe()"
   ]
  },
  {
   "cell_type": "code",
   "execution_count": 17,
   "metadata": {},
   "outputs": [
    {
     "data": {
      "text/plain": [
       "Text(0.5, 1.0, 'Length of Transcript by Word Count')"
      ]
     },
     "execution_count": 17,
     "metadata": {},
     "output_type": "execute_result"
    },
    {
     "data": {
      "image/png": "[encoded data removed]",
      "text/plain": [
       "<Figure size 770.4x307.44 with 1 Axes>"
      ]
     },
     "metadata": {},
     "output_type": "display_data"
    }
   ],
   "source": [
    "df.len_transcript.plot()\n",
    "plt.title('Length of Transcript by Word Count')"
   ]
  },
  {
   "cell_type": "code",
   "execution_count": 18,
   "metadata": {},
   "outputs": [
    {
     "data": {
      "text/plain": [
       "Text(0.5, 1.0, 'length of Transcript Distribution')"
      ]
     },
     "execution_count": 18,
     "metadata": {},
     "output_type": "execute_result"
    },
    {
     "data": {
      "image/png": "[encoded data removed]",
      "text/plain": [
       "<Figure size 770.4x307.44 with 1 Axes>"
      ]
     },
     "metadata": {},
     "output_type": "display_data"
    }
   ],
   "source": [
    "sns.distplot(df.len_transcript)\n",
    "plt.title('length of Transcript Distribution')"
   ]
  },
  {
   "cell_type": "markdown",
   "metadata": {},
   "source": [
    "## drop any transcripts < 20000\n",
    "Lets only select transcripts that are 20K words or longer"
   ]
  },
  {
   "cell_type": "code",
   "execution_count": 19,
   "metadata": {},
   "outputs": [],
   "source": [
    "large_transcripts = df.len_transcript> 20000"
   ]
  },
  {
   "cell_type": "code",
   "execution_count": 20,
   "metadata": {},
   "outputs": [],
   "source": [
    "df = df[large_transcripts]"
   ]
  },
  {
   "cell_type": "code",
   "execution_count": 21,
   "metadata": {},
   "outputs": [
    {
     "data": {
      "text/plain": [
       "<matplotlib.axes._subplots.AxesSubplot at 0x7f9b59bd7630>"
      ]
     },
     "execution_count": 21,
     "metadata": {},
     "output_type": "execute_result"
    },
    {
     "data": {
      "image/png": "[encoded data removed]",
      "text/plain": [
       "<Figure size 770.4x307.44 with 1 Axes>"
      ]
     },
     "metadata": {},
     "output_type": "display_data"
    }
   ],
   "source": [
    "df.len_transcript.plot()"
   ]
  },
  {
   "cell_type": "code",
   "execution_count": 22,
   "metadata": {},
   "outputs": [
    {
     "data": {
      "text/plain": [
       "count      217.000000\n",
       "mean     49978.843318\n",
       "std      11443.140240\n",
       "min      22237.000000\n",
       "25%      42004.000000\n",
       "50%      48780.000000\n",
       "75%      57686.000000\n",
       "max      86391.000000\n",
       "Name: len_transcript, dtype: float64"
      ]
     },
     "execution_count": 22,
     "metadata": {},
     "output_type": "execute_result"
    }
   ],
   "source": [
    "df.len_transcript.describe()"
   ]
  },
  {
   "cell_type": "code",
   "execution_count": 23,
   "metadata": {},
   "outputs": [
    {
     "data": {
      "text/plain": [
       "Text(0.5, 1.0, 'length of Transcript Distribution')"
      ]
     },
     "execution_count": 23,
     "metadata": {},
     "output_type": "execute_result"
    },
    {
     "data": {
      "image/png": "[encoded data removed]",
      "text/plain": [
       "<Figure size 770.4x307.44 with 1 Axes>"
      ]
     },
     "metadata": {},
     "output_type": "display_data"
    }
   ],
   "source": [
    "sns.distplot(df.len_transcript)\n",
    "plt.title('length of Transcript Distribution')"
   ]
  },
  {
   "cell_type": "code",
   "execution_count": 24,
   "metadata": {},
   "outputs": [
    {
     "data": {
      "text/html": [
       "<div>\n",
       "<style scoped>\n",
       "    .dataframe tbody tr th:only-of-type {\n",
       "        vertical-align: middle;\n",
       "    }\n",
       "\n",
       "    .dataframe tbody tr th {\n",
       "        vertical-align: top;\n",
       "    }\n",
       "\n",
       "    .dataframe thead th {\n",
       "        text-align: right;\n",
       "    }\n",
       "</style>\n",
       "<table border=\"1\" class=\"dataframe\">\n",
       "  <thead>\n",
       "    <tr style=\"text-align: right;\">\n",
       "      <th></th>\n",
       "      <th>name</th>\n",
       "      <th>title</th>\n",
       "      <th>summary</th>\n",
       "      <th>year</th>\n",
       "      <th>transcript</th>\n",
       "      <th>link</th>\n",
       "      <th>len_transcript</th>\n",
       "    </tr>\n",
       "  </thead>\n",
       "  <tbody>\n",
       "    <tr>\n",
       "      <th>0</th>\n",
       "      <td>Enissa Amani</td>\n",
       "      <td>Ehrenwort</td>\n",
       "      <td>Live from Hamburg, Iranian-German comedian Eni...</td>\n",
       "      <td>2018</td>\n",
       "      <td>A NETFLIX ORIGINAL COMEDY SPECIAL\\nHey, what’s...</td>\n",
       "      <td>https://scrapsfromtheloft.com/2019/02/19/eniss...</td>\n",
       "      <td>55660</td>\n",
       "    </tr>\n",
       "    <tr>\n",
       "      <th>2</th>\n",
       "      <td>Ken Jeong</td>\n",
       "      <td>You Complete Me, Ho</td>\n",
       "      <td>Filmed at the Ice House Comedy Club in Pasaden...</td>\n",
       "      <td>2019</td>\n",
       "      <td>The Hangover… Community… Dr. Ken… Crazy Rich A...</td>\n",
       "      <td>https://scrapsfromtheloft.com/2019/02/17/ken-j...</td>\n",
       "      <td>46046</td>\n",
       "    </tr>\n",
       "    <tr>\n",
       "      <th>3</th>\n",
       "      <td>Ray Romano</td>\n",
       "      <td>Right Here, Around The Corner</td>\n",
       "      <td>Ray Romano cut his stand-up teeth at the Comed...</td>\n",
       "      <td>2019</td>\n",
       "      <td>It’s been 23 years since I did a comedy specia...</td>\n",
       "      <td>https://scrapsfromtheloft.com/2019/02/12/ray-r...</td>\n",
       "      <td>41464</td>\n",
       "    </tr>\n",
       "    <tr>\n",
       "      <th>4</th>\n",
       "      <td>Gabriel Iglesias</td>\n",
       "      <td>One Show Fits All</td>\n",
       "      <td>In a new special from Houston, Gabriel \"Fluffy...</td>\n",
       "      <td>2019</td>\n",
       "      <td>[crowd chanting] Fluffy! Fluffy! [Fluffy shout...</td>\n",
       "      <td>https://scrapsfromtheloft.com/2019/01/30/gabri...</td>\n",
       "      <td>62291</td>\n",
       "    </tr>\n",
       "    <tr>\n",
       "      <th>5</th>\n",
       "      <td>Sebastian Maniscalco</td>\n",
       "      <td>Stay Hungry</td>\n",
       "      <td>Sebastian's captivating storytelling keeps the...</td>\n",
       "      <td>2019</td>\n",
       "      <td>[instrumental music plays] ♪ All right ♪ [scre...</td>\n",
       "      <td>https://scrapsfromtheloft.com/2019/01/29/sebas...</td>\n",
       "      <td>40766</td>\n",
       "    </tr>\n",
       "  </tbody>\n",
       "</table>\n",
       "</div>"
      ],
      "text/plain": [
       "                   name                          title  \\\n",
       "0          Enissa Amani                      Ehrenwort   \n",
       "2             Ken Jeong            You Complete Me, Ho   \n",
       "3            Ray Romano  Right Here, Around The Corner   \n",
       "4      Gabriel Iglesias              One Show Fits All   \n",
       "5  Sebastian Maniscalco                    Stay Hungry   \n",
       "\n",
       "                                             summary  year  \\\n",
       "0  Live from Hamburg, Iranian-German comedian Eni...  2018   \n",
       "2  Filmed at the Ice House Comedy Club in Pasaden...  2019   \n",
       "3  Ray Romano cut his stand-up teeth at the Comed...  2019   \n",
       "4  In a new special from Houston, Gabriel \"Fluffy...  2019   \n",
       "5  Sebastian's captivating storytelling keeps the...  2019   \n",
       "\n",
       "                                          transcript  \\\n",
       "0  A NETFLIX ORIGINAL COMEDY SPECIAL\\nHey, what’s...   \n",
       "2  The Hangover… Community… Dr. Ken… Crazy Rich A...   \n",
       "3  It’s been 23 years since I did a comedy specia...   \n",
       "4  [crowd chanting] Fluffy! Fluffy! [Fluffy shout...   \n",
       "5  [instrumental music plays] ♪ All right ♪ [scre...   \n",
       "\n",
       "                                                link  len_transcript  \n",
       "0  https://scrapsfromtheloft.com/2019/02/19/eniss...           55660  \n",
       "2  https://scrapsfromtheloft.com/2019/02/17/ken-j...           46046  \n",
       "3  https://scrapsfromtheloft.com/2019/02/12/ray-r...           41464  \n",
       "4  https://scrapsfromtheloft.com/2019/01/30/gabri...           62291  \n",
       "5  https://scrapsfromtheloft.com/2019/01/29/sebas...           40766  "
      ]
     },
     "execution_count": 24,
     "metadata": {},
     "output_type": "execute_result"
    }
   ],
   "source": [
    "df.head()"
   ]
  },
  {
   "cell_type": "markdown",
   "metadata": {},
   "source": [
    "## Extract DOB from wikipedia"
   ]
  },
  {
   "cell_type": "code",
   "execution_count": 25,
   "metadata": {},
   "outputs": [],
   "source": [
    "def get_bday_wiki_rx(data):\n",
    "    '''call wikipedia API to extract DOB from summary'''\n",
    "    pat = r'(\\d{2}\\s[A-z]+\\s|[A-z]+\\s\\d{2},?\\s)?\\d{4}'\n",
    "    pattern = re.compile(pat,re.IGNORECASE|re.VERBOSE)\n",
    "    name = data['name']\n",
    "    print('bday extraction: {}'.format(name))\n",
    "    clear_output(wait = True)\n",
    "    try:\n",
    "        page = wk.page(name)\n",
    "        result = pattern.search(page.content).group()\n",
    "        return result\n",
    "    except:\n",
    "        print('Some error.')"
   ]
  },
  {
   "cell_type": "markdown",
   "metadata": {},
   "source": [
    "## Extract Sex from wikipedia"
   ]
  },
  {
   "cell_type": "code",
   "execution_count": 26,
   "metadata": {},
   "outputs": [],
   "source": [
    "def get_sex_wiki_rx(data):\n",
    "    '''call wikipedia API to extact sex of person\n",
    "    by searching how they are described'''\n",
    "    pat = r'(He|She)'\n",
    "    pattern = re.compile(pat,re.IGNORECASE|re.VERBOSE)\n",
    "    name= data['name']\n",
    "    print('sex extraction: {}'.format(name))\n",
    "    clear_output(wait = True)\n",
    "    try:\n",
    "        page = wk.page(name)\n",
    "        result = pattern.search(page.content).group()\n",
    "        result = result.title()\n",
    "        if result == 'She':\n",
    "            return 'Female'\n",
    "        elif result == 'He':\n",
    "            return 'Male'\n",
    "        else:\n",
    "            return 'Unk'\n",
    "    except:\n",
    "        print('Some error')"
   ]
  },
  {
   "cell_type": "markdown",
   "metadata": {},
   "source": [
    "## Apply functions"
   ]
  },
  {
   "cell_type": "code",
   "execution_count": 27,
   "metadata": {},
   "outputs": [
    {
     "name": "stdout",
     "output_type": "stream",
     "text": [
      "CPU times: user 11 s, sys: 3.58 s, total: 14.6 s\n",
      "Wall time: 2min 53s\n"
     ]
    }
   ],
   "source": [
    "%%time\n",
    "df['dob'] = df.apply(get_bday_wiki_rx,axis=1)"
   ]
  },
  {
   "cell_type": "code",
   "execution_count": 28,
   "metadata": {},
   "outputs": [
    {
     "name": "stdout",
     "output_type": "stream",
     "text": [
      "<class 'pandas.core.frame.DataFrame'>\n",
      "Int64Index: 217 entries, 0 to 243\n",
      "Data columns (total 8 columns):\n",
      "name              217 non-null object\n",
      "title             217 non-null object\n",
      "summary           217 non-null object\n",
      "year              217 non-null int64\n",
      "transcript        217 non-null object\n",
      "link              217 non-null object\n",
      "len_transcript    217 non-null int64\n",
      "dob               215 non-null object\n",
      "dtypes: int64(2), object(6)\n",
      "memory usage: 15.3+ KB\n"
     ]
    }
   ],
   "source": [
    "df.info()"
   ]
  },
  {
   "cell_type": "code",
   "execution_count": 29,
   "metadata": {},
   "outputs": [
    {
     "data": {
      "text/html": [
       "<div>\n",
       "<style scoped>\n",
       "    .dataframe tbody tr th:only-of-type {\n",
       "        vertical-align: middle;\n",
       "    }\n",
       "\n",
       "    .dataframe tbody tr th {\n",
       "        vertical-align: top;\n",
       "    }\n",
       "\n",
       "    .dataframe thead th {\n",
       "        text-align: right;\n",
       "    }\n",
       "</style>\n",
       "<table border=\"1\" class=\"dataframe\">\n",
       "  <thead>\n",
       "    <tr style=\"text-align: right;\">\n",
       "      <th></th>\n",
       "      <th>name</th>\n",
       "      <th>title</th>\n",
       "      <th>summary</th>\n",
       "      <th>year</th>\n",
       "      <th>transcript</th>\n",
       "      <th>link</th>\n",
       "      <th>len_transcript</th>\n",
       "      <th>dob</th>\n",
       "    </tr>\n",
       "  </thead>\n",
       "  <tbody>\n",
       "    <tr>\n",
       "      <th>0</th>\n",
       "      <td>Enissa Amani</td>\n",
       "      <td>Ehrenwort</td>\n",
       "      <td>Live from Hamburg, Iranian-German comedian Eni...</td>\n",
       "      <td>2018</td>\n",
       "      <td>A NETFLIX ORIGINAL COMEDY SPECIAL\\nHey, what’s...</td>\n",
       "      <td>https://scrapsfromtheloft.com/2019/02/19/eniss...</td>\n",
       "      <td>55660</td>\n",
       "      <td>1981</td>\n",
       "    </tr>\n",
       "    <tr>\n",
       "      <th>2</th>\n",
       "      <td>Ken Jeong</td>\n",
       "      <td>You Complete Me, Ho</td>\n",
       "      <td>Filmed at the Ice House Comedy Club in Pasaden...</td>\n",
       "      <td>2019</td>\n",
       "      <td>The Hangover… Community… Dr. Ken… Crazy Rich A...</td>\n",
       "      <td>https://scrapsfromtheloft.com/2019/02/17/ken-j...</td>\n",
       "      <td>46046</td>\n",
       "      <td>July 13, 1969</td>\n",
       "    </tr>\n",
       "    <tr>\n",
       "      <th>3</th>\n",
       "      <td>Ray Romano</td>\n",
       "      <td>Right Here, Around The Corner</td>\n",
       "      <td>Ray Romano cut his stand-up teeth at the Comed...</td>\n",
       "      <td>2019</td>\n",
       "      <td>It’s been 23 years since I did a comedy specia...</td>\n",
       "      <td>https://scrapsfromtheloft.com/2019/02/12/ray-r...</td>\n",
       "      <td>41464</td>\n",
       "      <td>December 21, 1957</td>\n",
       "    </tr>\n",
       "    <tr>\n",
       "      <th>4</th>\n",
       "      <td>Gabriel Iglesias</td>\n",
       "      <td>One Show Fits All</td>\n",
       "      <td>In a new special from Houston, Gabriel \"Fluffy...</td>\n",
       "      <td>2019</td>\n",
       "      <td>[crowd chanting] Fluffy! Fluffy! [Fluffy shout...</td>\n",
       "      <td>https://scrapsfromtheloft.com/2019/01/30/gabri...</td>\n",
       "      <td>62291</td>\n",
       "      <td>July 15, 1976</td>\n",
       "    </tr>\n",
       "    <tr>\n",
       "      <th>5</th>\n",
       "      <td>Sebastian Maniscalco</td>\n",
       "      <td>Stay Hungry</td>\n",
       "      <td>Sebastian's captivating storytelling keeps the...</td>\n",
       "      <td>2019</td>\n",
       "      <td>[instrumental music plays] ♪ All right ♪ [scre...</td>\n",
       "      <td>https://scrapsfromtheloft.com/2019/01/29/sebas...</td>\n",
       "      <td>40766</td>\n",
       "      <td>1973</td>\n",
       "    </tr>\n",
       "  </tbody>\n",
       "</table>\n",
       "</div>"
      ],
      "text/plain": [
       "                   name                          title  \\\n",
       "0          Enissa Amani                      Ehrenwort   \n",
       "2             Ken Jeong            You Complete Me, Ho   \n",
       "3            Ray Romano  Right Here, Around The Corner   \n",
       "4      Gabriel Iglesias              One Show Fits All   \n",
       "5  Sebastian Maniscalco                    Stay Hungry   \n",
       "\n",
       "                                             summary  year  \\\n",
       "0  Live from Hamburg, Iranian-German comedian Eni...  2018   \n",
       "2  Filmed at the Ice House Comedy Club in Pasaden...  2019   \n",
       "3  Ray Romano cut his stand-up teeth at the Comed...  2019   \n",
       "4  In a new special from Houston, Gabriel \"Fluffy...  2019   \n",
       "5  Sebastian's captivating storytelling keeps the...  2019   \n",
       "\n",
       "                                          transcript  \\\n",
       "0  A NETFLIX ORIGINAL COMEDY SPECIAL\\nHey, what’s...   \n",
       "2  The Hangover… Community… Dr. Ken… Crazy Rich A...   \n",
       "3  It’s been 23 years since I did a comedy specia...   \n",
       "4  [crowd chanting] Fluffy! Fluffy! [Fluffy shout...   \n",
       "5  [instrumental music plays] ♪ All right ♪ [scre...   \n",
       "\n",
       "                                                link  len_transcript  \\\n",
       "0  https://scrapsfromtheloft.com/2019/02/19/eniss...           55660   \n",
       "2  https://scrapsfromtheloft.com/2019/02/17/ken-j...           46046   \n",
       "3  https://scrapsfromtheloft.com/2019/02/12/ray-r...           41464   \n",
       "4  https://scrapsfromtheloft.com/2019/01/30/gabri...           62291   \n",
       "5  https://scrapsfromtheloft.com/2019/01/29/sebas...           40766   \n",
       "\n",
       "                 dob  \n",
       "0               1981  \n",
       "2      July 13, 1969  \n",
       "3  December 21, 1957  \n",
       "4      July 15, 1976  \n",
       "5               1973  "
      ]
     },
     "execution_count": 29,
     "metadata": {},
     "output_type": "execute_result"
    }
   ],
   "source": [
    "df.head()"
   ]
  },
  {
   "cell_type": "markdown",
   "metadata": {},
   "source": [
    "## Check null values"
   ]
  },
  {
   "cell_type": "code",
   "execution_count": 30,
   "metadata": {},
   "outputs": [
    {
     "data": {
      "text/plain": [
       "name              0\n",
       "title             0\n",
       "summary           0\n",
       "year              0\n",
       "transcript        0\n",
       "link              0\n",
       "len_transcript    0\n",
       "dob               2\n",
       "dtype: int64"
      ]
     },
     "execution_count": 30,
     "metadata": {},
     "output_type": "execute_result"
    }
   ],
   "source": [
    "df.apply(lambda x: sum(x.isnull()))"
   ]
  },
  {
   "cell_type": "code",
   "execution_count": 31,
   "metadata": {},
   "outputs": [
    {
     "data": {
      "text/html": [
       "<div>\n",
       "<style scoped>\n",
       "    .dataframe tbody tr th:only-of-type {\n",
       "        vertical-align: middle;\n",
       "    }\n",
       "\n",
       "    .dataframe tbody tr th {\n",
       "        vertical-align: top;\n",
       "    }\n",
       "\n",
       "    .dataframe thead th {\n",
       "        text-align: right;\n",
       "    }\n",
       "</style>\n",
       "<table border=\"1\" class=\"dataframe\">\n",
       "  <thead>\n",
       "    <tr style=\"text-align: right;\">\n",
       "      <th></th>\n",
       "      <th>name</th>\n",
       "      <th>title</th>\n",
       "      <th>summary</th>\n",
       "      <th>year</th>\n",
       "      <th>transcript</th>\n",
       "      <th>link</th>\n",
       "      <th>len_transcript</th>\n",
       "      <th>dob</th>\n",
       "    </tr>\n",
       "  </thead>\n",
       "  <tbody>\n",
       "    <tr>\n",
       "      <th>44</th>\n",
       "      <td>Deray Davis</td>\n",
       "      <td>How To Act Black</td>\n",
       "      <td>Dynamic comic DeRay Davis hits the stage like ...</td>\n",
       "      <td>2017</td>\n",
       "      <td>[male announcer] ATL, get ready for the man of...</td>\n",
       "      <td>https://scrapsfromtheloft.com/2018/07/18/deray...</td>\n",
       "      <td>52546</td>\n",
       "      <td>None</td>\n",
       "    </tr>\n",
       "    <tr>\n",
       "      <th>147</th>\n",
       "      <td>Erik Griffin</td>\n",
       "      <td>The Ugly Truth</td>\n",
       "      <td>Erik Griffin’s performance at The Laugh Factor...</td>\n",
       "      <td>2017</td>\n",
       "      <td>Ladies and gentlemen, live from Laugh Factory ...</td>\n",
       "      <td>https://scrapsfromtheloft.com/2017/10/08/erik-...</td>\n",
       "      <td>37321</td>\n",
       "      <td>None</td>\n",
       "    </tr>\n",
       "  </tbody>\n",
       "</table>\n",
       "</div>"
      ],
      "text/plain": [
       "             name             title  \\\n",
       "44    Deray Davis  How To Act Black   \n",
       "147  Erik Griffin    The Ugly Truth   \n",
       "\n",
       "                                               summary  year  \\\n",
       "44   Dynamic comic DeRay Davis hits the stage like ...  2017   \n",
       "147  Erik Griffin’s performance at The Laugh Factor...  2017   \n",
       "\n",
       "                                            transcript  \\\n",
       "44   [male announcer] ATL, get ready for the man of...   \n",
       "147  Ladies and gentlemen, live from Laugh Factory ...   \n",
       "\n",
       "                                                  link  len_transcript   dob  \n",
       "44   https://scrapsfromtheloft.com/2018/07/18/deray...           52546  None  \n",
       "147  https://scrapsfromtheloft.com/2017/10/08/erik-...           37321  None  "
      ]
     },
     "execution_count": 31,
     "metadata": {},
     "output_type": "execute_result"
    }
   ],
   "source": [
    "df[df.isnull().any(axis=1)]"
   ]
  },
  {
   "cell_type": "code",
   "execution_count": 32,
   "metadata": {},
   "outputs": [],
   "source": [
    "# Deray Davis\n",
    "df.loc[44, 'dob'] = 'February 26, 1968'\n",
    "# Erik Griffin\n",
    "df.loc[147, 'dob'] = 'March 26, 1976'"
   ]
  },
  {
   "cell_type": "code",
   "execution_count": 33,
   "metadata": {},
   "outputs": [
    {
     "data": {
      "text/plain": [
       "name              0\n",
       "title             0\n",
       "summary           0\n",
       "year              0\n",
       "transcript        0\n",
       "link              0\n",
       "len_transcript    0\n",
       "dob               0\n",
       "dtype: int64"
      ]
     },
     "execution_count": 33,
     "metadata": {},
     "output_type": "execute_result"
    }
   ],
   "source": [
    "df.apply(lambda x: sum(x.isnull()))"
   ]
  },
  {
   "cell_type": "markdown",
   "metadata": {},
   "source": [
    "## Get sex value"
   ]
  },
  {
   "cell_type": "code",
   "execution_count": 34,
   "metadata": {},
   "outputs": [
    {
     "name": "stdout",
     "output_type": "stream",
     "text": [
      "CPU times: user 8.81 s, sys: 3.22 s, total: 12 s\n",
      "Wall time: 1min 58s\n"
     ]
    }
   ],
   "source": [
    "%%time\n",
    "df['sex'] = df.apply(get_sex_wiki_rx,axis=1)"
   ]
  },
  {
   "cell_type": "code",
   "execution_count": 35,
   "metadata": {},
   "outputs": [
    {
     "name": "stdout",
     "output_type": "stream",
     "text": [
      "<class 'pandas.core.frame.DataFrame'>\n",
      "Int64Index: 217 entries, 0 to 243\n",
      "Data columns (total 9 columns):\n",
      "name              217 non-null object\n",
      "title             217 non-null object\n",
      "summary           217 non-null object\n",
      "year              217 non-null int64\n",
      "transcript        217 non-null object\n",
      "link              217 non-null object\n",
      "len_transcript    217 non-null int64\n",
      "dob               217 non-null object\n",
      "sex               217 non-null object\n",
      "dtypes: int64(2), object(7)\n",
      "memory usage: 27.0+ KB\n"
     ]
    }
   ],
   "source": [
    "df.info()"
   ]
  },
  {
   "cell_type": "code",
   "execution_count": 37,
   "metadata": {},
   "outputs": [
    {
     "data": {
      "text/plain": [
       "Male      199\n",
       "Female     18\n",
       "Name: sex, dtype: int64"
      ]
     },
     "execution_count": 37,
     "metadata": {},
     "output_type": "execute_result"
    }
   ],
   "source": [
    "df.sex.value_counts(dropna=False)"
   ]
  },
  {
   "cell_type": "markdown",
   "metadata": {},
   "source": [
    "## Check null values"
   ]
  },
  {
   "cell_type": "code",
   "execution_count": 38,
   "metadata": {},
   "outputs": [
    {
     "data": {
      "text/plain": [
       "name              0\n",
       "title             0\n",
       "summary           0\n",
       "year              0\n",
       "transcript        0\n",
       "link              0\n",
       "len_transcript    0\n",
       "dob               0\n",
       "sex               0\n",
       "dtype: int64"
      ]
     },
     "execution_count": 38,
     "metadata": {},
     "output_type": "execute_result"
    }
   ],
   "source": [
    "df.apply(lambda x: sum(x.isnull()))"
   ]
  },
  {
   "cell_type": "code",
   "execution_count": 39,
   "metadata": {},
   "outputs": [
    {
     "data": {
      "text/html": [
       "<div>\n",
       "<style scoped>\n",
       "    .dataframe tbody tr th:only-of-type {\n",
       "        vertical-align: middle;\n",
       "    }\n",
       "\n",
       "    .dataframe tbody tr th {\n",
       "        vertical-align: top;\n",
       "    }\n",
       "\n",
       "    .dataframe thead th {\n",
       "        text-align: right;\n",
       "    }\n",
       "</style>\n",
       "<table border=\"1\" class=\"dataframe\">\n",
       "  <thead>\n",
       "    <tr style=\"text-align: right;\">\n",
       "      <th></th>\n",
       "      <th>name</th>\n",
       "      <th>title</th>\n",
       "      <th>summary</th>\n",
       "      <th>year</th>\n",
       "      <th>transcript</th>\n",
       "      <th>link</th>\n",
       "      <th>len_transcript</th>\n",
       "      <th>dob</th>\n",
       "      <th>sex</th>\n",
       "    </tr>\n",
       "  </thead>\n",
       "  <tbody>\n",
       "  </tbody>\n",
       "</table>\n",
       "</div>"
      ],
      "text/plain": [
       "Empty DataFrame\n",
       "Columns: [name, title, summary, year, transcript, link, len_transcript, dob, sex]\n",
       "Index: []"
      ]
     },
     "execution_count": 39,
     "metadata": {},
     "output_type": "execute_result"
    }
   ],
   "source": [
    "df[df.isnull().any(axis=1)]"
   ]
  },
  {
   "cell_type": "markdown",
   "metadata": {},
   "source": [
    "### Fix dob\n"
   ]
  },
  {
   "cell_type": "code",
   "execution_count": 40,
   "metadata": {},
   "outputs": [
    {
     "data": {
      "text/html": [
       "<div>\n",
       "<style scoped>\n",
       "    .dataframe tbody tr th:only-of-type {\n",
       "        vertical-align: middle;\n",
       "    }\n",
       "\n",
       "    .dataframe tbody tr th {\n",
       "        vertical-align: top;\n",
       "    }\n",
       "\n",
       "    .dataframe thead th {\n",
       "        text-align: right;\n",
       "    }\n",
       "</style>\n",
       "<table border=\"1\" class=\"dataframe\">\n",
       "  <thead>\n",
       "    <tr style=\"text-align: right;\">\n",
       "      <th></th>\n",
       "      <th>name</th>\n",
       "      <th>title</th>\n",
       "      <th>summary</th>\n",
       "      <th>year</th>\n",
       "      <th>transcript</th>\n",
       "      <th>link</th>\n",
       "      <th>len_transcript</th>\n",
       "      <th>dob</th>\n",
       "      <th>sex</th>\n",
       "    </tr>\n",
       "  </thead>\n",
       "  <tbody>\n",
       "  </tbody>\n",
       "</table>\n",
       "</div>"
      ],
      "text/plain": [
       "Empty DataFrame\n",
       "Columns: [name, title, summary, year, transcript, link, len_transcript, dob, sex]\n",
       "Index: []"
      ]
     },
     "execution_count": 40,
     "metadata": {},
     "output_type": "execute_result"
    }
   ],
   "source": [
    "df[df.isnull().any(axis=1)]"
   ]
  },
  {
   "cell_type": "code",
   "execution_count": 41,
   "metadata": {},
   "outputs": [
    {
     "data": {
      "text/html": [
       "<div>\n",
       "<style scoped>\n",
       "    .dataframe tbody tr th:only-of-type {\n",
       "        vertical-align: middle;\n",
       "    }\n",
       "\n",
       "    .dataframe tbody tr th {\n",
       "        vertical-align: top;\n",
       "    }\n",
       "\n",
       "    .dataframe thead th {\n",
       "        text-align: right;\n",
       "    }\n",
       "</style>\n",
       "<table border=\"1\" class=\"dataframe\">\n",
       "  <thead>\n",
       "    <tr style=\"text-align: right;\">\n",
       "      <th></th>\n",
       "      <th>name</th>\n",
       "      <th>title</th>\n",
       "      <th>summary</th>\n",
       "      <th>year</th>\n",
       "      <th>transcript</th>\n",
       "      <th>link</th>\n",
       "      <th>len_transcript</th>\n",
       "      <th>dob</th>\n",
       "      <th>sex</th>\n",
       "    </tr>\n",
       "  </thead>\n",
       "  <tbody>\n",
       "    <tr>\n",
       "      <th>0</th>\n",
       "      <td>Enissa Amani</td>\n",
       "      <td>Ehrenwort</td>\n",
       "      <td>Live from Hamburg, Iranian-German comedian Eni...</td>\n",
       "      <td>2018</td>\n",
       "      <td>A NETFLIX ORIGINAL COMEDY SPECIAL\\nHey, what’s...</td>\n",
       "      <td>https://scrapsfromtheloft.com/2019/02/19/eniss...</td>\n",
       "      <td>55660</td>\n",
       "      <td>1981</td>\n",
       "      <td>Male</td>\n",
       "    </tr>\n",
       "    <tr>\n",
       "      <th>2</th>\n",
       "      <td>Ken Jeong</td>\n",
       "      <td>You Complete Me, Ho</td>\n",
       "      <td>Filmed at the Ice House Comedy Club in Pasaden...</td>\n",
       "      <td>2019</td>\n",
       "      <td>The Hangover… Community… Dr. Ken… Crazy Rich A...</td>\n",
       "      <td>https://scrapsfromtheloft.com/2019/02/17/ken-j...</td>\n",
       "      <td>46046</td>\n",
       "      <td>July 13, 1969</td>\n",
       "      <td>Male</td>\n",
       "    </tr>\n",
       "    <tr>\n",
       "      <th>3</th>\n",
       "      <td>Ray Romano</td>\n",
       "      <td>Right Here, Around The Corner</td>\n",
       "      <td>Ray Romano cut his stand-up teeth at the Comed...</td>\n",
       "      <td>2019</td>\n",
       "      <td>It’s been 23 years since I did a comedy specia...</td>\n",
       "      <td>https://scrapsfromtheloft.com/2019/02/12/ray-r...</td>\n",
       "      <td>41464</td>\n",
       "      <td>December 21, 1957</td>\n",
       "      <td>Male</td>\n",
       "    </tr>\n",
       "    <tr>\n",
       "      <th>4</th>\n",
       "      <td>Gabriel Iglesias</td>\n",
       "      <td>One Show Fits All</td>\n",
       "      <td>In a new special from Houston, Gabriel \"Fluffy...</td>\n",
       "      <td>2019</td>\n",
       "      <td>[crowd chanting] Fluffy! Fluffy! [Fluffy shout...</td>\n",
       "      <td>https://scrapsfromtheloft.com/2019/01/30/gabri...</td>\n",
       "      <td>62291</td>\n",
       "      <td>July 15, 1976</td>\n",
       "      <td>Male</td>\n",
       "    </tr>\n",
       "    <tr>\n",
       "      <th>5</th>\n",
       "      <td>Sebastian Maniscalco</td>\n",
       "      <td>Stay Hungry</td>\n",
       "      <td>Sebastian's captivating storytelling keeps the...</td>\n",
       "      <td>2019</td>\n",
       "      <td>[instrumental music plays] ♪ All right ♪ [scre...</td>\n",
       "      <td>https://scrapsfromtheloft.com/2019/01/29/sebas...</td>\n",
       "      <td>40766</td>\n",
       "      <td>1973</td>\n",
       "      <td>Male</td>\n",
       "    </tr>\n",
       "  </tbody>\n",
       "</table>\n",
       "</div>"
      ],
      "text/plain": [
       "                   name                          title  \\\n",
       "0          Enissa Amani                      Ehrenwort   \n",
       "2             Ken Jeong            You Complete Me, Ho   \n",
       "3            Ray Romano  Right Here, Around The Corner   \n",
       "4      Gabriel Iglesias              One Show Fits All   \n",
       "5  Sebastian Maniscalco                    Stay Hungry   \n",
       "\n",
       "                                             summary  year  \\\n",
       "0  Live from Hamburg, Iranian-German comedian Eni...  2018   \n",
       "2  Filmed at the Ice House Comedy Club in Pasaden...  2019   \n",
       "3  Ray Romano cut his stand-up teeth at the Comed...  2019   \n",
       "4  In a new special from Houston, Gabriel \"Fluffy...  2019   \n",
       "5  Sebastian's captivating storytelling keeps the...  2019   \n",
       "\n",
       "                                          transcript  \\\n",
       "0  A NETFLIX ORIGINAL COMEDY SPECIAL\\nHey, what’s...   \n",
       "2  The Hangover… Community… Dr. Ken… Crazy Rich A...   \n",
       "3  It’s been 23 years since I did a comedy specia...   \n",
       "4  [crowd chanting] Fluffy! Fluffy! [Fluffy shout...   \n",
       "5  [instrumental music plays] ♪ All right ♪ [scre...   \n",
       "\n",
       "                                                link  len_transcript  \\\n",
       "0  https://scrapsfromtheloft.com/2019/02/19/eniss...           55660   \n",
       "2  https://scrapsfromtheloft.com/2019/02/17/ken-j...           46046   \n",
       "3  https://scrapsfromtheloft.com/2019/02/12/ray-r...           41464   \n",
       "4  https://scrapsfromtheloft.com/2019/01/30/gabri...           62291   \n",
       "5  https://scrapsfromtheloft.com/2019/01/29/sebas...           40766   \n",
       "\n",
       "                 dob   sex  \n",
       "0               1981  Male  \n",
       "2      July 13, 1969  Male  \n",
       "3  December 21, 1957  Male  \n",
       "4      July 15, 1976  Male  \n",
       "5               1973  Male  "
      ]
     },
     "execution_count": 41,
     "metadata": {},
     "output_type": "execute_result"
    }
   ],
   "source": [
    "df.head()"
   ]
  },
  {
   "cell_type": "code",
   "execution_count": 42,
   "metadata": {},
   "outputs": [],
   "source": [
    "# change to datetime\n",
    "df.dob = pd.to_datetime(df.dob)"
   ]
  },
  {
   "cell_type": "code",
   "execution_count": 43,
   "metadata": {},
   "outputs": [
    {
     "data": {
      "text/plain": [
       "<matplotlib.axes._subplots.AxesSubplot at 0x7f9b59a86710>"
      ]
     },
     "execution_count": 43,
     "metadata": {},
     "output_type": "execute_result"
    },
    {
     "data": {
      "image/png": "[encoded data removed]",
      "text/plain": [
       "<Figure size 770.4x307.44 with 1 Axes>"
      ]
     },
     "metadata": {},
     "output_type": "display_data"
    }
   ],
   "source": [
    "sns.distplot(df.dob.dt.year)"
   ]
  },
  {
   "cell_type": "markdown",
   "metadata": {},
   "source": [
    "## Check who was born after 1990's"
   ]
  },
  {
   "cell_type": "code",
   "execution_count": 44,
   "metadata": {},
   "outputs": [],
   "source": [
    "yr_filter = df.dob.dt.year> 1990"
   ]
  },
  {
   "cell_type": "code",
   "execution_count": 45,
   "metadata": {},
   "outputs": [
    {
     "data": {
      "text/html": [
       "<div>\n",
       "<style scoped>\n",
       "    .dataframe tbody tr th:only-of-type {\n",
       "        vertical-align: middle;\n",
       "    }\n",
       "\n",
       "    .dataframe tbody tr th {\n",
       "        vertical-align: top;\n",
       "    }\n",
       "\n",
       "    .dataframe thead th {\n",
       "        text-align: right;\n",
       "    }\n",
       "</style>\n",
       "<table border=\"1\" class=\"dataframe\">\n",
       "  <thead>\n",
       "    <tr style=\"text-align: right;\">\n",
       "      <th></th>\n",
       "      <th>name</th>\n",
       "      <th>title</th>\n",
       "      <th>summary</th>\n",
       "      <th>year</th>\n",
       "      <th>transcript</th>\n",
       "      <th>link</th>\n",
       "      <th>len_transcript</th>\n",
       "      <th>dob</th>\n",
       "      <th>sex</th>\n",
       "    </tr>\n",
       "  </thead>\n",
       "  <tbody>\n",
       "    <tr>\n",
       "      <th>11</th>\n",
       "      <td>Vir Das</td>\n",
       "      <td>Losing It</td>\n",
       "      <td>The world's got a lot of problems, but Vir Das...</td>\n",
       "      <td>2018</td>\n",
       "      <td>I lost 80% of my mind. It’s very freeing. You ...</td>\n",
       "      <td>https://scrapsfromtheloft.com/2018/12/15/vir-d...</td>\n",
       "      <td>42632</td>\n",
       "      <td>2017-01-01</td>\n",
       "      <td>Male</td>\n",
       "    </tr>\n",
       "    <tr>\n",
       "      <th>33</th>\n",
       "      <td>Bert Kreischer</td>\n",
       "      <td>Secret Time</td>\n",
       "      <td>Bert regales the audience at the Trocadero The...</td>\n",
       "      <td>2018</td>\n",
       "      <td>[applause] [male presenter] Ladies and gentlem...</td>\n",
       "      <td>https://scrapsfromtheloft.com/2018/08/25/bert-...</td>\n",
       "      <td>45515</td>\n",
       "      <td>1997-01-01</td>\n",
       "      <td>Male</td>\n",
       "    </tr>\n",
       "    <tr>\n",
       "      <th>67</th>\n",
       "      <td>Adel Karam</td>\n",
       "      <td>Live From Beirut</td>\n",
       "      <td>Adel Karam goes back to his hometown to appear...</td>\n",
       "      <td>2018</td>\n",
       "      <td>A NETFLIX COMEDY SPECIAL\\nRecorded at the Casi...</td>\n",
       "      <td>https://scrapsfromtheloft.com/2018/03/12/adel-...</td>\n",
       "      <td>35384</td>\n",
       "      <td>2017-01-01</td>\n",
       "      <td>Male</td>\n",
       "    </tr>\n",
       "  </tbody>\n",
       "</table>\n",
       "</div>"
      ],
      "text/plain": [
       "              name             title  \\\n",
       "11         Vir Das         Losing It   \n",
       "33  Bert Kreischer       Secret Time   \n",
       "67      Adel Karam  Live From Beirut   \n",
       "\n",
       "                                              summary  year  \\\n",
       "11  The world's got a lot of problems, but Vir Das...  2018   \n",
       "33  Bert regales the audience at the Trocadero The...  2018   \n",
       "67  Adel Karam goes back to his hometown to appear...  2018   \n",
       "\n",
       "                                           transcript  \\\n",
       "11  I lost 80% of my mind. It’s very freeing. You ...   \n",
       "33  [applause] [male presenter] Ladies and gentlem...   \n",
       "67  A NETFLIX COMEDY SPECIAL\\nRecorded at the Casi...   \n",
       "\n",
       "                                                 link  len_transcript  \\\n",
       "11  https://scrapsfromtheloft.com/2018/12/15/vir-d...           42632   \n",
       "33  https://scrapsfromtheloft.com/2018/08/25/bert-...           45515   \n",
       "67  https://scrapsfromtheloft.com/2018/03/12/adel-...           35384   \n",
       "\n",
       "          dob   sex  \n",
       "11 2017-01-01  Male  \n",
       "33 1997-01-01  Male  \n",
       "67 2017-01-01  Male  "
      ]
     },
     "execution_count": 45,
     "metadata": {},
     "output_type": "execute_result"
    }
   ],
   "source": [
    "df[yr_filter]"
   ]
  },
  {
   "cell_type": "markdown",
   "metadata": {},
   "source": [
    "## Fix it"
   ]
  },
  {
   "cell_type": "code",
   "execution_count": 46,
   "metadata": {},
   "outputs": [],
   "source": [
    "# Vir Das\t\n",
    "# May 31, 1979\n",
    "df.loc[11, 'dob'] = 'May 31, 1979'\n",
    "\n",
    "# Adel Karam\n",
    "# August 20, 1972\n",
    "df.loc[67, 'dob'] = 'August 20, 1972'"
   ]
  },
  {
   "cell_type": "code",
   "execution_count": 47,
   "metadata": {},
   "outputs": [
    {
     "data": {
      "text/html": [
       "<div>\n",
       "<style scoped>\n",
       "    .dataframe tbody tr th:only-of-type {\n",
       "        vertical-align: middle;\n",
       "    }\n",
       "\n",
       "    .dataframe tbody tr th {\n",
       "        vertical-align: top;\n",
       "    }\n",
       "\n",
       "    .dataframe thead th {\n",
       "        text-align: right;\n",
       "    }\n",
       "</style>\n",
       "<table border=\"1\" class=\"dataframe\">\n",
       "  <thead>\n",
       "    <tr style=\"text-align: right;\">\n",
       "      <th></th>\n",
       "      <th>name</th>\n",
       "      <th>title</th>\n",
       "      <th>summary</th>\n",
       "      <th>year</th>\n",
       "      <th>transcript</th>\n",
       "      <th>link</th>\n",
       "      <th>len_transcript</th>\n",
       "      <th>dob</th>\n",
       "      <th>sex</th>\n",
       "    </tr>\n",
       "  </thead>\n",
       "  <tbody>\n",
       "    <tr>\n",
       "      <th>11</th>\n",
       "      <td>Vir Das</td>\n",
       "      <td>Losing It</td>\n",
       "      <td>The world's got a lot of problems, but Vir Das...</td>\n",
       "      <td>2018</td>\n",
       "      <td>I lost 80% of my mind. It’s very freeing. You ...</td>\n",
       "      <td>https://scrapsfromtheloft.com/2018/12/15/vir-d...</td>\n",
       "      <td>42632</td>\n",
       "      <td>May 31, 1979</td>\n",
       "      <td>Male</td>\n",
       "    </tr>\n",
       "    <tr>\n",
       "      <th>33</th>\n",
       "      <td>Bert Kreischer</td>\n",
       "      <td>Secret Time</td>\n",
       "      <td>Bert regales the audience at the Trocadero The...</td>\n",
       "      <td>2018</td>\n",
       "      <td>[applause] [male presenter] Ladies and gentlem...</td>\n",
       "      <td>https://scrapsfromtheloft.com/2018/08/25/bert-...</td>\n",
       "      <td>45515</td>\n",
       "      <td>1997-01-01 00:00:00</td>\n",
       "      <td>Male</td>\n",
       "    </tr>\n",
       "    <tr>\n",
       "      <th>67</th>\n",
       "      <td>Adel Karam</td>\n",
       "      <td>Live From Beirut</td>\n",
       "      <td>Adel Karam goes back to his hometown to appear...</td>\n",
       "      <td>2018</td>\n",
       "      <td>A NETFLIX COMEDY SPECIAL\\nRecorded at the Casi...</td>\n",
       "      <td>https://scrapsfromtheloft.com/2018/03/12/adel-...</td>\n",
       "      <td>35384</td>\n",
       "      <td>August 20, 1972</td>\n",
       "      <td>Male</td>\n",
       "    </tr>\n",
       "  </tbody>\n",
       "</table>\n",
       "</div>"
      ],
      "text/plain": [
       "              name             title  \\\n",
       "11         Vir Das         Losing It   \n",
       "33  Bert Kreischer       Secret Time   \n",
       "67      Adel Karam  Live From Beirut   \n",
       "\n",
       "                                              summary  year  \\\n",
       "11  The world's got a lot of problems, but Vir Das...  2018   \n",
       "33  Bert regales the audience at the Trocadero The...  2018   \n",
       "67  Adel Karam goes back to his hometown to appear...  2018   \n",
       "\n",
       "                                           transcript  \\\n",
       "11  I lost 80% of my mind. It’s very freeing. You ...   \n",
       "33  [applause] [male presenter] Ladies and gentlem...   \n",
       "67  A NETFLIX COMEDY SPECIAL\\nRecorded at the Casi...   \n",
       "\n",
       "                                                 link  len_transcript  \\\n",
       "11  https://scrapsfromtheloft.com/2018/12/15/vir-d...           42632   \n",
       "33  https://scrapsfromtheloft.com/2018/08/25/bert-...           45515   \n",
       "67  https://scrapsfromtheloft.com/2018/03/12/adel-...           35384   \n",
       "\n",
       "                    dob   sex  \n",
       "11         May 31, 1979  Male  \n",
       "33  1997-01-01 00:00:00  Male  \n",
       "67      August 20, 1972  Male  "
      ]
     },
     "execution_count": 47,
     "metadata": {},
     "output_type": "execute_result"
    }
   ],
   "source": [
    "df[yr_filter]"
   ]
  },
  {
   "cell_type": "code",
   "execution_count": 48,
   "metadata": {},
   "outputs": [],
   "source": [
    "# change dob againt to datetime\n",
    "df.dob = pd.to_datetime(df.dob)"
   ]
  },
  {
   "cell_type": "code",
   "execution_count": 49,
   "metadata": {},
   "outputs": [
    {
     "data": {
      "text/plain": [
       "<matplotlib.axes._subplots.AxesSubplot at 0x7f9b59a77e80>"
      ]
     },
     "execution_count": 49,
     "metadata": {},
     "output_type": "execute_result"
    },
    {
     "data": {
      "image/png": "[encoded data removed]",
      "text/plain": [
       "<Figure size 770.4x307.44 with 1 Axes>"
      ]
     },
     "metadata": {},
     "output_type": "display_data"
    }
   ],
   "source": [
    "sns.distplot(df.dob.dt.year)"
   ]
  },
  {
   "cell_type": "markdown",
   "metadata": {},
   "source": [
    "## Find age when special was recorded"
   ]
  },
  {
   "cell_type": "code",
   "execution_count": 50,
   "metadata": {},
   "outputs": [
    {
     "name": "stdout",
     "output_type": "stream",
     "text": [
      "<class 'pandas.core.frame.DataFrame'>\n",
      "Int64Index: 217 entries, 0 to 243\n",
      "Data columns (total 9 columns):\n",
      "name              217 non-null object\n",
      "title             217 non-null object\n",
      "summary           217 non-null object\n",
      "year              217 non-null int64\n",
      "transcript        217 non-null object\n",
      "link              217 non-null object\n",
      "len_transcript    217 non-null int64\n",
      "dob               217 non-null datetime64[ns]\n",
      "sex               217 non-null object\n",
      "dtypes: datetime64[ns](1), int64(2), object(6)\n",
      "memory usage: 27.0+ KB\n"
     ]
    }
   ],
   "source": [
    "df.info()"
   ]
  },
  {
   "cell_type": "code",
   "execution_count": 51,
   "metadata": {},
   "outputs": [
    {
     "data": {
      "text/plain": [
       "<matplotlib.axes._subplots.AxesSubplot at 0x7f9b599f9860>"
      ]
     },
     "execution_count": 51,
     "metadata": {},
     "output_type": "execute_result"
    },
    {
     "data": {
      "image/png": "[encoded data removed]",
      "text/plain": [
       "<Figure size 770.4x307.44 with 1 Axes>"
      ]
     },
     "metadata": {},
     "output_type": "display_data"
    }
   ],
   "source": [
    "sns.distplot(df.dob.dt.year)"
   ]
  },
  {
   "cell_type": "code",
   "execution_count": 52,
   "metadata": {},
   "outputs": [],
   "source": [
    "df['age_when_recorded'] = df.year - df.dob.dt.year"
   ]
  },
  {
   "cell_type": "code",
   "execution_count": 53,
   "metadata": {},
   "outputs": [
    {
     "data": {
      "text/html": [
       "<div>\n",
       "<style scoped>\n",
       "    .dataframe tbody tr th:only-of-type {\n",
       "        vertical-align: middle;\n",
       "    }\n",
       "\n",
       "    .dataframe tbody tr th {\n",
       "        vertical-align: top;\n",
       "    }\n",
       "\n",
       "    .dataframe thead th {\n",
       "        text-align: right;\n",
       "    }\n",
       "</style>\n",
       "<table border=\"1\" class=\"dataframe\">\n",
       "  <thead>\n",
       "    <tr style=\"text-align: right;\">\n",
       "      <th></th>\n",
       "      <th>name</th>\n",
       "      <th>title</th>\n",
       "      <th>summary</th>\n",
       "      <th>year</th>\n",
       "      <th>transcript</th>\n",
       "      <th>link</th>\n",
       "      <th>len_transcript</th>\n",
       "      <th>dob</th>\n",
       "      <th>sex</th>\n",
       "      <th>age_when_recorded</th>\n",
       "    </tr>\n",
       "  </thead>\n",
       "  <tbody>\n",
       "    <tr>\n",
       "      <th>0</th>\n",
       "      <td>Enissa Amani</td>\n",
       "      <td>Ehrenwort</td>\n",
       "      <td>Live from Hamburg, Iranian-German comedian Eni...</td>\n",
       "      <td>2018</td>\n",
       "      <td>A NETFLIX ORIGINAL COMEDY SPECIAL\\nHey, what’s...</td>\n",
       "      <td>https://scrapsfromtheloft.com/2019/02/19/eniss...</td>\n",
       "      <td>55660</td>\n",
       "      <td>1981-01-01</td>\n",
       "      <td>Male</td>\n",
       "      <td>37</td>\n",
       "    </tr>\n",
       "    <tr>\n",
       "      <th>2</th>\n",
       "      <td>Ken Jeong</td>\n",
       "      <td>You Complete Me, Ho</td>\n",
       "      <td>Filmed at the Ice House Comedy Club in Pasaden...</td>\n",
       "      <td>2019</td>\n",
       "      <td>The Hangover… Community… Dr. Ken… Crazy Rich A...</td>\n",
       "      <td>https://scrapsfromtheloft.com/2019/02/17/ken-j...</td>\n",
       "      <td>46046</td>\n",
       "      <td>1969-07-13</td>\n",
       "      <td>Male</td>\n",
       "      <td>50</td>\n",
       "    </tr>\n",
       "    <tr>\n",
       "      <th>3</th>\n",
       "      <td>Ray Romano</td>\n",
       "      <td>Right Here, Around The Corner</td>\n",
       "      <td>Ray Romano cut his stand-up teeth at the Comed...</td>\n",
       "      <td>2019</td>\n",
       "      <td>It’s been 23 years since I did a comedy specia...</td>\n",
       "      <td>https://scrapsfromtheloft.com/2019/02/12/ray-r...</td>\n",
       "      <td>41464</td>\n",
       "      <td>1957-12-21</td>\n",
       "      <td>Male</td>\n",
       "      <td>62</td>\n",
       "    </tr>\n",
       "    <tr>\n",
       "      <th>4</th>\n",
       "      <td>Gabriel Iglesias</td>\n",
       "      <td>One Show Fits All</td>\n",
       "      <td>In a new special from Houston, Gabriel \"Fluffy...</td>\n",
       "      <td>2019</td>\n",
       "      <td>[crowd chanting] Fluffy! Fluffy! [Fluffy shout...</td>\n",
       "      <td>https://scrapsfromtheloft.com/2019/01/30/gabri...</td>\n",
       "      <td>62291</td>\n",
       "      <td>1976-07-15</td>\n",
       "      <td>Male</td>\n",
       "      <td>43</td>\n",
       "    </tr>\n",
       "    <tr>\n",
       "      <th>5</th>\n",
       "      <td>Sebastian Maniscalco</td>\n",
       "      <td>Stay Hungry</td>\n",
       "      <td>Sebastian's captivating storytelling keeps the...</td>\n",
       "      <td>2019</td>\n",
       "      <td>[instrumental music plays] ♪ All right ♪ [scre...</td>\n",
       "      <td>https://scrapsfromtheloft.com/2019/01/29/sebas...</td>\n",
       "      <td>40766</td>\n",
       "      <td>1973-01-01</td>\n",
       "      <td>Male</td>\n",
       "      <td>46</td>\n",
       "    </tr>\n",
       "  </tbody>\n",
       "</table>\n",
       "</div>"
      ],
      "text/plain": [
       "                   name                          title  \\\n",
       "0          Enissa Amani                      Ehrenwort   \n",
       "2             Ken Jeong            You Complete Me, Ho   \n",
       "3            Ray Romano  Right Here, Around The Corner   \n",
       "4      Gabriel Iglesias              One Show Fits All   \n",
       "5  Sebastian Maniscalco                    Stay Hungry   \n",
       "\n",
       "                                             summary  year  \\\n",
       "0  Live from Hamburg, Iranian-German comedian Eni...  2018   \n",
       "2  Filmed at the Ice House Comedy Club in Pasaden...  2019   \n",
       "3  Ray Romano cut his stand-up teeth at the Comed...  2019   \n",
       "4  In a new special from Houston, Gabriel \"Fluffy...  2019   \n",
       "5  Sebastian's captivating storytelling keeps the...  2019   \n",
       "\n",
       "                                          transcript  \\\n",
       "0  A NETFLIX ORIGINAL COMEDY SPECIAL\\nHey, what’s...   \n",
       "2  The Hangover… Community… Dr. Ken… Crazy Rich A...   \n",
       "3  It’s been 23 years since I did a comedy specia...   \n",
       "4  [crowd chanting] Fluffy! Fluffy! [Fluffy shout...   \n",
       "5  [instrumental music plays] ♪ All right ♪ [scre...   \n",
       "\n",
       "                                                link  len_transcript  \\\n",
       "0  https://scrapsfromtheloft.com/2019/02/19/eniss...           55660   \n",
       "2  https://scrapsfromtheloft.com/2019/02/17/ken-j...           46046   \n",
       "3  https://scrapsfromtheloft.com/2019/02/12/ray-r...           41464   \n",
       "4  https://scrapsfromtheloft.com/2019/01/30/gabri...           62291   \n",
       "5  https://scrapsfromtheloft.com/2019/01/29/sebas...           40766   \n",
       "\n",
       "         dob   sex  age_when_recorded  \n",
       "0 1981-01-01  Male                 37  \n",
       "2 1969-07-13  Male                 50  \n",
       "3 1957-12-21  Male                 62  \n",
       "4 1976-07-15  Male                 43  \n",
       "5 1973-01-01  Male                 46  "
      ]
     },
     "execution_count": 53,
     "metadata": {},
     "output_type": "execute_result"
    }
   ],
   "source": [
    "df.head()"
   ]
  },
  {
   "cell_type": "code",
   "execution_count": 54,
   "metadata": {},
   "outputs": [
    {
     "data": {
      "text/plain": [
       "<matplotlib.axes._subplots.AxesSubplot at 0x7f9b5996e400>"
      ]
     },
     "execution_count": 54,
     "metadata": {},
     "output_type": "execute_result"
    },
    {
     "data": {
      "image/png": "[encoded data removed]",
      "text/plain": [
       "<Figure size 770.4x307.44 with 1 Axes>"
      ]
     },
     "metadata": {},
     "output_type": "display_data"
    }
   ],
   "source": [
    "sns.distplot(df.age_when_recorded)"
   ]
  },
  {
   "cell_type": "code",
   "execution_count": 55,
   "metadata": {},
   "outputs": [
    {
     "data": {
      "text/html": [
       "<div>\n",
       "<style scoped>\n",
       "    .dataframe tbody tr th:only-of-type {\n",
       "        vertical-align: middle;\n",
       "    }\n",
       "\n",
       "    .dataframe tbody tr th {\n",
       "        vertical-align: top;\n",
       "    }\n",
       "\n",
       "    .dataframe thead th {\n",
       "        text-align: right;\n",
       "    }\n",
       "</style>\n",
       "<table border=\"1\" class=\"dataframe\">\n",
       "  <thead>\n",
       "    <tr style=\"text-align: right;\">\n",
       "      <th></th>\n",
       "      <th>name</th>\n",
       "      <th>title</th>\n",
       "      <th>summary</th>\n",
       "      <th>year</th>\n",
       "      <th>transcript</th>\n",
       "      <th>link</th>\n",
       "      <th>len_transcript</th>\n",
       "      <th>dob</th>\n",
       "      <th>sex</th>\n",
       "      <th>age_when_recorded</th>\n",
       "    </tr>\n",
       "  </thead>\n",
       "  <tbody>\n",
       "    <tr>\n",
       "      <th>0</th>\n",
       "      <td>Enissa Amani</td>\n",
       "      <td>Ehrenwort</td>\n",
       "      <td>Live from Hamburg, Iranian-German comedian Eni...</td>\n",
       "      <td>2018</td>\n",
       "      <td>A NETFLIX ORIGINAL COMEDY SPECIAL\\nHey, what’s...</td>\n",
       "      <td>https://scrapsfromtheloft.com/2019/02/19/eniss...</td>\n",
       "      <td>55660</td>\n",
       "      <td>1981-01-01</td>\n",
       "      <td>Male</td>\n",
       "      <td>37</td>\n",
       "    </tr>\n",
       "    <tr>\n",
       "      <th>2</th>\n",
       "      <td>Ken Jeong</td>\n",
       "      <td>You Complete Me, Ho</td>\n",
       "      <td>Filmed at the Ice House Comedy Club in Pasaden...</td>\n",
       "      <td>2019</td>\n",
       "      <td>The Hangover… Community… Dr. Ken… Crazy Rich A...</td>\n",
       "      <td>https://scrapsfromtheloft.com/2019/02/17/ken-j...</td>\n",
       "      <td>46046</td>\n",
       "      <td>1969-07-13</td>\n",
       "      <td>Male</td>\n",
       "      <td>50</td>\n",
       "    </tr>\n",
       "    <tr>\n",
       "      <th>3</th>\n",
       "      <td>Ray Romano</td>\n",
       "      <td>Right Here, Around The Corner</td>\n",
       "      <td>Ray Romano cut his stand-up teeth at the Comed...</td>\n",
       "      <td>2019</td>\n",
       "      <td>It’s been 23 years since I did a comedy specia...</td>\n",
       "      <td>https://scrapsfromtheloft.com/2019/02/12/ray-r...</td>\n",
       "      <td>41464</td>\n",
       "      <td>1957-12-21</td>\n",
       "      <td>Male</td>\n",
       "      <td>62</td>\n",
       "    </tr>\n",
       "    <tr>\n",
       "      <th>4</th>\n",
       "      <td>Gabriel Iglesias</td>\n",
       "      <td>One Show Fits All</td>\n",
       "      <td>In a new special from Houston, Gabriel \"Fluffy...</td>\n",
       "      <td>2019</td>\n",
       "      <td>[crowd chanting] Fluffy! Fluffy! [Fluffy shout...</td>\n",
       "      <td>https://scrapsfromtheloft.com/2019/01/30/gabri...</td>\n",
       "      <td>62291</td>\n",
       "      <td>1976-07-15</td>\n",
       "      <td>Male</td>\n",
       "      <td>43</td>\n",
       "    </tr>\n",
       "    <tr>\n",
       "      <th>5</th>\n",
       "      <td>Sebastian Maniscalco</td>\n",
       "      <td>Stay Hungry</td>\n",
       "      <td>Sebastian's captivating storytelling keeps the...</td>\n",
       "      <td>2019</td>\n",
       "      <td>[instrumental music plays] ♪ All right ♪ [scre...</td>\n",
       "      <td>https://scrapsfromtheloft.com/2019/01/29/sebas...</td>\n",
       "      <td>40766</td>\n",
       "      <td>1973-01-01</td>\n",
       "      <td>Male</td>\n",
       "      <td>46</td>\n",
       "    </tr>\n",
       "  </tbody>\n",
       "</table>\n",
       "</div>"
      ],
      "text/plain": [
       "                   name                          title  \\\n",
       "0          Enissa Amani                      Ehrenwort   \n",
       "2             Ken Jeong            You Complete Me, Ho   \n",
       "3            Ray Romano  Right Here, Around The Corner   \n",
       "4      Gabriel Iglesias              One Show Fits All   \n",
       "5  Sebastian Maniscalco                    Stay Hungry   \n",
       "\n",
       "                                             summary  year  \\\n",
       "0  Live from Hamburg, Iranian-German comedian Eni...  2018   \n",
       "2  Filmed at the Ice House Comedy Club in Pasaden...  2019   \n",
       "3  Ray Romano cut his stand-up teeth at the Comed...  2019   \n",
       "4  In a new special from Houston, Gabriel \"Fluffy...  2019   \n",
       "5  Sebastian's captivating storytelling keeps the...  2019   \n",
       "\n",
       "                                          transcript  \\\n",
       "0  A NETFLIX ORIGINAL COMEDY SPECIAL\\nHey, what’s...   \n",
       "2  The Hangover… Community… Dr. Ken… Crazy Rich A...   \n",
       "3  It’s been 23 years since I did a comedy specia...   \n",
       "4  [crowd chanting] Fluffy! Fluffy! [Fluffy shout...   \n",
       "5  [instrumental music plays] ♪ All right ♪ [scre...   \n",
       "\n",
       "                                                link  len_transcript  \\\n",
       "0  https://scrapsfromtheloft.com/2019/02/19/eniss...           55660   \n",
       "2  https://scrapsfromtheloft.com/2019/02/17/ken-j...           46046   \n",
       "3  https://scrapsfromtheloft.com/2019/02/12/ray-r...           41464   \n",
       "4  https://scrapsfromtheloft.com/2019/01/30/gabri...           62291   \n",
       "5  https://scrapsfromtheloft.com/2019/01/29/sebas...           40766   \n",
       "\n",
       "         dob   sex  age_when_recorded  \n",
       "0 1981-01-01  Male                 37  \n",
       "2 1969-07-13  Male                 50  \n",
       "3 1957-12-21  Male                 62  \n",
       "4 1976-07-15  Male                 43  \n",
       "5 1973-01-01  Male                 46  "
      ]
     },
     "execution_count": 55,
     "metadata": {},
     "output_type": "execute_result"
    }
   ],
   "source": [
    "df.head()"
   ]
  },
  {
   "cell_type": "code",
   "execution_count": null,
   "metadata": {},
   "outputs": [],
   "source": []
  },
  {
   "cell_type": "markdown",
   "metadata": {},
   "source": [
    "## Save"
   ]
  },
  {
   "cell_type": "code",
   "execution_count": 57,
   "metadata": {},
   "outputs": [],
   "source": [
    "# raw_data\n",
    "file = '05_clean_data.csv'\n",
    "data_directory = os.path.join( '..','data','raw_data/{}'.format(file))"
   ]
  },
  {
   "cell_type": "code",
   "execution_count": 58,
   "metadata": {},
   "outputs": [],
   "source": [
    "df.to_csv(data_directory,index=False)"
   ]
  },
  {
   "cell_type": "code",
   "execution_count": null,
   "metadata": {},
   "outputs": [],
   "source": []
  }
 ],
 "metadata": {
  "kernelspec": {
   "display_name": "Python 3",
   "language": "python",
   "name": "python3"
  },
  "language_info": {
   "codemirror_mode": {
    "name": "ipython",
    "version": 3
   },
   "file_extension": ".py",
   "mimetype": "text/x-python",
   "name": "python",
   "nbconvert_exporter": "python",
   "pygments_lexer": "ipython3",
   "version": "3.7.2"
  }
 },
 "nbformat": 4,
 "nbformat_minor": 2
}
