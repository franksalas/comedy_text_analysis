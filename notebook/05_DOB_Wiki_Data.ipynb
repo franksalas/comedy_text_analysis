{
 "cells": [
  {
   "cell_type": "code",
   "execution_count": null,
   "metadata": {},
   "outputs": [],
   "source": []
  },
  {
   "cell_type": "code",
   "execution_count": 1,
   "metadata": {},
   "outputs": [],
   "source": [
    "import wikipedia as wk\n",
    "import re\n",
    "from IPython.core.display import clear_output"
   ]
  },
  {
   "cell_type": "code",
   "execution_count": 2,
   "metadata": {},
   "outputs": [],
   "source": [
    "import pandas as pd\n",
    "import numpy as np\n",
    "import seaborn as sns\n",
    "import matplotlib.pyplot as plt\n",
    "import os\n",
    "import re\n",
    "plt.style.use('ggplot')"
   ]
  },
  {
   "cell_type": "markdown",
   "metadata": {},
   "source": [
    "## Load dataframe"
   ]
  },
  {
   "cell_type": "code",
   "execution_count": 3,
   "metadata": {},
   "outputs": [],
   "source": [
    "# raw_data\n",
    "file = '04_clean_data.csv'\n",
    "data_directory = os.path.join( '..','data','raw_data/{}'.format(file))"
   ]
  },
  {
   "cell_type": "code",
   "execution_count": 4,
   "metadata": {},
   "outputs": [],
   "source": [
    "df= pd.read_csv(data_directory)"
   ]
  },
  {
   "cell_type": "code",
   "execution_count": 5,
   "metadata": {},
   "outputs": [
    {
     "name": "stdout",
     "output_type": "stream",
     "text": [
      "<class 'pandas.core.frame.DataFrame'>\n",
      "RangeIndex: 244 entries, 0 to 243\n",
      "Data columns (total 6 columns):\n",
      "name          244 non-null object\n",
      "title         244 non-null object\n",
      "summary       244 non-null object\n",
      "year          244 non-null int64\n",
      "transcript    244 non-null object\n",
      "link          244 non-null object\n",
      "dtypes: int64(1), object(5)\n",
      "memory usage: 11.5+ KB\n"
     ]
    }
   ],
   "source": [
    "df.info()"
   ]
  },
  {
   "cell_type": "code",
   "execution_count": 6,
   "metadata": {},
   "outputs": [
    {
     "data": {
      "text/html": [
       "<div>\n",
       "<style scoped>\n",
       "    .dataframe tbody tr th:only-of-type {\n",
       "        vertical-align: middle;\n",
       "    }\n",
       "\n",
       "    .dataframe tbody tr th {\n",
       "        vertical-align: top;\n",
       "    }\n",
       "\n",
       "    .dataframe thead th {\n",
       "        text-align: right;\n",
       "    }\n",
       "</style>\n",
       "<table border=\"1\" class=\"dataframe\">\n",
       "  <thead>\n",
       "    <tr style=\"text-align: right;\">\n",
       "      <th></th>\n",
       "      <th>name</th>\n",
       "      <th>title</th>\n",
       "      <th>summary</th>\n",
       "      <th>year</th>\n",
       "      <th>transcript</th>\n",
       "      <th>link</th>\n",
       "    </tr>\n",
       "  </thead>\n",
       "  <tbody>\n",
       "    <tr>\n",
       "      <th>0</th>\n",
       "      <td>Enissa Amani</td>\n",
       "      <td>Ehrenwort</td>\n",
       "      <td>Live from Hamburg, Iranian-German comedian Eni...</td>\n",
       "      <td>2018</td>\n",
       "      <td>A NETFLIX ORIGINAL COMEDY SPECIAL\\nHey, what’s...</td>\n",
       "      <td>https://scrapsfromtheloft.com/2019/02/19/eniss...</td>\n",
       "    </tr>\n",
       "    <tr>\n",
       "      <th>1</th>\n",
       "      <td>George Carlin</td>\n",
       "      <td>Politically Correct Language  By</td>\n",
       "      <td>George Carlin's critical thinking on pc langua...</td>\n",
       "      <td>0</td>\n",
       "      <td>I know I’m a little late with this, but I’d li...</td>\n",
       "      <td>https://scrapsfromtheloft.com/2019/02/18/polit...</td>\n",
       "    </tr>\n",
       "    <tr>\n",
       "      <th>2</th>\n",
       "      <td>Ken Jeong</td>\n",
       "      <td>You Complete Me, Ho</td>\n",
       "      <td>Filmed at the Ice House Comedy Club in Pasaden...</td>\n",
       "      <td>2019</td>\n",
       "      <td>The Hangover… Community… Dr. Ken… Crazy Rich A...</td>\n",
       "      <td>https://scrapsfromtheloft.com/2019/02/17/ken-j...</td>\n",
       "    </tr>\n",
       "    <tr>\n",
       "      <th>3</th>\n",
       "      <td>Ray Romano</td>\n",
       "      <td>Right Here, Around The Corner</td>\n",
       "      <td>Ray Romano cut his stand-up teeth at the Comed...</td>\n",
       "      <td>2019</td>\n",
       "      <td>It’s been 23 years since I did a comedy specia...</td>\n",
       "      <td>https://scrapsfromtheloft.com/2019/02/12/ray-r...</td>\n",
       "    </tr>\n",
       "    <tr>\n",
       "      <th>4</th>\n",
       "      <td>Gabriel Iglesias</td>\n",
       "      <td>One Show Fits All</td>\n",
       "      <td>In a new special from Houston, Gabriel \"Fluffy...</td>\n",
       "      <td>2019</td>\n",
       "      <td>[crowd chanting] Fluffy! Fluffy! [Fluffy shout...</td>\n",
       "      <td>https://scrapsfromtheloft.com/2019/01/30/gabri...</td>\n",
       "    </tr>\n",
       "  </tbody>\n",
       "</table>\n",
       "</div>"
      ],
      "text/plain": [
       "               name                              title  \\\n",
       "0      Enissa Amani                        Ehrenwort     \n",
       "1     George Carlin  Politically Correct Language  By    \n",
       "2         Ken Jeong              You Complete Me, Ho     \n",
       "3        Ray Romano    Right Here, Around The Corner     \n",
       "4  Gabriel Iglesias                One Show Fits All     \n",
       "\n",
       "                                             summary  year  \\\n",
       "0  Live from Hamburg, Iranian-German comedian Eni...  2018   \n",
       "1  George Carlin's critical thinking on pc langua...     0   \n",
       "2  Filmed at the Ice House Comedy Club in Pasaden...  2019   \n",
       "3  Ray Romano cut his stand-up teeth at the Comed...  2019   \n",
       "4  In a new special from Houston, Gabriel \"Fluffy...  2019   \n",
       "\n",
       "                                          transcript  \\\n",
       "0  A NETFLIX ORIGINAL COMEDY SPECIAL\\nHey, what’s...   \n",
       "1  I know I’m a little late with this, but I’d li...   \n",
       "2  The Hangover… Community… Dr. Ken… Crazy Rich A...   \n",
       "3  It’s been 23 years since I did a comedy specia...   \n",
       "4  [crowd chanting] Fluffy! Fluffy! [Fluffy shout...   \n",
       "\n",
       "                                                link  \n",
       "0  https://scrapsfromtheloft.com/2019/02/19/eniss...  \n",
       "1  https://scrapsfromtheloft.com/2019/02/18/polit...  \n",
       "2  https://scrapsfromtheloft.com/2019/02/17/ken-j...  \n",
       "3  https://scrapsfromtheloft.com/2019/02/12/ray-r...  \n",
       "4  https://scrapsfromtheloft.com/2019/01/30/gabri...  "
      ]
     },
     "execution_count": 6,
     "metadata": {},
     "output_type": "execute_result"
    }
   ],
   "source": [
    "df.head()"
   ]
  },
  {
   "cell_type": "markdown",
   "metadata": {},
   "source": [
    "## Get len of transcript"
   ]
  },
  {
   "cell_type": "code",
   "execution_count": 7,
   "metadata": {},
   "outputs": [],
   "source": [
    "df['len_transcript'] = df.transcript.str.len()"
   ]
  },
  {
   "cell_type": "code",
   "execution_count": 8,
   "metadata": {},
   "outputs": [
    {
     "data": {
      "text/plain": [
       "count      244.000000\n",
       "mean     45534.975410\n",
       "std      16696.294783\n",
       "min       2491.000000\n",
       "25%      39536.750000\n",
       "50%      47981.500000\n",
       "75%      56218.500000\n",
       "max      86391.000000\n",
       "Name: len_transcript, dtype: float64"
      ]
     },
     "execution_count": 8,
     "metadata": {},
     "output_type": "execute_result"
    }
   ],
   "source": [
    "df.len_transcript.describe()"
   ]
  },
  {
   "cell_type": "code",
   "execution_count": 9,
   "metadata": {},
   "outputs": [
    {
     "data": {
      "text/plain": [
       "<matplotlib.axes._subplots.AxesSubplot at 0x7fd6b4155710>"
      ]
     },
     "execution_count": 9,
     "metadata": {},
     "output_type": "execute_result"
    },
    {
     "data": {
      "image/png": "[encoded data removed]",
      "text/plain": [
       "<Figure size 432x288 with 1 Axes>"
      ]
     },
     "metadata": {
      "needs_background": "light"
     },
     "output_type": "display_data"
    }
   ],
   "source": [
    "df.len_transcript.plot()"
   ]
  },
  {
   "cell_type": "code",
   "execution_count": null,
   "metadata": {},
   "outputs": [],
   "source": []
  },
  {
   "cell_type": "code",
   "execution_count": 10,
   "metadata": {},
   "outputs": [
    {
     "data": {
      "text/plain": [
       "<matplotlib.axes._subplots.AxesSubplot at 0x7fd6881ef940>"
      ]
     },
     "execution_count": 10,
     "metadata": {},
     "output_type": "execute_result"
    },
    {
     "data": {
      "image/png": "[encoded data removed]",
      "text/plain": [
       "<Figure size 432x288 with 1 Axes>"
      ]
     },
     "metadata": {
      "needs_background": "light"
     },
     "output_type": "display_data"
    }
   ],
   "source": [
    "sns.distplot(df.len_transcript)"
   ]
  },
  {
   "cell_type": "markdown",
   "metadata": {},
   "source": [
    "## drop any transcripts < 20000"
   ]
  },
  {
   "cell_type": "code",
   "execution_count": 11,
   "metadata": {},
   "outputs": [],
   "source": [
    "large_transcripts = df.len_transcript> 20000"
   ]
  },
  {
   "cell_type": "code",
   "execution_count": 12,
   "metadata": {},
   "outputs": [],
   "source": [
    "df = df[large_transcripts]"
   ]
  },
  {
   "cell_type": "code",
   "execution_count": 13,
   "metadata": {},
   "outputs": [
    {
     "data": {
      "text/plain": [
       "<matplotlib.axes._subplots.AxesSubplot at 0x7fd68815f4e0>"
      ]
     },
     "execution_count": 13,
     "metadata": {},
     "output_type": "execute_result"
    },
    {
     "data": {
      "image/png": "[encoded data removed]",
      "text/plain": [
       "<Figure size 432x288 with 1 Axes>"
      ]
     },
     "metadata": {
      "needs_background": "light"
     },
     "output_type": "display_data"
    }
   ],
   "source": [
    "df.len_transcript.plot()"
   ]
  },
  {
   "cell_type": "code",
   "execution_count": 14,
   "metadata": {},
   "outputs": [
    {
     "data": {
      "text/plain": [
       "count      217.000000\n",
       "mean     49978.843318\n",
       "std      11443.140240\n",
       "min      22237.000000\n",
       "25%      42004.000000\n",
       "50%      48780.000000\n",
       "75%      57686.000000\n",
       "max      86391.000000\n",
       "Name: len_transcript, dtype: float64"
      ]
     },
     "execution_count": 14,
     "metadata": {},
     "output_type": "execute_result"
    }
   ],
   "source": [
    "df.len_transcript.describe()"
   ]
  },
  {
   "cell_type": "code",
   "execution_count": 15,
   "metadata": {},
   "outputs": [
    {
     "data": {
      "text/plain": [
       "<matplotlib.axes._subplots.AxesSubplot at 0x7fd6880e65f8>"
      ]
     },
     "execution_count": 15,
     "metadata": {},
     "output_type": "execute_result"
    },
    {
     "data": {
      "image/png": "[encoded data removed]",
      "text/plain": [
       "<Figure size 432x288 with 1 Axes>"
      ]
     },
     "metadata": {
      "needs_background": "light"
     },
     "output_type": "display_data"
    }
   ],
   "source": [
    "sns.distplot(df.len_transcript)"
   ]
  },
  {
   "cell_type": "code",
   "execution_count": 16,
   "metadata": {},
   "outputs": [
    {
     "data": {
      "text/html": [
       "<div>\n",
       "<style scoped>\n",
       "    .dataframe tbody tr th:only-of-type {\n",
       "        vertical-align: middle;\n",
       "    }\n",
       "\n",
       "    .dataframe tbody tr th {\n",
       "        vertical-align: top;\n",
       "    }\n",
       "\n",
       "    .dataframe thead th {\n",
       "        text-align: right;\n",
       "    }\n",
       "</style>\n",
       "<table border=\"1\" class=\"dataframe\">\n",
       "  <thead>\n",
       "    <tr style=\"text-align: right;\">\n",
       "      <th></th>\n",
       "      <th>name</th>\n",
       "      <th>title</th>\n",
       "      <th>summary</th>\n",
       "      <th>year</th>\n",
       "      <th>transcript</th>\n",
       "      <th>link</th>\n",
       "      <th>len_transcript</th>\n",
       "    </tr>\n",
       "  </thead>\n",
       "  <tbody>\n",
       "    <tr>\n",
       "      <th>0</th>\n",
       "      <td>Enissa Amani</td>\n",
       "      <td>Ehrenwort</td>\n",
       "      <td>Live from Hamburg, Iranian-German comedian Eni...</td>\n",
       "      <td>2018</td>\n",
       "      <td>A NETFLIX ORIGINAL COMEDY SPECIAL\\nHey, what’s...</td>\n",
       "      <td>https://scrapsfromtheloft.com/2019/02/19/eniss...</td>\n",
       "      <td>55660</td>\n",
       "    </tr>\n",
       "    <tr>\n",
       "      <th>2</th>\n",
       "      <td>Ken Jeong</td>\n",
       "      <td>You Complete Me, Ho</td>\n",
       "      <td>Filmed at the Ice House Comedy Club in Pasaden...</td>\n",
       "      <td>2019</td>\n",
       "      <td>The Hangover… Community… Dr. Ken… Crazy Rich A...</td>\n",
       "      <td>https://scrapsfromtheloft.com/2019/02/17/ken-j...</td>\n",
       "      <td>46046</td>\n",
       "    </tr>\n",
       "    <tr>\n",
       "      <th>3</th>\n",
       "      <td>Ray Romano</td>\n",
       "      <td>Right Here, Around The Corner</td>\n",
       "      <td>Ray Romano cut his stand-up teeth at the Comed...</td>\n",
       "      <td>2019</td>\n",
       "      <td>It’s been 23 years since I did a comedy specia...</td>\n",
       "      <td>https://scrapsfromtheloft.com/2019/02/12/ray-r...</td>\n",
       "      <td>41464</td>\n",
       "    </tr>\n",
       "    <tr>\n",
       "      <th>4</th>\n",
       "      <td>Gabriel Iglesias</td>\n",
       "      <td>One Show Fits All</td>\n",
       "      <td>In a new special from Houston, Gabriel \"Fluffy...</td>\n",
       "      <td>2019</td>\n",
       "      <td>[crowd chanting] Fluffy! Fluffy! [Fluffy shout...</td>\n",
       "      <td>https://scrapsfromtheloft.com/2019/01/30/gabri...</td>\n",
       "      <td>62291</td>\n",
       "    </tr>\n",
       "    <tr>\n",
       "      <th>5</th>\n",
       "      <td>Sebastian Maniscalco</td>\n",
       "      <td>Stay Hungry</td>\n",
       "      <td>Sebastian's captivating storytelling keeps the...</td>\n",
       "      <td>2019</td>\n",
       "      <td>[instrumental music plays] ♪ All right ♪ [scre...</td>\n",
       "      <td>https://scrapsfromtheloft.com/2019/01/29/sebas...</td>\n",
       "      <td>40766</td>\n",
       "    </tr>\n",
       "  </tbody>\n",
       "</table>\n",
       "</div>"
      ],
      "text/plain": [
       "                   name                             title  \\\n",
       "0          Enissa Amani                       Ehrenwort     \n",
       "2             Ken Jeong             You Complete Me, Ho     \n",
       "3            Ray Romano   Right Here, Around The Corner     \n",
       "4      Gabriel Iglesias               One Show Fits All     \n",
       "5  Sebastian Maniscalco                     Stay Hungry     \n",
       "\n",
       "                                             summary  year  \\\n",
       "0  Live from Hamburg, Iranian-German comedian Eni...  2018   \n",
       "2  Filmed at the Ice House Comedy Club in Pasaden...  2019   \n",
       "3  Ray Romano cut his stand-up teeth at the Comed...  2019   \n",
       "4  In a new special from Houston, Gabriel \"Fluffy...  2019   \n",
       "5  Sebastian's captivating storytelling keeps the...  2019   \n",
       "\n",
       "                                          transcript  \\\n",
       "0  A NETFLIX ORIGINAL COMEDY SPECIAL\\nHey, what’s...   \n",
       "2  The Hangover… Community… Dr. Ken… Crazy Rich A...   \n",
       "3  It’s been 23 years since I did a comedy specia...   \n",
       "4  [crowd chanting] Fluffy! Fluffy! [Fluffy shout...   \n",
       "5  [instrumental music plays] ♪ All right ♪ [scre...   \n",
       "\n",
       "                                                link  len_transcript  \n",
       "0  https://scrapsfromtheloft.com/2019/02/19/eniss...           55660  \n",
       "2  https://scrapsfromtheloft.com/2019/02/17/ken-j...           46046  \n",
       "3  https://scrapsfromtheloft.com/2019/02/12/ray-r...           41464  \n",
       "4  https://scrapsfromtheloft.com/2019/01/30/gabri...           62291  \n",
       "5  https://scrapsfromtheloft.com/2019/01/29/sebas...           40766  "
      ]
     },
     "execution_count": 16,
     "metadata": {},
     "output_type": "execute_result"
    }
   ],
   "source": [
    "df.head()"
   ]
  },
  {
   "cell_type": "markdown",
   "metadata": {},
   "source": [
    "## Extract DOB from wikipedia"
   ]
  },
  {
   "cell_type": "code",
   "execution_count": 17,
   "metadata": {},
   "outputs": [],
   "source": [
    "def get_bday_wiki_rx(data):\n",
    "    pat = r'(\\d{2}\\s[A-z]+\\s|[A-z]+\\s\\d{2},?\\s)?\\d{4}'\n",
    "    pattern = re.compile(pat,re.IGNORECASE|re.VERBOSE)\n",
    "    name = data['name']\n",
    "    print('bday extraction: {}'.format(name))\n",
    "    clear_output(wait = True)\n",
    "    try:\n",
    "        page = wk.page(name)\n",
    "        summary = page.summary\n",
    "        result = pattern.search(page.summary).group()\n",
    "        return result\n",
    "    except:\n",
    "        print('Some error.')"
   ]
  },
  {
   "cell_type": "code",
   "execution_count": 18,
   "metadata": {},
   "outputs": [
    {
     "name": "stdout",
     "output_type": "stream",
     "text": [
      "CPU times: user 8.12 s, sys: 3.19 s, total: 11.3 s\n",
      "Wall time: 3min 35s\n"
     ]
    }
   ],
   "source": [
    "%%time\n",
    "df['dob'] = df.apply(get_bday_wiki_rx,axis=1)"
   ]
  },
  {
   "cell_type": "code",
   "execution_count": 19,
   "metadata": {},
   "outputs": [
    {
     "name": "stdout",
     "output_type": "stream",
     "text": [
      "<class 'pandas.core.frame.DataFrame'>\n",
      "Int64Index: 217 entries, 0 to 243\n",
      "Data columns (total 8 columns):\n",
      "name              217 non-null object\n",
      "title             217 non-null object\n",
      "summary           217 non-null object\n",
      "year              217 non-null int64\n",
      "transcript        217 non-null object\n",
      "link              217 non-null object\n",
      "len_transcript    217 non-null int64\n",
      "dob               214 non-null object\n",
      "dtypes: int64(2), object(6)\n",
      "memory usage: 15.3+ KB\n"
     ]
    }
   ],
   "source": [
    "df.info()"
   ]
  },
  {
   "cell_type": "code",
   "execution_count": 20,
   "metadata": {},
   "outputs": [
    {
     "data": {
      "text/html": [
       "<div>\n",
       "<style scoped>\n",
       "    .dataframe tbody tr th:only-of-type {\n",
       "        vertical-align: middle;\n",
       "    }\n",
       "\n",
       "    .dataframe tbody tr th {\n",
       "        vertical-align: top;\n",
       "    }\n",
       "\n",
       "    .dataframe thead th {\n",
       "        text-align: right;\n",
       "    }\n",
       "</style>\n",
       "<table border=\"1\" class=\"dataframe\">\n",
       "  <thead>\n",
       "    <tr style=\"text-align: right;\">\n",
       "      <th></th>\n",
       "      <th>name</th>\n",
       "      <th>title</th>\n",
       "      <th>summary</th>\n",
       "      <th>year</th>\n",
       "      <th>transcript</th>\n",
       "      <th>link</th>\n",
       "      <th>len_transcript</th>\n",
       "      <th>dob</th>\n",
       "    </tr>\n",
       "  </thead>\n",
       "  <tbody>\n",
       "    <tr>\n",
       "      <th>0</th>\n",
       "      <td>Enissa Amani</td>\n",
       "      <td>Ehrenwort</td>\n",
       "      <td>Live from Hamburg, Iranian-German comedian Eni...</td>\n",
       "      <td>2018</td>\n",
       "      <td>A NETFLIX ORIGINAL COMEDY SPECIAL\\nHey, what’s...</td>\n",
       "      <td>https://scrapsfromtheloft.com/2019/02/19/eniss...</td>\n",
       "      <td>55660</td>\n",
       "      <td>1981</td>\n",
       "    </tr>\n",
       "    <tr>\n",
       "      <th>2</th>\n",
       "      <td>Ken Jeong</td>\n",
       "      <td>You Complete Me, Ho</td>\n",
       "      <td>Filmed at the Ice House Comedy Club in Pasaden...</td>\n",
       "      <td>2019</td>\n",
       "      <td>The Hangover… Community… Dr. Ken… Crazy Rich A...</td>\n",
       "      <td>https://scrapsfromtheloft.com/2019/02/17/ken-j...</td>\n",
       "      <td>46046</td>\n",
       "      <td>July 13, 1969</td>\n",
       "    </tr>\n",
       "    <tr>\n",
       "      <th>3</th>\n",
       "      <td>Ray Romano</td>\n",
       "      <td>Right Here, Around The Corner</td>\n",
       "      <td>Ray Romano cut his stand-up teeth at the Comed...</td>\n",
       "      <td>2019</td>\n",
       "      <td>It’s been 23 years since I did a comedy specia...</td>\n",
       "      <td>https://scrapsfromtheloft.com/2019/02/12/ray-r...</td>\n",
       "      <td>41464</td>\n",
       "      <td>December 21, 1957</td>\n",
       "    </tr>\n",
       "    <tr>\n",
       "      <th>4</th>\n",
       "      <td>Gabriel Iglesias</td>\n",
       "      <td>One Show Fits All</td>\n",
       "      <td>In a new special from Houston, Gabriel \"Fluffy...</td>\n",
       "      <td>2019</td>\n",
       "      <td>[crowd chanting] Fluffy! Fluffy! [Fluffy shout...</td>\n",
       "      <td>https://scrapsfromtheloft.com/2019/01/30/gabri...</td>\n",
       "      <td>62291</td>\n",
       "      <td>July 15, 1976</td>\n",
       "    </tr>\n",
       "    <tr>\n",
       "      <th>5</th>\n",
       "      <td>Sebastian Maniscalco</td>\n",
       "      <td>Stay Hungry</td>\n",
       "      <td>Sebastian's captivating storytelling keeps the...</td>\n",
       "      <td>2019</td>\n",
       "      <td>[instrumental music plays] ♪ All right ♪ [scre...</td>\n",
       "      <td>https://scrapsfromtheloft.com/2019/01/29/sebas...</td>\n",
       "      <td>40766</td>\n",
       "      <td>1973</td>\n",
       "    </tr>\n",
       "  </tbody>\n",
       "</table>\n",
       "</div>"
      ],
      "text/plain": [
       "                   name                             title  \\\n",
       "0          Enissa Amani                       Ehrenwort     \n",
       "2             Ken Jeong             You Complete Me, Ho     \n",
       "3            Ray Romano   Right Here, Around The Corner     \n",
       "4      Gabriel Iglesias               One Show Fits All     \n",
       "5  Sebastian Maniscalco                     Stay Hungry     \n",
       "\n",
       "                                             summary  year  \\\n",
       "0  Live from Hamburg, Iranian-German comedian Eni...  2018   \n",
       "2  Filmed at the Ice House Comedy Club in Pasaden...  2019   \n",
       "3  Ray Romano cut his stand-up teeth at the Comed...  2019   \n",
       "4  In a new special from Houston, Gabriel \"Fluffy...  2019   \n",
       "5  Sebastian's captivating storytelling keeps the...  2019   \n",
       "\n",
       "                                          transcript  \\\n",
       "0  A NETFLIX ORIGINAL COMEDY SPECIAL\\nHey, what’s...   \n",
       "2  The Hangover… Community… Dr. Ken… Crazy Rich A...   \n",
       "3  It’s been 23 years since I did a comedy specia...   \n",
       "4  [crowd chanting] Fluffy! Fluffy! [Fluffy shout...   \n",
       "5  [instrumental music plays] ♪ All right ♪ [scre...   \n",
       "\n",
       "                                                link  len_transcript  \\\n",
       "0  https://scrapsfromtheloft.com/2019/02/19/eniss...           55660   \n",
       "2  https://scrapsfromtheloft.com/2019/02/17/ken-j...           46046   \n",
       "3  https://scrapsfromtheloft.com/2019/02/12/ray-r...           41464   \n",
       "4  https://scrapsfromtheloft.com/2019/01/30/gabri...           62291   \n",
       "5  https://scrapsfromtheloft.com/2019/01/29/sebas...           40766   \n",
       "\n",
       "                 dob  \n",
       "0               1981  \n",
       "2      July 13, 1969  \n",
       "3  December 21, 1957  \n",
       "4      July 15, 1976  \n",
       "5               1973  "
      ]
     },
     "execution_count": 20,
     "metadata": {},
     "output_type": "execute_result"
    }
   ],
   "source": [
    "df.head()"
   ]
  },
  {
   "cell_type": "markdown",
   "metadata": {},
   "source": [
    "## Check null values"
   ]
  },
  {
   "cell_type": "code",
   "execution_count": 22,
   "metadata": {},
   "outputs": [
    {
     "data": {
      "text/plain": [
       "name              0\n",
       "title             0\n",
       "summary           0\n",
       "year              0\n",
       "transcript        0\n",
       "link              0\n",
       "len_transcript    0\n",
       "dob               3\n",
       "dtype: int64"
      ]
     },
     "execution_count": 22,
     "metadata": {},
     "output_type": "execute_result"
    }
   ],
   "source": [
    "df.apply(lambda x: sum(x.isnull()))"
   ]
  },
  {
   "cell_type": "code",
   "execution_count": 23,
   "metadata": {},
   "outputs": [
    {
     "data": {
      "text/html": [
       "<div>\n",
       "<style scoped>\n",
       "    .dataframe tbody tr th:only-of-type {\n",
       "        vertical-align: middle;\n",
       "    }\n",
       "\n",
       "    .dataframe tbody tr th {\n",
       "        vertical-align: top;\n",
       "    }\n",
       "\n",
       "    .dataframe thead th {\n",
       "        text-align: right;\n",
       "    }\n",
       "</style>\n",
       "<table border=\"1\" class=\"dataframe\">\n",
       "  <thead>\n",
       "    <tr style=\"text-align: right;\">\n",
       "      <th></th>\n",
       "      <th>name</th>\n",
       "      <th>title</th>\n",
       "      <th>summary</th>\n",
       "      <th>year</th>\n",
       "      <th>transcript</th>\n",
       "      <th>link</th>\n",
       "      <th>len_transcript</th>\n",
       "      <th>dob</th>\n",
       "    </tr>\n",
       "  </thead>\n",
       "  <tbody>\n",
       "    <tr>\n",
       "      <th>14</th>\n",
       "      <td>Jeff Foxworthylarry The Cable Guy</td>\n",
       "      <td>We’Ve Been Thinking</td>\n",
       "      <td>Comedians Jeff Foxworthy and Larry the Cable G...</td>\n",
       "      <td>2016</td>\n",
       "      <td>When you start doing what Jeff and I do this i...</td>\n",
       "      <td>https://scrapsfromtheloft.com/2018/10/28/jeff-...</td>\n",
       "      <td>59162</td>\n",
       "      <td>None</td>\n",
       "    </tr>\n",
       "    <tr>\n",
       "      <th>44</th>\n",
       "      <td>Deray Davis</td>\n",
       "      <td>How To Act Black</td>\n",
       "      <td>Dynamic comic DeRay Davis hits the stage like ...</td>\n",
       "      <td>2017</td>\n",
       "      <td>[male announcer] ATL, get ready for the man of...</td>\n",
       "      <td>https://scrapsfromtheloft.com/2018/07/18/deray...</td>\n",
       "      <td>52546</td>\n",
       "      <td>None</td>\n",
       "    </tr>\n",
       "    <tr>\n",
       "      <th>147</th>\n",
       "      <td>Erik Griffin</td>\n",
       "      <td>The Ugly Truth</td>\n",
       "      <td>Erik Griffin’s performance at The Laugh Factor...</td>\n",
       "      <td>2017</td>\n",
       "      <td>Ladies and gentlemen, live from Laugh Factory ...</td>\n",
       "      <td>https://scrapsfromtheloft.com/2017/10/08/erik-...</td>\n",
       "      <td>37321</td>\n",
       "      <td>None</td>\n",
       "    </tr>\n",
       "  </tbody>\n",
       "</table>\n",
       "</div>"
      ],
      "text/plain": [
       "                                  name                    title  \\\n",
       "14   Jeff Foxworthylarry The Cable Guy    We’Ve Been Thinking     \n",
       "44                         Deray Davis       How To Act Black     \n",
       "147                       Erik Griffin         The Ugly Truth     \n",
       "\n",
       "                                               summary  year  \\\n",
       "14   Comedians Jeff Foxworthy and Larry the Cable G...  2016   \n",
       "44   Dynamic comic DeRay Davis hits the stage like ...  2017   \n",
       "147  Erik Griffin’s performance at The Laugh Factor...  2017   \n",
       "\n",
       "                                            transcript  \\\n",
       "14   When you start doing what Jeff and I do this i...   \n",
       "44   [male announcer] ATL, get ready for the man of...   \n",
       "147  Ladies and gentlemen, live from Laugh Factory ...   \n",
       "\n",
       "                                                  link  len_transcript   dob  \n",
       "14   https://scrapsfromtheloft.com/2018/10/28/jeff-...           59162  None  \n",
       "44   https://scrapsfromtheloft.com/2018/07/18/deray...           52546  None  \n",
       "147  https://scrapsfromtheloft.com/2017/10/08/erik-...           37321  None  "
      ]
     },
     "execution_count": 23,
     "metadata": {},
     "output_type": "execute_result"
    }
   ],
   "source": [
    "df[df.isnull().any(axis=1)]"
   ]
  },
  {
   "cell_type": "markdown",
   "metadata": {},
   "source": [
    "### Fix dob\n"
   ]
  },
  {
   "cell_type": "code",
   "execution_count": 24,
   "metadata": {},
   "outputs": [],
   "source": [
    "# fix name\n",
    "df.loc[14, 'name'] = 'Jeff Foxworthy'"
   ]
  },
  {
   "cell_type": "code",
   "execution_count": 25,
   "metadata": {},
   "outputs": [],
   "source": [
    "# JEff Foxworthy\n",
    "df.loc[14, 'dob'] = 'September 6, 1958'\n",
    "# Deray Davis\n",
    "df.loc[44, 'dob'] = 'February 26, 1968'\n",
    "# Erik Griffin\n",
    "df.loc[147, 'dob'] = 'March 26, 1976'"
   ]
  },
  {
   "cell_type": "code",
   "execution_count": 26,
   "metadata": {},
   "outputs": [
    {
     "data": {
      "text/plain": [
       "name              0\n",
       "title             0\n",
       "summary           0\n",
       "year              0\n",
       "transcript        0\n",
       "link              0\n",
       "len_transcript    0\n",
       "dob               0\n",
       "dtype: int64"
      ]
     },
     "execution_count": 26,
     "metadata": {},
     "output_type": "execute_result"
    }
   ],
   "source": [
    "# check again for nulls\n",
    "df.apply(lambda x: sum(x.isnull()))"
   ]
  },
  {
   "cell_type": "code",
   "execution_count": 27,
   "metadata": {},
   "outputs": [
    {
     "data": {
      "text/html": [
       "<div>\n",
       "<style scoped>\n",
       "    .dataframe tbody tr th:only-of-type {\n",
       "        vertical-align: middle;\n",
       "    }\n",
       "\n",
       "    .dataframe tbody tr th {\n",
       "        vertical-align: top;\n",
       "    }\n",
       "\n",
       "    .dataframe thead th {\n",
       "        text-align: right;\n",
       "    }\n",
       "</style>\n",
       "<table border=\"1\" class=\"dataframe\">\n",
       "  <thead>\n",
       "    <tr style=\"text-align: right;\">\n",
       "      <th></th>\n",
       "      <th>name</th>\n",
       "      <th>title</th>\n",
       "      <th>summary</th>\n",
       "      <th>year</th>\n",
       "      <th>transcript</th>\n",
       "      <th>link</th>\n",
       "      <th>len_transcript</th>\n",
       "      <th>dob</th>\n",
       "    </tr>\n",
       "  </thead>\n",
       "  <tbody>\n",
       "    <tr>\n",
       "      <th>0</th>\n",
       "      <td>Enissa Amani</td>\n",
       "      <td>Ehrenwort</td>\n",
       "      <td>Live from Hamburg, Iranian-German comedian Eni...</td>\n",
       "      <td>2018</td>\n",
       "      <td>A NETFLIX ORIGINAL COMEDY SPECIAL\\nHey, what’s...</td>\n",
       "      <td>https://scrapsfromtheloft.com/2019/02/19/eniss...</td>\n",
       "      <td>55660</td>\n",
       "      <td>1981</td>\n",
       "    </tr>\n",
       "    <tr>\n",
       "      <th>2</th>\n",
       "      <td>Ken Jeong</td>\n",
       "      <td>You Complete Me, Ho</td>\n",
       "      <td>Filmed at the Ice House Comedy Club in Pasaden...</td>\n",
       "      <td>2019</td>\n",
       "      <td>The Hangover… Community… Dr. Ken… Crazy Rich A...</td>\n",
       "      <td>https://scrapsfromtheloft.com/2019/02/17/ken-j...</td>\n",
       "      <td>46046</td>\n",
       "      <td>July 13, 1969</td>\n",
       "    </tr>\n",
       "    <tr>\n",
       "      <th>3</th>\n",
       "      <td>Ray Romano</td>\n",
       "      <td>Right Here, Around The Corner</td>\n",
       "      <td>Ray Romano cut his stand-up teeth at the Comed...</td>\n",
       "      <td>2019</td>\n",
       "      <td>It’s been 23 years since I did a comedy specia...</td>\n",
       "      <td>https://scrapsfromtheloft.com/2019/02/12/ray-r...</td>\n",
       "      <td>41464</td>\n",
       "      <td>December 21, 1957</td>\n",
       "    </tr>\n",
       "    <tr>\n",
       "      <th>4</th>\n",
       "      <td>Gabriel Iglesias</td>\n",
       "      <td>One Show Fits All</td>\n",
       "      <td>In a new special from Houston, Gabriel \"Fluffy...</td>\n",
       "      <td>2019</td>\n",
       "      <td>[crowd chanting] Fluffy! Fluffy! [Fluffy shout...</td>\n",
       "      <td>https://scrapsfromtheloft.com/2019/01/30/gabri...</td>\n",
       "      <td>62291</td>\n",
       "      <td>July 15, 1976</td>\n",
       "    </tr>\n",
       "    <tr>\n",
       "      <th>5</th>\n",
       "      <td>Sebastian Maniscalco</td>\n",
       "      <td>Stay Hungry</td>\n",
       "      <td>Sebastian's captivating storytelling keeps the...</td>\n",
       "      <td>2019</td>\n",
       "      <td>[instrumental music plays] ♪ All right ♪ [scre...</td>\n",
       "      <td>https://scrapsfromtheloft.com/2019/01/29/sebas...</td>\n",
       "      <td>40766</td>\n",
       "      <td>1973</td>\n",
       "    </tr>\n",
       "  </tbody>\n",
       "</table>\n",
       "</div>"
      ],
      "text/plain": [
       "                   name                             title  \\\n",
       "0          Enissa Amani                       Ehrenwort     \n",
       "2             Ken Jeong             You Complete Me, Ho     \n",
       "3            Ray Romano   Right Here, Around The Corner     \n",
       "4      Gabriel Iglesias               One Show Fits All     \n",
       "5  Sebastian Maniscalco                     Stay Hungry     \n",
       "\n",
       "                                             summary  year  \\\n",
       "0  Live from Hamburg, Iranian-German comedian Eni...  2018   \n",
       "2  Filmed at the Ice House Comedy Club in Pasaden...  2019   \n",
       "3  Ray Romano cut his stand-up teeth at the Comed...  2019   \n",
       "4  In a new special from Houston, Gabriel \"Fluffy...  2019   \n",
       "5  Sebastian's captivating storytelling keeps the...  2019   \n",
       "\n",
       "                                          transcript  \\\n",
       "0  A NETFLIX ORIGINAL COMEDY SPECIAL\\nHey, what’s...   \n",
       "2  The Hangover… Community… Dr. Ken… Crazy Rich A...   \n",
       "3  It’s been 23 years since I did a comedy specia...   \n",
       "4  [crowd chanting] Fluffy! Fluffy! [Fluffy shout...   \n",
       "5  [instrumental music plays] ♪ All right ♪ [scre...   \n",
       "\n",
       "                                                link  len_transcript  \\\n",
       "0  https://scrapsfromtheloft.com/2019/02/19/eniss...           55660   \n",
       "2  https://scrapsfromtheloft.com/2019/02/17/ken-j...           46046   \n",
       "3  https://scrapsfromtheloft.com/2019/02/12/ray-r...           41464   \n",
       "4  https://scrapsfromtheloft.com/2019/01/30/gabri...           62291   \n",
       "5  https://scrapsfromtheloft.com/2019/01/29/sebas...           40766   \n",
       "\n",
       "                 dob  \n",
       "0               1981  \n",
       "2      July 13, 1969  \n",
       "3  December 21, 1957  \n",
       "4      July 15, 1976  \n",
       "5               1973  "
      ]
     },
     "execution_count": 27,
     "metadata": {},
     "output_type": "execute_result"
    }
   ],
   "source": [
    "df.head()"
   ]
  },
  {
   "cell_type": "code",
   "execution_count": 28,
   "metadata": {},
   "outputs": [],
   "source": [
    "# change to datetime\n",
    "df.dob = pd.to_datetime(df.dob)"
   ]
  },
  {
   "cell_type": "code",
   "execution_count": 40,
   "metadata": {},
   "outputs": [
    {
     "data": {
      "text/plain": [
       "<matplotlib.axes._subplots.AxesSubplot at 0x7fd687cb8550>"
      ]
     },
     "execution_count": 40,
     "metadata": {},
     "output_type": "execute_result"
    },
    {
     "data": {
      "image/png": "[encoded data removed]",
      "text/plain": [
       "<Figure size 432x288 with 1 Axes>"
      ]
     },
     "metadata": {
      "needs_background": "light"
     },
     "output_type": "display_data"
    }
   ],
   "source": [
    "sns.distplot(df.dob.dt.year)"
   ]
  },
  {
   "cell_type": "markdown",
   "metadata": {},
   "source": [
    "## Check who was born after 1990's"
   ]
  },
  {
   "cell_type": "code",
   "execution_count": 45,
   "metadata": {},
   "outputs": [],
   "source": [
    "yr_filter = df.dob.dt.year> 1990"
   ]
  },
  {
   "cell_type": "code",
   "execution_count": 46,
   "metadata": {},
   "outputs": [
    {
     "data": {
      "text/html": [
       "<div>\n",
       "<style scoped>\n",
       "    .dataframe tbody tr th:only-of-type {\n",
       "        vertical-align: middle;\n",
       "    }\n",
       "\n",
       "    .dataframe tbody tr th {\n",
       "        vertical-align: top;\n",
       "    }\n",
       "\n",
       "    .dataframe thead th {\n",
       "        text-align: right;\n",
       "    }\n",
       "</style>\n",
       "<table border=\"1\" class=\"dataframe\">\n",
       "  <thead>\n",
       "    <tr style=\"text-align: right;\">\n",
       "      <th></th>\n",
       "      <th>name</th>\n",
       "      <th>title</th>\n",
       "      <th>summary</th>\n",
       "      <th>year</th>\n",
       "      <th>transcript</th>\n",
       "      <th>link</th>\n",
       "      <th>len_transcript</th>\n",
       "      <th>dob</th>\n",
       "    </tr>\n",
       "  </thead>\n",
       "  <tbody>\n",
       "    <tr>\n",
       "      <th>11</th>\n",
       "      <td>Vir Das</td>\n",
       "      <td>Losing It</td>\n",
       "      <td>The world's got a lot of problems, but Vir Das...</td>\n",
       "      <td>2018</td>\n",
       "      <td>I lost 80% of my mind. It’s very freeing. You ...</td>\n",
       "      <td>https://scrapsfromtheloft.com/2018/12/15/vir-d...</td>\n",
       "      <td>42632</td>\n",
       "      <td>2017-01-01</td>\n",
       "    </tr>\n",
       "    <tr>\n",
       "      <th>33</th>\n",
       "      <td>Bert Kreischer</td>\n",
       "      <td>Secret Time</td>\n",
       "      <td>Bert regales the audience at the Trocadero The...</td>\n",
       "      <td>2018</td>\n",
       "      <td>[applause] [male presenter] Ladies and gentlem...</td>\n",
       "      <td>https://scrapsfromtheloft.com/2018/08/25/bert-...</td>\n",
       "      <td>45515</td>\n",
       "      <td>1997-01-01</td>\n",
       "    </tr>\n",
       "    <tr>\n",
       "      <th>67</th>\n",
       "      <td>Adel Karam</td>\n",
       "      <td>Live From Beirut</td>\n",
       "      <td>Adel Karam goes back to his hometown to appear...</td>\n",
       "      <td>2018</td>\n",
       "      <td>A NETFLIX COMEDY SPECIAL\\nRecorded at the Casi...</td>\n",
       "      <td>https://scrapsfromtheloft.com/2018/03/12/adel-...</td>\n",
       "      <td>35384</td>\n",
       "      <td>2017-01-01</td>\n",
       "    </tr>\n",
       "  </tbody>\n",
       "</table>\n",
       "</div>"
      ],
      "text/plain": [
       "              name                title  \\\n",
       "11         Vir Das          Losing It     \n",
       "33  Bert Kreischer        Secret Time     \n",
       "67      Adel Karam   Live From Beirut     \n",
       "\n",
       "                                              summary  year  \\\n",
       "11  The world's got a lot of problems, but Vir Das...  2018   \n",
       "33  Bert regales the audience at the Trocadero The...  2018   \n",
       "67  Adel Karam goes back to his hometown to appear...  2018   \n",
       "\n",
       "                                           transcript  \\\n",
       "11  I lost 80% of my mind. It’s very freeing. You ...   \n",
       "33  [applause] [male presenter] Ladies and gentlem...   \n",
       "67  A NETFLIX COMEDY SPECIAL\\nRecorded at the Casi...   \n",
       "\n",
       "                                                 link  len_transcript  \\\n",
       "11  https://scrapsfromtheloft.com/2018/12/15/vir-d...           42632   \n",
       "33  https://scrapsfromtheloft.com/2018/08/25/bert-...           45515   \n",
       "67  https://scrapsfromtheloft.com/2018/03/12/adel-...           35384   \n",
       "\n",
       "          dob  \n",
       "11 2017-01-01  \n",
       "33 1997-01-01  \n",
       "67 2017-01-01  "
      ]
     },
     "execution_count": 46,
     "metadata": {},
     "output_type": "execute_result"
    }
   ],
   "source": [
    "df[yr_filter]"
   ]
  },
  {
   "cell_type": "markdown",
   "metadata": {},
   "source": [
    "## Fix it"
   ]
  },
  {
   "cell_type": "code",
   "execution_count": 48,
   "metadata": {},
   "outputs": [],
   "source": [
    "# Vir Das\t\n",
    "# May 31, 1979\n",
    "df.loc[11, 'dob'] = 'May 31, 1979'\n",
    "\n",
    "# Adel Karam\n",
    "# August 20, 1972\n",
    "df.loc[67, 'dob'] = 'August 20, 1972'"
   ]
  },
  {
   "cell_type": "code",
   "execution_count": 49,
   "metadata": {},
   "outputs": [
    {
     "data": {
      "text/html": [
       "<div>\n",
       "<style scoped>\n",
       "    .dataframe tbody tr th:only-of-type {\n",
       "        vertical-align: middle;\n",
       "    }\n",
       "\n",
       "    .dataframe tbody tr th {\n",
       "        vertical-align: top;\n",
       "    }\n",
       "\n",
       "    .dataframe thead th {\n",
       "        text-align: right;\n",
       "    }\n",
       "</style>\n",
       "<table border=\"1\" class=\"dataframe\">\n",
       "  <thead>\n",
       "    <tr style=\"text-align: right;\">\n",
       "      <th></th>\n",
       "      <th>name</th>\n",
       "      <th>title</th>\n",
       "      <th>summary</th>\n",
       "      <th>year</th>\n",
       "      <th>transcript</th>\n",
       "      <th>link</th>\n",
       "      <th>len_transcript</th>\n",
       "      <th>dob</th>\n",
       "    </tr>\n",
       "  </thead>\n",
       "  <tbody>\n",
       "    <tr>\n",
       "      <th>11</th>\n",
       "      <td>Vir Das</td>\n",
       "      <td>Losing It</td>\n",
       "      <td>The world's got a lot of problems, but Vir Das...</td>\n",
       "      <td>2018</td>\n",
       "      <td>I lost 80% of my mind. It’s very freeing. You ...</td>\n",
       "      <td>https://scrapsfromtheloft.com/2018/12/15/vir-d...</td>\n",
       "      <td>42632</td>\n",
       "      <td>May 31, 1979</td>\n",
       "    </tr>\n",
       "    <tr>\n",
       "      <th>33</th>\n",
       "      <td>Bert Kreischer</td>\n",
       "      <td>Secret Time</td>\n",
       "      <td>Bert regales the audience at the Trocadero The...</td>\n",
       "      <td>2018</td>\n",
       "      <td>[applause] [male presenter] Ladies and gentlem...</td>\n",
       "      <td>https://scrapsfromtheloft.com/2018/08/25/bert-...</td>\n",
       "      <td>45515</td>\n",
       "      <td>1997-01-01 00:00:00</td>\n",
       "    </tr>\n",
       "    <tr>\n",
       "      <th>67</th>\n",
       "      <td>Adel Karam</td>\n",
       "      <td>Live From Beirut</td>\n",
       "      <td>Adel Karam goes back to his hometown to appear...</td>\n",
       "      <td>2018</td>\n",
       "      <td>A NETFLIX COMEDY SPECIAL\\nRecorded at the Casi...</td>\n",
       "      <td>https://scrapsfromtheloft.com/2018/03/12/adel-...</td>\n",
       "      <td>35384</td>\n",
       "      <td>August 20, 1972</td>\n",
       "    </tr>\n",
       "  </tbody>\n",
       "</table>\n",
       "</div>"
      ],
      "text/plain": [
       "              name                title  \\\n",
       "11         Vir Das          Losing It     \n",
       "33  Bert Kreischer        Secret Time     \n",
       "67      Adel Karam   Live From Beirut     \n",
       "\n",
       "                                              summary  year  \\\n",
       "11  The world's got a lot of problems, but Vir Das...  2018   \n",
       "33  Bert regales the audience at the Trocadero The...  2018   \n",
       "67  Adel Karam goes back to his hometown to appear...  2018   \n",
       "\n",
       "                                           transcript  \\\n",
       "11  I lost 80% of my mind. It’s very freeing. You ...   \n",
       "33  [applause] [male presenter] Ladies and gentlem...   \n",
       "67  A NETFLIX COMEDY SPECIAL\\nRecorded at the Casi...   \n",
       "\n",
       "                                                 link  len_transcript  \\\n",
       "11  https://scrapsfromtheloft.com/2018/12/15/vir-d...           42632   \n",
       "33  https://scrapsfromtheloft.com/2018/08/25/bert-...           45515   \n",
       "67  https://scrapsfromtheloft.com/2018/03/12/adel-...           35384   \n",
       "\n",
       "                    dob  \n",
       "11         May 31, 1979  \n",
       "33  1997-01-01 00:00:00  \n",
       "67      August 20, 1972  "
      ]
     },
     "execution_count": 49,
     "metadata": {},
     "output_type": "execute_result"
    }
   ],
   "source": [
    "df[yr_filter]"
   ]
  },
  {
   "cell_type": "code",
   "execution_count": 51,
   "metadata": {},
   "outputs": [],
   "source": [
    "# change dob againt to datetime\n",
    "df.dob = pd.to_datetime(df.dob)"
   ]
  },
  {
   "cell_type": "code",
   "execution_count": 54,
   "metadata": {},
   "outputs": [
    {
     "data": {
      "text/html": [
       "<div>\n",
       "<style scoped>\n",
       "    .dataframe tbody tr th:only-of-type {\n",
       "        vertical-align: middle;\n",
       "    }\n",
       "\n",
       "    .dataframe tbody tr th {\n",
       "        vertical-align: top;\n",
       "    }\n",
       "\n",
       "    .dataframe thead th {\n",
       "        text-align: right;\n",
       "    }\n",
       "</style>\n",
       "<table border=\"1\" class=\"dataframe\">\n",
       "  <thead>\n",
       "    <tr style=\"text-align: right;\">\n",
       "      <th></th>\n",
       "      <th>name</th>\n",
       "      <th>title</th>\n",
       "      <th>summary</th>\n",
       "      <th>year</th>\n",
       "      <th>transcript</th>\n",
       "      <th>link</th>\n",
       "      <th>len_transcript</th>\n",
       "      <th>dob</th>\n",
       "    </tr>\n",
       "  </thead>\n",
       "  <tbody>\n",
       "    <tr>\n",
       "      <th>11</th>\n",
       "      <td>Vir Das</td>\n",
       "      <td>Losing It</td>\n",
       "      <td>The world's got a lot of problems, but Vir Das...</td>\n",
       "      <td>2018</td>\n",
       "      <td>I lost 80% of my mind. It’s very freeing. You ...</td>\n",
       "      <td>https://scrapsfromtheloft.com/2018/12/15/vir-d...</td>\n",
       "      <td>42632</td>\n",
       "      <td>1979-05-31</td>\n",
       "    </tr>\n",
       "    <tr>\n",
       "      <th>33</th>\n",
       "      <td>Bert Kreischer</td>\n",
       "      <td>Secret Time</td>\n",
       "      <td>Bert regales the audience at the Trocadero The...</td>\n",
       "      <td>2018</td>\n",
       "      <td>[applause] [male presenter] Ladies and gentlem...</td>\n",
       "      <td>https://scrapsfromtheloft.com/2018/08/25/bert-...</td>\n",
       "      <td>45515</td>\n",
       "      <td>1997-01-01</td>\n",
       "    </tr>\n",
       "    <tr>\n",
       "      <th>67</th>\n",
       "      <td>Adel Karam</td>\n",
       "      <td>Live From Beirut</td>\n",
       "      <td>Adel Karam goes back to his hometown to appear...</td>\n",
       "      <td>2018</td>\n",
       "      <td>A NETFLIX COMEDY SPECIAL\\nRecorded at the Casi...</td>\n",
       "      <td>https://scrapsfromtheloft.com/2018/03/12/adel-...</td>\n",
       "      <td>35384</td>\n",
       "      <td>1972-08-20</td>\n",
       "    </tr>\n",
       "  </tbody>\n",
       "</table>\n",
       "</div>"
      ],
      "text/plain": [
       "              name                title  \\\n",
       "11         Vir Das          Losing It     \n",
       "33  Bert Kreischer        Secret Time     \n",
       "67      Adel Karam   Live From Beirut     \n",
       "\n",
       "                                              summary  year  \\\n",
       "11  The world's got a lot of problems, but Vir Das...  2018   \n",
       "33  Bert regales the audience at the Trocadero The...  2018   \n",
       "67  Adel Karam goes back to his hometown to appear...  2018   \n",
       "\n",
       "                                           transcript  \\\n",
       "11  I lost 80% of my mind. It’s very freeing. You ...   \n",
       "33  [applause] [male presenter] Ladies and gentlem...   \n",
       "67  A NETFLIX COMEDY SPECIAL\\nRecorded at the Casi...   \n",
       "\n",
       "                                                 link  len_transcript  \\\n",
       "11  https://scrapsfromtheloft.com/2018/12/15/vir-d...           42632   \n",
       "33  https://scrapsfromtheloft.com/2018/08/25/bert-...           45515   \n",
       "67  https://scrapsfromtheloft.com/2018/03/12/adel-...           35384   \n",
       "\n",
       "          dob  \n",
       "11 1979-05-31  \n",
       "33 1997-01-01  \n",
       "67 1972-08-20  "
      ]
     },
     "execution_count": 54,
     "metadata": {},
     "output_type": "execute_result"
    }
   ],
   "source": [
    "df[yr_filter]"
   ]
  },
  {
   "cell_type": "markdown",
   "metadata": {},
   "source": [
    "## Find age when special was recorded"
   ]
  },
  {
   "cell_type": "code",
   "execution_count": 55,
   "metadata": {},
   "outputs": [
    {
     "name": "stdout",
     "output_type": "stream",
     "text": [
      "<class 'pandas.core.frame.DataFrame'>\n",
      "Int64Index: 217 entries, 0 to 243\n",
      "Data columns (total 8 columns):\n",
      "name              217 non-null object\n",
      "title             217 non-null object\n",
      "summary           217 non-null object\n",
      "year              217 non-null int64\n",
      "transcript        217 non-null object\n",
      "link              217 non-null object\n",
      "len_transcript    217 non-null int64\n",
      "dob               217 non-null datetime64[ns]\n",
      "dtypes: datetime64[ns](1), int64(2), object(5)\n",
      "memory usage: 25.3+ KB\n"
     ]
    }
   ],
   "source": [
    "df.info()"
   ]
  },
  {
   "cell_type": "code",
   "execution_count": 56,
   "metadata": {},
   "outputs": [
    {
     "data": {
      "text/plain": [
       "<matplotlib.axes._subplots.AxesSubplot at 0x7fd687a19c18>"
      ]
     },
     "execution_count": 56,
     "metadata": {},
     "output_type": "execute_result"
    },
    {
     "data": {
      "image/png": "[encoded data removed]",
      "text/plain": [
       "<Figure size 432x288 with 1 Axes>"
      ]
     },
     "metadata": {
      "needs_background": "light"
     },
     "output_type": "display_data"
    }
   ],
   "source": [
    "sns.distplot(df.dob.dt.year)"
   ]
  },
  {
   "cell_type": "code",
   "execution_count": 58,
   "metadata": {},
   "outputs": [],
   "source": [
    "df['age_when_recorded'] = df.year - df.dob.dt.year"
   ]
  },
  {
   "cell_type": "code",
   "execution_count": 59,
   "metadata": {},
   "outputs": [
    {
     "data": {
      "text/html": [
       "<div>\n",
       "<style scoped>\n",
       "    .dataframe tbody tr th:only-of-type {\n",
       "        vertical-align: middle;\n",
       "    }\n",
       "\n",
       "    .dataframe tbody tr th {\n",
       "        vertical-align: top;\n",
       "    }\n",
       "\n",
       "    .dataframe thead th {\n",
       "        text-align: right;\n",
       "    }\n",
       "</style>\n",
       "<table border=\"1\" class=\"dataframe\">\n",
       "  <thead>\n",
       "    <tr style=\"text-align: right;\">\n",
       "      <th></th>\n",
       "      <th>name</th>\n",
       "      <th>title</th>\n",
       "      <th>summary</th>\n",
       "      <th>year</th>\n",
       "      <th>transcript</th>\n",
       "      <th>link</th>\n",
       "      <th>len_transcript</th>\n",
       "      <th>dob</th>\n",
       "      <th>age_when_recorded</th>\n",
       "    </tr>\n",
       "  </thead>\n",
       "  <tbody>\n",
       "    <tr>\n",
       "      <th>0</th>\n",
       "      <td>Enissa Amani</td>\n",
       "      <td>Ehrenwort</td>\n",
       "      <td>Live from Hamburg, Iranian-German comedian Eni...</td>\n",
       "      <td>2018</td>\n",
       "      <td>A NETFLIX ORIGINAL COMEDY SPECIAL\\nHey, what’s...</td>\n",
       "      <td>https://scrapsfromtheloft.com/2019/02/19/eniss...</td>\n",
       "      <td>55660</td>\n",
       "      <td>1981-01-01</td>\n",
       "      <td>37</td>\n",
       "    </tr>\n",
       "    <tr>\n",
       "      <th>2</th>\n",
       "      <td>Ken Jeong</td>\n",
       "      <td>You Complete Me, Ho</td>\n",
       "      <td>Filmed at the Ice House Comedy Club in Pasaden...</td>\n",
       "      <td>2019</td>\n",
       "      <td>The Hangover… Community… Dr. Ken… Crazy Rich A...</td>\n",
       "      <td>https://scrapsfromtheloft.com/2019/02/17/ken-j...</td>\n",
       "      <td>46046</td>\n",
       "      <td>1969-07-13</td>\n",
       "      <td>50</td>\n",
       "    </tr>\n",
       "    <tr>\n",
       "      <th>3</th>\n",
       "      <td>Ray Romano</td>\n",
       "      <td>Right Here, Around The Corner</td>\n",
       "      <td>Ray Romano cut his stand-up teeth at the Comed...</td>\n",
       "      <td>2019</td>\n",
       "      <td>It’s been 23 years since I did a comedy specia...</td>\n",
       "      <td>https://scrapsfromtheloft.com/2019/02/12/ray-r...</td>\n",
       "      <td>41464</td>\n",
       "      <td>1957-12-21</td>\n",
       "      <td>62</td>\n",
       "    </tr>\n",
       "    <tr>\n",
       "      <th>4</th>\n",
       "      <td>Gabriel Iglesias</td>\n",
       "      <td>One Show Fits All</td>\n",
       "      <td>In a new special from Houston, Gabriel \"Fluffy...</td>\n",
       "      <td>2019</td>\n",
       "      <td>[crowd chanting] Fluffy! Fluffy! [Fluffy shout...</td>\n",
       "      <td>https://scrapsfromtheloft.com/2019/01/30/gabri...</td>\n",
       "      <td>62291</td>\n",
       "      <td>1976-07-15</td>\n",
       "      <td>43</td>\n",
       "    </tr>\n",
       "    <tr>\n",
       "      <th>5</th>\n",
       "      <td>Sebastian Maniscalco</td>\n",
       "      <td>Stay Hungry</td>\n",
       "      <td>Sebastian's captivating storytelling keeps the...</td>\n",
       "      <td>2019</td>\n",
       "      <td>[instrumental music plays] ♪ All right ♪ [scre...</td>\n",
       "      <td>https://scrapsfromtheloft.com/2019/01/29/sebas...</td>\n",
       "      <td>40766</td>\n",
       "      <td>1973-01-01</td>\n",
       "      <td>46</td>\n",
       "    </tr>\n",
       "  </tbody>\n",
       "</table>\n",
       "</div>"
      ],
      "text/plain": [
       "                   name                             title  \\\n",
       "0          Enissa Amani                       Ehrenwort     \n",
       "2             Ken Jeong             You Complete Me, Ho     \n",
       "3            Ray Romano   Right Here, Around The Corner     \n",
       "4      Gabriel Iglesias               One Show Fits All     \n",
       "5  Sebastian Maniscalco                     Stay Hungry     \n",
       "\n",
       "                                             summary  year  \\\n",
       "0  Live from Hamburg, Iranian-German comedian Eni...  2018   \n",
       "2  Filmed at the Ice House Comedy Club in Pasaden...  2019   \n",
       "3  Ray Romano cut his stand-up teeth at the Comed...  2019   \n",
       "4  In a new special from Houston, Gabriel \"Fluffy...  2019   \n",
       "5  Sebastian's captivating storytelling keeps the...  2019   \n",
       "\n",
       "                                          transcript  \\\n",
       "0  A NETFLIX ORIGINAL COMEDY SPECIAL\\nHey, what’s...   \n",
       "2  The Hangover… Community… Dr. Ken… Crazy Rich A...   \n",
       "3  It’s been 23 years since I did a comedy specia...   \n",
       "4  [crowd chanting] Fluffy! Fluffy! [Fluffy shout...   \n",
       "5  [instrumental music plays] ♪ All right ♪ [scre...   \n",
       "\n",
       "                                                link  len_transcript  \\\n",
       "0  https://scrapsfromtheloft.com/2019/02/19/eniss...           55660   \n",
       "2  https://scrapsfromtheloft.com/2019/02/17/ken-j...           46046   \n",
       "3  https://scrapsfromtheloft.com/2019/02/12/ray-r...           41464   \n",
       "4  https://scrapsfromtheloft.com/2019/01/30/gabri...           62291   \n",
       "5  https://scrapsfromtheloft.com/2019/01/29/sebas...           40766   \n",
       "\n",
       "         dob  age_when_recorded  \n",
       "0 1981-01-01                 37  \n",
       "2 1969-07-13                 50  \n",
       "3 1957-12-21                 62  \n",
       "4 1976-07-15                 43  \n",
       "5 1973-01-01                 46  "
      ]
     },
     "execution_count": 59,
     "metadata": {},
     "output_type": "execute_result"
    }
   ],
   "source": [
    "df.head()"
   ]
  },
  {
   "cell_type": "code",
   "execution_count": 60,
   "metadata": {},
   "outputs": [
    {
     "data": {
      "text/plain": [
       "<matplotlib.axes._subplots.AxesSubplot at 0x7fd687a2a438>"
      ]
     },
     "execution_count": 60,
     "metadata": {},
     "output_type": "execute_result"
    },
    {
     "data": {
      "image/png": "[encoded data removed]",
      "text/plain": [
       "<Figure size 432x288 with 1 Axes>"
      ]
     },
     "metadata": {
      "needs_background": "light"
     },
     "output_type": "display_data"
    }
   ],
   "source": [
    "sns.distplot(df.age_when_recorded)"
   ]
  },
  {
   "cell_type": "markdown",
   "metadata": {},
   "source": [
    "## Save"
   ]
  },
  {
   "cell_type": "code",
   "execution_count": 61,
   "metadata": {},
   "outputs": [],
   "source": [
    "# raw_data\n",
    "file = '05_clean_data.csv'\n",
    "data_directory = os.path.join( '..','data','raw_data/{}'.format(file))"
   ]
  },
  {
   "cell_type": "code",
   "execution_count": 62,
   "metadata": {},
   "outputs": [],
   "source": [
    "df.to_csv(data_directory,index=False)"
   ]
  },
  {
   "cell_type": "code",
   "execution_count": null,
   "metadata": {},
   "outputs": [],
   "source": []
  }
 ],
 "metadata": {
  "kernelspec": {
   "display_name": "Python 3",
   "language": "python",
   "name": "python3"
  },
  "language_info": {
   "codemirror_mode": {
    "name": "ipython",
    "version": 3
   },
   "file_extension": ".py",
   "mimetype": "text/x-python",
   "name": "python",
   "nbconvert_exporter": "python",
   "pygments_lexer": "ipython3",
   "version": "3.7.2"
  }
 },
 "nbformat": 4,
 "nbformat_minor": 2
}
