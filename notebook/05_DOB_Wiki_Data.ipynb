{
 "cells": [
  {
   "cell_type": "code",
   "execution_count": null,
   "metadata": {},
   "outputs": [],
   "source": []
  },
  {
   "cell_type": "code",
   "execution_count": 1,
   "metadata": {},
   "outputs": [],
   "source": [
    "import wikipedia as wk\n",
    "import re\n",
    "from IPython.core.display import clear_output"
   ]
  },
  {
   "cell_type": "code",
   "execution_count": 2,
   "metadata": {},
   "outputs": [],
   "source": [
    "import pandas as pd\n",
    "import numpy as np\n",
    "import seaborn as sns\n",
    "import matplotlib.pyplot as plt\n",
    "import os\n",
    "import re\n",
    "plt.style.use('ggplot')"
   ]
  },
  {
   "cell_type": "code",
   "execution_count": 3,
   "metadata": {},
   "outputs": [],
   "source": [
    "sns.set(rc={'figure.figsize':(10.7,4.27)})"
   ]
  },
  {
   "cell_type": "markdown",
   "metadata": {},
   "source": [
    "## Load dataframe"
   ]
  },
  {
   "cell_type": "code",
   "execution_count": 4,
   "metadata": {},
   "outputs": [],
   "source": [
    "# raw_data\n",
    "file = '04_clean_data_OCT_19.csv'\n",
    "data_directory = os.path.join( '..','data','raw_data/{}'.format(file))"
   ]
  },
  {
   "cell_type": "code",
   "execution_count": 5,
   "metadata": {},
   "outputs": [],
   "source": [
    "df= pd.read_csv(data_directory)"
   ]
  },
  {
   "cell_type": "code",
   "execution_count": 6,
   "metadata": {},
   "outputs": [
    {
     "name": "stdout",
     "output_type": "stream",
     "text": [
      "<class 'pandas.core.frame.DataFrame'>\n",
      "RangeIndex: 284 entries, 0 to 283\n",
      "Data columns (total 6 columns):\n",
      "name          284 non-null object\n",
      "title         284 non-null object\n",
      "summary       284 non-null object\n",
      "year          284 non-null int64\n",
      "transcript    284 non-null object\n",
      "link          284 non-null object\n",
      "dtypes: int64(1), object(5)\n",
      "memory usage: 13.4+ KB\n"
     ]
    }
   ],
   "source": [
    "df.info()"
   ]
  },
  {
   "cell_type": "code",
   "execution_count": 7,
   "metadata": {},
   "outputs": [
    {
     "data": {
      "text/html": [
       "<div>\n",
       "<style scoped>\n",
       "    .dataframe tbody tr th:only-of-type {\n",
       "        vertical-align: middle;\n",
       "    }\n",
       "\n",
       "    .dataframe tbody tr th {\n",
       "        vertical-align: top;\n",
       "    }\n",
       "\n",
       "    .dataframe thead th {\n",
       "        text-align: right;\n",
       "    }\n",
       "</style>\n",
       "<table border=\"1\" class=\"dataframe\">\n",
       "  <thead>\n",
       "    <tr style=\"text-align: right;\">\n",
       "      <th></th>\n",
       "      <th>name</th>\n",
       "      <th>title</th>\n",
       "      <th>summary</th>\n",
       "      <th>year</th>\n",
       "      <th>transcript</th>\n",
       "      <th>link</th>\n",
       "    </tr>\n",
       "  </thead>\n",
       "  <tbody>\n",
       "    <tr>\n",
       "      <th>0</th>\n",
       "      <td>Nikki Glaser</td>\n",
       "      <td>Bangin’</td>\n",
       "      <td>A NETFLIX ORIGINAL COMEDY SPECIAL Thank you! T...</td>\n",
       "      <td>2019</td>\n",
       "      <td>A NETFLIX ORIGINAL COMEDY SPECIAL\\nThank you! ...</td>\n",
       "      <td>https://scrapsfromtheloft.com/2019/10/04/nikki...</td>\n",
       "    </tr>\n",
       "    <tr>\n",
       "      <th>1</th>\n",
       "      <td>Ryan Hamilton</td>\n",
       "      <td>The Tonight Show Starring Jimmy Fallon</td>\n",
       "      <td>Ryan Hamilton makes his Tonight Show debut wit...</td>\n",
       "      <td>2019</td>\n",
       "      <td>Published on Sep 11, 2019\\nThe Tonight Show St...</td>\n",
       "      <td>https://scrapsfromtheloft.com/2019/09/25/ryan-...</td>\n",
       "    </tr>\n",
       "    <tr>\n",
       "      <th>2</th>\n",
       "      <td>Mark Normandthe Tonight Show Starring Jimmy Fa...</td>\n",
       "      <td>Mark Normand  The Tonight Show Starring Jimmy ...</td>\n",
       "      <td>Mark Normand is back on The Tonight Show with ...</td>\n",
       "      <td>2019</td>\n",
       "      <td>Aired on September 19, 2019\\nHey, hey. All rig...</td>\n",
       "      <td>https://scrapsfromtheloft.com/2019/09/21/mark-...</td>\n",
       "    </tr>\n",
       "    <tr>\n",
       "      <th>3</th>\n",
       "      <td>George Carlin</td>\n",
       "      <td>Dumb Americans</td>\n",
       "      <td>Full transcript of George Carlin's \"Dumb Ameri...</td>\n",
       "      <td>2006</td>\n",
       "      <td>From Life Is Worth Losing\\nRecorded on Novembe...</td>\n",
       "      <td>https://scrapsfromtheloft.com/2019/09/12/georg...</td>\n",
       "    </tr>\n",
       "    <tr>\n",
       "      <th>4</th>\n",
       "      <td>Bill Burr</td>\n",
       "      <td>Paper Tiger</td>\n",
       "      <td>Only a few weeks after Dave Chappelle's \"Stick...</td>\n",
       "      <td>2019</td>\n",
       "      <td>Recorded Live at the Royal Albert Hall, London...</td>\n",
       "      <td>https://scrapsfromtheloft.com/2019/09/10/bill-...</td>\n",
       "    </tr>\n",
       "  </tbody>\n",
       "</table>\n",
       "</div>"
      ],
      "text/plain": [
       "                                                name  \\\n",
       "0                                       Nikki Glaser   \n",
       "1                                      Ryan Hamilton   \n",
       "2  Mark Normandthe Tonight Show Starring Jimmy Fa...   \n",
       "3                                      George Carlin   \n",
       "4                                          Bill Burr   \n",
       "\n",
       "                                               title  \\\n",
       "0                                            Bangin’   \n",
       "1             The Tonight Show Starring Jimmy Fallon   \n",
       "2  Mark Normand  The Tonight Show Starring Jimmy ...   \n",
       "3                                     Dumb Americans   \n",
       "4                                        Paper Tiger   \n",
       "\n",
       "                                             summary  year  \\\n",
       "0  A NETFLIX ORIGINAL COMEDY SPECIAL Thank you! T...  2019   \n",
       "1  Ryan Hamilton makes his Tonight Show debut wit...  2019   \n",
       "2  Mark Normand is back on The Tonight Show with ...  2019   \n",
       "3  Full transcript of George Carlin's \"Dumb Ameri...  2006   \n",
       "4  Only a few weeks after Dave Chappelle's \"Stick...  2019   \n",
       "\n",
       "                                          transcript  \\\n",
       "0  A NETFLIX ORIGINAL COMEDY SPECIAL\\nThank you! ...   \n",
       "1  Published on Sep 11, 2019\\nThe Tonight Show St...   \n",
       "2  Aired on September 19, 2019\\nHey, hey. All rig...   \n",
       "3  From Life Is Worth Losing\\nRecorded on Novembe...   \n",
       "4  Recorded Live at the Royal Albert Hall, London...   \n",
       "\n",
       "                                                link  \n",
       "0  https://scrapsfromtheloft.com/2019/10/04/nikki...  \n",
       "1  https://scrapsfromtheloft.com/2019/09/25/ryan-...  \n",
       "2  https://scrapsfromtheloft.com/2019/09/21/mark-...  \n",
       "3  https://scrapsfromtheloft.com/2019/09/12/georg...  \n",
       "4  https://scrapsfromtheloft.com/2019/09/10/bill-...  "
      ]
     },
     "execution_count": 7,
     "metadata": {},
     "output_type": "execute_result"
    }
   ],
   "source": [
    "df.head()"
   ]
  },
  {
   "cell_type": "markdown",
   "metadata": {},
   "source": [
    "## Inspect Names"
   ]
  },
  {
   "cell_type": "code",
   "execution_count": null,
   "metadata": {},
   "outputs": [],
   "source": [
    "df[40:60]"
   ]
  },
  {
   "cell_type": "code",
   "execution_count": 8,
   "metadata": {},
   "outputs": [],
   "source": [
    "# fix Jeff Foxworthylarry The Cable Guy\t to just Jeff Foxworthy\n",
    "# fix name\n",
    "df.loc[50, 'name'] = 'Jeff Foxworthy'"
   ]
  },
  {
   "cell_type": "code",
   "execution_count": 9,
   "metadata": {},
   "outputs": [
    {
     "data": {
      "text/html": [
       "<div>\n",
       "<style scoped>\n",
       "    .dataframe tbody tr th:only-of-type {\n",
       "        vertical-align: middle;\n",
       "    }\n",
       "\n",
       "    .dataframe tbody tr th {\n",
       "        vertical-align: top;\n",
       "    }\n",
       "\n",
       "    .dataframe thead th {\n",
       "        text-align: right;\n",
       "    }\n",
       "</style>\n",
       "<table border=\"1\" class=\"dataframe\">\n",
       "  <thead>\n",
       "    <tr style=\"text-align: right;\">\n",
       "      <th></th>\n",
       "      <th>name</th>\n",
       "      <th>title</th>\n",
       "      <th>summary</th>\n",
       "      <th>year</th>\n",
       "      <th>transcript</th>\n",
       "      <th>link</th>\n",
       "    </tr>\n",
       "  </thead>\n",
       "  <tbody>\n",
       "    <tr>\n",
       "      <th>45</th>\n",
       "      <td>Ellen Degeneres</td>\n",
       "      <td>Relatable</td>\n",
       "      <td>In her first special since 2003, Ellen revisit...</td>\n",
       "      <td>2018</td>\n",
       "      <td>A NETFLIX ORIGINAL COMEDY SPECIAL\\n[crowd chee...</td>\n",
       "      <td>https://scrapsfromtheloft.com/2018/12/22/ellen...</td>\n",
       "    </tr>\n",
       "    <tr>\n",
       "      <th>46</th>\n",
       "      <td>Pete Holmes</td>\n",
       "      <td>Dirty Clean</td>\n",
       "      <td>The stand-up special Pete Holmes: Dirty Clean ...</td>\n",
       "      <td>2018</td>\n",
       "      <td>(crowd murmurs) Announcer: Ladies and gentleme...</td>\n",
       "      <td>https://scrapsfromtheloft.com/2018/12/19/pete-...</td>\n",
       "    </tr>\n",
       "    <tr>\n",
       "      <th>47</th>\n",
       "      <td>Vir Das</td>\n",
       "      <td>Losing It</td>\n",
       "      <td>The world's got a lot of problems, but Vir Das...</td>\n",
       "      <td>2018</td>\n",
       "      <td>I lost 80% of my mind. It’s very freeing. You ...</td>\n",
       "      <td>https://scrapsfromtheloft.com/2018/12/15/vir-d...</td>\n",
       "    </tr>\n",
       "    <tr>\n",
       "      <th>48</th>\n",
       "      <td>Volker Pispers</td>\n",
       "      <td>About Usa</td>\n",
       "      <td>Last part of Volker Pispers' program \"Bis neul...</td>\n",
       "      <td>2004</td>\n",
       "      <td>Last part of Volker Pispers’ program “Bis neul...</td>\n",
       "      <td>https://scrapsfromtheloft.com/2018/11/27/volke...</td>\n",
       "    </tr>\n",
       "    <tr>\n",
       "      <th>49</th>\n",
       "      <td>Trevor Noah</td>\n",
       "      <td>Son Of Patricia</td>\n",
       "      <td>Trevor Noah gets out from behind the \"Daily Sh...</td>\n",
       "      <td>2018</td>\n",
       "      <td>A NETFLIX ORIGINAL COMEDY SPECIAL [distant tra...</td>\n",
       "      <td>https://scrapsfromtheloft.com/2018/11/21/trevo...</td>\n",
       "    </tr>\n",
       "    <tr>\n",
       "      <th>50</th>\n",
       "      <td>Jeff Foxworthy</td>\n",
       "      <td>We’Ve Been Thinking</td>\n",
       "      <td>Comedians Jeff Foxworthy and Larry the Cable G...</td>\n",
       "      <td>2016</td>\n",
       "      <td>When you start doing what Jeff and I do this i...</td>\n",
       "      <td>https://scrapsfromtheloft.com/2018/10/28/jeff-...</td>\n",
       "    </tr>\n",
       "  </tbody>\n",
       "</table>\n",
       "</div>"
      ],
      "text/plain": [
       "               name                title  \\\n",
       "45  Ellen Degeneres            Relatable   \n",
       "46      Pete Holmes          Dirty Clean   \n",
       "47          Vir Das            Losing It   \n",
       "48   Volker Pispers            About Usa   \n",
       "49      Trevor Noah      Son Of Patricia   \n",
       "50   Jeff Foxworthy  We’Ve Been Thinking   \n",
       "\n",
       "                                              summary  year  \\\n",
       "45  In her first special since 2003, Ellen revisit...  2018   \n",
       "46  The stand-up special Pete Holmes: Dirty Clean ...  2018   \n",
       "47  The world's got a lot of problems, but Vir Das...  2018   \n",
       "48  Last part of Volker Pispers' program \"Bis neul...  2004   \n",
       "49  Trevor Noah gets out from behind the \"Daily Sh...  2018   \n",
       "50  Comedians Jeff Foxworthy and Larry the Cable G...  2016   \n",
       "\n",
       "                                           transcript  \\\n",
       "45  A NETFLIX ORIGINAL COMEDY SPECIAL\\n[crowd chee...   \n",
       "46  (crowd murmurs) Announcer: Ladies and gentleme...   \n",
       "47  I lost 80% of my mind. It’s very freeing. You ...   \n",
       "48  Last part of Volker Pispers’ program “Bis neul...   \n",
       "49  A NETFLIX ORIGINAL COMEDY SPECIAL [distant tra...   \n",
       "50  When you start doing what Jeff and I do this i...   \n",
       "\n",
       "                                                 link  \n",
       "45  https://scrapsfromtheloft.com/2018/12/22/ellen...  \n",
       "46  https://scrapsfromtheloft.com/2018/12/19/pete-...  \n",
       "47  https://scrapsfromtheloft.com/2018/12/15/vir-d...  \n",
       "48  https://scrapsfromtheloft.com/2018/11/27/volke...  \n",
       "49  https://scrapsfromtheloft.com/2018/11/21/trevo...  \n",
       "50  https://scrapsfromtheloft.com/2018/10/28/jeff-...  "
      ]
     },
     "execution_count": 9,
     "metadata": {},
     "output_type": "execute_result"
    }
   ],
   "source": [
    "df[45:51]"
   ]
  },
  {
   "cell_type": "markdown",
   "metadata": {},
   "source": [
    "## Get len of transcript"
   ]
  },
  {
   "cell_type": "code",
   "execution_count": 10,
   "metadata": {},
   "outputs": [],
   "source": [
    "df['len_transcript'] = df.transcript.str.len()"
   ]
  },
  {
   "cell_type": "code",
   "execution_count": 11,
   "metadata": {},
   "outputs": [
    {
     "data": {
      "text/plain": [
       "count      284.000000\n",
       "mean     44476.133803\n",
       "std      17255.660658\n",
       "min       2491.000000\n",
       "25%      38265.000000\n",
       "50%      46805.000000\n",
       "75%      55752.750000\n",
       "max      86391.000000\n",
       "Name: len_transcript, dtype: float64"
      ]
     },
     "execution_count": 11,
     "metadata": {},
     "output_type": "execute_result"
    }
   ],
   "source": [
    "df.len_transcript.describe()"
   ]
  },
  {
   "cell_type": "code",
   "execution_count": 12,
   "metadata": {},
   "outputs": [
    {
     "data": {
      "text/html": [
       "<div>\n",
       "<style scoped>\n",
       "    .dataframe tbody tr th:only-of-type {\n",
       "        vertical-align: middle;\n",
       "    }\n",
       "\n",
       "    .dataframe tbody tr th {\n",
       "        vertical-align: top;\n",
       "    }\n",
       "\n",
       "    .dataframe thead th {\n",
       "        text-align: right;\n",
       "    }\n",
       "</style>\n",
       "<table border=\"1\" class=\"dataframe\">\n",
       "  <thead>\n",
       "    <tr style=\"text-align: right;\">\n",
       "      <th></th>\n",
       "      <th>name</th>\n",
       "      <th>title</th>\n",
       "      <th>summary</th>\n",
       "      <th>year</th>\n",
       "      <th>transcript</th>\n",
       "      <th>link</th>\n",
       "      <th>len_transcript</th>\n",
       "    </tr>\n",
       "  </thead>\n",
       "  <tbody>\n",
       "    <tr>\n",
       "      <th>0</th>\n",
       "      <td>Nikki Glaser</td>\n",
       "      <td>Bangin’</td>\n",
       "      <td>A NETFLIX ORIGINAL COMEDY SPECIAL Thank you! T...</td>\n",
       "      <td>2019</td>\n",
       "      <td>A NETFLIX ORIGINAL COMEDY SPECIAL\\nThank you! ...</td>\n",
       "      <td>https://scrapsfromtheloft.com/2019/10/04/nikki...</td>\n",
       "      <td>53937</td>\n",
       "    </tr>\n",
       "    <tr>\n",
       "      <th>1</th>\n",
       "      <td>Ryan Hamilton</td>\n",
       "      <td>The Tonight Show Starring Jimmy Fallon</td>\n",
       "      <td>Ryan Hamilton makes his Tonight Show debut wit...</td>\n",
       "      <td>2019</td>\n",
       "      <td>Published on Sep 11, 2019\\nThe Tonight Show St...</td>\n",
       "      <td>https://scrapsfromtheloft.com/2019/09/25/ryan-...</td>\n",
       "      <td>5040</td>\n",
       "    </tr>\n",
       "    <tr>\n",
       "      <th>2</th>\n",
       "      <td>Mark Normandthe Tonight Show Starring Jimmy Fa...</td>\n",
       "      <td>Mark Normand  The Tonight Show Starring Jimmy ...</td>\n",
       "      <td>Mark Normand is back on The Tonight Show with ...</td>\n",
       "      <td>2019</td>\n",
       "      <td>Aired on September 19, 2019\\nHey, hey. All rig...</td>\n",
       "      <td>https://scrapsfromtheloft.com/2019/09/21/mark-...</td>\n",
       "      <td>5544</td>\n",
       "    </tr>\n",
       "    <tr>\n",
       "      <th>3</th>\n",
       "      <td>George Carlin</td>\n",
       "      <td>Dumb Americans</td>\n",
       "      <td>Full transcript of George Carlin's \"Dumb Ameri...</td>\n",
       "      <td>2006</td>\n",
       "      <td>From Life Is Worth Losing\\nRecorded on Novembe...</td>\n",
       "      <td>https://scrapsfromtheloft.com/2019/09/12/georg...</td>\n",
       "      <td>12598</td>\n",
       "    </tr>\n",
       "    <tr>\n",
       "      <th>4</th>\n",
       "      <td>Bill Burr</td>\n",
       "      <td>Paper Tiger</td>\n",
       "      <td>Only a few weeks after Dave Chappelle's \"Stick...</td>\n",
       "      <td>2019</td>\n",
       "      <td>Recorded Live at the Royal Albert Hall, London...</td>\n",
       "      <td>https://scrapsfromtheloft.com/2019/09/10/bill-...</td>\n",
       "      <td>60486</td>\n",
       "    </tr>\n",
       "  </tbody>\n",
       "</table>\n",
       "</div>"
      ],
      "text/plain": [
       "                                                name  \\\n",
       "0                                       Nikki Glaser   \n",
       "1                                      Ryan Hamilton   \n",
       "2  Mark Normandthe Tonight Show Starring Jimmy Fa...   \n",
       "3                                      George Carlin   \n",
       "4                                          Bill Burr   \n",
       "\n",
       "                                               title  \\\n",
       "0                                            Bangin’   \n",
       "1             The Tonight Show Starring Jimmy Fallon   \n",
       "2  Mark Normand  The Tonight Show Starring Jimmy ...   \n",
       "3                                     Dumb Americans   \n",
       "4                                        Paper Tiger   \n",
       "\n",
       "                                             summary  year  \\\n",
       "0  A NETFLIX ORIGINAL COMEDY SPECIAL Thank you! T...  2019   \n",
       "1  Ryan Hamilton makes his Tonight Show debut wit...  2019   \n",
       "2  Mark Normand is back on The Tonight Show with ...  2019   \n",
       "3  Full transcript of George Carlin's \"Dumb Ameri...  2006   \n",
       "4  Only a few weeks after Dave Chappelle's \"Stick...  2019   \n",
       "\n",
       "                                          transcript  \\\n",
       "0  A NETFLIX ORIGINAL COMEDY SPECIAL\\nThank you! ...   \n",
       "1  Published on Sep 11, 2019\\nThe Tonight Show St...   \n",
       "2  Aired on September 19, 2019\\nHey, hey. All rig...   \n",
       "3  From Life Is Worth Losing\\nRecorded on Novembe...   \n",
       "4  Recorded Live at the Royal Albert Hall, London...   \n",
       "\n",
       "                                                link  len_transcript  \n",
       "0  https://scrapsfromtheloft.com/2019/10/04/nikki...           53937  \n",
       "1  https://scrapsfromtheloft.com/2019/09/25/ryan-...            5040  \n",
       "2  https://scrapsfromtheloft.com/2019/09/21/mark-...            5544  \n",
       "3  https://scrapsfromtheloft.com/2019/09/12/georg...           12598  \n",
       "4  https://scrapsfromtheloft.com/2019/09/10/bill-...           60486  "
      ]
     },
     "execution_count": 12,
     "metadata": {},
     "output_type": "execute_result"
    }
   ],
   "source": [
    "df.head()"
   ]
  },
  {
   "cell_type": "code",
   "execution_count": 13,
   "metadata": {},
   "outputs": [
    {
     "data": {
      "text/plain": [
       "Text(0.5, 1.0, 'length of Transcript Distribution')"
      ]
     },
     "execution_count": 13,
     "metadata": {},
     "output_type": "execute_result"
    },
    {
     "data": {
      "image/png": "[encoded data removed]",
      "text/plain": [
       "<Figure size 770.4x307.44 with 1 Axes>"
      ]
     },
     "metadata": {},
     "output_type": "display_data"
    }
   ],
   "source": [
    "sns.distplot(df.len_transcript)\n",
    "plt.title('length of Transcript Distribution')"
   ]
  },
  {
   "cell_type": "markdown",
   "metadata": {},
   "source": [
    "## drop any transcripts < 20000\n",
    "Lets only select transcripts that are 20K words or longer"
   ]
  },
  {
   "cell_type": "code",
   "execution_count": 15,
   "metadata": {},
   "outputs": [],
   "source": [
    "large_transcripts = df.len_transcript>= 20000"
   ]
  },
  {
   "cell_type": "code",
   "execution_count": 16,
   "metadata": {},
   "outputs": [],
   "source": [
    "df = df[large_transcripts]"
   ]
  },
  {
   "cell_type": "code",
   "execution_count": 17,
   "metadata": {},
   "outputs": [
    {
     "data": {
      "text/plain": [
       "Text(0.5, 1.0, 'length of Transcript Distribution')"
      ]
     },
     "execution_count": 17,
     "metadata": {},
     "output_type": "execute_result"
    },
    {
     "data": {
      "image/png": "[encoded data removed]",
      "text/plain": [
       "<Figure size 770.4x307.44 with 1 Axes>"
      ]
     },
     "metadata": {},
     "output_type": "display_data"
    }
   ],
   "source": [
    "sns.distplot(df.len_transcript)\n",
    "plt.title('length of Transcript Distribution')"
   ]
  },
  {
   "cell_type": "code",
   "execution_count": 18,
   "metadata": {},
   "outputs": [
    {
     "data": {
      "text/html": [
       "<div>\n",
       "<style scoped>\n",
       "    .dataframe tbody tr th:only-of-type {\n",
       "        vertical-align: middle;\n",
       "    }\n",
       "\n",
       "    .dataframe tbody tr th {\n",
       "        vertical-align: top;\n",
       "    }\n",
       "\n",
       "    .dataframe thead th {\n",
       "        text-align: right;\n",
       "    }\n",
       "</style>\n",
       "<table border=\"1\" class=\"dataframe\">\n",
       "  <thead>\n",
       "    <tr style=\"text-align: right;\">\n",
       "      <th></th>\n",
       "      <th>name</th>\n",
       "      <th>title</th>\n",
       "      <th>summary</th>\n",
       "      <th>year</th>\n",
       "      <th>transcript</th>\n",
       "      <th>link</th>\n",
       "      <th>len_transcript</th>\n",
       "    </tr>\n",
       "  </thead>\n",
       "  <tbody>\n",
       "    <tr>\n",
       "      <th>0</th>\n",
       "      <td>Nikki Glaser</td>\n",
       "      <td>Bangin’</td>\n",
       "      <td>A NETFLIX ORIGINAL COMEDY SPECIAL Thank you! T...</td>\n",
       "      <td>2019</td>\n",
       "      <td>A NETFLIX ORIGINAL COMEDY SPECIAL\\nThank you! ...</td>\n",
       "      <td>https://scrapsfromtheloft.com/2019/10/04/nikki...</td>\n",
       "      <td>53937</td>\n",
       "    </tr>\n",
       "    <tr>\n",
       "      <th>4</th>\n",
       "      <td>Bill Burr</td>\n",
       "      <td>Paper Tiger</td>\n",
       "      <td>Only a few weeks after Dave Chappelle's \"Stick...</td>\n",
       "      <td>2019</td>\n",
       "      <td>Recorded Live at the Royal Albert Hall, London...</td>\n",
       "      <td>https://scrapsfromtheloft.com/2019/09/10/bill-...</td>\n",
       "      <td>60486</td>\n",
       "    </tr>\n",
       "    <tr>\n",
       "      <th>6</th>\n",
       "      <td>Amazon Rainforestclimate Changedeforestationha...</td>\n",
       "      <td>Brazil, Corruption And The Amazon Rainforest |...</td>\n",
       "      <td>Hasan explains why Brazil's Trump-like preside...</td>\n",
       "      <td>0</td>\n",
       "      <td>On this episode of Patriot Act, Hasan breaks d...</td>\n",
       "      <td>https://scrapsfromtheloft.com/2019/08/26/brazi...</td>\n",
       "      <td>20019</td>\n",
       "    </tr>\n",
       "    <tr>\n",
       "      <th>7</th>\n",
       "      <td>Dave Chappelle</td>\n",
       "      <td>Sticks &amp; Stones</td>\n",
       "      <td>Legendary comedian Dave Chappelle is back with...</td>\n",
       "      <td>2019</td>\n",
       "      <td>Sticks &amp; Stones is Dave Chappelle’s fifth Netf...</td>\n",
       "      <td>https://scrapsfromtheloft.com/2019/08/26/dave-...</td>\n",
       "      <td>42293</td>\n",
       "    </tr>\n",
       "    <tr>\n",
       "      <th>8</th>\n",
       "      <td>Emily Heller</td>\n",
       "      <td>Ice Thickeners</td>\n",
       "      <td>Emily Heller compares Donald Trump to Air Bud,...</td>\n",
       "      <td>2019</td>\n",
       "      <td>Emily Heller compares Donald Trump to Air Bud,...</td>\n",
       "      <td>https://scrapsfromtheloft.com/2019/08/25/emily...</td>\n",
       "      <td>44383</td>\n",
       "    </tr>\n",
       "  </tbody>\n",
       "</table>\n",
       "</div>"
      ],
      "text/plain": [
       "                                                name  \\\n",
       "0                                       Nikki Glaser   \n",
       "4                                          Bill Burr   \n",
       "6  Amazon Rainforestclimate Changedeforestationha...   \n",
       "7                                     Dave Chappelle   \n",
       "8                                       Emily Heller   \n",
       "\n",
       "                                               title  \\\n",
       "0                                            Bangin’   \n",
       "4                                        Paper Tiger   \n",
       "6  Brazil, Corruption And The Amazon Rainforest |...   \n",
       "7                                    Sticks & Stones   \n",
       "8                                     Ice Thickeners   \n",
       "\n",
       "                                             summary  year  \\\n",
       "0  A NETFLIX ORIGINAL COMEDY SPECIAL Thank you! T...  2019   \n",
       "4  Only a few weeks after Dave Chappelle's \"Stick...  2019   \n",
       "6  Hasan explains why Brazil's Trump-like preside...     0   \n",
       "7  Legendary comedian Dave Chappelle is back with...  2019   \n",
       "8  Emily Heller compares Donald Trump to Air Bud,...  2019   \n",
       "\n",
       "                                          transcript  \\\n",
       "0  A NETFLIX ORIGINAL COMEDY SPECIAL\\nThank you! ...   \n",
       "4  Recorded Live at the Royal Albert Hall, London...   \n",
       "6  On this episode of Patriot Act, Hasan breaks d...   \n",
       "7  Sticks & Stones is Dave Chappelle’s fifth Netf...   \n",
       "8  Emily Heller compares Donald Trump to Air Bud,...   \n",
       "\n",
       "                                                link  len_transcript  \n",
       "0  https://scrapsfromtheloft.com/2019/10/04/nikki...           53937  \n",
       "4  https://scrapsfromtheloft.com/2019/09/10/bill-...           60486  \n",
       "6  https://scrapsfromtheloft.com/2019/08/26/brazi...           20019  \n",
       "7  https://scrapsfromtheloft.com/2019/08/26/dave-...           42293  \n",
       "8  https://scrapsfromtheloft.com/2019/08/25/emily...           44383  "
      ]
     },
     "execution_count": 18,
     "metadata": {},
     "output_type": "execute_result"
    }
   ],
   "source": [
    "df.head()"
   ]
  },
  {
   "cell_type": "markdown",
   "metadata": {},
   "source": [
    "## Extract DOB from wikipedia"
   ]
  },
  {
   "cell_type": "code",
   "execution_count": 26,
   "metadata": {},
   "outputs": [],
   "source": [
    "def get_bday_wiki_rx(data):\n",
    "    '''call wikipedia API to extract DOB from summary'''\n",
    "    pat = r'(\\d{2}\\s[A-z]+\\s|[A-z]+\\s\\d{2},?\\s)?\\d{4}'\n",
    "    pattern = re.compile(pat,re.IGNORECASE|re.VERBOSE)\n",
    "    name = data['name']\n",
    "    print('bday extraction: {}'.format(name))\n",
    "    clear_output(wait = True)\n",
    "    try:\n",
    "        page = wk.page(name)\n",
    "        result = pattern.search(page.content).group()\n",
    "        return result\n",
    "    except:\n",
    "        print('Some error.')"
   ]
  },
  {
   "cell_type": "markdown",
   "metadata": {},
   "source": [
    "## Extract Sex from wikipedia"
   ]
  },
  {
   "cell_type": "code",
   "execution_count": 27,
   "metadata": {},
   "outputs": [],
   "source": [
    "def get_sex_wiki_rx(data):\n",
    "    '''call wikipedia API to extact sex of person\n",
    "    by searching how they are described'''\n",
    "    pat = r'(He|She)'\n",
    "    pattern = re.compile(pat,re.IGNORECASE|re.VERBOSE)\n",
    "    name= data['name']\n",
    "    print('sex extraction: {}'.format(name))\n",
    "    clear_output(wait = True)\n",
    "    try:\n",
    "        page = wk.page(name)\n",
    "        result = pattern.search(page.content).group()\n",
    "        result = result.title()\n",
    "        if result == 'She':\n",
    "            return 'Female'\n",
    "        elif result == 'He':\n",
    "            return 'Male'\n",
    "        else:\n",
    "            return 'Unk'\n",
    "    except:\n",
    "        print('Some error')"
   ]
  },
  {
   "cell_type": "markdown",
   "metadata": {},
   "source": [
    "## Apply functions"
   ]
  },
  {
   "cell_type": "code",
   "execution_count": 21,
   "metadata": {},
   "outputs": [
    {
     "data": {
      "text/plain": [
       "129"
      ]
     },
     "execution_count": 21,
     "metadata": {},
     "output_type": "execute_result"
    }
   ],
   "source": [
    "len(df.name.value_counts(dropna=False))"
   ]
  },
  {
   "cell_type": "code",
   "execution_count": 22,
   "metadata": {},
   "outputs": [
    {
     "data": {
      "text/plain": [
       "248"
      ]
     },
     "execution_count": 22,
     "metadata": {},
     "output_type": "execute_result"
    }
   ],
   "source": [
    "len(df)"
   ]
  },
  {
   "cell_type": "code",
   "execution_count": 23,
   "metadata": {},
   "outputs": [],
   "source": [
    "name_list = list(df.name.unique())"
   ]
  },
  {
   "cell_type": "code",
   "execution_count": 24,
   "metadata": {},
   "outputs": [
    {
     "data": {
      "text/plain": [
       "129"
      ]
     },
     "execution_count": 24,
     "metadata": {},
     "output_type": "execute_result"
    }
   ],
   "source": [
    "len(name_list)"
   ]
  },
  {
   "cell_type": "code",
   "execution_count": 25,
   "metadata": {},
   "outputs": [
    {
     "data": {
      "text/html": [
       "<div>\n",
       "<style scoped>\n",
       "    .dataframe tbody tr th:only-of-type {\n",
       "        vertical-align: middle;\n",
       "    }\n",
       "\n",
       "    .dataframe tbody tr th {\n",
       "        vertical-align: top;\n",
       "    }\n",
       "\n",
       "    .dataframe thead th {\n",
       "        text-align: right;\n",
       "    }\n",
       "</style>\n",
       "<table border=\"1\" class=\"dataframe\">\n",
       "  <thead>\n",
       "    <tr style=\"text-align: right;\">\n",
       "      <th></th>\n",
       "      <th>name</th>\n",
       "    </tr>\n",
       "  </thead>\n",
       "  <tbody>\n",
       "    <tr>\n",
       "      <th>0</th>\n",
       "      <td>Nikki Glaser</td>\n",
       "    </tr>\n",
       "    <tr>\n",
       "      <th>1</th>\n",
       "      <td>Bill Burr</td>\n",
       "    </tr>\n",
       "    <tr>\n",
       "      <th>2</th>\n",
       "      <td>Amazon Rainforestclimate Changedeforestationha...</td>\n",
       "    </tr>\n",
       "    <tr>\n",
       "      <th>3</th>\n",
       "      <td>Dave Chappelle</td>\n",
       "    </tr>\n",
       "    <tr>\n",
       "      <th>4</th>\n",
       "      <td>Emily Heller</td>\n",
       "    </tr>\n",
       "  </tbody>\n",
       "</table>\n",
       "</div>"
      ],
      "text/plain": [
       "                                                name\n",
       "0                                       Nikki Glaser\n",
       "1                                          Bill Burr\n",
       "2  Amazon Rainforestclimate Changedeforestationha...\n",
       "3                                     Dave Chappelle\n",
       "4                                       Emily Heller"
      ]
     },
     "execution_count": 25,
     "metadata": {},
     "output_type": "execute_result"
    }
   ],
   "source": [
    "name_df = pd.DataFrame(name_list) \n",
    "name_df.rename(columns={0:'name'}, inplace=True)\n",
    "name_df.head()"
   ]
  },
  {
   "cell_type": "markdown",
   "metadata": {},
   "source": [
    "## Get DOB\n",
    "- 129 comedians\n",
    "- ~ 3 minutes"
   ]
  },
  {
   "cell_type": "code",
   "execution_count": 28,
   "metadata": {},
   "outputs": [
    {
     "name": "stdout",
     "output_type": "stream",
     "text": [
      "CPU times: user 6.84 s, sys: 1.56 s, total: 8.41 s\n",
      "Wall time: 2min 52s\n"
     ]
    }
   ],
   "source": [
    "%%time\n",
    "name_df['dob'] = name_df.apply(get_bday_wiki_rx,axis=1)"
   ]
  },
  {
   "cell_type": "code",
   "execution_count": 30,
   "metadata": {},
   "outputs": [
    {
     "data": {
      "text/plain": [
       "1971    4\n",
       "NaN     3\n",
       "1970    3\n",
       "1966    3\n",
       "1964    3\n",
       "1974    2\n",
       "2017    2\n",
       "1981    2\n",
       "1955    2\n",
       "1979    2\n",
       "Name: dob, dtype: int64"
      ]
     },
     "execution_count": 30,
     "metadata": {},
     "output_type": "execute_result"
    }
   ],
   "source": [
    "name_df.dob.value_counts(dropna=False)[:10]"
   ]
  },
  {
   "cell_type": "markdown",
   "metadata": {},
   "source": [
    "## Check null values"
   ]
  },
  {
   "cell_type": "code",
   "execution_count": 31,
   "metadata": {},
   "outputs": [
    {
     "data": {
      "text/plain": [
       "name    0\n",
       "dob     3\n",
       "dtype: int64"
      ]
     },
     "execution_count": 31,
     "metadata": {},
     "output_type": "execute_result"
    }
   ],
   "source": [
    "name_df.apply(lambda x: sum(x.isnull()))"
   ]
  },
  {
   "cell_type": "code",
   "execution_count": 32,
   "metadata": {},
   "outputs": [
    {
     "data": {
      "text/html": [
       "<div>\n",
       "<style scoped>\n",
       "    .dataframe tbody tr th:only-of-type {\n",
       "        vertical-align: middle;\n",
       "    }\n",
       "\n",
       "    .dataframe tbody tr th {\n",
       "        vertical-align: top;\n",
       "    }\n",
       "\n",
       "    .dataframe thead th {\n",
       "        text-align: right;\n",
       "    }\n",
       "</style>\n",
       "<table border=\"1\" class=\"dataframe\">\n",
       "  <thead>\n",
       "    <tr style=\"text-align: right;\">\n",
       "      <th></th>\n",
       "      <th>name</th>\n",
       "      <th>dob</th>\n",
       "    </tr>\n",
       "  </thead>\n",
       "  <tbody>\n",
       "    <tr>\n",
       "      <th>0</th>\n",
       "      <td>Nikki Glaser</td>\n",
       "      <td>1984</td>\n",
       "    </tr>\n",
       "    <tr>\n",
       "      <th>1</th>\n",
       "      <td>Bill Burr</td>\n",
       "      <td>June 10, 1968</td>\n",
       "    </tr>\n",
       "    <tr>\n",
       "      <th>2</th>\n",
       "      <td>Amazon Rainforestclimate Changedeforestationha...</td>\n",
       "      <td>None</td>\n",
       "    </tr>\n",
       "    <tr>\n",
       "      <th>3</th>\n",
       "      <td>Dave Chappelle</td>\n",
       "      <td>August 24, 1973</td>\n",
       "    </tr>\n",
       "    <tr>\n",
       "      <th>4</th>\n",
       "      <td>Emily Heller</td>\n",
       "      <td>1985</td>\n",
       "    </tr>\n",
       "  </tbody>\n",
       "</table>\n",
       "</div>"
      ],
      "text/plain": [
       "                                                name              dob\n",
       "0                                       Nikki Glaser             1984\n",
       "1                                          Bill Burr    June 10, 1968\n",
       "2  Amazon Rainforestclimate Changedeforestationha...             None\n",
       "3                                     Dave Chappelle  August 24, 1973\n",
       "4                                       Emily Heller             1985"
      ]
     },
     "execution_count": 32,
     "metadata": {},
     "output_type": "execute_result"
    }
   ],
   "source": [
    "name_df.head()"
   ]
  },
  {
   "cell_type": "code",
   "execution_count": 33,
   "metadata": {},
   "outputs": [
    {
     "data": {
      "text/html": [
       "<div>\n",
       "<style scoped>\n",
       "    .dataframe tbody tr th:only-of-type {\n",
       "        vertical-align: middle;\n",
       "    }\n",
       "\n",
       "    .dataframe tbody tr th {\n",
       "        vertical-align: top;\n",
       "    }\n",
       "\n",
       "    .dataframe thead th {\n",
       "        text-align: right;\n",
       "    }\n",
       "</style>\n",
       "<table border=\"1\" class=\"dataframe\">\n",
       "  <thead>\n",
       "    <tr style=\"text-align: right;\">\n",
       "      <th></th>\n",
       "      <th>name</th>\n",
       "      <th>dob</th>\n",
       "    </tr>\n",
       "  </thead>\n",
       "  <tbody>\n",
       "    <tr>\n",
       "      <th>2</th>\n",
       "      <td>Amazon Rainforestclimate Changedeforestationha...</td>\n",
       "      <td>None</td>\n",
       "    </tr>\n",
       "    <tr>\n",
       "      <th>54</th>\n",
       "      <td>Deray Davis</td>\n",
       "      <td>None</td>\n",
       "    </tr>\n",
       "    <tr>\n",
       "      <th>108</th>\n",
       "      <td>Erik Griffin</td>\n",
       "      <td>None</td>\n",
       "    </tr>\n",
       "  </tbody>\n",
       "</table>\n",
       "</div>"
      ],
      "text/plain": [
       "                                                  name   dob\n",
       "2    Amazon Rainforestclimate Changedeforestationha...  None\n",
       "54                                         Deray Davis  None\n",
       "108                                       Erik Griffin  None"
      ]
     },
     "execution_count": 33,
     "metadata": {},
     "output_type": "execute_result"
    }
   ],
   "source": [
    "name_df[name_df.isnull().any(axis=1)]"
   ]
  },
  {
   "cell_type": "markdown",
   "metadata": {},
   "source": [
    "## update null dob's"
   ]
  },
  {
   "cell_type": "code",
   "execution_count": 34,
   "metadata": {},
   "outputs": [],
   "source": [
    "# Deray Davis\n",
    "name_df.loc[54, 'dob'] = 'February 26, 1968'\n",
    "# Erik Griffin\n",
    "name_df.loc[108, 'dob'] = 'March 26, 1976'"
   ]
  },
  {
   "cell_type": "code",
   "execution_count": 35,
   "metadata": {},
   "outputs": [
    {
     "data": {
      "text/plain": [
       "name    0\n",
       "dob     1\n",
       "dtype: int64"
      ]
     },
     "execution_count": 35,
     "metadata": {},
     "output_type": "execute_result"
    }
   ],
   "source": [
    "name_df.apply(lambda x: sum(x.isnull()))"
   ]
  },
  {
   "cell_type": "markdown",
   "metadata": {},
   "source": [
    "## Get sex value\n",
    "- ~ 2 minutes"
   ]
  },
  {
   "cell_type": "code",
   "execution_count": 36,
   "metadata": {},
   "outputs": [
    {
     "name": "stdout",
     "output_type": "stream",
     "text": [
      "CPU times: user 4.89 s, sys: 1.5 s, total: 6.39 s\n",
      "Wall time: 1min 46s\n"
     ]
    }
   ],
   "source": [
    "%%time\n",
    "name_df['sex'] = name_df.apply(get_sex_wiki_rx,axis=1)"
   ]
  },
  {
   "cell_type": "code",
   "execution_count": 37,
   "metadata": {},
   "outputs": [
    {
     "name": "stdout",
     "output_type": "stream",
     "text": [
      "<class 'pandas.core.frame.DataFrame'>\n",
      "RangeIndex: 129 entries, 0 to 128\n",
      "Data columns (total 3 columns):\n",
      "name    129 non-null object\n",
      "dob     128 non-null object\n",
      "sex     128 non-null object\n",
      "dtypes: object(3)\n",
      "memory usage: 3.1+ KB\n"
     ]
    }
   ],
   "source": [
    "name_df.info()"
   ]
  },
  {
   "cell_type": "code",
   "execution_count": 38,
   "metadata": {},
   "outputs": [
    {
     "data": {
      "text/plain": [
       "Male      116\n",
       "Female     12\n",
       "NaN         1\n",
       "Name: sex, dtype: int64"
      ]
     },
     "execution_count": 38,
     "metadata": {},
     "output_type": "execute_result"
    }
   ],
   "source": [
    "name_df.sex.value_counts(dropna=False)"
   ]
  },
  {
   "cell_type": "code",
   "execution_count": 39,
   "metadata": {},
   "outputs": [
    {
     "data": {
      "text/html": [
       "<div>\n",
       "<style scoped>\n",
       "    .dataframe tbody tr th:only-of-type {\n",
       "        vertical-align: middle;\n",
       "    }\n",
       "\n",
       "    .dataframe tbody tr th {\n",
       "        vertical-align: top;\n",
       "    }\n",
       "\n",
       "    .dataframe thead th {\n",
       "        text-align: right;\n",
       "    }\n",
       "</style>\n",
       "<table border=\"1\" class=\"dataframe\">\n",
       "  <thead>\n",
       "    <tr style=\"text-align: right;\">\n",
       "      <th></th>\n",
       "      <th>name</th>\n",
       "      <th>dob</th>\n",
       "      <th>sex</th>\n",
       "    </tr>\n",
       "  </thead>\n",
       "  <tbody>\n",
       "    <tr>\n",
       "      <th>0</th>\n",
       "      <td>Nikki Glaser</td>\n",
       "      <td>1984</td>\n",
       "      <td>Female</td>\n",
       "    </tr>\n",
       "    <tr>\n",
       "      <th>1</th>\n",
       "      <td>Bill Burr</td>\n",
       "      <td>June 10, 1968</td>\n",
       "      <td>Male</td>\n",
       "    </tr>\n",
       "    <tr>\n",
       "      <th>2</th>\n",
       "      <td>Amazon Rainforestclimate Changedeforestationha...</td>\n",
       "      <td>None</td>\n",
       "      <td>None</td>\n",
       "    </tr>\n",
       "    <tr>\n",
       "      <th>3</th>\n",
       "      <td>Dave Chappelle</td>\n",
       "      <td>August 24, 1973</td>\n",
       "      <td>Male</td>\n",
       "    </tr>\n",
       "    <tr>\n",
       "      <th>4</th>\n",
       "      <td>Emily Heller</td>\n",
       "      <td>1985</td>\n",
       "      <td>Male</td>\n",
       "    </tr>\n",
       "  </tbody>\n",
       "</table>\n",
       "</div>"
      ],
      "text/plain": [
       "                                                name              dob     sex\n",
       "0                                       Nikki Glaser             1984  Female\n",
       "1                                          Bill Burr    June 10, 1968    Male\n",
       "2  Amazon Rainforestclimate Changedeforestationha...             None    None\n",
       "3                                     Dave Chappelle  August 24, 1973    Male\n",
       "4                                       Emily Heller             1985    Male"
      ]
     },
     "execution_count": 39,
     "metadata": {},
     "output_type": "execute_result"
    }
   ],
   "source": [
    "name_df.head()"
   ]
  },
  {
   "cell_type": "code",
   "execution_count": 40,
   "metadata": {},
   "outputs": [],
   "source": [
    "name_df.drop([2],inplace=True)"
   ]
  },
  {
   "cell_type": "code",
   "execution_count": 41,
   "metadata": {},
   "outputs": [
    {
     "data": {
      "text/html": [
       "<div>\n",
       "<style scoped>\n",
       "    .dataframe tbody tr th:only-of-type {\n",
       "        vertical-align: middle;\n",
       "    }\n",
       "\n",
       "    .dataframe tbody tr th {\n",
       "        vertical-align: top;\n",
       "    }\n",
       "\n",
       "    .dataframe thead th {\n",
       "        text-align: right;\n",
       "    }\n",
       "</style>\n",
       "<table border=\"1\" class=\"dataframe\">\n",
       "  <thead>\n",
       "    <tr style=\"text-align: right;\">\n",
       "      <th></th>\n",
       "      <th>name</th>\n",
       "      <th>dob</th>\n",
       "      <th>sex</th>\n",
       "    </tr>\n",
       "  </thead>\n",
       "  <tbody>\n",
       "    <tr>\n",
       "      <th>0</th>\n",
       "      <td>Nikki Glaser</td>\n",
       "      <td>1984</td>\n",
       "      <td>Female</td>\n",
       "    </tr>\n",
       "    <tr>\n",
       "      <th>1</th>\n",
       "      <td>Bill Burr</td>\n",
       "      <td>June 10, 1968</td>\n",
       "      <td>Male</td>\n",
       "    </tr>\n",
       "    <tr>\n",
       "      <th>3</th>\n",
       "      <td>Dave Chappelle</td>\n",
       "      <td>August 24, 1973</td>\n",
       "      <td>Male</td>\n",
       "    </tr>\n",
       "    <tr>\n",
       "      <th>4</th>\n",
       "      <td>Emily Heller</td>\n",
       "      <td>1985</td>\n",
       "      <td>Male</td>\n",
       "    </tr>\n",
       "    <tr>\n",
       "      <th>5</th>\n",
       "      <td>David Cross</td>\n",
       "      <td>1964</td>\n",
       "      <td>Male</td>\n",
       "    </tr>\n",
       "  </tbody>\n",
       "</table>\n",
       "</div>"
      ],
      "text/plain": [
       "             name              dob     sex\n",
       "0    Nikki Glaser             1984  Female\n",
       "1       Bill Burr    June 10, 1968    Male\n",
       "3  Dave Chappelle  August 24, 1973    Male\n",
       "4    Emily Heller             1985    Male\n",
       "5     David Cross             1964    Male"
      ]
     },
     "execution_count": 41,
     "metadata": {},
     "output_type": "execute_result"
    }
   ],
   "source": [
    "name_df.head()"
   ]
  },
  {
   "cell_type": "markdown",
   "metadata": {},
   "source": [
    "## Fix DOB"
   ]
  },
  {
   "cell_type": "code",
   "execution_count": 42,
   "metadata": {},
   "outputs": [
    {
     "data": {
      "text/html": [
       "<div>\n",
       "<style scoped>\n",
       "    .dataframe tbody tr th:only-of-type {\n",
       "        vertical-align: middle;\n",
       "    }\n",
       "\n",
       "    .dataframe tbody tr th {\n",
       "        vertical-align: top;\n",
       "    }\n",
       "\n",
       "    .dataframe thead th {\n",
       "        text-align: right;\n",
       "    }\n",
       "</style>\n",
       "<table border=\"1\" class=\"dataframe\">\n",
       "  <thead>\n",
       "    <tr style=\"text-align: right;\">\n",
       "      <th></th>\n",
       "      <th>name</th>\n",
       "      <th>dob</th>\n",
       "      <th>sex</th>\n",
       "    </tr>\n",
       "  </thead>\n",
       "  <tbody>\n",
       "  </tbody>\n",
       "</table>\n",
       "</div>"
      ],
      "text/plain": [
       "Empty DataFrame\n",
       "Columns: [name, dob, sex]\n",
       "Index: []"
      ]
     },
     "execution_count": 42,
     "metadata": {},
     "output_type": "execute_result"
    }
   ],
   "source": [
    "name_df[name_df.isnull().any(axis=1)]"
   ]
  },
  {
   "cell_type": "code",
   "execution_count": 43,
   "metadata": {},
   "outputs": [],
   "source": [
    "# change to datetime\n",
    "name_df.dob = pd.to_datetime(name_df.dob)"
   ]
  },
  {
   "cell_type": "code",
   "execution_count": 44,
   "metadata": {},
   "outputs": [
    {
     "data": {
      "text/html": [
       "<div>\n",
       "<style scoped>\n",
       "    .dataframe tbody tr th:only-of-type {\n",
       "        vertical-align: middle;\n",
       "    }\n",
       "\n",
       "    .dataframe tbody tr th {\n",
       "        vertical-align: top;\n",
       "    }\n",
       "\n",
       "    .dataframe thead th {\n",
       "        text-align: right;\n",
       "    }\n",
       "</style>\n",
       "<table border=\"1\" class=\"dataframe\">\n",
       "  <thead>\n",
       "    <tr style=\"text-align: right;\">\n",
       "      <th></th>\n",
       "      <th>name</th>\n",
       "      <th>dob</th>\n",
       "      <th>sex</th>\n",
       "    </tr>\n",
       "  </thead>\n",
       "  <tbody>\n",
       "    <tr>\n",
       "      <th>0</th>\n",
       "      <td>Nikki Glaser</td>\n",
       "      <td>1984-01-01</td>\n",
       "      <td>Female</td>\n",
       "    </tr>\n",
       "    <tr>\n",
       "      <th>1</th>\n",
       "      <td>Bill Burr</td>\n",
       "      <td>1968-06-10</td>\n",
       "      <td>Male</td>\n",
       "    </tr>\n",
       "    <tr>\n",
       "      <th>3</th>\n",
       "      <td>Dave Chappelle</td>\n",
       "      <td>1973-08-24</td>\n",
       "      <td>Male</td>\n",
       "    </tr>\n",
       "    <tr>\n",
       "      <th>4</th>\n",
       "      <td>Emily Heller</td>\n",
       "      <td>1985-01-01</td>\n",
       "      <td>Male</td>\n",
       "    </tr>\n",
       "    <tr>\n",
       "      <th>5</th>\n",
       "      <td>David Cross</td>\n",
       "      <td>1964-01-01</td>\n",
       "      <td>Male</td>\n",
       "    </tr>\n",
       "  </tbody>\n",
       "</table>\n",
       "</div>"
      ],
      "text/plain": [
       "             name        dob     sex\n",
       "0    Nikki Glaser 1984-01-01  Female\n",
       "1       Bill Burr 1968-06-10    Male\n",
       "3  Dave Chappelle 1973-08-24    Male\n",
       "4    Emily Heller 1985-01-01    Male\n",
       "5     David Cross 1964-01-01    Male"
      ]
     },
     "execution_count": 44,
     "metadata": {},
     "output_type": "execute_result"
    }
   ],
   "source": [
    "name_df.head()"
   ]
  },
  {
   "cell_type": "markdown",
   "metadata": {},
   "source": [
    "## Merge dataframes"
   ]
  },
  {
   "cell_type": "code",
   "execution_count": 46,
   "metadata": {},
   "outputs": [],
   "source": [
    "df = pd.merge(df,name_df,on='name')"
   ]
  },
  {
   "cell_type": "code",
   "execution_count": 47,
   "metadata": {},
   "outputs": [
    {
     "data": {
      "text/html": [
       "<div>\n",
       "<style scoped>\n",
       "    .dataframe tbody tr th:only-of-type {\n",
       "        vertical-align: middle;\n",
       "    }\n",
       "\n",
       "    .dataframe tbody tr th {\n",
       "        vertical-align: top;\n",
       "    }\n",
       "\n",
       "    .dataframe thead th {\n",
       "        text-align: right;\n",
       "    }\n",
       "</style>\n",
       "<table border=\"1\" class=\"dataframe\">\n",
       "  <thead>\n",
       "    <tr style=\"text-align: right;\">\n",
       "      <th></th>\n",
       "      <th>name</th>\n",
       "      <th>title</th>\n",
       "      <th>summary</th>\n",
       "      <th>year</th>\n",
       "      <th>transcript</th>\n",
       "      <th>link</th>\n",
       "      <th>len_transcript</th>\n",
       "      <th>dob</th>\n",
       "      <th>sex</th>\n",
       "    </tr>\n",
       "  </thead>\n",
       "  <tbody>\n",
       "    <tr>\n",
       "      <th>0</th>\n",
       "      <td>Nikki Glaser</td>\n",
       "      <td>Bangin’</td>\n",
       "      <td>A NETFLIX ORIGINAL COMEDY SPECIAL Thank you! T...</td>\n",
       "      <td>2019</td>\n",
       "      <td>A NETFLIX ORIGINAL COMEDY SPECIAL\\nThank you! ...</td>\n",
       "      <td>https://scrapsfromtheloft.com/2019/10/04/nikki...</td>\n",
       "      <td>53937</td>\n",
       "      <td>1984-01-01</td>\n",
       "      <td>Female</td>\n",
       "    </tr>\n",
       "    <tr>\n",
       "      <th>1</th>\n",
       "      <td>Nikki Glaser</td>\n",
       "      <td>Perfect</td>\n",
       "      <td>Nikki Glaser brings her sharp wit to her first...</td>\n",
       "      <td>2016</td>\n",
       "      <td>* * Ooh, ooh, ooh, ooh, ooh, ooh, ooh, ooh * *...</td>\n",
       "      <td>https://scrapsfromtheloft.com/2018/05/16/nikki...</td>\n",
       "      <td>59586</td>\n",
       "      <td>1984-01-01</td>\n",
       "      <td>Female</td>\n",
       "    </tr>\n",
       "    <tr>\n",
       "      <th>2</th>\n",
       "      <td>Bill Burr</td>\n",
       "      <td>Paper Tiger</td>\n",
       "      <td>Only a few weeks after Dave Chappelle's \"Stick...</td>\n",
       "      <td>2019</td>\n",
       "      <td>Recorded Live at the Royal Albert Hall, London...</td>\n",
       "      <td>https://scrapsfromtheloft.com/2019/09/10/bill-...</td>\n",
       "      <td>60486</td>\n",
       "      <td>1968-06-10</td>\n",
       "      <td>Male</td>\n",
       "    </tr>\n",
       "    <tr>\n",
       "      <th>3</th>\n",
       "      <td>Bill Burr</td>\n",
       "      <td>Why Do I Do This   Testo Italiano Completo</td>\n",
       "      <td>Va bene, grazie, grazie mille. Va bene, Gesù. ...</td>\n",
       "      <td>2008</td>\n",
       "      <td>Va bene, grazie, grazie mille. Va bene, Gesù. ...</td>\n",
       "      <td>https://scrapsfromtheloft.com/2017/09/08/bill-...</td>\n",
       "      <td>45505</td>\n",
       "      <td>1968-06-10</td>\n",
       "      <td>Male</td>\n",
       "    </tr>\n",
       "    <tr>\n",
       "      <th>4</th>\n",
       "      <td>Bill Burr</td>\n",
       "      <td>I’M Sorry You Feel That Way</td>\n",
       "      <td>[cheers and applause] All right, thank you! Th...</td>\n",
       "      <td>2014</td>\n",
       "      <td>[cheers and applause] All right, thank you! Th...</td>\n",
       "      <td>https://scrapsfromtheloft.com/2017/05/24/bill-...</td>\n",
       "      <td>64608</td>\n",
       "      <td>1968-06-10</td>\n",
       "      <td>Male</td>\n",
       "    </tr>\n",
       "  </tbody>\n",
       "</table>\n",
       "</div>"
      ],
      "text/plain": [
       "           name                                       title  \\\n",
       "0  Nikki Glaser                                     Bangin’   \n",
       "1  Nikki Glaser                                     Perfect   \n",
       "2     Bill Burr                                 Paper Tiger   \n",
       "3     Bill Burr  Why Do I Do This   Testo Italiano Completo   \n",
       "4     Bill Burr                 I’M Sorry You Feel That Way   \n",
       "\n",
       "                                             summary  year  \\\n",
       "0  A NETFLIX ORIGINAL COMEDY SPECIAL Thank you! T...  2019   \n",
       "1  Nikki Glaser brings her sharp wit to her first...  2016   \n",
       "2  Only a few weeks after Dave Chappelle's \"Stick...  2019   \n",
       "3  Va bene, grazie, grazie mille. Va bene, Gesù. ...  2008   \n",
       "4  [cheers and applause] All right, thank you! Th...  2014   \n",
       "\n",
       "                                          transcript  \\\n",
       "0  A NETFLIX ORIGINAL COMEDY SPECIAL\\nThank you! ...   \n",
       "1  * * Ooh, ooh, ooh, ooh, ooh, ooh, ooh, ooh * *...   \n",
       "2  Recorded Live at the Royal Albert Hall, London...   \n",
       "3  Va bene, grazie, grazie mille. Va bene, Gesù. ...   \n",
       "4  [cheers and applause] All right, thank you! Th...   \n",
       "\n",
       "                                                link  len_transcript  \\\n",
       "0  https://scrapsfromtheloft.com/2019/10/04/nikki...           53937   \n",
       "1  https://scrapsfromtheloft.com/2018/05/16/nikki...           59586   \n",
       "2  https://scrapsfromtheloft.com/2019/09/10/bill-...           60486   \n",
       "3  https://scrapsfromtheloft.com/2017/09/08/bill-...           45505   \n",
       "4  https://scrapsfromtheloft.com/2017/05/24/bill-...           64608   \n",
       "\n",
       "         dob     sex  \n",
       "0 1984-01-01  Female  \n",
       "1 1984-01-01  Female  \n",
       "2 1968-06-10    Male  \n",
       "3 1968-06-10    Male  \n",
       "4 1968-06-10    Male  "
      ]
     },
     "execution_count": 47,
     "metadata": {},
     "output_type": "execute_result"
    }
   ],
   "source": [
    "df.head()"
   ]
  },
  {
   "cell_type": "code",
   "execution_count": null,
   "metadata": {},
   "outputs": [],
   "source": []
  },
  {
   "cell_type": "markdown",
   "metadata": {},
   "source": [
    "## Check null values"
   ]
  },
  {
   "cell_type": "code",
   "execution_count": 48,
   "metadata": {},
   "outputs": [
    {
     "data": {
      "text/plain": [
       "name              0\n",
       "title             0\n",
       "summary           0\n",
       "year              0\n",
       "transcript        0\n",
       "link              0\n",
       "len_transcript    0\n",
       "dob               0\n",
       "sex               0\n",
       "dtype: int64"
      ]
     },
     "execution_count": 48,
     "metadata": {},
     "output_type": "execute_result"
    }
   ],
   "source": [
    "df.apply(lambda x: sum(x.isnull()))"
   ]
  },
  {
   "cell_type": "code",
   "execution_count": 49,
   "metadata": {},
   "outputs": [
    {
     "data": {
      "text/html": [
       "<div>\n",
       "<style scoped>\n",
       "    .dataframe tbody tr th:only-of-type {\n",
       "        vertical-align: middle;\n",
       "    }\n",
       "\n",
       "    .dataframe tbody tr th {\n",
       "        vertical-align: top;\n",
       "    }\n",
       "\n",
       "    .dataframe thead th {\n",
       "        text-align: right;\n",
       "    }\n",
       "</style>\n",
       "<table border=\"1\" class=\"dataframe\">\n",
       "  <thead>\n",
       "    <tr style=\"text-align: right;\">\n",
       "      <th></th>\n",
       "      <th>name</th>\n",
       "      <th>title</th>\n",
       "      <th>summary</th>\n",
       "      <th>year</th>\n",
       "      <th>transcript</th>\n",
       "      <th>link</th>\n",
       "      <th>len_transcript</th>\n",
       "      <th>dob</th>\n",
       "      <th>sex</th>\n",
       "    </tr>\n",
       "  </thead>\n",
       "  <tbody>\n",
       "  </tbody>\n",
       "</table>\n",
       "</div>"
      ],
      "text/plain": [
       "Empty DataFrame\n",
       "Columns: [name, title, summary, year, transcript, link, len_transcript, dob, sex]\n",
       "Index: []"
      ]
     },
     "execution_count": 49,
     "metadata": {},
     "output_type": "execute_result"
    }
   ],
   "source": [
    "df[df.isnull().any(axis=1)]"
   ]
  },
  {
   "cell_type": "code",
   "execution_count": 50,
   "metadata": {},
   "outputs": [
    {
     "data": {
      "text/plain": [
       "<matplotlib.axes._subplots.AxesSubplot at 0x7f1cb0eac2d0>"
      ]
     },
     "execution_count": 50,
     "metadata": {},
     "output_type": "execute_result"
    },
    {
     "data": {
      "image/png": "[encoded data removed]",
      "text/plain": [
       "<Figure size 770.4x307.44 with 1 Axes>"
      ]
     },
     "metadata": {},
     "output_type": "display_data"
    }
   ],
   "source": [
    "sns.distplot(df.dob.dt.year)"
   ]
  },
  {
   "cell_type": "markdown",
   "metadata": {},
   "source": [
    "## Check who was born after 1990's"
   ]
  },
  {
   "cell_type": "code",
   "execution_count": 52,
   "metadata": {},
   "outputs": [],
   "source": [
    "yr_filter = df.dob.dt.year> 1990"
   ]
  },
  {
   "cell_type": "code",
   "execution_count": 53,
   "metadata": {},
   "outputs": [
    {
     "data": {
      "text/html": [
       "<div>\n",
       "<style scoped>\n",
       "    .dataframe tbody tr th:only-of-type {\n",
       "        vertical-align: middle;\n",
       "    }\n",
       "\n",
       "    .dataframe tbody tr th {\n",
       "        vertical-align: top;\n",
       "    }\n",
       "\n",
       "    .dataframe thead th {\n",
       "        text-align: right;\n",
       "    }\n",
       "</style>\n",
       "<table border=\"1\" class=\"dataframe\">\n",
       "  <thead>\n",
       "    <tr style=\"text-align: right;\">\n",
       "      <th></th>\n",
       "      <th>name</th>\n",
       "      <th>title</th>\n",
       "      <th>summary</th>\n",
       "      <th>year</th>\n",
       "      <th>transcript</th>\n",
       "      <th>link</th>\n",
       "      <th>len_transcript</th>\n",
       "      <th>dob</th>\n",
       "      <th>sex</th>\n",
       "    </tr>\n",
       "  </thead>\n",
       "  <tbody>\n",
       "    <tr>\n",
       "      <th>85</th>\n",
       "      <td>Vir Das</td>\n",
       "      <td>Losing It</td>\n",
       "      <td>The world's got a lot of problems, but Vir Das...</td>\n",
       "      <td>2018</td>\n",
       "      <td>I lost 80% of my mind. It’s very freeing. You ...</td>\n",
       "      <td>https://scrapsfromtheloft.com/2018/12/15/vir-d...</td>\n",
       "      <td>42632</td>\n",
       "      <td>2017-01-01</td>\n",
       "      <td>Male</td>\n",
       "    </tr>\n",
       "    <tr>\n",
       "      <th>146</th>\n",
       "      <td>Adel Karam</td>\n",
       "      <td>Live From Beirut</td>\n",
       "      <td>Adel Karam goes back to his hometown to appear...</td>\n",
       "      <td>2018</td>\n",
       "      <td>A NETFLIX COMEDY SPECIAL\\nRecorded at the Casi...</td>\n",
       "      <td>https://scrapsfromtheloft.com/2018/03/12/adel-...</td>\n",
       "      <td>35384</td>\n",
       "      <td>2017-01-01</td>\n",
       "      <td>Male</td>\n",
       "    </tr>\n",
       "  </tbody>\n",
       "</table>\n",
       "</div>"
      ],
      "text/plain": [
       "           name             title  \\\n",
       "85      Vir Das         Losing It   \n",
       "146  Adel Karam  Live From Beirut   \n",
       "\n",
       "                                               summary  year  \\\n",
       "85   The world's got a lot of problems, but Vir Das...  2018   \n",
       "146  Adel Karam goes back to his hometown to appear...  2018   \n",
       "\n",
       "                                            transcript  \\\n",
       "85   I lost 80% of my mind. It’s very freeing. You ...   \n",
       "146  A NETFLIX COMEDY SPECIAL\\nRecorded at the Casi...   \n",
       "\n",
       "                                                  link  len_transcript  \\\n",
       "85   https://scrapsfromtheloft.com/2018/12/15/vir-d...           42632   \n",
       "146  https://scrapsfromtheloft.com/2018/03/12/adel-...           35384   \n",
       "\n",
       "           dob   sex  \n",
       "85  2017-01-01  Male  \n",
       "146 2017-01-01  Male  "
      ]
     },
     "execution_count": 53,
     "metadata": {},
     "output_type": "execute_result"
    }
   ],
   "source": [
    "df[yr_filter]"
   ]
  },
  {
   "cell_type": "markdown",
   "metadata": {},
   "source": [
    "## Fix it"
   ]
  },
  {
   "cell_type": "code",
   "execution_count": 54,
   "metadata": {},
   "outputs": [],
   "source": [
    "# Vir Das\t\n",
    "# May 31, 1979\n",
    "df.loc[85, 'dob'] = 'May 31, 1979'\n",
    "\n",
    "# Adel Karam\n",
    "# August 20, 1972\n",
    "df.loc[146, 'dob'] = 'August 20, 1972'"
   ]
  },
  {
   "cell_type": "code",
   "execution_count": 55,
   "metadata": {},
   "outputs": [
    {
     "data": {
      "text/html": [
       "<div>\n",
       "<style scoped>\n",
       "    .dataframe tbody tr th:only-of-type {\n",
       "        vertical-align: middle;\n",
       "    }\n",
       "\n",
       "    .dataframe tbody tr th {\n",
       "        vertical-align: top;\n",
       "    }\n",
       "\n",
       "    .dataframe thead th {\n",
       "        text-align: right;\n",
       "    }\n",
       "</style>\n",
       "<table border=\"1\" class=\"dataframe\">\n",
       "  <thead>\n",
       "    <tr style=\"text-align: right;\">\n",
       "      <th></th>\n",
       "      <th>name</th>\n",
       "      <th>title</th>\n",
       "      <th>summary</th>\n",
       "      <th>year</th>\n",
       "      <th>transcript</th>\n",
       "      <th>link</th>\n",
       "      <th>len_transcript</th>\n",
       "      <th>dob</th>\n",
       "      <th>sex</th>\n",
       "    </tr>\n",
       "  </thead>\n",
       "  <tbody>\n",
       "    <tr>\n",
       "      <th>85</th>\n",
       "      <td>Vir Das</td>\n",
       "      <td>Losing It</td>\n",
       "      <td>The world's got a lot of problems, but Vir Das...</td>\n",
       "      <td>2018</td>\n",
       "      <td>I lost 80% of my mind. It’s very freeing. You ...</td>\n",
       "      <td>https://scrapsfromtheloft.com/2018/12/15/vir-d...</td>\n",
       "      <td>42632</td>\n",
       "      <td>May 31, 1979</td>\n",
       "      <td>Male</td>\n",
       "    </tr>\n",
       "    <tr>\n",
       "      <th>146</th>\n",
       "      <td>Adel Karam</td>\n",
       "      <td>Live From Beirut</td>\n",
       "      <td>Adel Karam goes back to his hometown to appear...</td>\n",
       "      <td>2018</td>\n",
       "      <td>A NETFLIX COMEDY SPECIAL\\nRecorded at the Casi...</td>\n",
       "      <td>https://scrapsfromtheloft.com/2018/03/12/adel-...</td>\n",
       "      <td>35384</td>\n",
       "      <td>August 20, 1972</td>\n",
       "      <td>Male</td>\n",
       "    </tr>\n",
       "  </tbody>\n",
       "</table>\n",
       "</div>"
      ],
      "text/plain": [
       "           name             title  \\\n",
       "85      Vir Das         Losing It   \n",
       "146  Adel Karam  Live From Beirut   \n",
       "\n",
       "                                               summary  year  \\\n",
       "85   The world's got a lot of problems, but Vir Das...  2018   \n",
       "146  Adel Karam goes back to his hometown to appear...  2018   \n",
       "\n",
       "                                            transcript  \\\n",
       "85   I lost 80% of my mind. It’s very freeing. You ...   \n",
       "146  A NETFLIX COMEDY SPECIAL\\nRecorded at the Casi...   \n",
       "\n",
       "                                                  link  len_transcript  \\\n",
       "85   https://scrapsfromtheloft.com/2018/12/15/vir-d...           42632   \n",
       "146  https://scrapsfromtheloft.com/2018/03/12/adel-...           35384   \n",
       "\n",
       "                 dob   sex  \n",
       "85      May 31, 1979  Male  \n",
       "146  August 20, 1972  Male  "
      ]
     },
     "execution_count": 55,
     "metadata": {},
     "output_type": "execute_result"
    }
   ],
   "source": [
    "df[yr_filter]"
   ]
  },
  {
   "cell_type": "code",
   "execution_count": 56,
   "metadata": {},
   "outputs": [],
   "source": [
    "# change dob againt to datetime\n",
    "df.dob = pd.to_datetime(df.dob)"
   ]
  },
  {
   "cell_type": "code",
   "execution_count": 57,
   "metadata": {},
   "outputs": [
    {
     "data": {
      "text/plain": [
       "<matplotlib.axes._subplots.AxesSubplot at 0x7f1cb0d7f910>"
      ]
     },
     "execution_count": 57,
     "metadata": {},
     "output_type": "execute_result"
    },
    {
     "data": {
      "image/png": "[encoded data removed]",
      "text/plain": [
       "<Figure size 770.4x307.44 with 1 Axes>"
      ]
     },
     "metadata": {},
     "output_type": "display_data"
    }
   ],
   "source": [
    "sns.distplot(df.dob.dt.year)"
   ]
  },
  {
   "cell_type": "markdown",
   "metadata": {},
   "source": [
    "## Find age when special was recorded"
   ]
  },
  {
   "cell_type": "code",
   "execution_count": 58,
   "metadata": {},
   "outputs": [
    {
     "name": "stdout",
     "output_type": "stream",
     "text": [
      "<class 'pandas.core.frame.DataFrame'>\n",
      "Int64Index: 247 entries, 0 to 246\n",
      "Data columns (total 9 columns):\n",
      "name              247 non-null object\n",
      "title             247 non-null object\n",
      "summary           247 non-null object\n",
      "year              247 non-null int64\n",
      "transcript        247 non-null object\n",
      "link              247 non-null object\n",
      "len_transcript    247 non-null int64\n",
      "dob               247 non-null datetime64[ns]\n",
      "sex               247 non-null object\n",
      "dtypes: datetime64[ns](1), int64(2), object(6)\n",
      "memory usage: 29.3+ KB\n"
     ]
    }
   ],
   "source": [
    "df.info()"
   ]
  },
  {
   "cell_type": "code",
   "execution_count": 59,
   "metadata": {},
   "outputs": [
    {
     "data": {
      "text/plain": [
       "<matplotlib.axes._subplots.AxesSubplot at 0x7f1cb0d4b750>"
      ]
     },
     "execution_count": 59,
     "metadata": {},
     "output_type": "execute_result"
    },
    {
     "data": {
      "image/png": "[encoded data removed]",
      "text/plain": [
       "<Figure size 770.4x307.44 with 1 Axes>"
      ]
     },
     "metadata": {},
     "output_type": "display_data"
    }
   ],
   "source": [
    "sns.distplot(df.dob.dt.year)"
   ]
  },
  {
   "cell_type": "code",
   "execution_count": 60,
   "metadata": {},
   "outputs": [],
   "source": [
    "df['age_when_recorded'] = df.year - df.dob.dt.year"
   ]
  },
  {
   "cell_type": "code",
   "execution_count": 61,
   "metadata": {},
   "outputs": [
    {
     "data": {
      "text/html": [
       "<div>\n",
       "<style scoped>\n",
       "    .dataframe tbody tr th:only-of-type {\n",
       "        vertical-align: middle;\n",
       "    }\n",
       "\n",
       "    .dataframe tbody tr th {\n",
       "        vertical-align: top;\n",
       "    }\n",
       "\n",
       "    .dataframe thead th {\n",
       "        text-align: right;\n",
       "    }\n",
       "</style>\n",
       "<table border=\"1\" class=\"dataframe\">\n",
       "  <thead>\n",
       "    <tr style=\"text-align: right;\">\n",
       "      <th></th>\n",
       "      <th>name</th>\n",
       "      <th>title</th>\n",
       "      <th>summary</th>\n",
       "      <th>year</th>\n",
       "      <th>transcript</th>\n",
       "      <th>link</th>\n",
       "      <th>len_transcript</th>\n",
       "      <th>dob</th>\n",
       "      <th>sex</th>\n",
       "      <th>age_when_recorded</th>\n",
       "    </tr>\n",
       "  </thead>\n",
       "  <tbody>\n",
       "    <tr>\n",
       "      <th>0</th>\n",
       "      <td>Nikki Glaser</td>\n",
       "      <td>Bangin’</td>\n",
       "      <td>A NETFLIX ORIGINAL COMEDY SPECIAL Thank you! T...</td>\n",
       "      <td>2019</td>\n",
       "      <td>A NETFLIX ORIGINAL COMEDY SPECIAL\\nThank you! ...</td>\n",
       "      <td>https://scrapsfromtheloft.com/2019/10/04/nikki...</td>\n",
       "      <td>53937</td>\n",
       "      <td>1984-01-01</td>\n",
       "      <td>Female</td>\n",
       "      <td>35</td>\n",
       "    </tr>\n",
       "    <tr>\n",
       "      <th>1</th>\n",
       "      <td>Nikki Glaser</td>\n",
       "      <td>Perfect</td>\n",
       "      <td>Nikki Glaser brings her sharp wit to her first...</td>\n",
       "      <td>2016</td>\n",
       "      <td>* * Ooh, ooh, ooh, ooh, ooh, ooh, ooh, ooh * *...</td>\n",
       "      <td>https://scrapsfromtheloft.com/2018/05/16/nikki...</td>\n",
       "      <td>59586</td>\n",
       "      <td>1984-01-01</td>\n",
       "      <td>Female</td>\n",
       "      <td>32</td>\n",
       "    </tr>\n",
       "    <tr>\n",
       "      <th>2</th>\n",
       "      <td>Bill Burr</td>\n",
       "      <td>Paper Tiger</td>\n",
       "      <td>Only a few weeks after Dave Chappelle's \"Stick...</td>\n",
       "      <td>2019</td>\n",
       "      <td>Recorded Live at the Royal Albert Hall, London...</td>\n",
       "      <td>https://scrapsfromtheloft.com/2019/09/10/bill-...</td>\n",
       "      <td>60486</td>\n",
       "      <td>1968-06-10</td>\n",
       "      <td>Male</td>\n",
       "      <td>51</td>\n",
       "    </tr>\n",
       "    <tr>\n",
       "      <th>3</th>\n",
       "      <td>Bill Burr</td>\n",
       "      <td>Why Do I Do This   Testo Italiano Completo</td>\n",
       "      <td>Va bene, grazie, grazie mille. Va bene, Gesù. ...</td>\n",
       "      <td>2008</td>\n",
       "      <td>Va bene, grazie, grazie mille. Va bene, Gesù. ...</td>\n",
       "      <td>https://scrapsfromtheloft.com/2017/09/08/bill-...</td>\n",
       "      <td>45505</td>\n",
       "      <td>1968-06-10</td>\n",
       "      <td>Male</td>\n",
       "      <td>40</td>\n",
       "    </tr>\n",
       "    <tr>\n",
       "      <th>4</th>\n",
       "      <td>Bill Burr</td>\n",
       "      <td>I’M Sorry You Feel That Way</td>\n",
       "      <td>[cheers and applause] All right, thank you! Th...</td>\n",
       "      <td>2014</td>\n",
       "      <td>[cheers and applause] All right, thank you! Th...</td>\n",
       "      <td>https://scrapsfromtheloft.com/2017/05/24/bill-...</td>\n",
       "      <td>64608</td>\n",
       "      <td>1968-06-10</td>\n",
       "      <td>Male</td>\n",
       "      <td>46</td>\n",
       "    </tr>\n",
       "  </tbody>\n",
       "</table>\n",
       "</div>"
      ],
      "text/plain": [
       "           name                                       title  \\\n",
       "0  Nikki Glaser                                     Bangin’   \n",
       "1  Nikki Glaser                                     Perfect   \n",
       "2     Bill Burr                                 Paper Tiger   \n",
       "3     Bill Burr  Why Do I Do This   Testo Italiano Completo   \n",
       "4     Bill Burr                 I’M Sorry You Feel That Way   \n",
       "\n",
       "                                             summary  year  \\\n",
       "0  A NETFLIX ORIGINAL COMEDY SPECIAL Thank you! T...  2019   \n",
       "1  Nikki Glaser brings her sharp wit to her first...  2016   \n",
       "2  Only a few weeks after Dave Chappelle's \"Stick...  2019   \n",
       "3  Va bene, grazie, grazie mille. Va bene, Gesù. ...  2008   \n",
       "4  [cheers and applause] All right, thank you! Th...  2014   \n",
       "\n",
       "                                          transcript  \\\n",
       "0  A NETFLIX ORIGINAL COMEDY SPECIAL\\nThank you! ...   \n",
       "1  * * Ooh, ooh, ooh, ooh, ooh, ooh, ooh, ooh * *...   \n",
       "2  Recorded Live at the Royal Albert Hall, London...   \n",
       "3  Va bene, grazie, grazie mille. Va bene, Gesù. ...   \n",
       "4  [cheers and applause] All right, thank you! Th...   \n",
       "\n",
       "                                                link  len_transcript  \\\n",
       "0  https://scrapsfromtheloft.com/2019/10/04/nikki...           53937   \n",
       "1  https://scrapsfromtheloft.com/2018/05/16/nikki...           59586   \n",
       "2  https://scrapsfromtheloft.com/2019/09/10/bill-...           60486   \n",
       "3  https://scrapsfromtheloft.com/2017/09/08/bill-...           45505   \n",
       "4  https://scrapsfromtheloft.com/2017/05/24/bill-...           64608   \n",
       "\n",
       "         dob     sex  age_when_recorded  \n",
       "0 1984-01-01  Female                 35  \n",
       "1 1984-01-01  Female                 32  \n",
       "2 1968-06-10    Male                 51  \n",
       "3 1968-06-10    Male                 40  \n",
       "4 1968-06-10    Male                 46  "
      ]
     },
     "execution_count": 61,
     "metadata": {},
     "output_type": "execute_result"
    }
   ],
   "source": [
    "df.head()"
   ]
  },
  {
   "cell_type": "code",
   "execution_count": 62,
   "metadata": {},
   "outputs": [
    {
     "data": {
      "text/plain": [
       "<matplotlib.axes._subplots.AxesSubplot at 0x7f1cb0ccdfd0>"
      ]
     },
     "execution_count": 62,
     "metadata": {},
     "output_type": "execute_result"
    },
    {
     "data": {
      "image/png": "[encoded data removed]",
      "text/plain": [
       "<Figure size 770.4x307.44 with 1 Axes>"
      ]
     },
     "metadata": {},
     "output_type": "display_data"
    }
   ],
   "source": [
    "sns.distplot(df.age_when_recorded)"
   ]
  },
  {
   "cell_type": "code",
   "execution_count": 63,
   "metadata": {},
   "outputs": [
    {
     "data": {
      "text/html": [
       "<div>\n",
       "<style scoped>\n",
       "    .dataframe tbody tr th:only-of-type {\n",
       "        vertical-align: middle;\n",
       "    }\n",
       "\n",
       "    .dataframe tbody tr th {\n",
       "        vertical-align: top;\n",
       "    }\n",
       "\n",
       "    .dataframe thead th {\n",
       "        text-align: right;\n",
       "    }\n",
       "</style>\n",
       "<table border=\"1\" class=\"dataframe\">\n",
       "  <thead>\n",
       "    <tr style=\"text-align: right;\">\n",
       "      <th></th>\n",
       "      <th>name</th>\n",
       "      <th>title</th>\n",
       "      <th>summary</th>\n",
       "      <th>year</th>\n",
       "      <th>transcript</th>\n",
       "      <th>link</th>\n",
       "      <th>len_transcript</th>\n",
       "      <th>dob</th>\n",
       "      <th>sex</th>\n",
       "      <th>age_when_recorded</th>\n",
       "    </tr>\n",
       "  </thead>\n",
       "  <tbody>\n",
       "    <tr>\n",
       "      <th>0</th>\n",
       "      <td>Nikki Glaser</td>\n",
       "      <td>Bangin’</td>\n",
       "      <td>A NETFLIX ORIGINAL COMEDY SPECIAL Thank you! T...</td>\n",
       "      <td>2019</td>\n",
       "      <td>A NETFLIX ORIGINAL COMEDY SPECIAL\\nThank you! ...</td>\n",
       "      <td>https://scrapsfromtheloft.com/2019/10/04/nikki...</td>\n",
       "      <td>53937</td>\n",
       "      <td>1984-01-01</td>\n",
       "      <td>Female</td>\n",
       "      <td>35</td>\n",
       "    </tr>\n",
       "    <tr>\n",
       "      <th>1</th>\n",
       "      <td>Nikki Glaser</td>\n",
       "      <td>Perfect</td>\n",
       "      <td>Nikki Glaser brings her sharp wit to her first...</td>\n",
       "      <td>2016</td>\n",
       "      <td>* * Ooh, ooh, ooh, ooh, ooh, ooh, ooh, ooh * *...</td>\n",
       "      <td>https://scrapsfromtheloft.com/2018/05/16/nikki...</td>\n",
       "      <td>59586</td>\n",
       "      <td>1984-01-01</td>\n",
       "      <td>Female</td>\n",
       "      <td>32</td>\n",
       "    </tr>\n",
       "    <tr>\n",
       "      <th>2</th>\n",
       "      <td>Bill Burr</td>\n",
       "      <td>Paper Tiger</td>\n",
       "      <td>Only a few weeks after Dave Chappelle's \"Stick...</td>\n",
       "      <td>2019</td>\n",
       "      <td>Recorded Live at the Royal Albert Hall, London...</td>\n",
       "      <td>https://scrapsfromtheloft.com/2019/09/10/bill-...</td>\n",
       "      <td>60486</td>\n",
       "      <td>1968-06-10</td>\n",
       "      <td>Male</td>\n",
       "      <td>51</td>\n",
       "    </tr>\n",
       "    <tr>\n",
       "      <th>3</th>\n",
       "      <td>Bill Burr</td>\n",
       "      <td>Why Do I Do This   Testo Italiano Completo</td>\n",
       "      <td>Va bene, grazie, grazie mille. Va bene, Gesù. ...</td>\n",
       "      <td>2008</td>\n",
       "      <td>Va bene, grazie, grazie mille. Va bene, Gesù. ...</td>\n",
       "      <td>https://scrapsfromtheloft.com/2017/09/08/bill-...</td>\n",
       "      <td>45505</td>\n",
       "      <td>1968-06-10</td>\n",
       "      <td>Male</td>\n",
       "      <td>40</td>\n",
       "    </tr>\n",
       "    <tr>\n",
       "      <th>4</th>\n",
       "      <td>Bill Burr</td>\n",
       "      <td>I’M Sorry You Feel That Way</td>\n",
       "      <td>[cheers and applause] All right, thank you! Th...</td>\n",
       "      <td>2014</td>\n",
       "      <td>[cheers and applause] All right, thank you! Th...</td>\n",
       "      <td>https://scrapsfromtheloft.com/2017/05/24/bill-...</td>\n",
       "      <td>64608</td>\n",
       "      <td>1968-06-10</td>\n",
       "      <td>Male</td>\n",
       "      <td>46</td>\n",
       "    </tr>\n",
       "  </tbody>\n",
       "</table>\n",
       "</div>"
      ],
      "text/plain": [
       "           name                                       title  \\\n",
       "0  Nikki Glaser                                     Bangin’   \n",
       "1  Nikki Glaser                                     Perfect   \n",
       "2     Bill Burr                                 Paper Tiger   \n",
       "3     Bill Burr  Why Do I Do This   Testo Italiano Completo   \n",
       "4     Bill Burr                 I’M Sorry You Feel That Way   \n",
       "\n",
       "                                             summary  year  \\\n",
       "0  A NETFLIX ORIGINAL COMEDY SPECIAL Thank you! T...  2019   \n",
       "1  Nikki Glaser brings her sharp wit to her first...  2016   \n",
       "2  Only a few weeks after Dave Chappelle's \"Stick...  2019   \n",
       "3  Va bene, grazie, grazie mille. Va bene, Gesù. ...  2008   \n",
       "4  [cheers and applause] All right, thank you! Th...  2014   \n",
       "\n",
       "                                          transcript  \\\n",
       "0  A NETFLIX ORIGINAL COMEDY SPECIAL\\nThank you! ...   \n",
       "1  * * Ooh, ooh, ooh, ooh, ooh, ooh, ooh, ooh * *...   \n",
       "2  Recorded Live at the Royal Albert Hall, London...   \n",
       "3  Va bene, grazie, grazie mille. Va bene, Gesù. ...   \n",
       "4  [cheers and applause] All right, thank you! Th...   \n",
       "\n",
       "                                                link  len_transcript  \\\n",
       "0  https://scrapsfromtheloft.com/2019/10/04/nikki...           53937   \n",
       "1  https://scrapsfromtheloft.com/2018/05/16/nikki...           59586   \n",
       "2  https://scrapsfromtheloft.com/2019/09/10/bill-...           60486   \n",
       "3  https://scrapsfromtheloft.com/2017/09/08/bill-...           45505   \n",
       "4  https://scrapsfromtheloft.com/2017/05/24/bill-...           64608   \n",
       "\n",
       "         dob     sex  age_when_recorded  \n",
       "0 1984-01-01  Female                 35  \n",
       "1 1984-01-01  Female                 32  \n",
       "2 1968-06-10    Male                 51  \n",
       "3 1968-06-10    Male                 40  \n",
       "4 1968-06-10    Male                 46  "
      ]
     },
     "execution_count": 63,
     "metadata": {},
     "output_type": "execute_result"
    }
   ],
   "source": [
    "df.head()"
   ]
  },
  {
   "cell_type": "markdown",
   "metadata": {},
   "source": [
    "## Save"
   ]
  },
  {
   "cell_type": "code",
   "execution_count": 64,
   "metadata": {},
   "outputs": [],
   "source": [
    "# raw_data\n",
    "file = '05_clean_data_OCT_19.csv'\n",
    "data_directory = os.path.join( '..','data','raw_data/{}'.format(file))"
   ]
  },
  {
   "cell_type": "code",
   "execution_count": 65,
   "metadata": {},
   "outputs": [],
   "source": [
    "df.to_csv(data_directory,index=False)"
   ]
  },
  {
   "cell_type": "code",
   "execution_count": 66,
   "metadata": {},
   "outputs": [
    {
     "data": {
      "text/html": [
       "<div>\n",
       "<style scoped>\n",
       "    .dataframe tbody tr th:only-of-type {\n",
       "        vertical-align: middle;\n",
       "    }\n",
       "\n",
       "    .dataframe tbody tr th {\n",
       "        vertical-align: top;\n",
       "    }\n",
       "\n",
       "    .dataframe thead th {\n",
       "        text-align: right;\n",
       "    }\n",
       "</style>\n",
       "<table border=\"1\" class=\"dataframe\">\n",
       "  <thead>\n",
       "    <tr style=\"text-align: right;\">\n",
       "      <th></th>\n",
       "      <th>name</th>\n",
       "      <th>title</th>\n",
       "      <th>summary</th>\n",
       "      <th>year</th>\n",
       "      <th>transcript</th>\n",
       "      <th>link</th>\n",
       "      <th>len_transcript</th>\n",
       "      <th>dob</th>\n",
       "      <th>sex</th>\n",
       "      <th>age_when_recorded</th>\n",
       "    </tr>\n",
       "  </thead>\n",
       "  <tbody>\n",
       "    <tr>\n",
       "      <th>0</th>\n",
       "      <td>Nikki Glaser</td>\n",
       "      <td>Bangin’</td>\n",
       "      <td>A NETFLIX ORIGINAL COMEDY SPECIAL Thank you! T...</td>\n",
       "      <td>2019</td>\n",
       "      <td>A NETFLIX ORIGINAL COMEDY SPECIAL\\nThank you! ...</td>\n",
       "      <td>https://scrapsfromtheloft.com/2019/10/04/nikki...</td>\n",
       "      <td>53937</td>\n",
       "      <td>1984-01-01</td>\n",
       "      <td>Female</td>\n",
       "      <td>35</td>\n",
       "    </tr>\n",
       "    <tr>\n",
       "      <th>1</th>\n",
       "      <td>Nikki Glaser</td>\n",
       "      <td>Perfect</td>\n",
       "      <td>Nikki Glaser brings her sharp wit to her first...</td>\n",
       "      <td>2016</td>\n",
       "      <td>* * Ooh, ooh, ooh, ooh, ooh, ooh, ooh, ooh * *...</td>\n",
       "      <td>https://scrapsfromtheloft.com/2018/05/16/nikki...</td>\n",
       "      <td>59586</td>\n",
       "      <td>1984-01-01</td>\n",
       "      <td>Female</td>\n",
       "      <td>32</td>\n",
       "    </tr>\n",
       "    <tr>\n",
       "      <th>2</th>\n",
       "      <td>Bill Burr</td>\n",
       "      <td>Paper Tiger</td>\n",
       "      <td>Only a few weeks after Dave Chappelle's \"Stick...</td>\n",
       "      <td>2019</td>\n",
       "      <td>Recorded Live at the Royal Albert Hall, London...</td>\n",
       "      <td>https://scrapsfromtheloft.com/2019/09/10/bill-...</td>\n",
       "      <td>60486</td>\n",
       "      <td>1968-06-10</td>\n",
       "      <td>Male</td>\n",
       "      <td>51</td>\n",
       "    </tr>\n",
       "    <tr>\n",
       "      <th>3</th>\n",
       "      <td>Bill Burr</td>\n",
       "      <td>Why Do I Do This   Testo Italiano Completo</td>\n",
       "      <td>Va bene, grazie, grazie mille. Va bene, Gesù. ...</td>\n",
       "      <td>2008</td>\n",
       "      <td>Va bene, grazie, grazie mille. Va bene, Gesù. ...</td>\n",
       "      <td>https://scrapsfromtheloft.com/2017/09/08/bill-...</td>\n",
       "      <td>45505</td>\n",
       "      <td>1968-06-10</td>\n",
       "      <td>Male</td>\n",
       "      <td>40</td>\n",
       "    </tr>\n",
       "    <tr>\n",
       "      <th>4</th>\n",
       "      <td>Bill Burr</td>\n",
       "      <td>I’M Sorry You Feel That Way</td>\n",
       "      <td>[cheers and applause] All right, thank you! Th...</td>\n",
       "      <td>2014</td>\n",
       "      <td>[cheers and applause] All right, thank you! Th...</td>\n",
       "      <td>https://scrapsfromtheloft.com/2017/05/24/bill-...</td>\n",
       "      <td>64608</td>\n",
       "      <td>1968-06-10</td>\n",
       "      <td>Male</td>\n",
       "      <td>46</td>\n",
       "    </tr>\n",
       "  </tbody>\n",
       "</table>\n",
       "</div>"
      ],
      "text/plain": [
       "           name                                       title  \\\n",
       "0  Nikki Glaser                                     Bangin’   \n",
       "1  Nikki Glaser                                     Perfect   \n",
       "2     Bill Burr                                 Paper Tiger   \n",
       "3     Bill Burr  Why Do I Do This   Testo Italiano Completo   \n",
       "4     Bill Burr                 I’M Sorry You Feel That Way   \n",
       "\n",
       "                                             summary  year  \\\n",
       "0  A NETFLIX ORIGINAL COMEDY SPECIAL Thank you! T...  2019   \n",
       "1  Nikki Glaser brings her sharp wit to her first...  2016   \n",
       "2  Only a few weeks after Dave Chappelle's \"Stick...  2019   \n",
       "3  Va bene, grazie, grazie mille. Va bene, Gesù. ...  2008   \n",
       "4  [cheers and applause] All right, thank you! Th...  2014   \n",
       "\n",
       "                                          transcript  \\\n",
       "0  A NETFLIX ORIGINAL COMEDY SPECIAL\\nThank you! ...   \n",
       "1  * * Ooh, ooh, ooh, ooh, ooh, ooh, ooh, ooh * *...   \n",
       "2  Recorded Live at the Royal Albert Hall, London...   \n",
       "3  Va bene, grazie, grazie mille. Va bene, Gesù. ...   \n",
       "4  [cheers and applause] All right, thank you! Th...   \n",
       "\n",
       "                                                link  len_transcript  \\\n",
       "0  https://scrapsfromtheloft.com/2019/10/04/nikki...           53937   \n",
       "1  https://scrapsfromtheloft.com/2018/05/16/nikki...           59586   \n",
       "2  https://scrapsfromtheloft.com/2019/09/10/bill-...           60486   \n",
       "3  https://scrapsfromtheloft.com/2017/09/08/bill-...           45505   \n",
       "4  https://scrapsfromtheloft.com/2017/05/24/bill-...           64608   \n",
       "\n",
       "         dob     sex  age_when_recorded  \n",
       "0 1984-01-01  Female                 35  \n",
       "1 1984-01-01  Female                 32  \n",
       "2 1968-06-10    Male                 51  \n",
       "3 1968-06-10    Male                 40  \n",
       "4 1968-06-10    Male                 46  "
      ]
     },
     "execution_count": 66,
     "metadata": {},
     "output_type": "execute_result"
    }
   ],
   "source": [
    "df.head()"
   ]
  },
  {
   "cell_type": "code",
   "execution_count": null,
   "metadata": {},
   "outputs": [],
   "source": []
  }
 ],
 "metadata": {
  "kernelspec": {
   "display_name": "Python 3",
   "language": "python",
   "name": "python3"
  },
  "language_info": {
   "codemirror_mode": {
    "name": "ipython",
    "version": 3
   },
   "file_extension": ".py",
   "mimetype": "text/x-python",
   "name": "python",
   "nbconvert_exporter": "python",
   "pygments_lexer": "ipython3",
   "version": "3.7.4"
  }
 },
 "nbformat": 4,
 "nbformat_minor": 2
}
