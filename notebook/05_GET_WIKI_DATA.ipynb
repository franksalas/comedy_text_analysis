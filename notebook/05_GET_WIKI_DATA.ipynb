{
 "cells": [
  {
   "cell_type": "code",
   "execution_count": 1,
   "metadata": {},
   "outputs": [],
   "source": [
    "import wikipedia as wk\n",
    "from IPython.core.display import clear_output"
   ]
  },
  {
   "cell_type": "code",
   "execution_count": 2,
   "metadata": {},
   "outputs": [],
   "source": [
    "import pandas as pd\n",
    "import numpy as np\n",
    "import seaborn as sns\n",
    "import matplotlib.pyplot as plt\n",
    "import os\n",
    "import re\n",
    "plt.style.use('ggplot')\n",
    "sns.set(rc={'figure.figsize':(10.7,4.27)})"
   ]
  },
  {
   "cell_type": "markdown",
   "metadata": {},
   "source": [
    "## load data"
   ]
  },
  {
   "cell_type": "code",
   "execution_count": 3,
   "metadata": {},
   "outputs": [
    {
     "data": {
      "text/html": [
       "<div>\n",
       "<style scoped>\n",
       "    .dataframe tbody tr th:only-of-type {\n",
       "        vertical-align: middle;\n",
       "    }\n",
       "\n",
       "    .dataframe tbody tr th {\n",
       "        vertical-align: top;\n",
       "    }\n",
       "\n",
       "    .dataframe thead th {\n",
       "        text-align: right;\n",
       "    }\n",
       "</style>\n",
       "<table border=\"1\" class=\"dataframe\">\n",
       "  <thead>\n",
       "    <tr style=\"text-align: right;\">\n",
       "      <th></th>\n",
       "      <th>name</th>\n",
       "      <th>raw_title</th>\n",
       "      <th>summary</th>\n",
       "      <th>transcript</th>\n",
       "      <th>link</th>\n",
       "      <th>year</th>\n",
       "      <th>title</th>\n",
       "    </tr>\n",
       "  </thead>\n",
       "  <tbody>\n",
       "    <tr>\n",
       "      <th>0</th>\n",
       "      <td>Louis C.K.</td>\n",
       "      <td>Sincerely Louis Ck (2020)</td>\n",
       "      <td>Great comedy is finally back. Louis C.K. is no...</td>\n",
       "      <td>Great comedy is finally back. Louis C.K. is no...</td>\n",
       "      <td>https://scrapsfromtheloft.com/2020/05/02/since...</td>\n",
       "      <td>2020</td>\n",
       "      <td>Sincerely Louis Ck</td>\n",
       "    </tr>\n",
       "    <tr>\n",
       "      <th>1</th>\n",
       "      <td>Jim Norton</td>\n",
       "      <td>Jim Norton: American Degenerate (2013) – Full ...</td>\n",
       "      <td>For his second EPIX comedy special, Jim Norton...</td>\n",
       "      <td>This year I wanted the opening of my new speci...</td>\n",
       "      <td>https://scrapsfromtheloft.com/2020/05/02/jim-n...</td>\n",
       "      <td>2013</td>\n",
       "      <td>American Degenerate</td>\n",
       "    </tr>\n",
       "    <tr>\n",
       "      <th>2</th>\n",
       "      <td>Jim Norton</td>\n",
       "      <td>Jim Norton: Monster Rain (2007) – Full Transcript</td>\n",
       "      <td>His special \"Monster Rain,\" Jim Norton perform...</td>\n",
       "      <td>Thank you! Aw, thank you very much. Thank you,...</td>\n",
       "      <td>https://scrapsfromtheloft.com/2020/05/02/jim-n...</td>\n",
       "      <td>2007</td>\n",
       "      <td>Monster Rain</td>\n",
       "    </tr>\n",
       "    <tr>\n",
       "      <th>3</th>\n",
       "      <td>Daniel Sloss</td>\n",
       "      <td>Daniel Sloss: X (2019) – Full Transcript</td>\n",
       "      <td>Taking the stage before a sold-out audience at...</td>\n",
       "      <td>A man offered us a billion dollars. – Bolt the...</td>\n",
       "      <td>https://scrapsfromtheloft.com/2020/05/01/danie...</td>\n",
       "      <td>2019</td>\n",
       "      <td>X</td>\n",
       "    </tr>\n",
       "    <tr>\n",
       "      <th>4</th>\n",
       "      <td>Maria Bamford</td>\n",
       "      <td>Maria Bamford: Weakness Is The Brand (2020) – ...</td>\n",
       "      <td>In this standup special \"Weakness Is the Brand...</td>\n",
       "      <td>[microphone droans]\\n[music playing]\\n[crowd c...</td>\n",
       "      <td>https://scrapsfromtheloft.com/2020/05/01/maria...</td>\n",
       "      <td>2020</td>\n",
       "      <td>Weakness Is The Brand</td>\n",
       "    </tr>\n",
       "  </tbody>\n",
       "</table>\n",
       "</div>"
      ],
      "text/plain": [
       "            name                                          raw_title  \\\n",
       "0     Louis C.K.                          Sincerely Louis Ck (2020)   \n",
       "1     Jim Norton  Jim Norton: American Degenerate (2013) – Full ...   \n",
       "2     Jim Norton  Jim Norton: Monster Rain (2007) – Full Transcript   \n",
       "3   Daniel Sloss           Daniel Sloss: X (2019) – Full Transcript   \n",
       "4  Maria Bamford  Maria Bamford: Weakness Is The Brand (2020) – ...   \n",
       "\n",
       "                                             summary  \\\n",
       "0  Great comedy is finally back. Louis C.K. is no...   \n",
       "1  For his second EPIX comedy special, Jim Norton...   \n",
       "2  His special \"Monster Rain,\" Jim Norton perform...   \n",
       "3  Taking the stage before a sold-out audience at...   \n",
       "4  In this standup special \"Weakness Is the Brand...   \n",
       "\n",
       "                                          transcript  \\\n",
       "0  Great comedy is finally back. Louis C.K. is no...   \n",
       "1  This year I wanted the opening of my new speci...   \n",
       "2  Thank you! Aw, thank you very much. Thank you,...   \n",
       "3  A man offered us a billion dollars. – Bolt the...   \n",
       "4  [microphone droans]\\n[music playing]\\n[crowd c...   \n",
       "\n",
       "                                                link  year  \\\n",
       "0  https://scrapsfromtheloft.com/2020/05/02/since...  2020   \n",
       "1  https://scrapsfromtheloft.com/2020/05/02/jim-n...  2013   \n",
       "2  https://scrapsfromtheloft.com/2020/05/02/jim-n...  2007   \n",
       "3  https://scrapsfromtheloft.com/2020/05/01/danie...  2019   \n",
       "4  https://scrapsfromtheloft.com/2020/05/01/maria...  2020   \n",
       "\n",
       "                   title  \n",
       "0     Sincerely Louis Ck  \n",
       "1    American Degenerate  \n",
       "2           Monster Rain  \n",
       "3                      X  \n",
       "4  Weakness Is The Brand  "
      ]
     },
     "execution_count": 3,
     "metadata": {},
     "output_type": "execute_result"
    }
   ],
   "source": [
    "# comedy link list\n",
    "file = 'raw_comedy_04.pkl'\n",
    "data_directory = os.path.join('..','data','raw_data/{}'.format(file))\n",
    "df = pd.read_pickle(data_directory)\n",
    "df.head()"
   ]
  },
  {
   "cell_type": "markdown",
   "metadata": {},
   "source": [
    "## Get len of transcript"
   ]
  },
  {
   "cell_type": "code",
   "execution_count": 4,
   "metadata": {},
   "outputs": [],
   "source": [
    "df['len_transcript'] = df.transcript.str.len()"
   ]
  },
  {
   "cell_type": "code",
   "execution_count": 5,
   "metadata": {},
   "outputs": [
    {
     "data": {
      "text/plain": [
       "count      314.000000\n",
       "mean     43545.522293\n",
       "std      17993.700238\n",
       "min         93.000000\n",
       "25%      37322.750000\n",
       "50%      46350.500000\n",
       "75%      55170.500000\n",
       "max      87452.000000\n",
       "Name: len_transcript, dtype: float64"
      ]
     },
     "execution_count": 5,
     "metadata": {},
     "output_type": "execute_result"
    }
   ],
   "source": [
    "df.len_transcript.describe()"
   ]
  },
  {
   "cell_type": "code",
   "execution_count": 6,
   "metadata": {},
   "outputs": [
    {
     "data": {
      "text/plain": [
       "Text(0.5, 1.0, 'length of Transcript Distribution')"
      ]
     },
     "execution_count": 6,
     "metadata": {},
     "output_type": "execute_result"
    },
    {
     "data": {
      "image/png": "[encoded data removed]",
      "text/plain": [
       "<Figure size 770.4x307.44 with 1 Axes>"
      ]
     },
     "metadata": {},
     "output_type": "display_data"
    }
   ],
   "source": [
    "sns.distplot(df.len_transcript)\n",
    "plt.title('length of Transcript Distribution')"
   ]
  },
  {
   "cell_type": "markdown",
   "metadata": {},
   "source": [
    "## Drop transcripts < 20,000\n",
    "- select only transcripts that are 20K words or longer"
   ]
  },
  {
   "cell_type": "code",
   "execution_count": 7,
   "metadata": {},
   "outputs": [],
   "source": [
    "large_transcripts = df.len_transcript>= 20000\n",
    "df = df[large_transcripts]"
   ]
  },
  {
   "cell_type": "code",
   "execution_count": 8,
   "metadata": {},
   "outputs": [
    {
     "data": {
      "text/plain": [
       "Text(0.5, 1.0, 'length of Transcript Distribution')"
      ]
     },
     "execution_count": 8,
     "metadata": {},
     "output_type": "execute_result"
    },
    {
     "data": {
      "image/png": "[encoded data removed]",
      "text/plain": [
       "<Figure size 770.4x307.44 with 1 Axes>"
      ]
     },
     "metadata": {},
     "output_type": "display_data"
    }
   ],
   "source": [
    "sns.distplot(df.len_transcript)\n",
    "plt.title('length of Transcript Distribution')"
   ]
  },
  {
   "cell_type": "markdown",
   "metadata": {},
   "source": [
    "## Extract DOB from wikipedia"
   ]
  },
  {
   "cell_type": "code",
   "execution_count": 9,
   "metadata": {},
   "outputs": [],
   "source": [
    "def get_bday_wiki_rx(data):\n",
    "    '''call wikipedia API to extract DOB from summary'''\n",
    "    pat = r'(\\d{2}\\s[A-z]+\\s|[A-z]+\\s\\d{2},?\\s)?\\d{4}'\n",
    "    pattern = re.compile(pat,re.IGNORECASE|re.VERBOSE)\n",
    "    name = data['name']\n",
    "    print('bday extraction: {}'.format(name))\n",
    "    clear_output(wait = True)\n",
    "    try:\n",
    "        page = wk.page(name)\n",
    "        result = pattern.search(page.content).group()\n",
    "        return result\n",
    "    except:\n",
    "        print('Some error.')"
   ]
  },
  {
   "cell_type": "markdown",
   "metadata": {},
   "source": [
    "## Extract sex from wikipedia"
   ]
  },
  {
   "cell_type": "code",
   "execution_count": 10,
   "metadata": {},
   "outputs": [],
   "source": [
    "def get_sex_wiki_rx(data):\n",
    "    '''call wikipedia API to extact sex of person\n",
    "    by searching how they are described'''\n",
    "    pat = r'(He|She)'\n",
    "    pattern = re.compile(pat,re.IGNORECASE|re.VERBOSE)\n",
    "    name= data['name']\n",
    "    print('sex extraction: {}'.format(name))\n",
    "    clear_output(wait = True)\n",
    "    try:\n",
    "        page = wk.page(name)\n",
    "        result = pattern.search(page.content).group()\n",
    "        result = result.title()\n",
    "        if result == 'She':\n",
    "            return 'Female'\n",
    "        elif result == 'He':\n",
    "            return 'Male'\n",
    "        else:\n",
    "            return 'Unk'\n",
    "    except:\n",
    "        print('Some error')"
   ]
  },
  {
   "cell_type": "markdown",
   "metadata": {},
   "source": [
    "## Apply function"
   ]
  },
  {
   "cell_type": "code",
   "execution_count": 11,
   "metadata": {},
   "outputs": [
    {
     "data": {
      "text/plain": [
       "140"
      ]
     },
     "execution_count": 11,
     "metadata": {},
     "output_type": "execute_result"
    }
   ],
   "source": [
    "len(df.name.value_counts(dropna=False))"
   ]
  },
  {
   "cell_type": "code",
   "execution_count": 12,
   "metadata": {},
   "outputs": [
    {
     "data": {
      "text/plain": [
       "140"
      ]
     },
     "execution_count": 12,
     "metadata": {},
     "output_type": "execute_result"
    }
   ],
   "source": [
    "name_list = list(df.name.unique())\n",
    "len(name_list)"
   ]
  },
  {
   "cell_type": "code",
   "execution_count": 13,
   "metadata": {},
   "outputs": [
    {
     "data": {
      "text/html": [
       "<div>\n",
       "<style scoped>\n",
       "    .dataframe tbody tr th:only-of-type {\n",
       "        vertical-align: middle;\n",
       "    }\n",
       "\n",
       "    .dataframe tbody tr th {\n",
       "        vertical-align: top;\n",
       "    }\n",
       "\n",
       "    .dataframe thead th {\n",
       "        text-align: right;\n",
       "    }\n",
       "</style>\n",
       "<table border=\"1\" class=\"dataframe\">\n",
       "  <thead>\n",
       "    <tr style=\"text-align: right;\">\n",
       "      <th></th>\n",
       "      <th>name</th>\n",
       "    </tr>\n",
       "  </thead>\n",
       "  <tbody>\n",
       "    <tr>\n",
       "      <th>0</th>\n",
       "      <td>Louis C.K.</td>\n",
       "    </tr>\n",
       "    <tr>\n",
       "      <th>1</th>\n",
       "      <td>Jim Norton</td>\n",
       "    </tr>\n",
       "    <tr>\n",
       "      <th>2</th>\n",
       "      <td>Daniel Sloss</td>\n",
       "    </tr>\n",
       "    <tr>\n",
       "      <th>3</th>\n",
       "      <td>Maria Bamford</td>\n",
       "    </tr>\n",
       "    <tr>\n",
       "      <th>4</th>\n",
       "      <td>Chris D'Elia</td>\n",
       "    </tr>\n",
       "  </tbody>\n",
       "</table>\n",
       "</div>"
      ],
      "text/plain": [
       "            name\n",
       "0     Louis C.K.\n",
       "1     Jim Norton\n",
       "2   Daniel Sloss\n",
       "3  Maria Bamford\n",
       "4   Chris D'Elia"
      ]
     },
     "execution_count": 13,
     "metadata": {},
     "output_type": "execute_result"
    }
   ],
   "source": [
    "name_df = pd.DataFrame(name_list) \n",
    "name_df.rename(columns={0:'name'}, inplace=True)\n",
    "name_df.head()"
   ]
  },
  {
   "cell_type": "markdown",
   "metadata": {},
   "source": [
    "## Get DOB"
   ]
  },
  {
   "cell_type": "code",
   "execution_count": 14,
   "metadata": {},
   "outputs": [
    {
     "name": "stdout",
     "output_type": "stream",
     "text": [
      "CPU times: user 8.03 s, sys: 1.84 s, total: 9.88 s\n",
      "Wall time: 3min 28s\n"
     ]
    }
   ],
   "source": [
    "%%time\n",
    "name_df['dob'] = name_df.apply(get_bday_wiki_rx,axis=1)"
   ]
  },
  {
   "cell_type": "code",
   "execution_count": 15,
   "metadata": {},
   "outputs": [
    {
     "data": {
      "text/plain": [
       "NaN     13\n",
       "1964     3\n",
       "1981     3\n",
       "1971     3\n",
       "1970     3\n",
       "1966     2\n",
       "1958     2\n",
       "1974     2\n",
       "1979     2\n",
       "1977     2\n",
       "Name: dob, dtype: int64"
      ]
     },
     "execution_count": 15,
     "metadata": {},
     "output_type": "execute_result"
    }
   ],
   "source": [
    "name_df.dob.value_counts(dropna=False)[:10]"
   ]
  },
  {
   "cell_type": "code",
   "execution_count": 16,
   "metadata": {},
   "outputs": [
    {
     "data": {
      "text/plain": [
       "name     0\n",
       "dob     13\n",
       "dtype: int64"
      ]
     },
     "execution_count": 16,
     "metadata": {},
     "output_type": "execute_result"
    }
   ],
   "source": [
    "name_df.apply(lambda x: sum(x.isnull()))"
   ]
  },
  {
   "cell_type": "code",
   "execution_count": 17,
   "metadata": {},
   "outputs": [
    {
     "data": {
      "text/html": [
       "<div>\n",
       "<style scoped>\n",
       "    .dataframe tbody tr th:only-of-type {\n",
       "        vertical-align: middle;\n",
       "    }\n",
       "\n",
       "    .dataframe tbody tr th {\n",
       "        vertical-align: top;\n",
       "    }\n",
       "\n",
       "    .dataframe thead th {\n",
       "        text-align: right;\n",
       "    }\n",
       "</style>\n",
       "<table border=\"1\" class=\"dataframe\">\n",
       "  <thead>\n",
       "    <tr style=\"text-align: right;\">\n",
       "      <th></th>\n",
       "      <th>name</th>\n",
       "      <th>dob</th>\n",
       "    </tr>\n",
       "  </thead>\n",
       "  <tbody>\n",
       "    <tr>\n",
       "      <th>0</th>\n",
       "      <td>Louis C.K.</td>\n",
       "      <td>September 12, 1967</td>\n",
       "    </tr>\n",
       "    <tr>\n",
       "      <th>1</th>\n",
       "      <td>Jim Norton</td>\n",
       "      <td>July 19, 1968</td>\n",
       "    </tr>\n",
       "    <tr>\n",
       "      <th>2</th>\n",
       "      <td>Daniel Sloss</td>\n",
       "      <td>11 September 1990</td>\n",
       "    </tr>\n",
       "    <tr>\n",
       "      <th>3</th>\n",
       "      <td>Maria Bamford</td>\n",
       "      <td>1970</td>\n",
       "    </tr>\n",
       "    <tr>\n",
       "      <th>4</th>\n",
       "      <td>Chris D'Elia</td>\n",
       "      <td>2019</td>\n",
       "    </tr>\n",
       "  </tbody>\n",
       "</table>\n",
       "</div>"
      ],
      "text/plain": [
       "            name                 dob\n",
       "0     Louis C.K.  September 12, 1967\n",
       "1     Jim Norton       July 19, 1968\n",
       "2   Daniel Sloss   11 September 1990\n",
       "3  Maria Bamford                1970\n",
       "4   Chris D'Elia                2019"
      ]
     },
     "execution_count": 17,
     "metadata": {},
     "output_type": "execute_result"
    }
   ],
   "source": [
    "name_df.head()"
   ]
  },
  {
   "cell_type": "code",
   "execution_count": 18,
   "metadata": {},
   "outputs": [
    {
     "data": {
      "text/html": [
       "<div>\n",
       "<style scoped>\n",
       "    .dataframe tbody tr th:only-of-type {\n",
       "        vertical-align: middle;\n",
       "    }\n",
       "\n",
       "    .dataframe tbody tr th {\n",
       "        vertical-align: top;\n",
       "    }\n",
       "\n",
       "    .dataframe thead th {\n",
       "        text-align: right;\n",
       "    }\n",
       "</style>\n",
       "<table border=\"1\" class=\"dataframe\">\n",
       "  <thead>\n",
       "    <tr style=\"text-align: right;\">\n",
       "      <th></th>\n",
       "      <th>name</th>\n",
       "      <th>dob</th>\n",
       "    </tr>\n",
       "  </thead>\n",
       "  <tbody>\n",
       "    <tr>\n",
       "      <th>7</th>\n",
       "      <td>Marc Maron</td>\n",
       "      <td>None</td>\n",
       "    </tr>\n",
       "    <tr>\n",
       "      <th>17</th>\n",
       "      <td>Tiffany Haddish</td>\n",
       "      <td>None</td>\n",
       "    </tr>\n",
       "    <tr>\n",
       "      <th>24</th>\n",
       "      <td>Amazon Rainforestclimate Changedeforestationha...</td>\n",
       "      <td>None</td>\n",
       "    </tr>\n",
       "    <tr>\n",
       "      <th>31</th>\n",
       "      <td>Adam Devine</td>\n",
       "      <td>None</td>\n",
       "    </tr>\n",
       "    <tr>\n",
       "      <th>58</th>\n",
       "      <td>Jeff Foxworthylarry The Cable Guy</td>\n",
       "      <td>None</td>\n",
       "    </tr>\n",
       "    <tr>\n",
       "      <th>59</th>\n",
       "      <td>Adam Sandler</td>\n",
       "      <td>None</td>\n",
       "    </tr>\n",
       "    <tr>\n",
       "      <th>72</th>\n",
       "      <td>Deray Davis</td>\n",
       "      <td>None</td>\n",
       "    </tr>\n",
       "    <tr>\n",
       "      <th>75</th>\n",
       "      <td>Russell Peters</td>\n",
       "      <td>None</td>\n",
       "    </tr>\n",
       "    <tr>\n",
       "      <th>82</th>\n",
       "      <td>John Mulaney</td>\n",
       "      <td>None</td>\n",
       "    </tr>\n",
       "    <tr>\n",
       "      <th>95</th>\n",
       "      <td>Katt Williams</td>\n",
       "      <td>None</td>\n",
       "    </tr>\n",
       "    <tr>\n",
       "      <th>112</th>\n",
       "      <td>Paul Mooney</td>\n",
       "      <td>None</td>\n",
       "    </tr>\n",
       "    <tr>\n",
       "      <th>128</th>\n",
       "      <td>Richard Pryor</td>\n",
       "      <td>None</td>\n",
       "    </tr>\n",
       "    <tr>\n",
       "      <th>130</th>\n",
       "      <td>Nick Offerman</td>\n",
       "      <td>None</td>\n",
       "    </tr>\n",
       "  </tbody>\n",
       "</table>\n",
       "</div>"
      ],
      "text/plain": [
       "                                                  name   dob\n",
       "7                                           Marc Maron  None\n",
       "17                                     Tiffany Haddish  None\n",
       "24   Amazon Rainforestclimate Changedeforestationha...  None\n",
       "31                                         Adam Devine  None\n",
       "58                   Jeff Foxworthylarry The Cable Guy  None\n",
       "59                                        Adam Sandler  None\n",
       "72                                         Deray Davis  None\n",
       "75                                      Russell Peters  None\n",
       "82                                        John Mulaney  None\n",
       "95                                       Katt Williams  None\n",
       "112                                        Paul Mooney  None\n",
       "128                                      Richard Pryor  None\n",
       "130                                      Nick Offerman  None"
      ]
     },
     "execution_count": 18,
     "metadata": {},
     "output_type": "execute_result"
    }
   ],
   "source": [
    "name_df[name_df.isnull().any(axis=1)]"
   ]
  },
  {
   "cell_type": "markdown",
   "metadata": {},
   "source": [
    "## Update Null DOB's"
   ]
  },
  {
   "cell_type": "code",
   "execution_count": 19,
   "metadata": {},
   "outputs": [],
   "source": [
    "name_df.loc[7, 'dob'] = 'September 27, 1963'\n",
    "name_df.loc[17, 'dob'] = 'December 3, 1979'\n",
    "name_df.loc[31, 'dob'] = 'November 7, 1983'\n",
    "name_df.loc[59, 'dob'] = 'September 9, 1966'\n",
    "name_df.loc[72, 'dob'] = 'February 26, 1982'\n",
    "name_df.loc[75, 'dob'] = 'September 29, 1970'\n",
    "name_df.loc[82, 'dob'] = 'August 26, 1982'\n",
    "name_df.loc[95, 'dob'] = 'September 2, 1971'\n",
    "name_df.loc[112, 'dob'] = 'August 4, 1941'\n",
    "name_df.loc[128, 'dob'] = 'December 1, 1940'\n",
    "name_df.loc[130, 'dob'] = 'June 26, 1970'\n",
    "name_df.loc[58, 'dob'] = 'September 6, 1958'"
   ]
  },
  {
   "cell_type": "code",
   "execution_count": 20,
   "metadata": {},
   "outputs": [
    {
     "data": {
      "text/plain": [
       "name    0\n",
       "dob     1\n",
       "dtype: int64"
      ]
     },
     "execution_count": 20,
     "metadata": {},
     "output_type": "execute_result"
    }
   ],
   "source": [
    "name_df.apply(lambda x: sum(x.isnull()))"
   ]
  },
  {
   "cell_type": "code",
   "execution_count": 21,
   "metadata": {},
   "outputs": [
    {
     "data": {
      "text/html": [
       "<div>\n",
       "<style scoped>\n",
       "    .dataframe tbody tr th:only-of-type {\n",
       "        vertical-align: middle;\n",
       "    }\n",
       "\n",
       "    .dataframe tbody tr th {\n",
       "        vertical-align: top;\n",
       "    }\n",
       "\n",
       "    .dataframe thead th {\n",
       "        text-align: right;\n",
       "    }\n",
       "</style>\n",
       "<table border=\"1\" class=\"dataframe\">\n",
       "  <thead>\n",
       "    <tr style=\"text-align: right;\">\n",
       "      <th></th>\n",
       "      <th>name</th>\n",
       "      <th>dob</th>\n",
       "    </tr>\n",
       "  </thead>\n",
       "  <tbody>\n",
       "    <tr>\n",
       "      <th>24</th>\n",
       "      <td>Amazon Rainforestclimate Changedeforestationha...</td>\n",
       "      <td>None</td>\n",
       "    </tr>\n",
       "  </tbody>\n",
       "</table>\n",
       "</div>"
      ],
      "text/plain": [
       "                                                 name   dob\n",
       "24  Amazon Rainforestclimate Changedeforestationha...  None"
      ]
     },
     "execution_count": 21,
     "metadata": {},
     "output_type": "execute_result"
    }
   ],
   "source": [
    "name_df[name_df.isnull().any(axis=1)]"
   ]
  },
  {
   "cell_type": "markdown",
   "metadata": {},
   "source": [
    "## Get Sex"
   ]
  },
  {
   "cell_type": "code",
   "execution_count": 22,
   "metadata": {},
   "outputs": [
    {
     "name": "stdout",
     "output_type": "stream",
     "text": [
      "CPU times: user 5.7 s, sys: 1.12 s, total: 6.83 s\n",
      "Wall time: 2min\n"
     ]
    }
   ],
   "source": [
    "%%time\n",
    "name_df['sex'] = name_df.apply(get_sex_wiki_rx,axis=1)"
   ]
  },
  {
   "cell_type": "code",
   "execution_count": 23,
   "metadata": {},
   "outputs": [
    {
     "data": {
      "text/plain": [
       "Male      115\n",
       "Female     13\n",
       "NaN        12\n",
       "Name: sex, dtype: int64"
      ]
     },
     "execution_count": 23,
     "metadata": {},
     "output_type": "execute_result"
    }
   ],
   "source": [
    "name_df.sex.value_counts(dropna=False)"
   ]
  },
  {
   "cell_type": "code",
   "execution_count": 24,
   "metadata": {},
   "outputs": [
    {
     "data": {
      "text/html": [
       "<div>\n",
       "<style scoped>\n",
       "    .dataframe tbody tr th:only-of-type {\n",
       "        vertical-align: middle;\n",
       "    }\n",
       "\n",
       "    .dataframe tbody tr th {\n",
       "        vertical-align: top;\n",
       "    }\n",
       "\n",
       "    .dataframe thead th {\n",
       "        text-align: right;\n",
       "    }\n",
       "</style>\n",
       "<table border=\"1\" class=\"dataframe\">\n",
       "  <thead>\n",
       "    <tr style=\"text-align: right;\">\n",
       "      <th></th>\n",
       "      <th>name</th>\n",
       "      <th>dob</th>\n",
       "      <th>sex</th>\n",
       "    </tr>\n",
       "  </thead>\n",
       "  <tbody>\n",
       "    <tr>\n",
       "      <th>7</th>\n",
       "      <td>Marc Maron</td>\n",
       "      <td>September 27, 1963</td>\n",
       "      <td>None</td>\n",
       "    </tr>\n",
       "    <tr>\n",
       "      <th>17</th>\n",
       "      <td>Tiffany Haddish</td>\n",
       "      <td>December 3, 1979</td>\n",
       "      <td>None</td>\n",
       "    </tr>\n",
       "    <tr>\n",
       "      <th>24</th>\n",
       "      <td>Amazon Rainforestclimate Changedeforestationha...</td>\n",
       "      <td>None</td>\n",
       "      <td>None</td>\n",
       "    </tr>\n",
       "    <tr>\n",
       "      <th>31</th>\n",
       "      <td>Adam Devine</td>\n",
       "      <td>November 7, 1983</td>\n",
       "      <td>None</td>\n",
       "    </tr>\n",
       "    <tr>\n",
       "      <th>58</th>\n",
       "      <td>Jeff Foxworthylarry The Cable Guy</td>\n",
       "      <td>September 6, 1958</td>\n",
       "      <td>None</td>\n",
       "    </tr>\n",
       "    <tr>\n",
       "      <th>59</th>\n",
       "      <td>Adam Sandler</td>\n",
       "      <td>September 9, 1966</td>\n",
       "      <td>None</td>\n",
       "    </tr>\n",
       "    <tr>\n",
       "      <th>75</th>\n",
       "      <td>Russell Peters</td>\n",
       "      <td>September 29, 1970</td>\n",
       "      <td>None</td>\n",
       "    </tr>\n",
       "    <tr>\n",
       "      <th>82</th>\n",
       "      <td>John Mulaney</td>\n",
       "      <td>August 26, 1982</td>\n",
       "      <td>None</td>\n",
       "    </tr>\n",
       "    <tr>\n",
       "      <th>95</th>\n",
       "      <td>Katt Williams</td>\n",
       "      <td>September 2, 1971</td>\n",
       "      <td>None</td>\n",
       "    </tr>\n",
       "    <tr>\n",
       "      <th>112</th>\n",
       "      <td>Paul Mooney</td>\n",
       "      <td>August 4, 1941</td>\n",
       "      <td>None</td>\n",
       "    </tr>\n",
       "    <tr>\n",
       "      <th>128</th>\n",
       "      <td>Richard Pryor</td>\n",
       "      <td>December 1, 1940</td>\n",
       "      <td>None</td>\n",
       "    </tr>\n",
       "    <tr>\n",
       "      <th>130</th>\n",
       "      <td>Nick Offerman</td>\n",
       "      <td>June 26, 1970</td>\n",
       "      <td>None</td>\n",
       "    </tr>\n",
       "  </tbody>\n",
       "</table>\n",
       "</div>"
      ],
      "text/plain": [
       "                                                  name                 dob  \\\n",
       "7                                           Marc Maron  September 27, 1963   \n",
       "17                                     Tiffany Haddish    December 3, 1979   \n",
       "24   Amazon Rainforestclimate Changedeforestationha...                None   \n",
       "31                                         Adam Devine    November 7, 1983   \n",
       "58                   Jeff Foxworthylarry The Cable Guy   September 6, 1958   \n",
       "59                                        Adam Sandler   September 9, 1966   \n",
       "75                                      Russell Peters  September 29, 1970   \n",
       "82                                        John Mulaney     August 26, 1982   \n",
       "95                                       Katt Williams   September 2, 1971   \n",
       "112                                        Paul Mooney      August 4, 1941   \n",
       "128                                      Richard Pryor    December 1, 1940   \n",
       "130                                      Nick Offerman       June 26, 1970   \n",
       "\n",
       "      sex  \n",
       "7    None  \n",
       "17   None  \n",
       "24   None  \n",
       "31   None  \n",
       "58   None  \n",
       "59   None  \n",
       "75   None  \n",
       "82   None  \n",
       "95   None  \n",
       "112  None  \n",
       "128  None  \n",
       "130  None  "
      ]
     },
     "execution_count": 24,
     "metadata": {},
     "output_type": "execute_result"
    }
   ],
   "source": [
    "name_df[name_df.isnull().any(axis=1)]"
   ]
  },
  {
   "cell_type": "code",
   "execution_count": 36,
   "metadata": {},
   "outputs": [],
   "source": [
    "name_df.iloc[17].sex ='Female'"
   ]
  },
  {
   "cell_type": "code",
   "execution_count": null,
   "metadata": {},
   "outputs": [],
   "source": []
  },
  {
   "cell_type": "code",
   "execution_count": 37,
   "metadata": {},
   "outputs": [
    {
     "data": {
      "text/html": [
       "<div>\n",
       "<style scoped>\n",
       "    .dataframe tbody tr th:only-of-type {\n",
       "        vertical-align: middle;\n",
       "    }\n",
       "\n",
       "    .dataframe tbody tr th {\n",
       "        vertical-align: top;\n",
       "    }\n",
       "\n",
       "    .dataframe thead th {\n",
       "        text-align: right;\n",
       "    }\n",
       "</style>\n",
       "<table border=\"1\" class=\"dataframe\">\n",
       "  <thead>\n",
       "    <tr style=\"text-align: right;\">\n",
       "      <th></th>\n",
       "      <th>name</th>\n",
       "      <th>dob</th>\n",
       "      <th>sex</th>\n",
       "    </tr>\n",
       "  </thead>\n",
       "  <tbody>\n",
       "    <tr>\n",
       "      <th>7</th>\n",
       "      <td>Marc Maron</td>\n",
       "      <td>September 27, 1963</td>\n",
       "      <td>None</td>\n",
       "    </tr>\n",
       "    <tr>\n",
       "      <th>24</th>\n",
       "      <td>Amazon Rainforestclimate Changedeforestationha...</td>\n",
       "      <td>None</td>\n",
       "      <td>None</td>\n",
       "    </tr>\n",
       "    <tr>\n",
       "      <th>31</th>\n",
       "      <td>Adam Devine</td>\n",
       "      <td>November 7, 1983</td>\n",
       "      <td>None</td>\n",
       "    </tr>\n",
       "    <tr>\n",
       "      <th>58</th>\n",
       "      <td>Jeff Foxworthylarry The Cable Guy</td>\n",
       "      <td>September 6, 1958</td>\n",
       "      <td>None</td>\n",
       "    </tr>\n",
       "    <tr>\n",
       "      <th>59</th>\n",
       "      <td>Adam Sandler</td>\n",
       "      <td>September 9, 1966</td>\n",
       "      <td>None</td>\n",
       "    </tr>\n",
       "    <tr>\n",
       "      <th>75</th>\n",
       "      <td>Russell Peters</td>\n",
       "      <td>September 29, 1970</td>\n",
       "      <td>None</td>\n",
       "    </tr>\n",
       "    <tr>\n",
       "      <th>82</th>\n",
       "      <td>John Mulaney</td>\n",
       "      <td>August 26, 1982</td>\n",
       "      <td>None</td>\n",
       "    </tr>\n",
       "    <tr>\n",
       "      <th>95</th>\n",
       "      <td>Katt Williams</td>\n",
       "      <td>September 2, 1971</td>\n",
       "      <td>None</td>\n",
       "    </tr>\n",
       "    <tr>\n",
       "      <th>112</th>\n",
       "      <td>Paul Mooney</td>\n",
       "      <td>August 4, 1941</td>\n",
       "      <td>None</td>\n",
       "    </tr>\n",
       "    <tr>\n",
       "      <th>128</th>\n",
       "      <td>Richard Pryor</td>\n",
       "      <td>December 1, 1940</td>\n",
       "      <td>None</td>\n",
       "    </tr>\n",
       "    <tr>\n",
       "      <th>130</th>\n",
       "      <td>Nick Offerman</td>\n",
       "      <td>June 26, 1970</td>\n",
       "      <td>None</td>\n",
       "    </tr>\n",
       "  </tbody>\n",
       "</table>\n",
       "</div>"
      ],
      "text/plain": [
       "                                                  name                 dob  \\\n",
       "7                                           Marc Maron  September 27, 1963   \n",
       "24   Amazon Rainforestclimate Changedeforestationha...                None   \n",
       "31                                         Adam Devine    November 7, 1983   \n",
       "58                   Jeff Foxworthylarry The Cable Guy   September 6, 1958   \n",
       "59                                        Adam Sandler   September 9, 1966   \n",
       "75                                      Russell Peters  September 29, 1970   \n",
       "82                                        John Mulaney     August 26, 1982   \n",
       "95                                       Katt Williams   September 2, 1971   \n",
       "112                                        Paul Mooney      August 4, 1941   \n",
       "128                                      Richard Pryor    December 1, 1940   \n",
       "130                                      Nick Offerman       June 26, 1970   \n",
       "\n",
       "      sex  \n",
       "7    None  \n",
       "24   None  \n",
       "31   None  \n",
       "58   None  \n",
       "59   None  \n",
       "75   None  \n",
       "82   None  \n",
       "95   None  \n",
       "112  None  \n",
       "128  None  \n",
       "130  None  "
      ]
     },
     "execution_count": 37,
     "metadata": {},
     "output_type": "execute_result"
    }
   ],
   "source": [
    "name_df[name_df.isnull().any(axis=1)]"
   ]
  },
  {
   "cell_type": "code",
   "execution_count": 38,
   "metadata": {},
   "outputs": [],
   "source": [
    "name_df.sex.fillna('Male',inplace=True)"
   ]
  },
  {
   "cell_type": "code",
   "execution_count": 40,
   "metadata": {},
   "outputs": [
    {
     "data": {
      "text/plain": [
       "Male      127\n",
       "Female     13\n",
       "Name: sex, dtype: int64"
      ]
     },
     "execution_count": 40,
     "metadata": {},
     "output_type": "execute_result"
    }
   ],
   "source": [
    "name_df.sex.value_counts(dropna=False)"
   ]
  },
  {
   "cell_type": "code",
   "execution_count": 41,
   "metadata": {},
   "outputs": [
    {
     "data": {
      "text/html": [
       "<div>\n",
       "<style scoped>\n",
       "    .dataframe tbody tr th:only-of-type {\n",
       "        vertical-align: middle;\n",
       "    }\n",
       "\n",
       "    .dataframe tbody tr th {\n",
       "        vertical-align: top;\n",
       "    }\n",
       "\n",
       "    .dataframe thead th {\n",
       "        text-align: right;\n",
       "    }\n",
       "</style>\n",
       "<table border=\"1\" class=\"dataframe\">\n",
       "  <thead>\n",
       "    <tr style=\"text-align: right;\">\n",
       "      <th></th>\n",
       "      <th>name</th>\n",
       "      <th>dob</th>\n",
       "      <th>sex</th>\n",
       "    </tr>\n",
       "  </thead>\n",
       "  <tbody>\n",
       "    <tr>\n",
       "      <th>0</th>\n",
       "      <td>Louis C.K.</td>\n",
       "      <td>September 12, 1967</td>\n",
       "      <td>Male</td>\n",
       "    </tr>\n",
       "    <tr>\n",
       "      <th>1</th>\n",
       "      <td>Jim Norton</td>\n",
       "      <td>July 19, 1968</td>\n",
       "      <td>Male</td>\n",
       "    </tr>\n",
       "    <tr>\n",
       "      <th>2</th>\n",
       "      <td>Daniel Sloss</td>\n",
       "      <td>11 September 1990</td>\n",
       "      <td>Female</td>\n",
       "    </tr>\n",
       "    <tr>\n",
       "      <th>3</th>\n",
       "      <td>Maria Bamford</td>\n",
       "      <td>1970</td>\n",
       "      <td>Female</td>\n",
       "    </tr>\n",
       "    <tr>\n",
       "      <th>4</th>\n",
       "      <td>Chris D'Elia</td>\n",
       "      <td>2019</td>\n",
       "      <td>Male</td>\n",
       "    </tr>\n",
       "  </tbody>\n",
       "</table>\n",
       "</div>"
      ],
      "text/plain": [
       "            name                 dob     sex\n",
       "0     Louis C.K.  September 12, 1967    Male\n",
       "1     Jim Norton       July 19, 1968    Male\n",
       "2   Daniel Sloss   11 September 1990  Female\n",
       "3  Maria Bamford                1970  Female\n",
       "4   Chris D'Elia                2019    Male"
      ]
     },
     "execution_count": 41,
     "metadata": {},
     "output_type": "execute_result"
    }
   ],
   "source": [
    "name_df.head()"
   ]
  },
  {
   "cell_type": "code",
   "execution_count": 42,
   "metadata": {},
   "outputs": [],
   "source": [
    "# change to datetime\n",
    "name_df.dob = pd.to_datetime(name_df.dob)"
   ]
  },
  {
   "cell_type": "code",
   "execution_count": 43,
   "metadata": {},
   "outputs": [
    {
     "data": {
      "text/html": [
       "<div>\n",
       "<style scoped>\n",
       "    .dataframe tbody tr th:only-of-type {\n",
       "        vertical-align: middle;\n",
       "    }\n",
       "\n",
       "    .dataframe tbody tr th {\n",
       "        vertical-align: top;\n",
       "    }\n",
       "\n",
       "    .dataframe thead th {\n",
       "        text-align: right;\n",
       "    }\n",
       "</style>\n",
       "<table border=\"1\" class=\"dataframe\">\n",
       "  <thead>\n",
       "    <tr style=\"text-align: right;\">\n",
       "      <th></th>\n",
       "      <th>name</th>\n",
       "      <th>dob</th>\n",
       "      <th>sex</th>\n",
       "    </tr>\n",
       "  </thead>\n",
       "  <tbody>\n",
       "    <tr>\n",
       "      <th>0</th>\n",
       "      <td>Louis C.K.</td>\n",
       "      <td>1967-09-12</td>\n",
       "      <td>Male</td>\n",
       "    </tr>\n",
       "    <tr>\n",
       "      <th>1</th>\n",
       "      <td>Jim Norton</td>\n",
       "      <td>1968-07-19</td>\n",
       "      <td>Male</td>\n",
       "    </tr>\n",
       "    <tr>\n",
       "      <th>2</th>\n",
       "      <td>Daniel Sloss</td>\n",
       "      <td>1990-09-11</td>\n",
       "      <td>Female</td>\n",
       "    </tr>\n",
       "    <tr>\n",
       "      <th>3</th>\n",
       "      <td>Maria Bamford</td>\n",
       "      <td>1970-01-01</td>\n",
       "      <td>Female</td>\n",
       "    </tr>\n",
       "    <tr>\n",
       "      <th>4</th>\n",
       "      <td>Chris D'Elia</td>\n",
       "      <td>2019-01-01</td>\n",
       "      <td>Male</td>\n",
       "    </tr>\n",
       "  </tbody>\n",
       "</table>\n",
       "</div>"
      ],
      "text/plain": [
       "            name        dob     sex\n",
       "0     Louis C.K. 1967-09-12    Male\n",
       "1     Jim Norton 1968-07-19    Male\n",
       "2   Daniel Sloss 1990-09-11  Female\n",
       "3  Maria Bamford 1970-01-01  Female\n",
       "4   Chris D'Elia 2019-01-01    Male"
      ]
     },
     "execution_count": 43,
     "metadata": {},
     "output_type": "execute_result"
    }
   ],
   "source": [
    "name_df.head()"
   ]
  },
  {
   "cell_type": "markdown",
   "metadata": {},
   "source": [
    "## Merge dataframes"
   ]
  },
  {
   "cell_type": "code",
   "execution_count": 44,
   "metadata": {},
   "outputs": [
    {
     "data": {
      "text/html": [
       "<div>\n",
       "<style scoped>\n",
       "    .dataframe tbody tr th:only-of-type {\n",
       "        vertical-align: middle;\n",
       "    }\n",
       "\n",
       "    .dataframe tbody tr th {\n",
       "        vertical-align: top;\n",
       "    }\n",
       "\n",
       "    .dataframe thead th {\n",
       "        text-align: right;\n",
       "    }\n",
       "</style>\n",
       "<table border=\"1\" class=\"dataframe\">\n",
       "  <thead>\n",
       "    <tr style=\"text-align: right;\">\n",
       "      <th></th>\n",
       "      <th>name</th>\n",
       "      <th>raw_title</th>\n",
       "      <th>summary</th>\n",
       "      <th>transcript</th>\n",
       "      <th>link</th>\n",
       "      <th>year</th>\n",
       "      <th>title</th>\n",
       "      <th>len_transcript</th>\n",
       "      <th>dob</th>\n",
       "      <th>sex</th>\n",
       "    </tr>\n",
       "  </thead>\n",
       "  <tbody>\n",
       "    <tr>\n",
       "      <th>0</th>\n",
       "      <td>Louis C.K.</td>\n",
       "      <td>Sincerely Louis Ck (2020)</td>\n",
       "      <td>Great comedy is finally back. Louis C.K. is no...</td>\n",
       "      <td>Great comedy is finally back. Louis C.K. is no...</td>\n",
       "      <td>https://scrapsfromtheloft.com/2020/05/02/since...</td>\n",
       "      <td>2020</td>\n",
       "      <td>Sincerely Louis Ck</td>\n",
       "      <td>44135</td>\n",
       "      <td>1967-09-12</td>\n",
       "      <td>Male</td>\n",
       "    </tr>\n",
       "    <tr>\n",
       "      <th>1</th>\n",
       "      <td>Louis C.K.</td>\n",
       "      <td>Louis C.K.: Chewed Up (2008) – Full Transcript</td>\n",
       "      <td>Transcript of 'Chewed Up', Louis C.K.'s second...</td>\n",
       "      <td>Filmed at the Berklee Performance Center in Bo...</td>\n",
       "      <td>https://scrapsfromtheloft.com/2017/07/07/louis...</td>\n",
       "      <td>2008</td>\n",
       "      <td>Chewed Up</td>\n",
       "      <td>40121</td>\n",
       "      <td>1967-09-12</td>\n",
       "      <td>Male</td>\n",
       "    </tr>\n",
       "    <tr>\n",
       "      <th>2</th>\n",
       "      <td>Louis C.K.</td>\n",
       "      <td>Louis C.K.: Live At The Beacon Theatre (2011) ...</td>\n",
       "      <td>Louis jokes about fatherhood, success, and fly...</td>\n",
       "      <td>[indistinct chatter] — Louis! — Louis! [indist...</td>\n",
       "      <td>https://scrapsfromtheloft.com/2017/06/28/louis...</td>\n",
       "      <td>2011</td>\n",
       "      <td>Live At The Beacon Theatre</td>\n",
       "      <td>43930</td>\n",
       "      <td>1967-09-12</td>\n",
       "      <td>Male</td>\n",
       "    </tr>\n",
       "    <tr>\n",
       "      <th>3</th>\n",
       "      <td>Louis C.K.</td>\n",
       "      <td>Louis C.K.: Shameless (2007) – Full Transcript</td>\n",
       "      <td>Please welcome Louis C.K.! Thank you. Thank yo...</td>\n",
       "      <td>Please welcome Louis C.K.! Thank you. Thank yo...</td>\n",
       "      <td>https://scrapsfromtheloft.com/2017/05/30/louis...</td>\n",
       "      <td>2007</td>\n",
       "      <td>Shameless</td>\n",
       "      <td>48454</td>\n",
       "      <td>1967-09-12</td>\n",
       "      <td>Male</td>\n",
       "    </tr>\n",
       "    <tr>\n",
       "      <th>4</th>\n",
       "      <td>Louis C.K.</td>\n",
       "      <td>Louis C.K.: Oh My God (2013) – Full Transcript</td>\n",
       "      <td>'Oh My God' is the fifth comedy special perfor...</td>\n",
       "      <td>Intro\\nFade the music out. Let’s roll. Hold th...</td>\n",
       "      <td>https://scrapsfromtheloft.com/2017/05/06/louis...</td>\n",
       "      <td>2013</td>\n",
       "      <td>Oh My God</td>\n",
       "      <td>39141</td>\n",
       "      <td>1967-09-12</td>\n",
       "      <td>Male</td>\n",
       "    </tr>\n",
       "  </tbody>\n",
       "</table>\n",
       "</div>"
      ],
      "text/plain": [
       "         name                                          raw_title  \\\n",
       "0  Louis C.K.                          Sincerely Louis Ck (2020)   \n",
       "1  Louis C.K.     Louis C.K.: Chewed Up (2008) – Full Transcript   \n",
       "2  Louis C.K.  Louis C.K.: Live At The Beacon Theatre (2011) ...   \n",
       "3  Louis C.K.     Louis C.K.: Shameless (2007) – Full Transcript   \n",
       "4  Louis C.K.     Louis C.K.: Oh My God (2013) – Full Transcript   \n",
       "\n",
       "                                             summary  \\\n",
       "0  Great comedy is finally back. Louis C.K. is no...   \n",
       "1  Transcript of 'Chewed Up', Louis C.K.'s second...   \n",
       "2  Louis jokes about fatherhood, success, and fly...   \n",
       "3  Please welcome Louis C.K.! Thank you. Thank yo...   \n",
       "4  'Oh My God' is the fifth comedy special perfor...   \n",
       "\n",
       "                                          transcript  \\\n",
       "0  Great comedy is finally back. Louis C.K. is no...   \n",
       "1  Filmed at the Berklee Performance Center in Bo...   \n",
       "2  [indistinct chatter] — Louis! — Louis! [indist...   \n",
       "3  Please welcome Louis C.K.! Thank you. Thank yo...   \n",
       "4  Intro\\nFade the music out. Let’s roll. Hold th...   \n",
       "\n",
       "                                                link  year  \\\n",
       "0  https://scrapsfromtheloft.com/2020/05/02/since...  2020   \n",
       "1  https://scrapsfromtheloft.com/2017/07/07/louis...  2008   \n",
       "2  https://scrapsfromtheloft.com/2017/06/28/louis...  2011   \n",
       "3  https://scrapsfromtheloft.com/2017/05/30/louis...  2007   \n",
       "4  https://scrapsfromtheloft.com/2017/05/06/louis...  2013   \n",
       "\n",
       "                        title  len_transcript        dob   sex  \n",
       "0          Sincerely Louis Ck           44135 1967-09-12  Male  \n",
       "1                   Chewed Up           40121 1967-09-12  Male  \n",
       "2  Live At The Beacon Theatre           43930 1967-09-12  Male  \n",
       "3                   Shameless           48454 1967-09-12  Male  \n",
       "4                   Oh My God           39141 1967-09-12  Male  "
      ]
     },
     "execution_count": 44,
     "metadata": {},
     "output_type": "execute_result"
    }
   ],
   "source": [
    "df = pd.merge(df,name_df,on='name')\n",
    "df.head()"
   ]
  },
  {
   "cell_type": "markdown",
   "metadata": {},
   "source": [
    "## Check null values"
   ]
  },
  {
   "cell_type": "code",
   "execution_count": 45,
   "metadata": {},
   "outputs": [
    {
     "data": {
      "text/plain": [
       "name              0\n",
       "raw_title         0\n",
       "summary           0\n",
       "transcript        0\n",
       "link              0\n",
       "year              0\n",
       "title             0\n",
       "len_transcript    0\n",
       "dob               1\n",
       "sex               0\n",
       "dtype: int64"
      ]
     },
     "execution_count": 45,
     "metadata": {},
     "output_type": "execute_result"
    }
   ],
   "source": [
    "df.apply(lambda x: sum(x.isnull()))"
   ]
  },
  {
   "cell_type": "markdown",
   "metadata": {},
   "source": [
    "## Save dataset"
   ]
  },
  {
   "cell_type": "code",
   "execution_count": 46,
   "metadata": {},
   "outputs": [],
   "source": [
    "data_directory_saves = os.path.join( '..','data','raw_data/')\n",
    "df.to_pickle(data_directory_saves+'raw_comedy_05.pkl')"
   ]
  },
  {
   "cell_type": "code",
   "execution_count": null,
   "metadata": {},
   "outputs": [],
   "source": []
  }
 ],
 "metadata": {
  "kernelspec": {
   "display_name": "Python 3",
   "language": "python",
   "name": "python3"
  },
  "language_info": {
   "codemirror_mode": {
    "name": "ipython",
    "version": 3
   },
   "file_extension": ".py",
   "mimetype": "text/x-python",
   "name": "python",
   "nbconvert_exporter": "python",
   "pygments_lexer": "ipython3",
   "version": "3.7.7"
  }
 },
 "nbformat": 4,
 "nbformat_minor": 4
}
