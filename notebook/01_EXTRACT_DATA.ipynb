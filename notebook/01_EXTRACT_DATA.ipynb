{
 "cells": [
  {
   "cell_type": "markdown",
   "metadata": {},
   "source": [
    "## Imports"
   ]
  },
  {
   "cell_type": "code",
   "execution_count": 7,
   "metadata": {},
   "outputs": [],
   "source": [
    "import pandas as pd\n",
    "import numpy as np\n",
    "import pickle\n",
    "from warnings import warn\n",
    "import os"
   ]
  },
  {
   "cell_type": "markdown",
   "metadata": {},
   "source": [
    "## Load Data"
   ]
  },
  {
   "cell_type": "code",
   "execution_count": 9,
   "metadata": {},
   "outputs": [],
   "source": [
    "file = 'raw_comedy.pkl'\n",
    "data_directory = os.path.join('..','data','raw_data/{}'.format(file))\n",
    "data_directory_saves = os.path.join( '..','data','raw_data/')"
   ]
  },
  {
   "cell_type": "code",
   "execution_count": 10,
   "metadata": {},
   "outputs": [
    {
     "data": {
      "text/plain": [
       "'../data/raw_data/raw_comedy.pkl'"
      ]
     },
     "execution_count": 10,
     "metadata": {},
     "output_type": "execute_result"
    }
   ],
   "source": [
    "data_directory"
   ]
  },
  {
   "cell_type": "code",
   "execution_count": 11,
   "metadata": {},
   "outputs": [
    {
     "name": "stdout",
     "output_type": "stream",
     "text": [
      "<class 'pandas.core.frame.DataFrame'>\n",
      "RangeIndex: 320 entries, 0 to 319\n",
      "Data columns (total 4 columns):\n",
      " #   Column     Non-Null Count  Dtype \n",
      "---  ------     --------------  ----- \n",
      " 0   raw_title  320 non-null    object\n",
      " 1   summary    320 non-null    object\n",
      " 2   tags       320 non-null    object\n",
      " 3   link       320 non-null    object\n",
      "dtypes: object(4)\n",
      "memory usage: 10.1+ KB\n"
     ]
    }
   ],
   "source": [
    "df = pd.read_pickle(data_directory)\n",
    "df.info()"
   ]
  },
  {
   "cell_type": "code",
   "execution_count": 12,
   "metadata": {},
   "outputs": [
    {
     "data": {
      "text/html": [
       "<div>\n",
       "<style scoped>\n",
       "    .dataframe tbody tr th:only-of-type {\n",
       "        vertical-align: middle;\n",
       "    }\n",
       "\n",
       "    .dataframe tbody tr th {\n",
       "        vertical-align: top;\n",
       "    }\n",
       "\n",
       "    .dataframe thead th {\n",
       "        text-align: right;\n",
       "    }\n",
       "</style>\n",
       "<table border=\"1\" class=\"dataframe\">\n",
       "  <thead>\n",
       "    <tr style=\"text-align: right;\">\n",
       "      <th></th>\n",
       "      <th>raw_title</th>\n",
       "      <th>summary</th>\n",
       "      <th>tags</th>\n",
       "      <th>link</th>\n",
       "    </tr>\n",
       "  </thead>\n",
       "  <tbody>\n",
       "    <tr>\n",
       "      <th>0</th>\n",
       "      <td>SINCERELY LOUIS CK (2020)</td>\n",
       "      <td>Great comedy is finally back. Louis C.K. is no...</td>\n",
       "      <td>Louis C.K.,Stand-up transcripts</td>\n",
       "      <td>https://scrapsfromtheloft.com/2020/05/02/since...</td>\n",
       "    </tr>\n",
       "    <tr>\n",
       "      <th>1</th>\n",
       "      <td>JIM NORTON: AMERICAN DEGENERATE (2013) – FULL ...</td>\n",
       "      <td>For his second EPIX comedy special, Jim Norton...</td>\n",
       "      <td>Jim Norton,Stand-up transcripts</td>\n",
       "      <td>https://scrapsfromtheloft.com/2020/05/02/jim-n...</td>\n",
       "    </tr>\n",
       "    <tr>\n",
       "      <th>2</th>\n",
       "      <td>JIM NORTON: MONSTER RAIN (2007) – FULL TRANSCRIPT</td>\n",
       "      <td>His special \"Monster Rain,\" Jim Norton perform...</td>\n",
       "      <td>Jim Norton,Stand-up transcripts</td>\n",
       "      <td>https://scrapsfromtheloft.com/2020/05/02/jim-n...</td>\n",
       "    </tr>\n",
       "    <tr>\n",
       "      <th>3</th>\n",
       "      <td>DANIEL SLOSS: X (2019) – FULL TRANSCRIPT</td>\n",
       "      <td>Taking the stage before a sold-out audience at...</td>\n",
       "      <td>Daniel Sloss,Stand-up transcripts</td>\n",
       "      <td>https://scrapsfromtheloft.com/2020/05/01/danie...</td>\n",
       "    </tr>\n",
       "    <tr>\n",
       "      <th>4</th>\n",
       "      <td>MARIA BAMFORD: WEAKNESS IS THE BRAND (2020) – ...</td>\n",
       "      <td>In this standup special \"Weakness Is the Brand...</td>\n",
       "      <td>Maria Bamford,Stand-up transcripts</td>\n",
       "      <td>https://scrapsfromtheloft.com/2020/05/01/maria...</td>\n",
       "    </tr>\n",
       "  </tbody>\n",
       "</table>\n",
       "</div>"
      ],
      "text/plain": [
       "                                           raw_title  \\\n",
       "0                          SINCERELY LOUIS CK (2020)   \n",
       "1  JIM NORTON: AMERICAN DEGENERATE (2013) – FULL ...   \n",
       "2  JIM NORTON: MONSTER RAIN (2007) – FULL TRANSCRIPT   \n",
       "3           DANIEL SLOSS: X (2019) – FULL TRANSCRIPT   \n",
       "4  MARIA BAMFORD: WEAKNESS IS THE BRAND (2020) – ...   \n",
       "\n",
       "                                             summary  \\\n",
       "0  Great comedy is finally back. Louis C.K. is no...   \n",
       "1  For his second EPIX comedy special, Jim Norton...   \n",
       "2  His special \"Monster Rain,\" Jim Norton perform...   \n",
       "3  Taking the stage before a sold-out audience at...   \n",
       "4  In this standup special \"Weakness Is the Brand...   \n",
       "\n",
       "                                 tags  \\\n",
       "0     Louis C.K.,Stand-up transcripts   \n",
       "1     Jim Norton,Stand-up transcripts   \n",
       "2     Jim Norton,Stand-up transcripts   \n",
       "3   Daniel Sloss,Stand-up transcripts   \n",
       "4  Maria Bamford,Stand-up transcripts   \n",
       "\n",
       "                                                link  \n",
       "0  https://scrapsfromtheloft.com/2020/05/02/since...  \n",
       "1  https://scrapsfromtheloft.com/2020/05/02/jim-n...  \n",
       "2  https://scrapsfromtheloft.com/2020/05/02/jim-n...  \n",
       "3  https://scrapsfromtheloft.com/2020/05/01/danie...  \n",
       "4  https://scrapsfromtheloft.com/2020/05/01/maria...  "
      ]
     },
     "execution_count": 12,
     "metadata": {},
     "output_type": "execute_result"
    }
   ],
   "source": [
    "df.head()"
   ]
  },
  {
   "cell_type": "markdown",
   "metadata": {},
   "source": [
    "## Tags"
   ]
  },
  {
   "cell_type": "code",
   "execution_count": 13,
   "metadata": {},
   "outputs": [
    {
     "data": {
      "text/plain": [
       "George Carlin,Stand-up transcripts             20\n",
       "Louis C.K.,Stand-up transcripts                11\n",
       "Dave Chappelle,Stand-up transcripts            11\n",
       "Ricky Gervais,Stand-up transcripts              8\n",
       "Jim Jefferies,Stand-up transcripts              7\n",
       "                                               ..\n",
       "Ken Jeong,Stand-up transcripts                  1\n",
       "Stand-up transcripts,Todd Glass                 1\n",
       "Roy Wood Jr.,Stand-up transcripts               1\n",
       "Cedric the Entertainer,Stand-up transcripts     1\n",
       "NICK OFFERMAN,Stand-up transcripts              1\n",
       "Name: tags, Length: 155, dtype: int64"
      ]
     },
     "execution_count": 13,
     "metadata": {},
     "output_type": "execute_result"
    }
   ],
   "source": [
    "df.tags.value_counts(dropna=False)"
   ]
  },
  {
   "cell_type": "code",
   "execution_count": 18,
   "metadata": {},
   "outputs": [
    {
     "data": {
      "text/html": [
       "<div>\n",
       "<style scoped>\n",
       "    .dataframe tbody tr th:only-of-type {\n",
       "        vertical-align: middle;\n",
       "    }\n",
       "\n",
       "    .dataframe tbody tr th {\n",
       "        vertical-align: top;\n",
       "    }\n",
       "\n",
       "    .dataframe thead th {\n",
       "        text-align: right;\n",
       "    }\n",
       "</style>\n",
       "<table border=\"1\" class=\"dataframe\">\n",
       "  <thead>\n",
       "    <tr style=\"text-align: right;\">\n",
       "      <th></th>\n",
       "      <th>0</th>\n",
       "      <th>1</th>\n",
       "      <th>2</th>\n",
       "      <th>3</th>\n",
       "      <th>4</th>\n",
       "      <th>5</th>\n",
       "      <th>6</th>\n",
       "      <th>7</th>\n",
       "    </tr>\n",
       "  </thead>\n",
       "  <tbody>\n",
       "    <tr>\n",
       "      <th>0</th>\n",
       "      <td>Louis C.K.</td>\n",
       "      <td>Stand-up transcripts</td>\n",
       "      <td>None</td>\n",
       "      <td>None</td>\n",
       "      <td>None</td>\n",
       "      <td>None</td>\n",
       "      <td>None</td>\n",
       "      <td>None</td>\n",
       "    </tr>\n",
       "    <tr>\n",
       "      <th>1</th>\n",
       "      <td>Jim Norton</td>\n",
       "      <td>Stand-up transcripts</td>\n",
       "      <td>None</td>\n",
       "      <td>None</td>\n",
       "      <td>None</td>\n",
       "      <td>None</td>\n",
       "      <td>None</td>\n",
       "      <td>None</td>\n",
       "    </tr>\n",
       "    <tr>\n",
       "      <th>2</th>\n",
       "      <td>Jim Norton</td>\n",
       "      <td>Stand-up transcripts</td>\n",
       "      <td>None</td>\n",
       "      <td>None</td>\n",
       "      <td>None</td>\n",
       "      <td>None</td>\n",
       "      <td>None</td>\n",
       "      <td>None</td>\n",
       "    </tr>\n",
       "    <tr>\n",
       "      <th>3</th>\n",
       "      <td>Daniel Sloss</td>\n",
       "      <td>Stand-up transcripts</td>\n",
       "      <td>None</td>\n",
       "      <td>None</td>\n",
       "      <td>None</td>\n",
       "      <td>None</td>\n",
       "      <td>None</td>\n",
       "      <td>None</td>\n",
       "    </tr>\n",
       "    <tr>\n",
       "      <th>4</th>\n",
       "      <td>Maria Bamford</td>\n",
       "      <td>Stand-up transcripts</td>\n",
       "      <td>None</td>\n",
       "      <td>None</td>\n",
       "      <td>None</td>\n",
       "      <td>None</td>\n",
       "      <td>None</td>\n",
       "      <td>None</td>\n",
       "    </tr>\n",
       "  </tbody>\n",
       "</table>\n",
       "</div>"
      ],
      "text/plain": [
       "               0                     1     2     3     4     5     6     7\n",
       "0     Louis C.K.  Stand-up transcripts  None  None  None  None  None  None\n",
       "1     Jim Norton  Stand-up transcripts  None  None  None  None  None  None\n",
       "2     Jim Norton  Stand-up transcripts  None  None  None  None  None  None\n",
       "3   Daniel Sloss  Stand-up transcripts  None  None  None  None  None  None\n",
       "4  Maria Bamford  Stand-up transcripts  None  None  None  None  None  None"
      ]
     },
     "execution_count": 18,
     "metadata": {},
     "output_type": "execute_result"
    }
   ],
   "source": [
    "tags = df.tags.str.split(',',expand=True)\n",
    "tags.head()"
   ]
  },
  {
   "cell_type": "code",
   "execution_count": 32,
   "metadata": {},
   "outputs": [
    {
     "data": {
      "text/plain": [
       "Stand-up transcripts    23\n",
       "George Carlin           21\n",
       "Dave Chappelle          12\n",
       "Louis C.K.              11\n",
       "Ricky Gervais            8\n",
       "Jim Jefferies            7\n",
       "Bill Burr                7\n",
       "Chris Rock               6\n",
       "Iliza Shlesinger         5\n",
       "Richard Pryor            5\n",
       "Kevin Hart               5\n",
       "Doug Stanhope            4\n",
       "John Mulaney             4\n",
       "Gabriel Iglesias         4\n",
       "Eddie Izzard             4\n",
       "Jim Norton               4\n",
       "Jimmy Carr               4\n",
       "Sebastian Maniscalco     4\n",
       "SARAH SILVERMAN          4\n",
       "Amy Schumer              4\n",
       "Name: 0, dtype: int64"
      ]
     },
     "execution_count": 32,
     "metadata": {},
     "output_type": "execute_result"
    }
   ],
   "source": [
    "tags[0].value_counts()[:20]"
   ]
  },
  {
   "cell_type": "code",
   "execution_count": 21,
   "metadata": {},
   "outputs": [
    {
     "data": {
      "text/plain": [
       "Stand-up transcripts    286\n",
       "Trevor Noah               5\n",
       "Tom Segura                5\n",
       "Stewart Lee               4\n",
       "Whitney Cummings          3\n",
       "SATURDAY NIGHT LIVE       3\n",
       "Religion                  2\n",
       "Todd Glass                1\n",
       "Jim Jefferies             1\n",
       "Volker Pispers            1\n",
       "Doug Stanhope             1\n",
       "Todd Barry                1\n",
       "Gun control               1\n",
       "Wanda Sykes               1\n",
       "Larry the Cable Guy       1\n",
       "Tiffany Haddish           1\n",
       "Climate Change            1\n",
       "Vir Das                   1\n",
       "George Carlin             1\n",
       "Name: 1, dtype: int64"
      ]
     },
     "execution_count": 21,
     "metadata": {},
     "output_type": "execute_result"
    }
   ],
   "source": [
    "tags[1].value_counts()"
   ]
  },
  {
   "cell_type": "code",
   "execution_count": 23,
   "metadata": {},
   "outputs": [
    {
     "data": {
      "text/plain": [
       "Stand-up transcripts                      10\n",
       "The Tonight Show Starring Jimmy Fallon     2\n",
       "Deforestation                              1\n",
       "Name: 2, dtype: int64"
      ]
     },
     "execution_count": 23,
     "metadata": {},
     "output_type": "execute_result"
    }
   ],
   "source": [
    "tags[2].value_counts()"
   ]
  },
  {
   "cell_type": "code",
   "execution_count": 37,
   "metadata": {},
   "outputs": [
    {
     "data": {
      "text/plain": [
       "Stand-up transcripts                      10\n",
       "The Tonight Show Starring Jimmy Fallon     2\n",
       "Deforestation                              1\n",
       "Name: 2, dtype: int64"
      ]
     },
     "execution_count": 37,
     "metadata": {},
     "output_type": "execute_result"
    }
   ],
   "source": [
    "tags[2].value_counts()"
   ]
  },
  {
   "cell_type": "code",
   "execution_count": 22,
   "metadata": {},
   "outputs": [
    {
     "data": {
      "text/plain": [
       "155"
      ]
     },
     "execution_count": 22,
     "metadata": {},
     "output_type": "execute_result"
    }
   ],
   "source": [
    "len(df.tags.value_counts(dropna=False))"
   ]
  },
  {
   "cell_type": "markdown",
   "metadata": {},
   "source": [
    "# Remove unwanted tags"
   ]
  },
  {
   "cell_type": "code",
   "execution_count": 38,
   "metadata": {},
   "outputs": [],
   "source": [
    "df.tags = df.tags.str.replace('Stand-up transcripts','')\n",
    "df.tags = df.tags.str.replace('Gun control','')\n",
    "df.tags = df.tags.str.replace('SATURDAY NIGHT LIVE','')\n",
    "df.tags = df.tags.str.replace('Abortion','')\n",
    "df.tags = df.tags.str.replace('Religion','')\n",
    "df.tags = df.tags.str.replace(',','')\n",
    "\n",
    "# Firstname Lastname\n",
    "df.tags = df.tags.str.title()"
   ]
  },
  {
   "cell_type": "code",
   "execution_count": 46,
   "metadata": {},
   "outputs": [
    {
     "ename": "AttributeError",
     "evalue": "'DataFrame' object has no attribute 'tags'",
     "output_type": "error",
     "traceback": [
      "\u001b[0;31m---------------------------------------------------------------------------\u001b[0m",
      "\u001b[0;31mAttributeError\u001b[0m                            Traceback (most recent call last)",
      "\u001b[0;32m<ipython-input-46-51476f6605f2>\u001b[0m in \u001b[0;36m<module>\u001b[0;34m\u001b[0m\n\u001b[0;32m----> 1\u001b[0;31m \u001b[0mdf\u001b[0m\u001b[0;34m.\u001b[0m\u001b[0mtags\u001b[0m\u001b[0;34m[\u001b[0m\u001b[0;36m0\u001b[0m\u001b[0;34m]\u001b[0m\u001b[0;34m\u001b[0m\u001b[0;34m\u001b[0m\u001b[0m\n\u001b[0m",
      "\u001b[0;32m~/miniconda3/envs/text_analysis/lib/python3.7/site-packages/pandas/core/generic.py\u001b[0m in \u001b[0;36m__getattr__\u001b[0;34m(self, name)\u001b[0m\n\u001b[1;32m   5272\u001b[0m             \u001b[0;32mif\u001b[0m \u001b[0mself\u001b[0m\u001b[0;34m.\u001b[0m\u001b[0m_info_axis\u001b[0m\u001b[0;34m.\u001b[0m\u001b[0m_can_hold_identifiers_and_holds_name\u001b[0m\u001b[0;34m(\u001b[0m\u001b[0mname\u001b[0m\u001b[0;34m)\u001b[0m\u001b[0;34m:\u001b[0m\u001b[0;34m\u001b[0m\u001b[0;34m\u001b[0m\u001b[0m\n\u001b[1;32m   5273\u001b[0m                 \u001b[0;32mreturn\u001b[0m \u001b[0mself\u001b[0m\u001b[0;34m[\u001b[0m\u001b[0mname\u001b[0m\u001b[0;34m]\u001b[0m\u001b[0;34m\u001b[0m\u001b[0;34m\u001b[0m\u001b[0m\n\u001b[0;32m-> 5274\u001b[0;31m             \u001b[0;32mreturn\u001b[0m \u001b[0mobject\u001b[0m\u001b[0;34m.\u001b[0m\u001b[0m__getattribute__\u001b[0m\u001b[0;34m(\u001b[0m\u001b[0mself\u001b[0m\u001b[0;34m,\u001b[0m \u001b[0mname\u001b[0m\u001b[0;34m)\u001b[0m\u001b[0;34m\u001b[0m\u001b[0;34m\u001b[0m\u001b[0m\n\u001b[0m\u001b[1;32m   5275\u001b[0m \u001b[0;34m\u001b[0m\u001b[0m\n\u001b[1;32m   5276\u001b[0m     \u001b[0;32mdef\u001b[0m \u001b[0m__setattr__\u001b[0m\u001b[0;34m(\u001b[0m\u001b[0mself\u001b[0m\u001b[0;34m,\u001b[0m \u001b[0mname\u001b[0m\u001b[0;34m:\u001b[0m \u001b[0mstr\u001b[0m\u001b[0;34m,\u001b[0m \u001b[0mvalue\u001b[0m\u001b[0;34m)\u001b[0m \u001b[0;34m->\u001b[0m \u001b[0;32mNone\u001b[0m\u001b[0;34m:\u001b[0m\u001b[0;34m\u001b[0m\u001b[0;34m\u001b[0m\u001b[0m\n",
      "\u001b[0;31mAttributeError\u001b[0m: 'DataFrame' object has no attribute 'tags'"
     ]
    }
   ],
   "source": [
    "df.tags[0]"
   ]
  },
  {
   "cell_type": "code",
   "execution_count": 40,
   "metadata": {},
   "outputs": [
    {
     "data": {
      "text/plain": [
       "George Carlin       22\n",
       "Dave Chappelle      12\n",
       "Louis C.K.          11\n",
       "Jim Jefferies        8\n",
       "Ricky Gervais        8\n",
       "                    ..\n",
       "Kevin Smith          1\n",
       "Maz Jobrani          1\n",
       "Lisa Lampanelli      1\n",
       "Big Jay Oakerson     1\n",
       "Colin Quinn          1\n",
       "Name: tags, Length: 147, dtype: int64"
      ]
     },
     "execution_count": 40,
     "metadata": {},
     "output_type": "execute_result"
    }
   ],
   "source": [
    "df.tags.value_counts(dropna=False)"
   ]
  },
  {
   "cell_type": "code",
   "execution_count": 41,
   "metadata": {},
   "outputs": [
    {
     "data": {
      "text/plain": [
       "147"
      ]
     },
     "execution_count": 41,
     "metadata": {},
     "output_type": "execute_result"
    }
   ],
   "source": [
    "len(df.tags.value_counts(dropna=False))"
   ]
  },
  {
   "cell_type": "markdown",
   "metadata": {},
   "source": [
    "## Rename Column"
   ]
  },
  {
   "cell_type": "code",
   "execution_count": 42,
   "metadata": {},
   "outputs": [],
   "source": [
    "# rename column\n",
    "df.rename(columns={\"tags\": \"name\"},inplace=True)\n",
    "\n",
    "#order columns\n",
    "df = df[['name','raw_title','summary','link']]"
   ]
  },
  {
   "cell_type": "markdown",
   "metadata": {},
   "source": [
    "### "
   ]
  },
  {
   "cell_type": "markdown",
   "metadata": {},
   "source": [
    "# Save"
   ]
  },
  {
   "cell_type": "code",
   "execution_count": 43,
   "metadata": {},
   "outputs": [
    {
     "data": {
      "text/html": [
       "<div>\n",
       "<style scoped>\n",
       "    .dataframe tbody tr th:only-of-type {\n",
       "        vertical-align: middle;\n",
       "    }\n",
       "\n",
       "    .dataframe tbody tr th {\n",
       "        vertical-align: top;\n",
       "    }\n",
       "\n",
       "    .dataframe thead th {\n",
       "        text-align: right;\n",
       "    }\n",
       "</style>\n",
       "<table border=\"1\" class=\"dataframe\">\n",
       "  <thead>\n",
       "    <tr style=\"text-align: right;\">\n",
       "      <th></th>\n",
       "      <th>name</th>\n",
       "      <th>raw_title</th>\n",
       "      <th>summary</th>\n",
       "      <th>link</th>\n",
       "    </tr>\n",
       "  </thead>\n",
       "  <tbody>\n",
       "    <tr>\n",
       "      <th>0</th>\n",
       "      <td>Louis C.K.</td>\n",
       "      <td>SINCERELY LOUIS CK (2020)</td>\n",
       "      <td>Great comedy is finally back. Louis C.K. is no...</td>\n",
       "      <td>https://scrapsfromtheloft.com/2020/05/02/since...</td>\n",
       "    </tr>\n",
       "    <tr>\n",
       "      <th>1</th>\n",
       "      <td>Jim Norton</td>\n",
       "      <td>JIM NORTON: AMERICAN DEGENERATE (2013) – FULL ...</td>\n",
       "      <td>For his second EPIX comedy special, Jim Norton...</td>\n",
       "      <td>https://scrapsfromtheloft.com/2020/05/02/jim-n...</td>\n",
       "    </tr>\n",
       "    <tr>\n",
       "      <th>2</th>\n",
       "      <td>Jim Norton</td>\n",
       "      <td>JIM NORTON: MONSTER RAIN (2007) – FULL TRANSCRIPT</td>\n",
       "      <td>His special \"Monster Rain,\" Jim Norton perform...</td>\n",
       "      <td>https://scrapsfromtheloft.com/2020/05/02/jim-n...</td>\n",
       "    </tr>\n",
       "    <tr>\n",
       "      <th>3</th>\n",
       "      <td>Daniel Sloss</td>\n",
       "      <td>DANIEL SLOSS: X (2019) – FULL TRANSCRIPT</td>\n",
       "      <td>Taking the stage before a sold-out audience at...</td>\n",
       "      <td>https://scrapsfromtheloft.com/2020/05/01/danie...</td>\n",
       "    </tr>\n",
       "    <tr>\n",
       "      <th>4</th>\n",
       "      <td>Maria Bamford</td>\n",
       "      <td>MARIA BAMFORD: WEAKNESS IS THE BRAND (2020) – ...</td>\n",
       "      <td>In this standup special \"Weakness Is the Brand...</td>\n",
       "      <td>https://scrapsfromtheloft.com/2020/05/01/maria...</td>\n",
       "    </tr>\n",
       "  </tbody>\n",
       "</table>\n",
       "</div>"
      ],
      "text/plain": [
       "            name                                          raw_title  \\\n",
       "0     Louis C.K.                          SINCERELY LOUIS CK (2020)   \n",
       "1     Jim Norton  JIM NORTON: AMERICAN DEGENERATE (2013) – FULL ...   \n",
       "2     Jim Norton  JIM NORTON: MONSTER RAIN (2007) – FULL TRANSCRIPT   \n",
       "3   Daniel Sloss           DANIEL SLOSS: X (2019) – FULL TRANSCRIPT   \n",
       "4  Maria Bamford  MARIA BAMFORD: WEAKNESS IS THE BRAND (2020) – ...   \n",
       "\n",
       "                                             summary  \\\n",
       "0  Great comedy is finally back. Louis C.K. is no...   \n",
       "1  For his second EPIX comedy special, Jim Norton...   \n",
       "2  His special \"Monster Rain,\" Jim Norton perform...   \n",
       "3  Taking the stage before a sold-out audience at...   \n",
       "4  In this standup special \"Weakness Is the Brand...   \n",
       "\n",
       "                                                link  \n",
       "0  https://scrapsfromtheloft.com/2020/05/02/since...  \n",
       "1  https://scrapsfromtheloft.com/2020/05/02/jim-n...  \n",
       "2  https://scrapsfromtheloft.com/2020/05/02/jim-n...  \n",
       "3  https://scrapsfromtheloft.com/2020/05/01/danie...  \n",
       "4  https://scrapsfromtheloft.com/2020/05/01/maria...  "
      ]
     },
     "execution_count": 43,
     "metadata": {},
     "output_type": "execute_result"
    }
   ],
   "source": [
    "df.head()"
   ]
  },
  {
   "cell_type": "code",
   "execution_count": 49,
   "metadata": {},
   "outputs": [],
   "source": [
    "data_directory_saves = os.path.join( '..','data','raw_data/')\n",
    "df.to_pickle(data_directory_saves+'raw_comedy_02.pkl')"
   ]
  },
  {
   "cell_type": "code",
   "execution_count": null,
   "metadata": {},
   "outputs": [],
   "source": []
  },
  {
   "cell_type": "code",
   "execution_count": null,
   "metadata": {},
   "outputs": [],
   "source": []
  },
  {
   "cell_type": "code",
   "execution_count": null,
   "metadata": {},
   "outputs": [],
   "source": []
  },
  {
   "cell_type": "code",
   "execution_count": null,
   "metadata": {},
   "outputs": [],
   "source": []
  },
  {
   "cell_type": "code",
   "execution_count": null,
   "metadata": {},
   "outputs": [],
   "source": []
  },
  {
   "cell_type": "code",
   "execution_count": 44,
   "metadata": {},
   "outputs": [
    {
     "data": {
      "text/html": [
       "<div>\n",
       "<style scoped>\n",
       "    .dataframe tbody tr th:only-of-type {\n",
       "        vertical-align: middle;\n",
       "    }\n",
       "\n",
       "    .dataframe tbody tr th {\n",
       "        vertical-align: top;\n",
       "    }\n",
       "\n",
       "    .dataframe thead th {\n",
       "        text-align: right;\n",
       "    }\n",
       "</style>\n",
       "<table border=\"1\" class=\"dataframe\">\n",
       "  <thead>\n",
       "    <tr style=\"text-align: right;\">\n",
       "      <th></th>\n",
       "      <th>0</th>\n",
       "      <th>1</th>\n",
       "      <th>2</th>\n",
       "    </tr>\n",
       "  </thead>\n",
       "  <tbody>\n",
       "    <tr>\n",
       "      <th>0</th>\n",
       "      <td>SINCERELY LOUIS CK (2020)</td>\n",
       "      <td>None</td>\n",
       "      <td>None</td>\n",
       "    </tr>\n",
       "    <tr>\n",
       "      <th>1</th>\n",
       "      <td>JIM NORTON</td>\n",
       "      <td>AMERICAN DEGENERATE (2013) – FULL TRANSCRIPT</td>\n",
       "      <td>None</td>\n",
       "    </tr>\n",
       "    <tr>\n",
       "      <th>2</th>\n",
       "      <td>JIM NORTON</td>\n",
       "      <td>MONSTER RAIN (2007) – FULL TRANSCRIPT</td>\n",
       "      <td>None</td>\n",
       "    </tr>\n",
       "    <tr>\n",
       "      <th>3</th>\n",
       "      <td>DANIEL SLOSS</td>\n",
       "      <td>X (2019) – FULL TRANSCRIPT</td>\n",
       "      <td>None</td>\n",
       "    </tr>\n",
       "    <tr>\n",
       "      <th>4</th>\n",
       "      <td>MARIA BAMFORD</td>\n",
       "      <td>WEAKNESS IS THE BRAND (2020) – FULL TRANSCRIPT</td>\n",
       "      <td>None</td>\n",
       "    </tr>\n",
       "    <tr>\n",
       "      <th>...</th>\n",
       "      <td>...</td>\n",
       "      <td>...</td>\n",
       "      <td>...</td>\n",
       "    </tr>\n",
       "    <tr>\n",
       "      <th>315</th>\n",
       "      <td>George Carlin</td>\n",
       "      <td>Jamming in New York (1992) – Full Transcript</td>\n",
       "      <td>None</td>\n",
       "    </tr>\n",
       "    <tr>\n",
       "      <th>316</th>\n",
       "      <td>GEORGE CARLIN</td>\n",
       "      <td>YOU ARE ALL DISEASED (1999) – Full Transcript</td>\n",
       "      <td>None</td>\n",
       "    </tr>\n",
       "    <tr>\n",
       "      <th>317</th>\n",
       "      <td>JIM JEFFERIES ON GUN CONTROL [FULL TRANSCRIPT]</td>\n",
       "      <td>None</td>\n",
       "      <td>None</td>\n",
       "    </tr>\n",
       "    <tr>\n",
       "      <th>318</th>\n",
       "      <td>Reggie Watts</td>\n",
       "      <td>Spatial (2016) – Full Transcript</td>\n",
       "      <td>None</td>\n",
       "    </tr>\n",
       "    <tr>\n",
       "      <th>319</th>\n",
       "      <td>George Carlin</td>\n",
       "      <td>Complaints and Grievances (2001) – Full Trans...</td>\n",
       "      <td>None</td>\n",
       "    </tr>\n",
       "  </tbody>\n",
       "</table>\n",
       "<p>320 rows × 3 columns</p>\n",
       "</div>"
      ],
      "text/plain": [
       "                                                  0  \\\n",
       "0                         SINCERELY LOUIS CK (2020)   \n",
       "1                                        JIM NORTON   \n",
       "2                                        JIM NORTON   \n",
       "3                                      DANIEL SLOSS   \n",
       "4                                     MARIA BAMFORD   \n",
       "..                                              ...   \n",
       "315                                   George Carlin   \n",
       "316                                   GEORGE CARLIN   \n",
       "317  JIM JEFFERIES ON GUN CONTROL [FULL TRANSCRIPT]   \n",
       "318                                    Reggie Watts   \n",
       "319                                   George Carlin   \n",
       "\n",
       "                                                     1     2  \n",
       "0                                                 None  None  \n",
       "1         AMERICAN DEGENERATE (2013) – FULL TRANSCRIPT  None  \n",
       "2                MONSTER RAIN (2007) – FULL TRANSCRIPT  None  \n",
       "3                           X (2019) – FULL TRANSCRIPT  None  \n",
       "4       WEAKNESS IS THE BRAND (2020) – FULL TRANSCRIPT  None  \n",
       "..                                                 ...   ...  \n",
       "315       Jamming in New York (1992) – Full Transcript  None  \n",
       "316      YOU ARE ALL DISEASED (1999) – Full Transcript  None  \n",
       "317                                               None  None  \n",
       "318                   Spatial (2016) – Full Transcript  None  \n",
       "319   Complaints and Grievances (2001) – Full Trans...  None  \n",
       "\n",
       "[320 rows x 3 columns]"
      ]
     },
     "execution_count": 44,
     "metadata": {},
     "output_type": "execute_result"
    }
   ],
   "source": [
    "df.raw_title.str.split(':',expand=True)"
   ]
  },
  {
   "cell_type": "code",
   "execution_count": null,
   "metadata": {},
   "outputs": [],
   "source": [
    "df['full_name'] = df.raw_title.str.split(':').str[0].str.title()"
   ]
  },
  {
   "cell_type": "code",
   "execution_count": 50,
   "metadata": {},
   "outputs": [
    {
     "data": {
      "text/html": [
       "<div>\n",
       "<style scoped>\n",
       "    .dataframe tbody tr th:only-of-type {\n",
       "        vertical-align: middle;\n",
       "    }\n",
       "\n",
       "    .dataframe tbody tr th {\n",
       "        vertical-align: top;\n",
       "    }\n",
       "\n",
       "    .dataframe thead th {\n",
       "        text-align: right;\n",
       "    }\n",
       "</style>\n",
       "<table border=\"1\" class=\"dataframe\">\n",
       "  <thead>\n",
       "    <tr style=\"text-align: right;\">\n",
       "      <th></th>\n",
       "      <th>name</th>\n",
       "      <th>raw_title</th>\n",
       "      <th>summary</th>\n",
       "      <th>link</th>\n",
       "    </tr>\n",
       "  </thead>\n",
       "  <tbody>\n",
       "    <tr>\n",
       "      <th>0</th>\n",
       "      <td>Louis C.K.</td>\n",
       "      <td>SINCERELY LOUIS CK (2020)</td>\n",
       "      <td>Great comedy is finally back. Louis C.K. is no...</td>\n",
       "      <td>https://scrapsfromtheloft.com/2020/05/02/since...</td>\n",
       "    </tr>\n",
       "    <tr>\n",
       "      <th>1</th>\n",
       "      <td>Jim Norton</td>\n",
       "      <td>JIM NORTON: AMERICAN DEGENERATE (2013) – FULL ...</td>\n",
       "      <td>For his second EPIX comedy special, Jim Norton...</td>\n",
       "      <td>https://scrapsfromtheloft.com/2020/05/02/jim-n...</td>\n",
       "    </tr>\n",
       "    <tr>\n",
       "      <th>2</th>\n",
       "      <td>Jim Norton</td>\n",
       "      <td>JIM NORTON: MONSTER RAIN (2007) – FULL TRANSCRIPT</td>\n",
       "      <td>His special \"Monster Rain,\" Jim Norton perform...</td>\n",
       "      <td>https://scrapsfromtheloft.com/2020/05/02/jim-n...</td>\n",
       "    </tr>\n",
       "    <tr>\n",
       "      <th>3</th>\n",
       "      <td>Daniel Sloss</td>\n",
       "      <td>DANIEL SLOSS: X (2019) – FULL TRANSCRIPT</td>\n",
       "      <td>Taking the stage before a sold-out audience at...</td>\n",
       "      <td>https://scrapsfromtheloft.com/2020/05/01/danie...</td>\n",
       "    </tr>\n",
       "    <tr>\n",
       "      <th>4</th>\n",
       "      <td>Maria Bamford</td>\n",
       "      <td>MARIA BAMFORD: WEAKNESS IS THE BRAND (2020) – ...</td>\n",
       "      <td>In this standup special \"Weakness Is the Brand...</td>\n",
       "      <td>https://scrapsfromtheloft.com/2020/05/01/maria...</td>\n",
       "    </tr>\n",
       "  </tbody>\n",
       "</table>\n",
       "</div>"
      ],
      "text/plain": [
       "            name                                          raw_title  \\\n",
       "0     Louis C.K.                          SINCERELY LOUIS CK (2020)   \n",
       "1     Jim Norton  JIM NORTON: AMERICAN DEGENERATE (2013) – FULL ...   \n",
       "2     Jim Norton  JIM NORTON: MONSTER RAIN (2007) – FULL TRANSCRIPT   \n",
       "3   Daniel Sloss           DANIEL SLOSS: X (2019) – FULL TRANSCRIPT   \n",
       "4  Maria Bamford  MARIA BAMFORD: WEAKNESS IS THE BRAND (2020) – ...   \n",
       "\n",
       "                                             summary  \\\n",
       "0  Great comedy is finally back. Louis C.K. is no...   \n",
       "1  For his second EPIX comedy special, Jim Norton...   \n",
       "2  His special \"Monster Rain,\" Jim Norton perform...   \n",
       "3  Taking the stage before a sold-out audience at...   \n",
       "4  In this standup special \"Weakness Is the Brand...   \n",
       "\n",
       "                                                link  \n",
       "0  https://scrapsfromtheloft.com/2020/05/02/since...  \n",
       "1  https://scrapsfromtheloft.com/2020/05/02/jim-n...  \n",
       "2  https://scrapsfromtheloft.com/2020/05/02/jim-n...  \n",
       "3  https://scrapsfromtheloft.com/2020/05/01/danie...  \n",
       "4  https://scrapsfromtheloft.com/2020/05/01/maria...  "
      ]
     },
     "execution_count": 50,
     "metadata": {},
     "output_type": "execute_result"
    }
   ],
   "source": [
    "df.head()"
   ]
  },
  {
   "cell_type": "code",
   "execution_count": null,
   "metadata": {},
   "outputs": [],
   "source": [
    "df.full_name.value_counts()"
   ]
  },
  {
   "cell_type": "code",
   "execution_count": null,
   "metadata": {},
   "outputs": [],
   "source": [
    "df.full_name.unique().tolist()"
   ]
  },
  {
   "cell_type": "code",
   "execution_count": null,
   "metadata": {},
   "outputs": [],
   "source": [
    "df.name.unique().tolist()"
   ]
  },
  {
   "cell_type": "code",
   "execution_count": null,
   "metadata": {},
   "outputs": [],
   "source": [
    "df.head()"
   ]
  },
  {
   "cell_type": "markdown",
   "metadata": {},
   "source": [
    "# Get Transcripts"
   ]
  },
  {
   "cell_type": "code",
   "execution_count": null,
   "metadata": {},
   "outputs": [],
   "source": []
  }
 ],
 "metadata": {
  "kernelspec": {
   "display_name": "Python 3",
   "language": "python",
   "name": "python3"
  },
  "language_info": {
   "codemirror_mode": {
    "name": "ipython",
    "version": 3
   },
   "file_extension": ".py",
   "mimetype": "text/x-python",
   "name": "python",
   "nbconvert_exporter": "python",
   "pygments_lexer": "ipython3",
   "version": "3.7.7"
  }
 },
 "nbformat": 4,
 "nbformat_minor": 4
}
