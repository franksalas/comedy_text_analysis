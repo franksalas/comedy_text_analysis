{
 "cells": [
  {
   "cell_type": "code",
   "execution_count": 3,
   "metadata": {},
   "outputs": [],
   "source": [
    "import pandas as pd\n",
    "import string\n",
    "import numpy as np\n",
    "import seaborn as sns\n",
    "import matplotlib.pyplot as plt\n",
    "import re\n",
    "import os\n",
    "from IPython.core.display import clear_output\n",
    "plt.style.use('ggplot')\n",
    "sns.set(rc={'figure.figsize':(10.7,4.27)})"
   ]
  },
  {
   "cell_type": "markdown",
   "metadata": {},
   "source": [
    "## Load data"
   ]
  },
  {
   "cell_type": "code",
   "execution_count": 4,
   "metadata": {},
   "outputs": [
    {
     "data": {
      "text/html": [
       "<div>\n",
       "<style scoped>\n",
       "    .dataframe tbody tr th:only-of-type {\n",
       "        vertical-align: middle;\n",
       "    }\n",
       "\n",
       "    .dataframe tbody tr th {\n",
       "        vertical-align: top;\n",
       "    }\n",
       "\n",
       "    .dataframe thead th {\n",
       "        text-align: right;\n",
       "    }\n",
       "</style>\n",
       "<table border=\"1\" class=\"dataframe\">\n",
       "  <thead>\n",
       "    <tr style=\"text-align: right;\">\n",
       "      <th></th>\n",
       "      <th>name</th>\n",
       "      <th>raw_title</th>\n",
       "      <th>summary</th>\n",
       "      <th>transcript</th>\n",
       "      <th>link</th>\n",
       "      <th>year</th>\n",
       "      <th>title</th>\n",
       "      <th>len_transcript</th>\n",
       "      <th>dob</th>\n",
       "      <th>sex</th>\n",
       "    </tr>\n",
       "  </thead>\n",
       "  <tbody>\n",
       "    <tr>\n",
       "      <th>0</th>\n",
       "      <td>Louis C.K.</td>\n",
       "      <td>Sincerely Louis Ck (2020)</td>\n",
       "      <td>Great comedy is finally back. Louis C.K. is no...</td>\n",
       "      <td>Great comedy is finally back. Louis C.K. is no...</td>\n",
       "      <td>https://scrapsfromtheloft.com/2020/05/02/since...</td>\n",
       "      <td>2020</td>\n",
       "      <td>Sincerely Louis Ck</td>\n",
       "      <td>44135</td>\n",
       "      <td>1967-09-12</td>\n",
       "      <td>Male</td>\n",
       "    </tr>\n",
       "    <tr>\n",
       "      <th>1</th>\n",
       "      <td>Louis C.K.</td>\n",
       "      <td>Louis C.K.: Chewed Up (2008) – Full Transcript</td>\n",
       "      <td>Transcript of 'Chewed Up', Louis C.K.'s second...</td>\n",
       "      <td>Filmed at the Berklee Performance Center in Bo...</td>\n",
       "      <td>https://scrapsfromtheloft.com/2017/07/07/louis...</td>\n",
       "      <td>2008</td>\n",
       "      <td>Chewed Up</td>\n",
       "      <td>40121</td>\n",
       "      <td>1967-09-12</td>\n",
       "      <td>Male</td>\n",
       "    </tr>\n",
       "    <tr>\n",
       "      <th>2</th>\n",
       "      <td>Louis C.K.</td>\n",
       "      <td>Louis C.K.: Live At The Beacon Theatre (2011) ...</td>\n",
       "      <td>Louis jokes about fatherhood, success, and fly...</td>\n",
       "      <td>[indistinct chatter] — Louis! — Louis! [indist...</td>\n",
       "      <td>https://scrapsfromtheloft.com/2017/06/28/louis...</td>\n",
       "      <td>2011</td>\n",
       "      <td>Live At The Beacon Theatre</td>\n",
       "      <td>43930</td>\n",
       "      <td>1967-09-12</td>\n",
       "      <td>Male</td>\n",
       "    </tr>\n",
       "    <tr>\n",
       "      <th>3</th>\n",
       "      <td>Louis C.K.</td>\n",
       "      <td>Louis C.K.: Shameless (2007) – Full Transcript</td>\n",
       "      <td>Please welcome Louis C.K.! Thank you. Thank yo...</td>\n",
       "      <td>Please welcome Louis C.K.! Thank you. Thank yo...</td>\n",
       "      <td>https://scrapsfromtheloft.com/2017/05/30/louis...</td>\n",
       "      <td>2007</td>\n",
       "      <td>Shameless</td>\n",
       "      <td>48454</td>\n",
       "      <td>1967-09-12</td>\n",
       "      <td>Male</td>\n",
       "    </tr>\n",
       "    <tr>\n",
       "      <th>4</th>\n",
       "      <td>Louis C.K.</td>\n",
       "      <td>Louis C.K.: Oh My God (2013) – Full Transcript</td>\n",
       "      <td>'Oh My God' is the fifth comedy special perfor...</td>\n",
       "      <td>Intro\\nFade the music out. Let’s roll. Hold th...</td>\n",
       "      <td>https://scrapsfromtheloft.com/2017/05/06/louis...</td>\n",
       "      <td>2013</td>\n",
       "      <td>Oh My God</td>\n",
       "      <td>39141</td>\n",
       "      <td>1967-09-12</td>\n",
       "      <td>Male</td>\n",
       "    </tr>\n",
       "  </tbody>\n",
       "</table>\n",
       "</div>"
      ],
      "text/plain": [
       "         name                                          raw_title  \\\n",
       "0  Louis C.K.                          Sincerely Louis Ck (2020)   \n",
       "1  Louis C.K.     Louis C.K.: Chewed Up (2008) – Full Transcript   \n",
       "2  Louis C.K.  Louis C.K.: Live At The Beacon Theatre (2011) ...   \n",
       "3  Louis C.K.     Louis C.K.: Shameless (2007) – Full Transcript   \n",
       "4  Louis C.K.     Louis C.K.: Oh My God (2013) – Full Transcript   \n",
       "\n",
       "                                             summary  \\\n",
       "0  Great comedy is finally back. Louis C.K. is no...   \n",
       "1  Transcript of 'Chewed Up', Louis C.K.'s second...   \n",
       "2  Louis jokes about fatherhood, success, and fly...   \n",
       "3  Please welcome Louis C.K.! Thank you. Thank yo...   \n",
       "4  'Oh My God' is the fifth comedy special perfor...   \n",
       "\n",
       "                                          transcript  \\\n",
       "0  Great comedy is finally back. Louis C.K. is no...   \n",
       "1  Filmed at the Berklee Performance Center in Bo...   \n",
       "2  [indistinct chatter] — Louis! — Louis! [indist...   \n",
       "3  Please welcome Louis C.K.! Thank you. Thank yo...   \n",
       "4  Intro\\nFade the music out. Let’s roll. Hold th...   \n",
       "\n",
       "                                                link  year  \\\n",
       "0  https://scrapsfromtheloft.com/2020/05/02/since...  2020   \n",
       "1  https://scrapsfromtheloft.com/2017/07/07/louis...  2008   \n",
       "2  https://scrapsfromtheloft.com/2017/06/28/louis...  2011   \n",
       "3  https://scrapsfromtheloft.com/2017/05/30/louis...  2007   \n",
       "4  https://scrapsfromtheloft.com/2017/05/06/louis...  2013   \n",
       "\n",
       "                        title  len_transcript        dob   sex  \n",
       "0          Sincerely Louis Ck           44135 1967-09-12  Male  \n",
       "1                   Chewed Up           40121 1967-09-12  Male  \n",
       "2  Live At The Beacon Theatre           43930 1967-09-12  Male  \n",
       "3                   Shameless           48454 1967-09-12  Male  \n",
       "4                   Oh My God           39141 1967-09-12  Male  "
      ]
     },
     "execution_count": 4,
     "metadata": {},
     "output_type": "execute_result"
    }
   ],
   "source": [
    "# comedy link list\n",
    "file = 'raw_comedy_05.pkl'\n",
    "data_directory = os.path.join('..','data','raw_data/{}'.format(file))\n",
    "df = pd.read_pickle(data_directory)\n",
    "df.head()"
   ]
  },
  {
   "cell_type": "code",
   "execution_count": 5,
   "metadata": {},
   "outputs": [],
   "source": [
    "data = df[['name','dob','sex','title','year','transcript']]"
   ]
  },
  {
   "cell_type": "code",
   "execution_count": 6,
   "metadata": {},
   "outputs": [
    {
     "name": "stdout",
     "output_type": "stream",
     "text": [
      "<class 'pandas.core.frame.DataFrame'>\n",
      "Int64Index: 270 entries, 0 to 269\n",
      "Data columns (total 6 columns):\n",
      " #   Column      Non-Null Count  Dtype         \n",
      "---  ------      --------------  -----         \n",
      " 0   name        270 non-null    object        \n",
      " 1   dob         269 non-null    datetime64[ns]\n",
      " 2   sex         270 non-null    object        \n",
      " 3   title       270 non-null    object        \n",
      " 4   year        270 non-null    object        \n",
      " 5   transcript  270 non-null    object        \n",
      "dtypes: datetime64[ns](1), object(5)\n",
      "memory usage: 14.8+ KB\n"
     ]
    }
   ],
   "source": [
    "data.info()"
   ]
  },
  {
   "cell_type": "code",
   "execution_count": 7,
   "metadata": {},
   "outputs": [
    {
     "data": {
      "text/html": [
       "<div>\n",
       "<style scoped>\n",
       "    .dataframe tbody tr th:only-of-type {\n",
       "        vertical-align: middle;\n",
       "    }\n",
       "\n",
       "    .dataframe tbody tr th {\n",
       "        vertical-align: top;\n",
       "    }\n",
       "\n",
       "    .dataframe thead th {\n",
       "        text-align: right;\n",
       "    }\n",
       "</style>\n",
       "<table border=\"1\" class=\"dataframe\">\n",
       "  <thead>\n",
       "    <tr style=\"text-align: right;\">\n",
       "      <th></th>\n",
       "      <th>name</th>\n",
       "      <th>dob</th>\n",
       "      <th>sex</th>\n",
       "      <th>title</th>\n",
       "      <th>year</th>\n",
       "      <th>transcript</th>\n",
       "    </tr>\n",
       "  </thead>\n",
       "  <tbody>\n",
       "    <tr>\n",
       "      <th>0</th>\n",
       "      <td>Louis C.K.</td>\n",
       "      <td>1967-09-12</td>\n",
       "      <td>Male</td>\n",
       "      <td>Sincerely Louis Ck</td>\n",
       "      <td>2020</td>\n",
       "      <td>Great comedy is finally back. Louis C.K. is no...</td>\n",
       "    </tr>\n",
       "    <tr>\n",
       "      <th>1</th>\n",
       "      <td>Louis C.K.</td>\n",
       "      <td>1967-09-12</td>\n",
       "      <td>Male</td>\n",
       "      <td>Chewed Up</td>\n",
       "      <td>2008</td>\n",
       "      <td>Filmed at the Berklee Performance Center in Bo...</td>\n",
       "    </tr>\n",
       "    <tr>\n",
       "      <th>2</th>\n",
       "      <td>Louis C.K.</td>\n",
       "      <td>1967-09-12</td>\n",
       "      <td>Male</td>\n",
       "      <td>Live At The Beacon Theatre</td>\n",
       "      <td>2011</td>\n",
       "      <td>[indistinct chatter] — Louis! — Louis! [indist...</td>\n",
       "    </tr>\n",
       "    <tr>\n",
       "      <th>3</th>\n",
       "      <td>Louis C.K.</td>\n",
       "      <td>1967-09-12</td>\n",
       "      <td>Male</td>\n",
       "      <td>Shameless</td>\n",
       "      <td>2007</td>\n",
       "      <td>Please welcome Louis C.K.! Thank you. Thank yo...</td>\n",
       "    </tr>\n",
       "    <tr>\n",
       "      <th>4</th>\n",
       "      <td>Louis C.K.</td>\n",
       "      <td>1967-09-12</td>\n",
       "      <td>Male</td>\n",
       "      <td>Oh My God</td>\n",
       "      <td>2013</td>\n",
       "      <td>Intro\\nFade the music out. Let’s roll. Hold th...</td>\n",
       "    </tr>\n",
       "  </tbody>\n",
       "</table>\n",
       "</div>"
      ],
      "text/plain": [
       "         name        dob   sex                       title  year  \\\n",
       "0  Louis C.K. 1967-09-12  Male          Sincerely Louis Ck  2020   \n",
       "1  Louis C.K. 1967-09-12  Male                   Chewed Up  2008   \n",
       "2  Louis C.K. 1967-09-12  Male  Live At The Beacon Theatre  2011   \n",
       "3  Louis C.K. 1967-09-12  Male                   Shameless  2007   \n",
       "4  Louis C.K. 1967-09-12  Male                   Oh My God  2013   \n",
       "\n",
       "                                          transcript  \n",
       "0  Great comedy is finally back. Louis C.K. is no...  \n",
       "1  Filmed at the Berklee Performance Center in Bo...  \n",
       "2  [indistinct chatter] — Louis! — Louis! [indist...  \n",
       "3  Please welcome Louis C.K.! Thank you. Thank yo...  \n",
       "4  Intro\\nFade the music out. Let’s roll. Hold th...  "
      ]
     },
     "execution_count": 7,
     "metadata": {},
     "output_type": "execute_result"
    }
   ],
   "source": [
    "data.head()"
   ]
  },
  {
   "cell_type": "markdown",
   "metadata": {},
   "source": [
    "## English only"
   ]
  },
  {
   "cell_type": "code",
   "execution_count": 8,
   "metadata": {},
   "outputs": [
    {
     "data": {
      "text/plain": [
       "Live                                             3\n",
       "Does This Need To Be Said?                       1\n",
       "Totally Committed                                1\n",
       "Lower Classy                                     1\n",
       "Live At Webster Hall                             1\n",
       "Unveiled                                         1\n",
       "Jamming In New York   Testo Italiano Completo    1\n",
       "Nanette                                          1\n",
       "I Be Knowin’                                     1\n",
       "Latin History For Morons ’S Road To Broadway     1\n",
       "Name: title, dtype: int64"
      ]
     },
     "execution_count": 8,
     "metadata": {},
     "output_type": "execute_result"
    }
   ],
   "source": [
    "data.title.value_counts()[:10]"
   ]
  },
  {
   "cell_type": "code",
   "execution_count": 9,
   "metadata": {},
   "outputs": [
    {
     "data": {
      "text/html": [
       "<div>\n",
       "<style scoped>\n",
       "    .dataframe tbody tr th:only-of-type {\n",
       "        vertical-align: middle;\n",
       "    }\n",
       "\n",
       "    .dataframe tbody tr th {\n",
       "        vertical-align: top;\n",
       "    }\n",
       "\n",
       "    .dataframe thead th {\n",
       "        text-align: right;\n",
       "    }\n",
       "</style>\n",
       "<table border=\"1\" class=\"dataframe\">\n",
       "  <thead>\n",
       "    <tr style=\"text-align: right;\">\n",
       "      <th></th>\n",
       "      <th>name</th>\n",
       "      <th>dob</th>\n",
       "      <th>sex</th>\n",
       "      <th>title</th>\n",
       "      <th>year</th>\n",
       "      <th>transcript</th>\n",
       "    </tr>\n",
       "  </thead>\n",
       "  <tbody>\n",
       "    <tr>\n",
       "      <th>57</th>\n",
       "      <td>Bill Burr</td>\n",
       "      <td>1968-06-10</td>\n",
       "      <td>Male</td>\n",
       "      <td>Why Do I Do This   Testo Italiano Completo</td>\n",
       "      <td>2008</td>\n",
       "      <td>Va bene, grazie, grazie mille. Va bene, Gesù. ...</td>\n",
       "    </tr>\n",
       "    <tr>\n",
       "      <th>97</th>\n",
       "      <td>George Carlin</td>\n",
       "      <td>1937-05-12</td>\n",
       "      <td>Male</td>\n",
       "      <td>Jamming In New York   Testo Italiano Completo</td>\n",
       "      <td>1992</td>\n",
       "      <td>Ciao, grazie. Grazie. Grazie. Grazie molte. Gr...</td>\n",
       "    </tr>\n",
       "    <tr>\n",
       "      <th>98</th>\n",
       "      <td>George Carlin</td>\n",
       "      <td>1937-05-12</td>\n",
       "      <td>Male</td>\n",
       "      <td>You Are All Diseased   Testo Italiano Completo</td>\n",
       "      <td>1999</td>\n",
       "      <td>Siete gentili, grazie! Grazie mille, lo apprez...</td>\n",
       "    </tr>\n",
       "    <tr>\n",
       "      <th>99</th>\n",
       "      <td>George Carlin</td>\n",
       "      <td>1937-05-12</td>\n",
       "      <td>Male</td>\n",
       "      <td>It’S Bad For Ya!   Testo Italiano Completo</td>\n",
       "      <td>2008</td>\n",
       "      <td>Grazie, grazie, grazie! Mi piacerebbe iniziare...</td>\n",
       "    </tr>\n",
       "  </tbody>\n",
       "</table>\n",
       "</div>"
      ],
      "text/plain": [
       "             name        dob   sex  \\\n",
       "57      Bill Burr 1968-06-10  Male   \n",
       "97  George Carlin 1937-05-12  Male   \n",
       "98  George Carlin 1937-05-12  Male   \n",
       "99  George Carlin 1937-05-12  Male   \n",
       "\n",
       "                                             title  year  \\\n",
       "57      Why Do I Do This   Testo Italiano Completo  2008   \n",
       "97   Jamming In New York   Testo Italiano Completo  1992   \n",
       "98  You Are All Diseased   Testo Italiano Completo  1999   \n",
       "99      It’S Bad For Ya!   Testo Italiano Completo  2008   \n",
       "\n",
       "                                           transcript  \n",
       "57  Va bene, grazie, grazie mille. Va bene, Gesù. ...  \n",
       "97  Ciao, grazie. Grazie. Grazie. Grazie molte. Gr...  \n",
       "98  Siete gentili, grazie! Grazie mille, lo apprez...  \n",
       "99  Grazie, grazie, grazie! Mi piacerebbe iniziare...  "
      ]
     },
     "execution_count": 9,
     "metadata": {},
     "output_type": "execute_result"
    }
   ],
   "source": [
    "filter_data = data.title.str.contains('Italiano')\n",
    "data[filter_data]"
   ]
  },
  {
   "cell_type": "code",
   "execution_count": 10,
   "metadata": {},
   "outputs": [],
   "source": [
    "data = data[~filter_data]"
   ]
  },
  {
   "cell_type": "code",
   "execution_count": 11,
   "metadata": {},
   "outputs": [
    {
     "name": "stderr",
     "output_type": "stream",
     "text": [
      "/home/salas/miniconda3/envs/text_analysis/lib/python3.7/site-packages/ipykernel_launcher.py:1: UserWarning: Boolean Series key will be reindexed to match DataFrame index.\n",
      "  \"\"\"Entry point for launching an IPython kernel.\n"
     ]
    },
    {
     "data": {
      "text/html": [
       "<div>\n",
       "<style scoped>\n",
       "    .dataframe tbody tr th:only-of-type {\n",
       "        vertical-align: middle;\n",
       "    }\n",
       "\n",
       "    .dataframe tbody tr th {\n",
       "        vertical-align: top;\n",
       "    }\n",
       "\n",
       "    .dataframe thead th {\n",
       "        text-align: right;\n",
       "    }\n",
       "</style>\n",
       "<table border=\"1\" class=\"dataframe\">\n",
       "  <thead>\n",
       "    <tr style=\"text-align: right;\">\n",
       "      <th></th>\n",
       "      <th>name</th>\n",
       "      <th>dob</th>\n",
       "      <th>sex</th>\n",
       "      <th>title</th>\n",
       "      <th>year</th>\n",
       "      <th>transcript</th>\n",
       "    </tr>\n",
       "  </thead>\n",
       "  <tbody>\n",
       "  </tbody>\n",
       "</table>\n",
       "</div>"
      ],
      "text/plain": [
       "Empty DataFrame\n",
       "Columns: [name, dob, sex, title, year, transcript]\n",
       "Index: []"
      ]
     },
     "execution_count": 11,
     "metadata": {},
     "output_type": "execute_result"
    }
   ],
   "source": [
    "data[filter_data]"
   ]
  },
  {
   "cell_type": "code",
   "execution_count": 12,
   "metadata": {},
   "outputs": [
    {
     "name": "stdout",
     "output_type": "stream",
     "text": [
      "<class 'pandas.core.frame.DataFrame'>\n",
      "Int64Index: 266 entries, 0 to 269\n",
      "Data columns (total 6 columns):\n",
      " #   Column      Non-Null Count  Dtype         \n",
      "---  ------      --------------  -----         \n",
      " 0   name        266 non-null    object        \n",
      " 1   dob         265 non-null    datetime64[ns]\n",
      " 2   sex         266 non-null    object        \n",
      " 3   title       266 non-null    object        \n",
      " 4   year        266 non-null    object        \n",
      " 5   transcript  266 non-null    object        \n",
      "dtypes: datetime64[ns](1), object(5)\n",
      "memory usage: 14.5+ KB\n"
     ]
    }
   ],
   "source": [
    "data.info()"
   ]
  },
  {
   "cell_type": "markdown",
   "metadata": {},
   "source": [
    "## Clean Text"
   ]
  },
  {
   "cell_type": "code",
   "execution_count": 13,
   "metadata": {},
   "outputs": [],
   "source": [
    "def clean_text(data):\n",
    "    #print(type(data))\n",
    "    text = data.lower()\n",
    "    text = re.sub('\\[.*?\\]', '', text)  # remove brackets & text inside\n",
    "    text = re.sub('[%s]' % re.escape(string.punctuation), '', text)  # remove punctuations\n",
    "    text = re.sub('\\w*\\d\\w*', '', text)  # remove digits surounded by words\n",
    "    text = re.sub('[‘’“”…]', '', text)  # remove quotes & elipses\n",
    "    text = re.sub('\\n', ' ', text)  # remove new line\n",
    "    text = re.sub('\\t', ' ', text)  # remove new line\n",
    "    #text = re.sub(string.whitespace, '', text)  # remove \\n\\t..\n",
    "    return text"
   ]
  },
  {
   "cell_type": "code",
   "execution_count": 14,
   "metadata": {},
   "outputs": [
    {
     "name": "stdout",
     "output_type": "stream",
     "text": [
      "CPU times: user 1.75 s, sys: 78.1 ms, total: 1.83 s\n",
      "Wall time: 1.83 s\n"
     ]
    }
   ],
   "source": [
    "%%time\n",
    "data['clean_text'] = data.transcript.apply(clean_text)"
   ]
  },
  {
   "cell_type": "code",
   "execution_count": 15,
   "metadata": {},
   "outputs": [
    {
     "data": {
      "text/html": [
       "<div>\n",
       "<style scoped>\n",
       "    .dataframe tbody tr th:only-of-type {\n",
       "        vertical-align: middle;\n",
       "    }\n",
       "\n",
       "    .dataframe tbody tr th {\n",
       "        vertical-align: top;\n",
       "    }\n",
       "\n",
       "    .dataframe thead th {\n",
       "        text-align: right;\n",
       "    }\n",
       "</style>\n",
       "<table border=\"1\" class=\"dataframe\">\n",
       "  <thead>\n",
       "    <tr style=\"text-align: right;\">\n",
       "      <th></th>\n",
       "      <th>name</th>\n",
       "      <th>dob</th>\n",
       "      <th>sex</th>\n",
       "      <th>title</th>\n",
       "      <th>year</th>\n",
       "      <th>transcript</th>\n",
       "      <th>clean_text</th>\n",
       "    </tr>\n",
       "  </thead>\n",
       "  <tbody>\n",
       "    <tr>\n",
       "      <th>0</th>\n",
       "      <td>Louis C.K.</td>\n",
       "      <td>1967-09-12</td>\n",
       "      <td>Male</td>\n",
       "      <td>Sincerely Louis Ck</td>\n",
       "      <td>2020</td>\n",
       "      <td>Great comedy is finally back. Louis C.K. is no...</td>\n",
       "      <td>great comedy is finally back louis ck is now a...</td>\n",
       "    </tr>\n",
       "    <tr>\n",
       "      <th>1</th>\n",
       "      <td>Louis C.K.</td>\n",
       "      <td>1967-09-12</td>\n",
       "      <td>Male</td>\n",
       "      <td>Chewed Up</td>\n",
       "      <td>2008</td>\n",
       "      <td>Filmed at the Berklee Performance Center in Bo...</td>\n",
       "      <td>filmed at the berklee performance center in bo...</td>\n",
       "    </tr>\n",
       "    <tr>\n",
       "      <th>2</th>\n",
       "      <td>Louis C.K.</td>\n",
       "      <td>1967-09-12</td>\n",
       "      <td>Male</td>\n",
       "      <td>Live At The Beacon Theatre</td>\n",
       "      <td>2011</td>\n",
       "      <td>[indistinct chatter] — Louis! — Louis! [indist...</td>\n",
       "      <td>— louis — louis   alright lets get started go...</td>\n",
       "    </tr>\n",
       "    <tr>\n",
       "      <th>3</th>\n",
       "      <td>Louis C.K.</td>\n",
       "      <td>1967-09-12</td>\n",
       "      <td>Male</td>\n",
       "      <td>Shameless</td>\n",
       "      <td>2007</td>\n",
       "      <td>Please welcome Louis C.K.! Thank you. Thank yo...</td>\n",
       "      <td>please welcome louis ck thank you thank you th...</td>\n",
       "    </tr>\n",
       "    <tr>\n",
       "      <th>4</th>\n",
       "      <td>Louis C.K.</td>\n",
       "      <td>1967-09-12</td>\n",
       "      <td>Male</td>\n",
       "      <td>Oh My God</td>\n",
       "      <td>2013</td>\n",
       "      <td>Intro\\nFade the music out. Let’s roll. Hold th...</td>\n",
       "      <td>intro fade the music out lets roll hold there ...</td>\n",
       "    </tr>\n",
       "  </tbody>\n",
       "</table>\n",
       "</div>"
      ],
      "text/plain": [
       "         name        dob   sex                       title  year  \\\n",
       "0  Louis C.K. 1967-09-12  Male          Sincerely Louis Ck  2020   \n",
       "1  Louis C.K. 1967-09-12  Male                   Chewed Up  2008   \n",
       "2  Louis C.K. 1967-09-12  Male  Live At The Beacon Theatre  2011   \n",
       "3  Louis C.K. 1967-09-12  Male                   Shameless  2007   \n",
       "4  Louis C.K. 1967-09-12  Male                   Oh My God  2013   \n",
       "\n",
       "                                          transcript  \\\n",
       "0  Great comedy is finally back. Louis C.K. is no...   \n",
       "1  Filmed at the Berklee Performance Center in Bo...   \n",
       "2  [indistinct chatter] — Louis! — Louis! [indist...   \n",
       "3  Please welcome Louis C.K.! Thank you. Thank yo...   \n",
       "4  Intro\\nFade the music out. Let’s roll. Hold th...   \n",
       "\n",
       "                                          clean_text  \n",
       "0  great comedy is finally back louis ck is now a...  \n",
       "1  filmed at the berklee performance center in bo...  \n",
       "2   — louis — louis   alright lets get started go...  \n",
       "3  please welcome louis ck thank you thank you th...  \n",
       "4  intro fade the music out lets roll hold there ...  "
      ]
     },
     "execution_count": 15,
     "metadata": {},
     "output_type": "execute_result"
    }
   ],
   "source": [
    "data.head()"
   ]
  },
  {
   "cell_type": "code",
   "execution_count": 16,
   "metadata": {},
   "outputs": [],
   "source": [
    "# drop transcript\n",
    "data.drop(['transcript'],axis=1,inplace=True)"
   ]
  },
  {
   "cell_type": "code",
   "execution_count": 17,
   "metadata": {},
   "outputs": [
    {
     "data": {
      "text/html": [
       "<div>\n",
       "<style scoped>\n",
       "    .dataframe tbody tr th:only-of-type {\n",
       "        vertical-align: middle;\n",
       "    }\n",
       "\n",
       "    .dataframe tbody tr th {\n",
       "        vertical-align: top;\n",
       "    }\n",
       "\n",
       "    .dataframe thead th {\n",
       "        text-align: right;\n",
       "    }\n",
       "</style>\n",
       "<table border=\"1\" class=\"dataframe\">\n",
       "  <thead>\n",
       "    <tr style=\"text-align: right;\">\n",
       "      <th></th>\n",
       "      <th>name</th>\n",
       "      <th>dob</th>\n",
       "      <th>sex</th>\n",
       "      <th>title</th>\n",
       "      <th>year</th>\n",
       "      <th>clean_text</th>\n",
       "    </tr>\n",
       "  </thead>\n",
       "  <tbody>\n",
       "    <tr>\n",
       "      <th>0</th>\n",
       "      <td>Louis C.K.</td>\n",
       "      <td>1967-09-12</td>\n",
       "      <td>Male</td>\n",
       "      <td>Sincerely Louis Ck</td>\n",
       "      <td>2020</td>\n",
       "      <td>great comedy is finally back louis ck is now a...</td>\n",
       "    </tr>\n",
       "    <tr>\n",
       "      <th>1</th>\n",
       "      <td>Louis C.K.</td>\n",
       "      <td>1967-09-12</td>\n",
       "      <td>Male</td>\n",
       "      <td>Chewed Up</td>\n",
       "      <td>2008</td>\n",
       "      <td>filmed at the berklee performance center in bo...</td>\n",
       "    </tr>\n",
       "    <tr>\n",
       "      <th>2</th>\n",
       "      <td>Louis C.K.</td>\n",
       "      <td>1967-09-12</td>\n",
       "      <td>Male</td>\n",
       "      <td>Live At The Beacon Theatre</td>\n",
       "      <td>2011</td>\n",
       "      <td>— louis — louis   alright lets get started go...</td>\n",
       "    </tr>\n",
       "    <tr>\n",
       "      <th>3</th>\n",
       "      <td>Louis C.K.</td>\n",
       "      <td>1967-09-12</td>\n",
       "      <td>Male</td>\n",
       "      <td>Shameless</td>\n",
       "      <td>2007</td>\n",
       "      <td>please welcome louis ck thank you thank you th...</td>\n",
       "    </tr>\n",
       "    <tr>\n",
       "      <th>4</th>\n",
       "      <td>Louis C.K.</td>\n",
       "      <td>1967-09-12</td>\n",
       "      <td>Male</td>\n",
       "      <td>Oh My God</td>\n",
       "      <td>2013</td>\n",
       "      <td>intro fade the music out lets roll hold there ...</td>\n",
       "    </tr>\n",
       "  </tbody>\n",
       "</table>\n",
       "</div>"
      ],
      "text/plain": [
       "         name        dob   sex                       title  year  \\\n",
       "0  Louis C.K. 1967-09-12  Male          Sincerely Louis Ck  2020   \n",
       "1  Louis C.K. 1967-09-12  Male                   Chewed Up  2008   \n",
       "2  Louis C.K. 1967-09-12  Male  Live At The Beacon Theatre  2011   \n",
       "3  Louis C.K. 1967-09-12  Male                   Shameless  2007   \n",
       "4  Louis C.K. 1967-09-12  Male                   Oh My God  2013   \n",
       "\n",
       "                                          clean_text  \n",
       "0  great comedy is finally back louis ck is now a...  \n",
       "1  filmed at the berklee performance center in bo...  \n",
       "2   — louis — louis   alright lets get started go...  \n",
       "3  please welcome louis ck thank you thank you th...  \n",
       "4  intro fade the music out lets roll hold there ...  "
      ]
     },
     "execution_count": 17,
     "metadata": {},
     "output_type": "execute_result"
    }
   ],
   "source": [
    "data.head()"
   ]
  },
  {
   "cell_type": "markdown",
   "metadata": {},
   "source": [
    "## Save"
   ]
  },
  {
   "cell_type": "code",
   "execution_count": 18,
   "metadata": {},
   "outputs": [],
   "source": [
    "data_directory_saves = os.path.join( '..','data','raw_data/')\n",
    "data.to_pickle(data_directory_saves+'raw_comedy_06.pkl')"
   ]
  },
  {
   "cell_type": "code",
   "execution_count": null,
   "metadata": {},
   "outputs": [],
   "source": []
  }
 ],
 "metadata": {
  "kernelspec": {
   "display_name": "Python 3",
   "language": "python",
   "name": "python3"
  },
  "language_info": {
   "codemirror_mode": {
    "name": "ipython",
    "version": 3
   },
   "file_extension": ".py",
   "mimetype": "text/x-python",
   "name": "python",
   "nbconvert_exporter": "python",
   "pygments_lexer": "ipython3",
   "version": "3.7.7"
  }
 },
 "nbformat": 4,
 "nbformat_minor": 4
}
