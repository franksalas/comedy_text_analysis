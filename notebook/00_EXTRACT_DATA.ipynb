{
 "cells": [
  {
   "cell_type": "markdown",
   "metadata": {},
   "source": [
    "## Load libraries"
   ]
  },
  {
   "cell_type": "code",
   "execution_count": 1,
   "metadata": {},
   "outputs": [],
   "source": [
    "from bs4 import BeautifulSoup\n",
    "import pandas as pd\n",
    "import numpy as np\n",
    "from IPython.core.display import clear_output\n",
    "from warnings import warn\n",
    "import os\n",
    "#from tqdm import tqdm\n",
    "from tqdm.notebook import trange, tqdm\n",
    "\n",
    "\n",
    "import requests\n",
    "import time\n",
    "from requests.adapters import HTTPAdapter\n",
    "from requests.packages.urllib3.util.retry import Retry"
   ]
  },
  {
   "cell_type": "markdown",
   "metadata": {},
   "source": [
    "## Create functions"
   ]
  },
  {
   "cell_type": "code",
   "execution_count": 2,
   "metadata": {},
   "outputs": [],
   "source": [
    "def requests_retry_session(\n",
    "    retries=6,\n",
    "    backoff_factor=0.3,\n",
    "    status_forcelist=(500, 502, 504),\n",
    "    session=None,\n",
    "):\n",
    "    session = session or requests.Session()\n",
    "    retry = Retry(\n",
    "        total=retries,\n",
    "        read=retries,\n",
    "        connect=retries,\n",
    "        backoff_factor=backoff_factor,\n",
    "        status_forcelist=status_forcelist,\n",
    "    )\n",
    "    adapter = HTTPAdapter(max_retries=retry)\n",
    "    session.mount('http://', adapter)\n",
    "    session.mount('https://', adapter)\n",
    "    return session"
   ]
  },
  {
   "cell_type": "code",
   "execution_count": 3,
   "metadata": {},
   "outputs": [],
   "source": [
    "def get_response(url):\n",
    "    t0 = time.time()\n",
    "    try:\n",
    "        response = requests_retry_session().get(\n",
    "            url,\n",
    "            timeout=10\n",
    "        )\n",
    "        return response\n",
    "    except Exception as x:\n",
    "        print('It failed :(', x.__class__.__name__)\n",
    "    else:\n",
    "        print('It eventually worked', response.status_code)\n",
    "    finally:\n",
    "        t1 = time.time()\n",
    "        print('Took', t1 - t0, 'seconds')"
   ]
  },
  {
   "cell_type": "code",
   "execution_count": 4,
   "metadata": {},
   "outputs": [],
   "source": [
    "def bs_parser_post(response):\n",
    "    '''extract title, link, tags, & summaryfrom request data'''\n",
    "    titles = []\n",
    "    summaries = []\n",
    "    links = []\n",
    "    tags = []\n",
    "    for p in tqdm(range(len(response))):\n",
    "        page_html = BeautifulSoup(response[p].text, 'html.parser')\n",
    "        containers = page_html.find_all('div', class_ = 'fusion-post-content post-content')\n",
    "        #print(len(containers))\n",
    "        for i in containers:\n",
    "            ti =  i.h2.text\n",
    "            li = i.a['href']\n",
    "            ta = i.select('span')[6].get_text(strip=True)[5:]\n",
    "            su = i.find('div', class_ = 'fusion-post-content-container').p.text\n",
    "            titles.append(ti)\n",
    "            links.append(li)\n",
    "            tags.append(ta)\n",
    "            summaries.append(su)\n",
    "    return titles,summaries,tags,links"
   ]
  },
  {
   "cell_type": "markdown",
   "metadata": {},
   "source": [
    "## Create list of responses"
   ]
  },
  {
   "cell_type": "code",
   "execution_count": 5,
   "metadata": {},
   "outputs": [
    {
     "data": {
      "application/vnd.jupyter.widget-view+json": {
       "model_id": "1c5035067c1f41faa12e2177cdb844f9",
       "version_major": 2,
       "version_minor": 0
      },
      "text/plain": [
       "HBox(children=(FloatProgress(value=0.0, max=32.0), HTML(value='')))"
      ]
     },
     "metadata": {},
     "output_type": "display_data"
    },
    {
     "name": "stdout",
     "output_type": "stream",
     "text": [
      "Took 9.939382791519165 seconds\n",
      "Took 7.959158420562744 seconds\n",
      "Took 7.605671167373657 seconds\n",
      "Took 8.832727909088135 seconds\n",
      "Took 8.18500018119812 seconds\n",
      "Took 18.871034145355225 seconds\n",
      "Took 18.044118881225586 seconds\n",
      "Took 10.832559823989868 seconds\n",
      "Took 39.50902509689331 seconds\n",
      "Took 8.183029413223267 seconds\n",
      "Took 8.40703535079956 seconds\n",
      "Took 7.720157861709595 seconds\n",
      "Took 7.674432277679443 seconds\n",
      "Took 7.0679919719696045 seconds\n",
      "Took 8.047590970993042 seconds\n",
      "Took 13.96164345741272 seconds\n",
      "Took 7.424077987670898 seconds\n",
      "Took 8.039018630981445 seconds\n",
      "Took 9.720714569091797 seconds\n",
      "Took 7.673600196838379 seconds\n",
      "Took 7.478991746902466 seconds\n",
      "Took 7.253503322601318 seconds\n",
      "Took 17.983152151107788 seconds\n",
      "Took 6.83796763420105 seconds\n",
      "Took 8.128286123275757 seconds\n",
      "Took 6.817831039428711 seconds\n",
      "Took 7.973235607147217 seconds\n",
      "Took 8.67385196685791 seconds\n",
      "Took 7.248182535171509 seconds\n",
      "Took 7.725471258163452 seconds\n",
      "Took 7.009956121444702 seconds\n",
      "Took 7.387735366821289 seconds\n",
      "\n"
     ]
    }
   ],
   "source": [
    "rlist = []\n",
    "# loop over 32 times\n",
    "for i in tqdm(range(1,33)):\n",
    "    url = 'https://scrapsfromtheloft.com/tag/stand-up-transcripts/page/{}'.format(i)\n",
    "    r = get_response(url)\n",
    "    rlist.append(r)"
   ]
  },
  {
   "cell_type": "code",
   "execution_count": 6,
   "metadata": {},
   "outputs": [
    {
     "data": {
      "text/plain": [
       "32"
      ]
     },
     "execution_count": 6,
     "metadata": {},
     "output_type": "execute_result"
    }
   ],
   "source": [
    "len(rlist)"
   ]
  },
  {
   "cell_type": "code",
   "execution_count": null,
   "metadata": {},
   "outputs": [],
   "source": []
  },
  {
   "cell_type": "markdown",
   "metadata": {},
   "source": [
    "## Create Dataframe with data"
   ]
  },
  {
   "cell_type": "code",
   "execution_count": 7,
   "metadata": {},
   "outputs": [
    {
     "data": {
      "application/vnd.jupyter.widget-view+json": {
       "model_id": "f0cdc162e6aa4d9dbe7939dfc2d51d52",
       "version_major": 2,
       "version_minor": 0
      },
      "text/plain": [
       "HBox(children=(FloatProgress(value=0.0, max=32.0), HTML(value='')))"
      ]
     },
     "metadata": {},
     "output_type": "display_data"
    },
    {
     "name": "stdout",
     "output_type": "stream",
     "text": [
      "\n",
      "<class 'pandas.core.frame.DataFrame'>\n",
      "RangeIndex: 320 entries, 0 to 319\n",
      "Data columns (total 4 columns):\n",
      " #   Column     Non-Null Count  Dtype \n",
      "---  ------     --------------  ----- \n",
      " 0   raw_title  320 non-null    object\n",
      " 1   summary    320 non-null    object\n",
      " 2   tags       320 non-null    object\n",
      " 3   link       320 non-null    object\n",
      "dtypes: object(4)\n",
      "memory usage: 10.1+ KB\n"
     ]
    }
   ],
   "source": [
    "titles,summaries,tags,links = bs_parser_post(rlist)\n",
    "\n",
    "df = pd.DataFrame({\n",
    "                   'raw_title': titles,\n",
    "                   'summary': summaries,\n",
    "                   'tags':tags,\n",
    "                   'link': links})\n",
    "df.info()"
   ]
  },
  {
   "cell_type": "code",
   "execution_count": 8,
   "metadata": {},
   "outputs": [
    {
     "data": {
      "text/html": [
       "<div>\n",
       "<style scoped>\n",
       "    .dataframe tbody tr th:only-of-type {\n",
       "        vertical-align: middle;\n",
       "    }\n",
       "\n",
       "    .dataframe tbody tr th {\n",
       "        vertical-align: top;\n",
       "    }\n",
       "\n",
       "    .dataframe thead th {\n",
       "        text-align: right;\n",
       "    }\n",
       "</style>\n",
       "<table border=\"1\" class=\"dataframe\">\n",
       "  <thead>\n",
       "    <tr style=\"text-align: right;\">\n",
       "      <th></th>\n",
       "      <th>raw_title</th>\n",
       "      <th>summary</th>\n",
       "      <th>tags</th>\n",
       "      <th>link</th>\n",
       "    </tr>\n",
       "  </thead>\n",
       "  <tbody>\n",
       "    <tr>\n",
       "      <th>0</th>\n",
       "      <td>SINCERELY LOUIS CK (2020)</td>\n",
       "      <td>Great comedy is finally back. Louis C.K. is no...</td>\n",
       "      <td>Louis C.K.,Stand-up transcripts</td>\n",
       "      <td>https://scrapsfromtheloft.com/2020/05/02/since...</td>\n",
       "    </tr>\n",
       "    <tr>\n",
       "      <th>1</th>\n",
       "      <td>JIM NORTON: AMERICAN DEGENERATE (2013) – FULL ...</td>\n",
       "      <td>For his second EPIX comedy special, Jim Norton...</td>\n",
       "      <td>Jim Norton,Stand-up transcripts</td>\n",
       "      <td>https://scrapsfromtheloft.com/2020/05/02/jim-n...</td>\n",
       "    </tr>\n",
       "    <tr>\n",
       "      <th>2</th>\n",
       "      <td>JIM NORTON: MONSTER RAIN (2007) – FULL TRANSCRIPT</td>\n",
       "      <td>His special \"Monster Rain,\" Jim Norton perform...</td>\n",
       "      <td>Jim Norton,Stand-up transcripts</td>\n",
       "      <td>https://scrapsfromtheloft.com/2020/05/02/jim-n...</td>\n",
       "    </tr>\n",
       "    <tr>\n",
       "      <th>3</th>\n",
       "      <td>DANIEL SLOSS: X (2019) – FULL TRANSCRIPT</td>\n",
       "      <td>Taking the stage before a sold-out audience at...</td>\n",
       "      <td>Daniel Sloss,Stand-up transcripts</td>\n",
       "      <td>https://scrapsfromtheloft.com/2020/05/01/danie...</td>\n",
       "    </tr>\n",
       "    <tr>\n",
       "      <th>4</th>\n",
       "      <td>MARIA BAMFORD: WEAKNESS IS THE BRAND (2020) – ...</td>\n",
       "      <td>In this standup special \"Weakness Is the Brand...</td>\n",
       "      <td>Maria Bamford,Stand-up transcripts</td>\n",
       "      <td>https://scrapsfromtheloft.com/2020/05/01/maria...</td>\n",
       "    </tr>\n",
       "  </tbody>\n",
       "</table>\n",
       "</div>"
      ],
      "text/plain": [
       "                                           raw_title  \\\n",
       "0                          SINCERELY LOUIS CK (2020)   \n",
       "1  JIM NORTON: AMERICAN DEGENERATE (2013) – FULL ...   \n",
       "2  JIM NORTON: MONSTER RAIN (2007) – FULL TRANSCRIPT   \n",
       "3           DANIEL SLOSS: X (2019) – FULL TRANSCRIPT   \n",
       "4  MARIA BAMFORD: WEAKNESS IS THE BRAND (2020) – ...   \n",
       "\n",
       "                                             summary  \\\n",
       "0  Great comedy is finally back. Louis C.K. is no...   \n",
       "1  For his second EPIX comedy special, Jim Norton...   \n",
       "2  His special \"Monster Rain,\" Jim Norton perform...   \n",
       "3  Taking the stage before a sold-out audience at...   \n",
       "4  In this standup special \"Weakness Is the Brand...   \n",
       "\n",
       "                                 tags  \\\n",
       "0     Louis C.K.,Stand-up transcripts   \n",
       "1     Jim Norton,Stand-up transcripts   \n",
       "2     Jim Norton,Stand-up transcripts   \n",
       "3   Daniel Sloss,Stand-up transcripts   \n",
       "4  Maria Bamford,Stand-up transcripts   \n",
       "\n",
       "                                                link  \n",
       "0  https://scrapsfromtheloft.com/2020/05/02/since...  \n",
       "1  https://scrapsfromtheloft.com/2020/05/02/jim-n...  \n",
       "2  https://scrapsfromtheloft.com/2020/05/02/jim-n...  \n",
       "3  https://scrapsfromtheloft.com/2020/05/01/danie...  \n",
       "4  https://scrapsfromtheloft.com/2020/05/01/maria...  "
      ]
     },
     "execution_count": 8,
     "metadata": {},
     "output_type": "execute_result"
    }
   ],
   "source": [
    "df.head()"
   ]
  },
  {
   "cell_type": "markdown",
   "metadata": {},
   "source": [
    "## Save dataframe"
   ]
  },
  {
   "cell_type": "code",
   "execution_count": 9,
   "metadata": {},
   "outputs": [],
   "source": [
    "data_directory_saves = os.path.join( '..','data','raw_data/')"
   ]
  },
  {
   "cell_type": "code",
   "execution_count": 11,
   "metadata": {},
   "outputs": [],
   "source": [
    "df.to_pickle(data_directory_saves+'raw_comedy.pkl')"
   ]
  },
  {
   "cell_type": "code",
   "execution_count": null,
   "metadata": {},
   "outputs": [],
   "source": []
  },
  {
   "cell_type": "code",
   "execution_count": null,
   "metadata": {},
   "outputs": [],
   "source": []
  }
 ],
 "metadata": {
  "kernelspec": {
   "display_name": "Python 3",
   "language": "python",
   "name": "python3"
  },
  "language_info": {
   "codemirror_mode": {
    "name": "ipython",
    "version": 3
   },
   "file_extension": ".py",
   "mimetype": "text/x-python",
   "name": "python",
   "nbconvert_exporter": "python",
   "pygments_lexer": "ipython3",
   "version": "3.7.7"
  }
 },
 "nbformat": 4,
 "nbformat_minor": 4
}
